{
 "cells": [
  {
   "cell_type": "code",
   "execution_count": null,
   "id": "ba0560e6-8dc8-4cc6-b37c-60218b4c0144",
   "metadata": {},
   "outputs": [],
   "source": [
    "Q1, Create a vehicle class with an init method having instance variables as name_of_vehicle, max_speed\n",
    "and average_of_vehicle."
   ]
  },
  {
   "cell_type": "code",
   "execution_count": 8,
   "id": "d3f7119c-0f83-429a-b643-39f9a4c3f097",
   "metadata": {},
   "outputs": [],
   "source": [
    "class vehicle:\n",
    "    def __init__(self,name_of_vehicle, max_speed,average_of_vehicle):\n",
    "        self.name_of_vehicle=name_of_vehicle\n",
    "        self.max_speed=max_speed\n",
    "        self.average_of_vehicle= average_of_vehicle\n",
    "    \n",
    "    def return_car_details(self):\n",
    "        return self.name_of_vehicle,self.max_speed,self.average_of_vehicle"
   ]
  },
  {
   "cell_type": "code",
   "execution_count": 9,
   "id": "584a299e-3402-4dde-bffc-c0d4a06b24d0",
   "metadata": {},
   "outputs": [],
   "source": [
    "car_details=vehicle(\"TATA Harrier\",120,15)"
   ]
  },
  {
   "cell_type": "code",
   "execution_count": 10,
   "id": "e9db463e-2097-4e53-90df-a80a4a4cc717",
   "metadata": {},
   "outputs": [
    {
     "data": {
      "text/plain": [
       "('TATA Harrier', 120, 15)"
      ]
     },
     "execution_count": 10,
     "metadata": {},
     "output_type": "execute_result"
    }
   ],
   "source": [
    "car_details.return_car_details()"
   ]
  },
  {
   "cell_type": "code",
   "execution_count": null,
   "id": "43c73ccc-d70a-46bd-96e6-3540f65967ea",
   "metadata": {},
   "outputs": [],
   "source": []
  },
  {
   "cell_type": "code",
   "execution_count": null,
   "id": "da1ba0aa-2515-401f-8048-087e2cc49a84",
   "metadata": {},
   "outputs": [],
   "source": [
    "Q2. Create a child class car from the vehicle class created in Que 1, which will inherit the vehicle class.\n",
    "Create a method named seating_capacity which takes capacity as an argument and returns the name of\n",
    "the vehicle and its seating capacity."
   ]
  },
  {
   "cell_type": "code",
   "execution_count": 15,
   "id": "c4dcaf77-6117-44b6-9ba5-3b16a8306838",
   "metadata": {},
   "outputs": [],
   "source": [
    "class vehicle:\n",
    "    def __init__(self,name_of_vehicle, max_speed,average_of_vehicle):\n",
    "        self.name_of_vehicle=name_of_vehicle\n",
    "        self.max_speed=max_speed\n",
    "        self.average_of_vehicle= average_of_vehicle\n",
    "        \n",
    "    def seating_capacity(self,capacity):\n",
    "        self.capacity=capacity\n",
    "        return self.name_of_vehicle,self.capacity\n",
    "    \n",
    "    "
   ]
  },
  {
   "cell_type": "code",
   "execution_count": 16,
   "id": "65d2915c-aab2-4c4c-9c73-8f3ac83252bc",
   "metadata": {},
   "outputs": [],
   "source": [
    "car_details=vehicle(\"TATA Harrier\",120,15)"
   ]
  },
  {
   "cell_type": "code",
   "execution_count": 17,
   "id": "29380cb1-3f8d-4240-a1bc-af9c3af2f597",
   "metadata": {},
   "outputs": [
    {
     "data": {
      "text/plain": [
       "('TATA Harrier', 7)"
      ]
     },
     "execution_count": 17,
     "metadata": {},
     "output_type": "execute_result"
    }
   ],
   "source": [
    "car_details.seating_capacity(7)"
   ]
  },
  {
   "cell_type": "code",
   "execution_count": null,
   "id": "b34a0eac-24c7-46b6-a7e4-eb26302d2837",
   "metadata": {},
   "outputs": [],
   "source": []
  },
  {
   "cell_type": "code",
   "execution_count": null,
   "id": "b5ae85a6-62b5-489d-b6b6-eb13c7d55592",
   "metadata": {},
   "outputs": [],
   "source": [
    "Q3. What is multiple inheritance? Write a python code to demonstrate multiple inheritance.\n",
    "Ans:\n",
    "Multiple inheritance is a feature in object-oriented programming languages that allows a class to inherit properties and methods from multiple parent classes. \n",
    "This allows the creation of classes that combine the functionality of multiple parent classes into a single child class."
   ]
  },
  {
   "cell_type": "code",
   "execution_count": 24,
   "id": "388308a2-c710-4182-8483-2ea6df2e71a1",
   "metadata": {},
   "outputs": [],
   "source": [
    "class class1:\n",
    "    def test_class1(self):\n",
    "        return \"Hello from class1\""
   ]
  },
  {
   "cell_type": "code",
   "execution_count": 25,
   "id": "a1a67715-e693-43b7-a046-d1ada7fb1920",
   "metadata": {},
   "outputs": [],
   "source": [
    "class class2:\n",
    "    def test_class2(self):\n",
    "        return \"Hello from class2\""
   ]
  },
  {
   "cell_type": "code",
   "execution_count": 26,
   "id": "a7d3e71c-549a-44dd-98f6-e7150c8b955a",
   "metadata": {},
   "outputs": [],
   "source": [
    "class class3(class1,class2):\n",
    "    pass"
   ]
  },
  {
   "cell_type": "code",
   "execution_count": 27,
   "id": "1afe5379-70e7-4c59-a457-9252474d69b9",
   "metadata": {},
   "outputs": [],
   "source": [
    "class3_obj=class3()"
   ]
  },
  {
   "cell_type": "code",
   "execution_count": 31,
   "id": "0c0b9007-5a32-4447-b14e-5872474c1914",
   "metadata": {},
   "outputs": [
    {
     "data": {
      "text/plain": [
       "'Hello from class1'"
      ]
     },
     "execution_count": 31,
     "metadata": {},
     "output_type": "execute_result"
    }
   ],
   "source": [
    "class3_obj.test_class1()"
   ]
  },
  {
   "cell_type": "code",
   "execution_count": 32,
   "id": "78a054e2-072f-4de7-828a-53597e237e64",
   "metadata": {},
   "outputs": [
    {
     "data": {
      "text/plain": [
       "'Hello from class2'"
      ]
     },
     "execution_count": 32,
     "metadata": {},
     "output_type": "execute_result"
    }
   ],
   "source": [
    "class3_obj.test_class2()"
   ]
  },
  {
   "cell_type": "code",
   "execution_count": null,
   "id": "820c0e28-d2f3-496c-b029-fa028be2fd14",
   "metadata": {},
   "outputs": [],
   "source": []
  },
  {
   "cell_type": "code",
   "execution_count": null,
   "id": "e45dea1c-e53f-4abb-8180-1ee834ea6a6e",
   "metadata": {},
   "outputs": [],
   "source": [
    "Q4. What are getter and setter in python? Create a class and create a getter and a setter method in this\n",
    "class.\n",
    "Ans:\n",
    "Getters and Setters are methods used to access and modify the values of an objects attributes.\n",
    "They provide a way to control access to the objects attributes and ensure that any changes to the attributes are properly managed.\n"
   ]
  },
  {
   "cell_type": "code",
   "execution_count": 15,
   "id": "e044655f-90ee-4aa0-a2e4-8afa21a0febf",
   "metadata": {},
   "outputs": [],
   "source": [
    "class person:\n",
    "    def __init__(self,name,age):\n",
    "        self._name= name\n",
    "        self._age= age\n",
    "        \n",
    "    @property\n",
    "    def age_access(self):\n",
    "        return self._age\n",
    "    \n",
    "    @age_access.setter\n",
    "    def age_set(self,age):\n",
    "        if age<=18:\n",
    "            pass\n",
    "        else:\n",
    "            self._age= age\n",
    "            \n",
    "        "
   ]
  },
  {
   "cell_type": "code",
   "execution_count": 25,
   "id": "d4e60191-3504-4077-a651-d78f87672311",
   "metadata": {},
   "outputs": [],
   "source": [
    "rohan= person(\"prasad\",25)"
   ]
  },
  {
   "cell_type": "code",
   "execution_count": 26,
   "id": "fcf3a1ba-de0d-4bf9-b0ef-1dad8d53160a",
   "metadata": {},
   "outputs": [
    {
     "data": {
      "text/plain": [
       "25"
      ]
     },
     "execution_count": 26,
     "metadata": {},
     "output_type": "execute_result"
    }
   ],
   "source": [
    "rohan.age_access"
   ]
  },
  {
   "cell_type": "code",
   "execution_count": 27,
   "id": "885a7b60-ed44-45ec-bb35-29f72df61127",
   "metadata": {},
   "outputs": [],
   "source": [
    "rohan.age_set=35"
   ]
  },
  {
   "cell_type": "code",
   "execution_count": 28,
   "id": "f8cc646d-2697-4507-9b9d-e2f8db676293",
   "metadata": {},
   "outputs": [
    {
     "data": {
      "text/plain": [
       "35"
      ]
     },
     "execution_count": 28,
     "metadata": {},
     "output_type": "execute_result"
    }
   ],
   "source": [
    "rohan.age_access"
   ]
  },
  {
   "cell_type": "code",
   "execution_count": null,
   "id": "b9753383-da0a-4386-9941-f169abaed8fb",
   "metadata": {},
   "outputs": [],
   "source": []
  },
  {
   "cell_type": "code",
   "execution_count": null,
   "id": "36395046-d62a-41f2-9640-28d954b325dd",
   "metadata": {},
   "outputs": [],
   "source": [
    "Q5.What is method overriding in python? Write a python code to demonstrate method overriding.\n",
    "Ans:\n",
    "Method overriding is an ability of any object-oriented programming language that allows a subclass or child class,\n",
    "to provide a specific implementation of a method that is already provided by one of its super-classes or parent classes    "
   ]
  },
  {
   "cell_type": "code",
   "execution_count": 30,
   "id": "570d19f9-5c75-4446-994e-1d5dffd13ba0",
   "metadata": {},
   "outputs": [],
   "source": [
    "class Animal:\n",
    "    def make_sound(self):\n",
    "        print(\"The animal makes a sound.\")\n",
    "        \n",
    "class Dog(Animal):\n",
    "    def make_sound(self):\n",
    "        print(\"The dog barks.\")"
   ]
  },
  {
   "cell_type": "code",
   "execution_count": 32,
   "id": "d8f20042-813e-4ed6-8231-25116f008d79",
   "metadata": {},
   "outputs": [],
   "source": [
    "dog= Dog()"
   ]
  },
  {
   "cell_type": "code",
   "execution_count": 33,
   "id": "a428009f-a35d-4a28-8198-338e68e57726",
   "metadata": {},
   "outputs": [
    {
     "name": "stdout",
     "output_type": "stream",
     "text": [
      "The dog barks.\n"
     ]
    }
   ],
   "source": [
    "dog.make_sound()"
   ]
  }
 ],
 "metadata": {
  "kernelspec": {
   "display_name": "Python 3 (ipykernel)",
   "language": "python",
   "name": "python3"
  },
  "language_info": {
   "codemirror_mode": {
    "name": "ipython",
    "version": 3
   },
   "file_extension": ".py",
   "mimetype": "text/x-python",
   "name": "python",
   "nbconvert_exporter": "python",
   "pygments_lexer": "ipython3",
   "version": "3.10.8"
  }
 },
 "nbformat": 4,
 "nbformat_minor": 5
}
