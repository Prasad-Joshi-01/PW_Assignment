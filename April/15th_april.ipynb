{
 "cells": [
  {
   "cell_type": "code",
   "execution_count": null,
   "id": "862d1ddc-aad6-4d00-be4e-803964bf5b00",
   "metadata": {},
   "outputs": [],
   "source": [
    "Q.1.You are working on a machine learning project where you have a dataset containing numerical and\n",
    "categorical features. You have identified that some Of the features are highly correlated and there are\n",
    "missing values in some of the columns. You want to build a pipeline that automates the feature\n",
    "engineering process and handles the missing values.\n",
    "Design a pipeline that includes the following steps:\n",
    "• use an automated feature selection method to identify the important features in the dataset.\n",
    "• Create a numerical pipeline that includes the following steps:\n",
    "• Impute the missing values in the numerical columns using the mean of the column values.\n",
    "• scale the numerical columns using standardisation.\n",
    "• Create a categorical pipeline that includes the following steps:\n",
    "• Impute the missing values in the categorical columns using the most frequent value Of the column.\n",
    "• One—hot encode the categorical columns.\n",
    "• Combine the numerical and categorical pipelines using a ColumnTransformer.\n",
    "• Use a Random Forest Classifier to build the final model.\n",
    "• Evaluate the accuracy of the model on the test dataset.\n",
    "Note: Your solution should include code snippets for each step of the pipeline, and a brief explanation of\n",
    "each step. You should also provide an interpretation of the results and suggest possible improvements for\n",
    "the pipeline."
   ]
  },
  {
   "cell_type": "code",
   "execution_count": null,
   "id": "37d97d97-ca22-401b-9f6d-9881a67bde71",
   "metadata": {},
   "outputs": [],
   "source": [
    "from sklearn.compose import ColumnTransformer\n",
    "from sklearn.ensemble import RandomForestClassifier\n",
    "from sklearn.impute import SimpleImputer\n",
    "from sklearn.pipeline import Pipeline\n",
    "from sklearn.preprocessing import OneHotEncoder, StandardScaler\n",
    "from sklearn.feature_selection import SelectFromModel\n",
    "\n",
    "# Assume X_train, X_test, y_train, y_test are the training and test datasets\n",
    "# with X_train containing both numerical and categorical features\n",
    "\n",
    "# Step 1: Automated feature selection\n",
    "selector = SelectFromModel(RandomForestClassifier(random_state=42))\n",
    "X_train = selector.fit_transform(X_train, y_train)\n",
    "\n",
    "# Step 2: Numerical pipeline\n",
    "num_pipe = Pipeline([\n",
    "    ('imputer', SimpleImputer(strategy='mean')),\n",
    "    ('scaler', StandardScaler())\n",
    "])\n",
    "num_cols = [i for i in range(X_train.shape[1]) if i not in categorical_indices]\n",
    "num_transformer = ('num', num_pipe, num_cols)\n",
    "\n",
    "# Step 3: Categorical pipeline\n",
    "cat_pipe = Pipeline([\n",
    "    ('imputer', SimpleImputer(strategy='most_frequent')),\n",
    "    ('onehot', OneHotEncoder(handle_unknown='ignore'))\n",
    "])\n",
    "categorical_indices = [i for i in range(X_train.shape[1]) if i not in num_cols]\n",
    "cat_transformer = ('cat', cat_pipe, categorical_indices)\n",
    "\n",
    "# Step 4: Combine numerical and categorical pipelines using ColumnTransformer\n",
    "preprocessor = ColumnTransformer(\n",
    "    transformers=[num_transformer, cat_transformer]\n",
    ")\n",
    "\n",
    "# Step 5: Random Forest Classifier model pipeline\n",
    "model = Pipeline([\n",
    "    ('preprocessor', preprocessor),\n",
    "    ('classifier', RandomForestClassifier(random_state=42))\n",
    "])\n",
    "\n",
    "# Step 6: Fit and evaluate the model on the test dataset\n",
    "model.fit(X_train, y_train)\n",
    "accuracy = model.score(X_test, y_test)\n",
    "print(\"Accuracy: \", accuracy)\n"
   ]
  },
  {
   "cell_type": "code",
   "execution_count": null,
   "id": "d92bf136-30ef-4437-bf6d-b75171d64291",
   "metadata": {},
   "outputs": [],
   "source": []
  },
  {
   "cell_type": "code",
   "execution_count": null,
   "id": "5b7c8768-f111-40b0-bcd4-a78e3b323381",
   "metadata": {},
   "outputs": [],
   "source": [
    "Q2. Build a pipeline that includes a random forest classifier and a logistic regression classifier, and then\n",
    "use a voting classifier to combine their predictions. Train the pipeline on the iris dataset and evaluate its\n",
    "accuracy."
   ]
  },
  {
   "cell_type": "code",
   "execution_count": 2,
   "id": "7e4caacc-2000-4716-b032-220aac83f73f",
   "metadata": {},
   "outputs": [
    {
     "name": "stdout",
     "output_type": "stream",
     "text": [
      "Accuracy:  1.0\n"
     ]
    }
   ],
   "source": [
    "from sklearn.datasets import load_iris\n",
    "from sklearn.ensemble import RandomForestClassifier, VotingClassifier\n",
    "from sklearn.linear_model import LogisticRegression\n",
    "from sklearn.model_selection import train_test_split\n",
    "from sklearn.pipeline import Pipeline\n",
    "from sklearn.preprocessing import StandardScaler\n",
    "\n",
    "iris = load_iris()\n",
    "X, y = iris.data, iris.target\n",
    "\n",
    "# Split the dataset into training and test sets\n",
    "X_train, X_test, y_train, y_test = train_test_split(X, y, random_state=42)\n",
    "\n",
    "# Create pipelines for each classifier\n",
    "rf_pipeline = Pipeline([\n",
    "    ('scaler', StandardScaler()),\n",
    "    ('rf', RandomForestClassifier(random_state=42))\n",
    "])\n",
    "lr_pipeline = Pipeline([\n",
    "    ('scaler', StandardScaler()),\n",
    "    ('lr', LogisticRegression(random_state=42))\n",
    "])\n",
    "\n",
    "# Combine the pipelines into a voting classifier\n",
    "voting_classifier = VotingClassifier(\n",
    "    estimators=[('rf', rf_pipeline), ('lr', lr_pipeline)],\n",
    "    voting='soft'\n",
    ")\n",
    "\n",
    "# Train and evaluate the voting classifier\n",
    "voting_classifier.fit(X_train, y_train)\n",
    "accuracy = voting_classifier.score(X_test, y_test)\n",
    "print(\"Accuracy: \", accuracy)"
   ]
  },
  {
   "cell_type": "code",
   "execution_count": null,
   "id": "d3c50559-8a0d-4bcf-9c40-8bbc8d2ac533",
   "metadata": {},
   "outputs": [],
   "source": []
  }
 ],
 "metadata": {
  "kernelspec": {
   "display_name": "Python 3 (ipykernel)",
   "language": "python",
   "name": "python3"
  },
  "language_info": {
   "codemirror_mode": {
    "name": "ipython",
    "version": 3
   },
   "file_extension": ".py",
   "mimetype": "text/x-python",
   "name": "python",
   "nbconvert_exporter": "python",
   "pygments_lexer": "ipython3",
   "version": "3.10.8"
  }
 },
 "nbformat": 4,
 "nbformat_minor": 5
}
