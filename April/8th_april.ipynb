{
  "nbformat": 4,
  "nbformat_minor": 0,
  "metadata": {
    "colab": {
      "provenance": []
    },
    "kernelspec": {
      "name": "python3",
      "display_name": "Python 3"
    },
    "language_info": {
      "name": "python"
    }
  },
  "cells": [
    {
      "cell_type": "code",
      "execution_count": null,
      "metadata": {
        "id": "PX8CpjSDyhmA"
      },
      "outputs": [],
      "source": [
        "Q1. In order to predict house price based on several characteristics, such as location, square footage,\n",
        "number of bedrooms, etc., you are developing an SVM regression model. Which regression metric in this\n",
        "situation would be the best to employ?\n",
        "\n",
        "Dataset Link:- https://drive.google.com/file/d/1Z9oLpmt6IDRNw7IeNcHYTGeJRYypRSC0/view\n",
        "Ans:\n",
        "In the case of developing an SVM regression model to predict house prices based on several characteristics, Mean Squared Error (MSE) would be the best regression metric to employ.\n",
        "\n",
        "MSE measures the average of the squared differences between the predicted and actual values.\n",
        "It is commonly used for regression problems and gives a measure of how well the model is performing in terms of predicting the actual values.\n",
        "In the context of predicting house prices, MSE would give a measure of how well the model is able to predict the actual prices of houses based on the given characteristics.\n",
        "\n",
        "Other commonly used regression metrics include Mean Absolute Error (MAE) and Root Mean Squared Error (RMSE).\n",
        "While these metrics can also be used in this situation, MSE is generally preferred as it gives more weight to larger errors and is therefore more sensitive to outliers.\n",
        "This can be useful in situations where the model needs to avoid making large prediction errors, such as in the case of predicting house prices."
      ]
    },
    {
      "cell_type": "code",
      "source": [],
      "metadata": {
        "id": "PvR8Cxu3zcLu"
      },
      "execution_count": null,
      "outputs": []
    },
    {
      "cell_type": "code",
      "source": [
        "Q2. You have built an SVM regression model and are trying to decide between using MSE or R-squared as\n",
        "your evaluation metric. Which metric would be more appropriate if your goal is to predict the actual price\n",
        "of a house as accurately as possible?\n",
        "Ans:\n",
        "If your goal is to predict the actual price of a house as accurately as possible, then Mean Squared Error (MSE) would be a more appropriate evaluation metric to use than R-squared.\n",
        "\n",
        "MSE measures the average of the squared differences between the predicted and actual values, and it directly reflects how far off the models predictions are from the actual prices of houses.\n",
        "In other words, it measures the models accuracy in predicting the actual prices.\n",
        "\n",
        "On the other hand, R-squared measures the proportion of the variance in the dependent variable (house prices) that is explained by the independent variables. \n",
        "While R-squared can be useful for understanding how well the model fits the data, it does not directly measure the models accuracy in predicting the actual prices of houses."
      ],
      "metadata": {
        "id": "wiA3ai-7zchW"
      },
      "execution_count": null,
      "outputs": []
    },
    {
      "cell_type": "code",
      "source": [],
      "metadata": {
        "id": "lnLEhJlq0Ub3"
      },
      "execution_count": null,
      "outputs": []
    },
    {
      "cell_type": "code",
      "source": [
        "Q3. You have a dataset with a significant number of outliers and are trying to select an appropriate\n",
        "regression metric to use with your SVM model. Which metric would be the most appropriate in this\n",
        "scenario?\n",
        "Ans:\n",
        "When dealing with a dataset that has a significant number of outliers, Mean Absolute Error (MAE) would be the most appropriate regression metric to use with an SVM model.\n",
        "\n",
        "MAE is a robust metric that is not affected by outliers in the data, unlike Mean Squared Error (MSE), which is heavily influenced by outliers due to the squaring of errors. \n",
        "MAE measures the average absolute difference between the predicted and actual values, \n",
        "which means that it is less sensitive to extreme values and more representative of the typical error in the predictions.\n",
        "\n",
        "In the case of a dataset with a significant number of outliers, the use of MSE as a regression metric would lead to an overestimation of the error, as the squared errors caused by outliers would be magnified. \n",
        "This could result in an inaccurate assessment of the models performance. \n",
        "Therefore, MAE would be a better choice of regression metric to evaluate the SVM models accuracy in this scenario.\n"
      ],
      "metadata": {
        "id": "ElV0NoSB0Ulv"
      },
      "execution_count": null,
      "outputs": []
    },
    {
      "cell_type": "code",
      "source": [],
      "metadata": {
        "id": "a4uNpQ7d0xUg"
      },
      "execution_count": null,
      "outputs": []
    },
    {
      "cell_type": "code",
      "source": [
        "Q4. You have built an SVM regression model using a polynomial kernel and are trying to select the best\n",
        "metric to evaluate its performance. You have calculated both MSE and RMSE and found that both values\n",
        "are very close. Which metric should you choose to use in this case?\n",
        "Ans:\n",
        "If both Mean Squared Error (MSE) and Root Mean Squared Error (RMSE) values are very close, \n",
        "then it is recommended to choose RMSE as the evaluation metric for the SVM regression model with a polynomial kernel.\n",
        "\n",
        "RMSE has the advantage of being on the same scale as the target variable (house prices, in this case), which makes it more interpretable and easier to compare with other models.\n",
        " In addition, since RMSE involves taking the square root of MSE, it puts more emphasis on larger errors and is therefore more sensitive to outliers.\n",
        "\n",
        "However, if the difference between the two metrics is negligible and there is no particular reason to choose one over the other, \n",
        "it may be reasonable to use either of them as a performance metric for the SVM regression model"
      ],
      "metadata": {
        "id": "t477aboU0xXI"
      },
      "execution_count": null,
      "outputs": []
    },
    {
      "cell_type": "code",
      "source": [],
      "metadata": {
        "id": "15SAp6BT1-G-"
      },
      "execution_count": null,
      "outputs": []
    },
    {
      "cell_type": "code",
      "source": [
        "Q5. You are comparing the performance of different SVM regression models using different kernels (linear,\n",
        "polynomial, and RBF) and are trying to select the best evaluation metric. Which metric would be most\n",
        "appropriate if your goal is to measure how well the model explains the variance in the target variable?\n",
        "Ans:\n",
        "When comparing the performance of different SVM regression models with different kernels (linear, polynomial, and RBF) and \n",
        "the goal is to measure how well the model explains the variance in the target variable, R-squared (or the coefficient of determination) would be the most appropriate evaluation metric.\n",
        "\n",
        "R-squared is a statistical measure that represents the proportion of the variance in the dependent variable (target variable) that is explained by the independent variables (features). \n",
        "It indicates the goodness of fit of the regression model and how well it explains the variability of the data.\n",
        "\n",
        "In the case of SVM regression models with different kernels, R-squared can be used to compare how well each model explains the variance in the target variable. \n",
        "A higher R-squared value indicates a better fit of the model to the data and a stronger relationship between the independent variables and the target variable. \n",
        "Therefore, it would be a suitable metric to use for evaluating the performance of different SVM regression models with different kernels, \n",
        "particularly when the goal is to measure how well the model explains the variance in the target variable."
      ],
      "metadata": {
        "id": "SfGrij9I1-MK"
      },
      "execution_count": null,
      "outputs": []
    }
  ]
}