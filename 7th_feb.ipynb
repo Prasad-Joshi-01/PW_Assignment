{
 "cells": [
  {
   "cell_type": "code",
   "execution_count": null,
   "id": "c0b9a66a-1418-4a22-91bb-824bee808945",
   "metadata": {},
   "outputs": [],
   "source": [
    "Q1.You are writing code for a company. The requirement of the company is that you create a python\n",
    "function that will check whether the password entered by the user is correct or not. The function should\n",
    "take the password as input and return the string “Valid Password” if the entered password follows the\n",
    "below-given password guidelines else it should return “Invalid Password”.\n",
    "Note: 1. The Password should contain at least two uppercase letters and at least two lowercase letters.\n",
    "2. The Password should contain at least a number and three special characters.\n",
    "3. The length of the password should be 10 characters long."
   ]
  },
  {
   "cell_type": "code",
   "execution_count": 4,
   "id": "c7e7d5ec-e841-4183-8872-3405a53acf2b",
   "metadata": {},
   "outputs": [],
   "source": [
    "def check_pass(password):\n",
    "    if len(password)!= 10:\n",
    "        return \"Invalid Password\"\n",
    "    uppercase_count = sum([1 for char in password if char.isupper()])\n",
    "    if uppercase_count < 2:\n",
    "        return \"Invalid Password\"\n",
    "    lowercase_count = sum([1 for char in password if char.islower()])\n",
    "    if lowercase_count < 2:\n",
    "        return \"Invalid Password\"\n",
    "    num_count = sum([1 for char in password if char.isdigit()])\n",
    "    if num_count < 1:\n",
    "        return \"Invalid Password\"\n",
    "    special_char_count = sum([1 for char in password if not char.isalnum()])\n",
    "    if special_char_count < 3:\n",
    "        return \"Invalid Password\"\n",
    "    return \"Valid Password\""
   ]
  },
  {
   "cell_type": "code",
   "execution_count": 9,
   "id": "65c7aa44-190f-4a52-9b8b-0c821b3e19bb",
   "metadata": {},
   "outputs": [
    {
     "data": {
      "text/plain": [
       "'Valid Password'"
      ]
     },
     "execution_count": 9,
     "metadata": {},
     "output_type": "execute_result"
    }
   ],
   "source": [
    "check_pass(\"PRAsad1@$%\")"
   ]
  },
  {
   "cell_type": "code",
   "execution_count": 11,
   "id": "949cc19e-bc4a-4c8d-b7bf-65b0a5359c85",
   "metadata": {},
   "outputs": [
    {
     "data": {
      "text/plain": [
       "'Invalid Password'"
      ]
     },
     "execution_count": 11,
     "metadata": {},
     "output_type": "execute_result"
    }
   ],
   "source": [
    "check_pass(\"roHan2!\")"
   ]
  },
  {
   "cell_type": "code",
   "execution_count": null,
   "id": "c226e01d-8c88-4d82-bdfe-8b14276aa280",
   "metadata": {},
   "outputs": [],
   "source": []
  },
  {
   "cell_type": "code",
   "execution_count": null,
   "id": "26b8b830-d62e-4818-9301-ef96dd6f0198",
   "metadata": {},
   "outputs": [],
   "source": [
    "Q2. Solve the below-given questions using at least one of the following:\n",
    "1. Lambda function\n",
    "2. Filter function\n",
    "3. map function\n",
    "4. List Comprehension\n",
    ". Check if the string starts with a particular letter\n",
    ". Check if the string is numeric\n",
    ". Sort a list of tuples having fruit names and their quantity. [(\"mango\",99),(\"orange\",80), (\"grapes\", 1000)]]\n",
    ". Find the squares of numbers from 1 to 10\n",
    ". Find the cube root of numbers from 1 to 10\n",
    ". Check if a given number is even\n",
    ". Filter odd numbers from the given list.\n",
    "[1,2,3,4,5,6,7,8,9,10]\n",
    ". Sort a list of integers into positive and negative integers lists.\n",
    "[1,2,3,4,5,6,-1,-2,-3,-4,-5,0]"
   ]
  },
  {
   "cell_type": "code",
   "execution_count": 16,
   "id": "a1af2062-0c76-4a14-b48d-f21074c8a9b6",
   "metadata": {},
   "outputs": [
    {
     "name": "stdout",
     "output_type": "stream",
     "text": [
      "The string starts with the letter H\n"
     ]
    }
   ],
   "source": [
    "#Check if the string starts with a particular letter\n",
    "s = \"Hello\"\n",
    "l = \"H\"\n",
    "\n",
    "a = lambda s,l: s.startswith(l)\n",
    "\n",
    "if a(s, l):\n",
    "    print(\"The string starts with the letter\",l)\n",
    "else:\n",
    "    print(\"The string does not start with the letter\",l)\n"
   ]
  },
  {
   "cell_type": "code",
   "execution_count": 26,
   "id": "3f8860b2-14bd-4e36-abd6-fea184a158a9",
   "metadata": {},
   "outputs": [
    {
     "name": "stdout",
     "output_type": "stream",
     "text": [
      "[('orange', 80), ('mango', 99), ('grapes', 1000)]\n"
     ]
    }
   ],
   "source": [
    "#Sort a list of tuples having fruit names and their quantity. [(\"mango\",99),(\"orange\",80), (\"grapes\", 1000)]\n",
    "fruits = [(\"mango\", 99), (\"orange\", 80), (\"grapes\", 1000)]\n",
    "sorted_fruits = sorted(fruits, key=lambda x: x[1])\n",
    "print(sorted_fruits)"
   ]
  },
  {
   "cell_type": "code",
   "execution_count": 27,
   "id": "2fafc60a-fe4e-402c-ac02-a0d8de1d315c",
   "metadata": {},
   "outputs": [
    {
     "data": {
      "text/plain": [
       "[1, 4, 9, 16, 25, 36, 49, 64, 81, 100]"
      ]
     },
     "execution_count": 27,
     "metadata": {},
     "output_type": "execute_result"
    }
   ],
   "source": [
    "#Find the squares of numbers from 1 to 10\n",
    "[i**2 for i in range(1,11)]"
   ]
  },
  {
   "cell_type": "code",
   "execution_count": 28,
   "id": "a7dfdfa2-2ca2-44f3-8e33-1e65639e5572",
   "metadata": {},
   "outputs": [
    {
     "data": {
      "text/plain": [
       "[1, 8, 27, 64, 125, 216, 343, 512, 729, 1000]"
      ]
     },
     "execution_count": 28,
     "metadata": {},
     "output_type": "execute_result"
    }
   ],
   "source": [
    "#Find the cube root of numbers from 1 to 10\n",
    "[i**3 for i in range(1,11)]"
   ]
  },
  {
   "cell_type": "code",
   "execution_count": 36,
   "id": "eae5aee8-f2f6-4a90-9cc0-c16a69079f7e",
   "metadata": {},
   "outputs": [
    {
     "name": "stdout",
     "output_type": "stream",
     "text": [
      "False\n"
     ]
    }
   ],
   "source": [
    "#Check if a given number is even\n",
    "is_even = lambda num: num % 2 == 0\n",
    "print(is_even(3))"
   ]
  },
  {
   "cell_type": "code",
   "execution_count": 39,
   "id": "3732acc9-7e90-4f32-a043-f0b19986d017",
   "metadata": {},
   "outputs": [
    {
     "data": {
      "text/plain": [
       "[1, 3, 5, 7, 9]"
      ]
     },
     "execution_count": 39,
     "metadata": {},
     "output_type": "execute_result"
    }
   ],
   "source": [
    "# Filter odd numbers from the given list. \n",
    "l1=[1,2,3,4,5,6,7,8,9,10]\n",
    "[i for i in l1 if i%2!=0]"
   ]
  },
  {
   "cell_type": "code",
   "execution_count": 41,
   "id": "0b6b6780-b7b0-45ae-92e2-ce555888fb37",
   "metadata": {},
   "outputs": [
    {
     "name": "stdout",
     "output_type": "stream",
     "text": [
      "[1, 2, 3, 4, 5, 6]\n",
      "[-1, -2, -3, -4, -5]\n"
     ]
    }
   ],
   "source": [
    "#Sort a list of integers into positive and negative integers lists.\n",
    "l1=[1,2,3,4,5,6,-1,-2,-3,-4,-5,0]\n",
    "positive = [n for n in l1 if n > 0]\n",
    "negative= [n for n in l1 if n < 0]\n",
    "print(positive)\n",
    "print(negative)\n"
   ]
  },
  {
   "cell_type": "code",
   "execution_count": null,
   "id": "89b746ad-0969-46a1-99ba-62d43c7fcf94",
   "metadata": {},
   "outputs": [],
   "source": []
  }
 ],
 "metadata": {
  "kernelspec": {
   "display_name": "Python 3 (ipykernel)",
   "language": "python",
   "name": "python3"
  },
  "language_info": {
   "codemirror_mode": {
    "name": "ipython",
    "version": 3
   },
   "file_extension": ".py",
   "mimetype": "text/x-python",
   "name": "python",
   "nbconvert_exporter": "python",
   "pygments_lexer": "ipython3",
   "version": "3.10.8"
  }
 },
 "nbformat": 4,
 "nbformat_minor": 5
}
