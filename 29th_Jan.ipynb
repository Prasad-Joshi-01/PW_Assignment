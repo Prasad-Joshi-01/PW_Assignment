{
 "cells": [
  {
   "cell_type": "code",
   "execution_count": null,
   "id": "d03c12b2-ef8e-462c-b085-9a9dc7142f9d",
   "metadata": {},
   "outputs": [],
   "source": [
    "1.Who developed Python Programming Language? \n",
    "Ans: Python was developed by Guido van Rossum and first released in 1991."
   ]
  },
  {
   "cell_type": "code",
   "execution_count": null,
   "id": "0c51a4d8-d333-4977-8542-e4382ba2fa17",
   "metadata": {},
   "outputs": [],
   "source": [
    "2.Which type of Programming does Python support?\n",
    "Ans:Python is a multi-paradigm programming language and supports several programming paradigms, including:\n",
    "Object-Oriented Programming (OOP)\n",
    "Imperative Programming\n",
    "Functional Programming\n",
    "Procedural Programming"
   ]
  },
  {
   "cell_type": "code",
   "execution_count": null,
   "id": "dfd3a5af-7bc4-4345-8caf-51a48dbe6975",
   "metadata": {},
   "outputs": [],
   "source": [
    "3. Is Python case sensitive when dealing with identifiers? \n",
    "Ans:Yes, Python is case-sensitive when dealing with identifiers"
   ]
  },
  {
   "cell_type": "code",
   "execution_count": null,
   "id": "c59d1cef-21a1-4628-9329-834815b0dd20",
   "metadata": {},
   "outputs": [],
   "source": [
    "4.What is the correct extension of the Python file? \n",
    "Ans:The correct extension for a Python file is .py"
   ]
  },
  {
   "cell_type": "code",
   "execution_count": null,
   "id": "3bf54d89-ef42-4e0e-b91c-d57332c18ca9",
   "metadata": {},
   "outputs": [],
   "source": [
    "5.Is Python code compiled or interpreted? \n",
    "Ans:Python code is interpreted, not compiled. \n",
    "This means that the code is executed line by line by an interpreter,\n",
    "rather than being translated into machine code and executed directly by the computer's hardware."
   ]
  },
  {
   "cell_type": "code",
   "execution_count": null,
   "id": "27d773fd-b750-4ae7-9c8a-e936ad962153",
   "metadata": {},
   "outputs": [],
   "source": [
    "6. Name a few blocks of code used to define in Python language? \n",
    "Ans: A block is a piece of Python program text that is executed as a unit. \n",
    "The following are blocks:\n",
    "a module, a function body, and a class definition."
   ]
  },
  {
   "cell_type": "code",
   "execution_count": null,
   "id": "6d4f0944-d526-4450-b72f-d61a08bc8f0a",
   "metadata": {},
   "outputs": [],
   "source": [
    "7.State a character used to give single-line comments in Python?\n",
    "Ans:We can write a single-line comment by adding a single \"#\" character before any statement or line of code."
   ]
  },
  {
   "cell_type": "code",
   "execution_count": null,
   "id": "75239171-f0ff-4de8-94f6-4159bce79c9e",
   "metadata": {},
   "outputs": [],
   "source": [
    "8.Mention functions which can help us to find the version of python that we are currently working on? \n",
    "Ans:The function sys. version can help us to find the version of python that we are currently working on."
   ]
  },
  {
   "cell_type": "code",
   "execution_count": null,
   "id": "8ea3f1a0-2d2c-4765-af2a-9031a0a00273",
   "metadata": {},
   "outputs": [],
   "source": [
    "9.Python supports the creation of anonymous functions at runtime, using a construct called\n",
    "Ans: Lambda"
   ]
  },
  {
   "cell_type": "code",
   "execution_count": null,
   "id": "16d1089c-7fac-45a7-b3aa-81eb5fe55bb8",
   "metadata": {},
   "outputs": [],
   "source": [
    "10.What does pip stand for python?\n",
    "Ans:pip stands for Pip Installs Packages. \n",
    "It is the package manager for Python, used to install and manage packages"
   ]
  },
  {
   "cell_type": "code",
   "execution_count": null,
   "id": "bfdbc98e-f56e-44c9-8a5e-a2cc43a2729e",
   "metadata": {},
   "outputs": [],
   "source": [
    "11.Mention a few built-in functions in python?\n",
    "Ans:\n",
    "print(): used to display output to the console\n",
    "len(): used to determine the length of a string, list, or other collection\n",
    "max(): used to find the maximum value in a collection\n",
    "min(): used to find the minimum value in a collection\n",
    "sum(): used to calculate the sum of values in a collection"
   ]
  },
  {
   "cell_type": "code",
   "execution_count": null,
   "id": "635baaf9-b7d8-4211-8580-e47e4e7e4646",
   "metadata": {},
   "outputs": [],
   "source": [
    "12.What is the maximum possible length of an identifier in Python? \n",
    "Ans:79 characters"
   ]
  },
  {
   "cell_type": "code",
   "execution_count": null,
   "id": "d31ed605-b855-4ca9-ae25-d6aadfb6cbdb",
   "metadata": {},
   "outputs": [],
   "source": [
    "13.What are the benefits of using Python?\n",
    "Ans:\n",
    "Easy to learn and use\n",
    "Versatile\n",
    "Large community\n",
    "High-level language"
   ]
  },
  {
   "cell_type": "code",
   "execution_count": null,
   "id": "8a96c26e-ce51-4305-ba8c-7bb8802bba5d",
   "metadata": {},
   "outputs": [],
   "source": [
    "14.How is memory managed in Python?\n",
    "AnsMemory management in Python involves a private heap containing all Python objects and data structures. \n",
    "The management of this private heap is ensured internally by the Python memory manager."
   ]
  },
  {
   "cell_type": "code",
   "execution_count": null,
   "id": "caafa653-3a2d-4087-a7d4-5f4b1f38cce4",
   "metadata": {},
   "outputs": [],
   "source": [
    "15.How to install Python on Windows and set path variables?\n",
    "Ans:Installing Python on Windows:\n",
    "Go to the Python official website\n",
    "Download the latest version of Python for Windows and install.\n",
    "\n",
    "Setting Path Variables in Windows:\n",
    "Go to Start, right-click on Computer and select Properties.\n",
    "Click on Advanced System Settings and then click on Environment Variables.\n",
    "Under System Variables,find the Path variable, then click on Edit.\n",
    "Add the location of your Python installation\n",
    "\n"
   ]
  },
  {
   "cell_type": "code",
   "execution_count": null,
   "id": "19a3ab0e-f7b8-49bb-9b53-a3b373941b46",
   "metadata": {},
   "outputs": [],
   "source": [
    "16. Is indentation required in python?\n",
    "Ans: Python is very important. Python uses indentation to indicate a block of code."
   ]
  }
 ],
 "metadata": {
  "kernelspec": {
   "display_name": "Python 3 (ipykernel)",
   "language": "python",
   "name": "python3"
  },
  "language_info": {
   "codemirror_mode": {
    "name": "ipython",
    "version": 3
   },
   "file_extension": ".py",
   "mimetype": "text/x-python",
   "name": "python",
   "nbconvert_exporter": "python",
   "pygments_lexer": "ipython3",
   "version": "3.10.8"
  }
 },
 "nbformat": 4,
 "nbformat_minor": 5
}
