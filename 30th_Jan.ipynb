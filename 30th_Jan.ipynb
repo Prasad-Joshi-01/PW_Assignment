{
 "cells": [
  {
   "cell_type": "code",
   "execution_count": 1,
   "id": "3e0cd9e4-cd6d-4d45-b9d4-8a5ab889a033",
   "metadata": {},
   "outputs": [
    {
     "name": "stdin",
     "output_type": "stream",
     "text": [
      "enter your marks 85\n"
     ]
    },
    {
     "name": "stdout",
     "output_type": "stream",
     "text": [
      "Grade:B\n"
     ]
    }
   ],
   "source": [
    "marks =int(input(\"enter your marks\"))\n",
    "if marks>90:\n",
    "    print(\"Grade:A\")\n",
    "elif marks>80 and marks<=90:\n",
    "    print(\"Grade:B\")\n",
    "elif marks>=60 and marks<=80:\n",
    "    print(\"Grade:B\")\n",
    "else:\n",
    "    print(\"Grade:D\")"
   ]
  },
  {
   "cell_type": "code",
   "execution_count": 2,
   "id": "f282c244-44c8-42c6-9d75-fafdd863022a",
   "metadata": {},
   "outputs": [
    {
     "name": "stdin",
     "output_type": "stream",
     "text": [
      "enter cost of bike 55000\n"
     ]
    },
    {
     "name": "stdout",
     "output_type": "stream",
     "text": [
      "Tax to be paid is 10%\n"
     ]
    }
   ],
   "source": [
    "price=int(input(\"enter cost of bike\"))\n",
    "if price>100000:\n",
    "    print(\"Tax to be paid is 15%\")\n",
    "elif price>50000 and price<=100000:\n",
    "    print(\"Tax to be paid is 10%\")\n",
    "elif price<=50000:\n",
    "    print(\"Tax to be paid is 5%\")"
   ]
  },
  {
   "cell_type": "code",
   "execution_count": 3,
   "id": "d3ee744c-8fc5-4467-b3ae-aa6f69f7ec9b",
   "metadata": {},
   "outputs": [
    {
     "name": "stdin",
     "output_type": "stream",
     "text": [
      "enter city name Delhi\n"
     ]
    },
    {
     "name": "stdout",
     "output_type": "stream",
     "text": [
      "Monument:Red Fort\n"
     ]
    }
   ],
   "source": [
    "city=input(\"enter city name\")\n",
    "if city==\"Delhi\":\n",
    "    print(\"Monument:Red Fort\")\n",
    "elif city==\"Agra\":\n",
    "    print(\"Monument:Taj Mahal\")\n",
    "elif city==\"Jaipur\":\n",
    "    print(\"Monument:Jal mahal\")\n",
    "else:\n",
    "    print(\"Give name only from the cities Delhi,Agra,Jaipur\")\n",
    "    "
   ]
  },
  {
   "cell_type": "code",
   "execution_count": null,
   "id": "a767022a-7400-4a98-9df0-8ca769eaca61",
   "metadata": {},
   "outputs": [],
   "source": [
    "4.How many times a given number can be divided by 3 before it is less than or equal to 10"
   ]
  },
  {
   "cell_type": "code",
   "execution_count": 8,
   "id": "b37afd55-4a74-4d46-988e-d1eb3fb79e11",
   "metadata": {},
   "outputs": [
    {
     "name": "stdin",
     "output_type": "stream",
     "text": [
      "enter a no 60\n"
     ]
    },
    {
     "data": {
      "text/plain": [
       "2"
      ]
     },
     "execution_count": 8,
     "metadata": {},
     "output_type": "execute_result"
    }
   ],
   "source": [
    "n=int(input(\"enter a no\"))\n",
    "counter=0\n",
    "while n >= 10:\n",
    "        n = n / 3\n",
    "        counter += 1\n",
    "counter"
   ]
  },
  {
   "cell_type": "code",
   "execution_count": null,
   "id": "512f9970-3ebf-481f-907c-b024f17e3a77",
   "metadata": {},
   "outputs": [],
   "source": [
    "5.When and why to use while loop in python with example\n",
    "Ans:A while loop is used when you want to repeat a set of operations as long as a certain condition is met."
   ]
  },
  {
   "cell_type": "code",
   "execution_count": 10,
   "id": "6accc7d5-8256-4a4e-b6b9-f69c659f3209",
   "metadata": {},
   "outputs": [
    {
     "name": "stdout",
     "output_type": "stream",
     "text": [
      "0\n",
      "1\n",
      "2\n",
      "3\n",
      "4\n"
     ]
    }
   ],
   "source": [
    "#example\n",
    "count = 0\n",
    "while count < 5:\n",
    "    print(count)\n",
    "    count += 1"
   ]
  },
  {
   "cell_type": "code",
   "execution_count": null,
   "id": "28876378-bb2b-48bf-910b-f3741dbf26a0",
   "metadata": {},
   "outputs": [],
   "source": [
    "6.Use nested while loop to print 3 different patterns"
   ]
  },
  {
   "cell_type": "code",
   "execution_count": 15,
   "id": "580ff965-1555-4786-bc85-4afae679c67a",
   "metadata": {},
   "outputs": [
    {
     "name": "stdout",
     "output_type": "stream",
     "text": [
      "*\n",
      "**\n",
      "***\n",
      "****\n",
      "*****\n"
     ]
    }
   ],
   "source": [
    "# Pattern 1: Right Triangle\n",
    "row = 1\n",
    "while row <= 5:\n",
    "    col = 1\n",
    "    while col <= row:\n",
    "        print(\"*\", end=\"\")\n",
    "        col += 1\n",
    "    print()\n",
    "    row += 1"
   ]
  },
  {
   "cell_type": "code",
   "execution_count": 16,
   "id": "8a56f4d1-9eda-432b-9a80-a4eee2527204",
   "metadata": {},
   "outputs": [
    {
     "name": "stdout",
     "output_type": "stream",
     "text": [
      "*****\n",
      "****\n",
      "***\n",
      "**\n",
      "*\n"
     ]
    }
   ],
   "source": [
    "# Pattern 2: Inverted Right Triangle\n",
    "row = 5\n",
    "while row >= 1:\n",
    "    col = 1\n",
    "    while col <= row:\n",
    "        print(\"*\", end=\"\")\n",
    "        col += 1\n",
    "    print()\n",
    "    row -= 1"
   ]
  },
  {
   "cell_type": "code",
   "execution_count": 17,
   "id": "430f74d7-62e7-4176-a6b9-6389cb052b46",
   "metadata": {},
   "outputs": [
    {
     "name": "stdout",
     "output_type": "stream",
     "text": [
      "    *\n",
      "   ***\n",
      "  *****\n",
      " *******\n",
      "*********\n"
     ]
    }
   ],
   "source": [
    "# Pattern 3: Pyramid\n",
    "n = 5\n",
    "for i in range(1, n+1):\n",
    "    for j in range(n-i):\n",
    "        print(\" \", end=\"\")\n",
    "    for k in range(2*i-1):\n",
    "        print(\"*\", end=\"\")\n",
    "    print()\n"
   ]
  },
  {
   "cell_type": "code",
   "execution_count": null,
   "id": "d1d196f0-93b4-40d3-a630-a29f6bf57aa4",
   "metadata": {},
   "outputs": [],
   "source": [
    "7.Reverse a while loop to display number from 10 to 1"
   ]
  },
  {
   "cell_type": "code",
   "execution_count": 14,
   "id": "e5c7999c-2490-4764-9832-a6458e8ec0d9",
   "metadata": {},
   "outputs": [
    {
     "name": "stdout",
     "output_type": "stream",
     "text": [
      "10\n",
      "9\n",
      "8\n",
      "7\n",
      "6\n",
      "5\n",
      "4\n",
      "3\n",
      "2\n",
      "1\n"
     ]
    }
   ],
   "source": [
    "number = 10\n",
    "while number > 0:\n",
    "    print(number)\n",
    "    number =number - 1"
   ]
  },
  {
   "cell_type": "code",
   "execution_count": null,
   "id": "03764af1-6d10-4ad9-89e6-4b5c3a7d4d01",
   "metadata": {},
   "outputs": [],
   "source": []
  }
 ],
 "metadata": {
  "kernelspec": {
   "display_name": "Python 3 (ipykernel)",
   "language": "python",
   "name": "python3"
  },
  "language_info": {
   "codemirror_mode": {
    "name": "ipython",
    "version": 3
   },
   "file_extension": ".py",
   "mimetype": "text/x-python",
   "name": "python",
   "nbconvert_exporter": "python",
   "pygments_lexer": "ipython3",
   "version": "3.10.8"
  }
 },
 "nbformat": 4,
 "nbformat_minor": 5
}
