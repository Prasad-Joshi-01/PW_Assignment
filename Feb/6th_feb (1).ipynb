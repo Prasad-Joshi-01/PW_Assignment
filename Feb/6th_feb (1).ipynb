{
 "cells": [
  {
   "cell_type": "code",
   "execution_count": null,
   "id": "a1cacff6-4ba7-43a4-85ee-7f38b333f714",
   "metadata": {},
   "outputs": [],
   "source": [
    "Q1. Create a function which will take a list as an argument and return the product of all the numbers\n",
    "after creating a flat list.\n",
    "Use the below-given list as an argument for your function.\n",
    "list1 = [1,2,3,4, [44,55,66, True], False, (34,56,78,89,34), {1,2,3,3,2,1}, {1:34, \"key2\": [55, 67, 78, 89], 4: (45,\n",
    "22, 61, 34)}, [56, 'data science'], 'Machine Learning']\n",
    "Note: you must extract numeric keys and values of the dictionary also."
   ]
  },
  {
   "cell_type": "code",
   "execution_count": null,
   "id": "32ea208c-c810-41fe-8576-f279d5355932",
   "metadata": {},
   "outputs": [],
   "source": [
    "list1 = [1,2,3,4, [44,55,66, True], False, (34,56,78,89,34), {1,2,3,3,2,1}, {1:34, \"key2\": [55, 67, 78, 89], 4: (45,\n",
    "22, 61, 34)}, [56, 'data science'], 'Machine Learning']"
   ]
  },
  {
   "cell_type": "code",
   "execution_count": 9,
   "id": "d848cae9-cd55-4dc0-99d0-e71a10d879d0",
   "metadata": {},
   "outputs": [],
   "source": [
    "def f1(list1):\n",
    "    l= []\n",
    "    for i in list1 :\n",
    "        if type(i) == list:\n",
    "            for j in i :\n",
    "                if type(j)==int:\n",
    "                    l.append(j)\n",
    "        elif type(i)==tuple:\n",
    "            for k in i:\n",
    "                if type(k)==int:\n",
    "                    l.append(k)\n",
    "        elif type(i)==set:\n",
    "            for m in i:\n",
    "                if type(m)==int:\n",
    "                    l.append(m)\n",
    "        elif type(i)==dict:\n",
    "            for key, value in i.items():      \n",
    "                if type(key)==int or type(value)==int:\n",
    "                    if type(value) == tuple:\n",
    "                        for n in value :\n",
    "                            if type(n)==int:\n",
    "                                l.append(n)\n",
    "                        l.append(key)\n",
    "                        l.append(value)  \n",
    "                elif type(key)==str:\n",
    "                    if type(value) == list:\n",
    "                            for o in value :\n",
    "                                if type(o)==int:\n",
    "                                    l.append(o)\n",
    "        else :\n",
    "            if type(i) == int:\n",
    "                l.append(i)\n",
    "    return l"
   ]
  },
  {
   "cell_type": "code",
   "execution_count": 10,
   "id": "065ea57b-050a-4f2f-a220-faea815691e6",
   "metadata": {},
   "outputs": [
    {
     "data": {
      "text/plain": [
       "[1,\n",
       " 2,\n",
       " 3,\n",
       " 4,\n",
       " 44,\n",
       " 55,\n",
       " 66,\n",
       " 34,\n",
       " 56,\n",
       " 78,\n",
       " 89,\n",
       " 34,\n",
       " 1,\n",
       " 2,\n",
       " 3,\n",
       " 55,\n",
       " 67,\n",
       " 78,\n",
       " 89,\n",
       " 45,\n",
       " 22,\n",
       " 61,\n",
       " 34,\n",
       " 4,\n",
       " (45, 22, 61, 34),\n",
       " 56]"
      ]
     },
     "execution_count": 10,
     "metadata": {},
     "output_type": "execute_result"
    }
   ],
   "source": [
    "f1(list1)"
   ]
  },
  {
   "cell_type": "code",
   "execution_count": 1,
   "id": "48bdcf1c-bb58-4902-ae9c-6b95a3589a0b",
   "metadata": {},
   "outputs": [
    {
     "name": "stdout",
     "output_type": "stream",
     "text": [
      "689118639831180913138973540352000\n"
     ]
    }
   ],
   "source": [
    "def calculate_product(lst):\n",
    "    flat_list = []\n",
    "\n",
    "    def flatten(l):\n",
    "        for item in l:\n",
    "            if type(item) == int:\n",
    "                flat_list.append(item)\n",
    "            elif type(item) == float:\n",
    "                flat_list.append(item)\n",
    "            elif type(item) == tuple:\n",
    "                flatten(item)\n",
    "            elif type(item) == list:\n",
    "                flatten(item)\n",
    "            elif type(item) == dict:\n",
    "                for key, value in item.items():\n",
    "                    if type(key) in [int, float]:\n",
    "                        flat_list.append(key)\n",
    "                    if type(value) in [int, float]:\n",
    "                        flat_list.append(value)\n",
    "                    elif type(value) in [list, tuple]:\n",
    "                        flatten(value)\n",
    "\n",
    "    flatten(lst)\n",
    "    product = 1\n",
    "    for item in flat_list:\n",
    "        product *= item\n",
    "    return product\n",
    "\n",
    "list1 = [1,2,3,4, [44,55,66, True], False, (34,56,78,89,34), {1,2,3,3,2,1}, {1:34, \"key2\": [55, 67, 78, 89], 4: (45, 22, 61, 34)}, [56, 'data science'], 'Machine Learning']\n",
    "print(calculate_product(list1))"
   ]
  },
  {
   "cell_type": "code",
   "execution_count": null,
   "id": "917819f6-42aa-41c6-ab3a-f26fb183b781",
   "metadata": {},
   "outputs": [],
   "source": []
  },
  {
   "cell_type": "code",
   "execution_count": null,
   "id": "5e66f320-b1bf-4e83-8995-9ae71d77058e",
   "metadata": {},
   "outputs": [],
   "source": [
    "Q2. Write a python program for encrypting a message sent to you by your friend. The logic of encryption\n",
    "should be such that, for a the output should be z. For b, the output should be y. For c, the output should\n",
    "be x respectively. Also, the whitespace should be replaced with a dollar sign. Keep the punctuation\n",
    "marks unchanged.\n",
    "Input Sentence: I want to become a Data Scientist.\n",
    "Encrypt the above input sentence using the program you just created.\n",
    "Note: Convert the given input sentence into lowercase before encrypting. The final output should be\n",
    "lowercase."
   ]
  },
  {
   "cell_type": "code",
   "execution_count": 2,
   "id": "fb79b207-9ce5-4728-b33d-c1a01a01d3b6",
   "metadata": {},
   "outputs": [],
   "source": [
    "given= \"I want to become a Data Scientist.\""
   ]
  },
  {
   "cell_type": "code",
   "execution_count": 29,
   "id": "33b70a91-d2a9-4686-b1ed-14b973c2ab01",
   "metadata": {},
   "outputs": [],
   "source": [
    "sentence=given.lower()"
   ]
  },
  {
   "cell_type": "code",
   "execution_count": 30,
   "id": "890f9d60-fe68-4a7c-b7fd-d1d7d532c55d",
   "metadata": {},
   "outputs": [
    {
     "data": {
      "text/plain": [
       "'i want to become a data scientist.'"
      ]
     },
     "execution_count": 30,
     "metadata": {},
     "output_type": "execute_result"
    }
   ],
   "source": [
    "sentence"
   ]
  },
  {
   "cell_type": "code",
   "execution_count": 31,
   "id": "aa4f4572-34df-4f13-a570-e07bdfe2c701",
   "metadata": {},
   "outputs": [],
   "source": [
    "def encrypt(sentence):\n",
    "    encrypt_dict={\n",
    "        'a': 'z', 'b': 'y', 'c': 'x', 'd': 'w', 'e': 'v', 'f': 'u', \n",
    "        'g': 't', 'h': 's', 'i': 'r', 'j': 'q', 'k': 'p', 'l': 'o',\n",
    "        'm': 'n', 'n': 'm', 'o': 'l', 'p': 'k', 'q': 'j', 'r': 'i',\n",
    "        's': 'h', 't': 'g', 'u': 'f', 'v': 'e', 'w': 'd', 'x': 'c',\n",
    "        'y': 'b', 'z': 'a'\n",
    "    }\n",
    "    sentence=sentence.replace(\" \",\"$\")\n",
    "    encrypted_sentence = sentence.maketrans(''.join(encrypt_dict.keys()),\n",
    "                                      ''.join(encrypt_dict.values()))\n",
    "    \n",
    "    return sentence.translate(encrypted_sentence)"
   ]
  },
  {
   "cell_type": "code",
   "execution_count": 32,
   "id": "b89458af-2700-4c83-86f1-d183ebaa0585",
   "metadata": {},
   "outputs": [],
   "source": [
    "output= encrypt(sentence)"
   ]
  },
  {
   "cell_type": "code",
   "execution_count": 33,
   "id": "8faf4e83-6ef9-4e7f-960e-f19d25035697",
   "metadata": {},
   "outputs": [
    {
     "data": {
      "text/plain": [
       "'r$dzmg$gl$yvxlnv$z$wzgz$hxrvmgrhg.'"
      ]
     },
     "execution_count": 33,
     "metadata": {},
     "output_type": "execute_result"
    }
   ],
   "source": [
    "output"
   ]
  },
  {
   "cell_type": "code",
   "execution_count": null,
   "id": "e95d5e5d-2084-4583-9794-634ec08c5d52",
   "metadata": {},
   "outputs": [],
   "source": []
  }
 ],
 "metadata": {
  "kernelspec": {
   "display_name": "Python 3 (ipykernel)",
   "language": "python",
   "name": "python3"
  },
  "language_info": {
   "codemirror_mode": {
    "name": "ipython",
    "version": 3
   },
   "file_extension": ".py",
   "mimetype": "text/x-python",
   "name": "python",
   "nbconvert_exporter": "python",
   "pygments_lexer": "ipython3",
   "version": "3.10.8"
  }
 },
 "nbformat": 4,
 "nbformat_minor": 5
}
