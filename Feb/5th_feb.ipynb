{
 "cells": [
  {
   "cell_type": "code",
   "execution_count": null,
   "id": "a7e18b46-40c3-498f-b962-4c60279c8e52",
   "metadata": {},
   "outputs": [],
   "source": [
    "Q1. Explain Class and Object with respect to Object-Oriented Programming. Give a suitable example.\n",
    "Ans:\n",
    "Class is a blueprint or a template for creating objects in Object-Oriented Programming. \n",
    "It defines the attributes (data) and methods (functions) that an object of that class should have. \n",
    "Objects are instances of classes and they contain their own data and methods."
   ]
  },
  {
   "cell_type": "code",
   "execution_count": 3,
   "id": "8ca85a1e-31c9-41af-8b4a-8284d60c0c0e",
   "metadata": {},
   "outputs": [],
   "source": [
    "#example\n",
    "class car:\n",
    "    def __init__(self, model, year, color):\n",
    "        self.model = model\n",
    "        self.year = year\n",
    "        self.color = color\n",
    "    \n",
    "    def return_car_details(self):\n",
    "        return self.model,self.year,self.color"
   ]
  },
  {
   "cell_type": "code",
   "execution_count": 4,
   "id": "5665aa19-e741-4029-9613-b38295cc05ba",
   "metadata": {},
   "outputs": [],
   "source": [
    "Tata=car(\"harrier\",2017,\"red\")"
   ]
  },
  {
   "cell_type": "code",
   "execution_count": 5,
   "id": "0b4adbd1-f22e-4c7b-9aa2-e99f1bac1445",
   "metadata": {},
   "outputs": [
    {
     "data": {
      "text/plain": [
       "('harrier', 2017, 'red')"
      ]
     },
     "execution_count": 5,
     "metadata": {},
     "output_type": "execute_result"
    }
   ],
   "source": [
    "Tata.return_car_details()"
   ]
  },
  {
   "cell_type": "code",
   "execution_count": null,
   "id": "ed1607a5-bb28-4c62-a66b-a4579e90c280",
   "metadata": {},
   "outputs": [],
   "source": []
  },
  {
   "cell_type": "code",
   "execution_count": null,
   "id": "8e979430-a92f-4a19-aef7-de700fc71126",
   "metadata": {},
   "outputs": [],
   "source": [
    "Q2. Name the four pillars of OOPs.\n",
    "Ans:\n",
    "Abstraction: Abstraction refers to the ability to focus on essential details while ignoring the non-essential details of an object. \n",
    "In OOP, this can be achieved through the use of classes, objects, and interfaces.\n",
    "\n",
    "Encapsulation: Encapsulation is the mechanism of wrapping data and methods within an object, making the object internal state inaccessible to the outside world. \n",
    "This helps to ensure data integrity and protects the object from unwanted changes.\n",
    "\n",
    "Inheritance: Inheritance is the mechanism by which an object can inherit properties and behaviors from its parent class.\n",
    "This allows for code reuse and helps to simplify the implementation of new classes.\n",
    "\n",
    "Polymorphism: Polymorphism refers to the ability of an object to take on many forms.\n",
    "In OOP, polymorphism is achieved through method overloading and method overriding, allowing an object to have multiple implementations of a method depending on its context."
   ]
  },
  {
   "cell_type": "code",
   "execution_count": null,
   "id": "f854a28c-9198-4168-95e2-c6351a31e971",
   "metadata": {},
   "outputs": [],
   "source": []
  },
  {
   "cell_type": "code",
   "execution_count": null,
   "id": "2553cca9-ce2e-42ab-9347-3f51be711659",
   "metadata": {},
   "outputs": [],
   "source": [
    "Q3. Explain why the __init__() function is used. Give a suitable example.\n",
    "Ans:\n",
    "The __init__() function is a special method in Python classes that is automatically called when an object of the class is created.\n",
    "It is used to initialize the object attributes with default or user-defined values.\n",
    "The __init__() method is also referred to as a constructor."
   ]
  },
  {
   "cell_type": "code",
   "execution_count": 6,
   "id": "711173ec-f546-4f6f-8d1d-099f8e366f22",
   "metadata": {},
   "outputs": [],
   "source": [
    "class Person:\n",
    "    def __init__(self, name, age):\n",
    "        self.name = name\n",
    "        self.age = age"
   ]
  },
  {
   "cell_type": "code",
   "execution_count": 7,
   "id": "84588b2d-27cd-4cdc-b0e1-aee24d9cf8d1",
   "metadata": {},
   "outputs": [],
   "source": [
    "person = Person(\"John\", 30)"
   ]
  },
  {
   "cell_type": "code",
   "execution_count": 8,
   "id": "e21e65d6-9b67-4653-bcce-2686ac02f5da",
   "metadata": {},
   "outputs": [
    {
     "data": {
      "text/plain": [
       "'John'"
      ]
     },
     "execution_count": 8,
     "metadata": {},
     "output_type": "execute_result"
    }
   ],
   "source": [
    "person.name"
   ]
  },
  {
   "cell_type": "code",
   "execution_count": null,
   "id": "7c97358d-e129-40da-a219-10ed4e5c5339",
   "metadata": {},
   "outputs": [],
   "source": []
  },
  {
   "cell_type": "code",
   "execution_count": null,
   "id": "fd53d0b9-4f06-4c34-94f0-0eb5cb5302be",
   "metadata": {},
   "outputs": [],
   "source": [
    "Q4. Why self is used in OOPs?\n",
    "Ans:In Object-Oriented Programming (OOP), the self keyword is used to refer to the instance of an object that is being created or manipulated.\n",
    "The self keyword is used to access the attributes and methods of an object from within the object itself."
   ]
  },
  {
   "cell_type": "code",
   "execution_count": null,
   "id": "5a97d409-a93c-4836-9fc3-49085194b45d",
   "metadata": {},
   "outputs": [],
   "source": []
  },
  {
   "cell_type": "code",
   "execution_count": null,
   "id": "d8953200-f54c-4c8d-968f-5eab56de59ff",
   "metadata": {},
   "outputs": [],
   "source": [
    "Q5. What is inheritance? Give an example for each type of inheritance.\n",
    "Ans:\n",
    "Inheritance is a fundamental concept in Object-Oriented Programming (OOP) that allows a new class to be created by inheriting attributes and behaviors from an existing class, called the base class or parent class. \n",
    "The new class is called the derived class or child class."
   ]
  },
  {
   "cell_type": "code",
   "execution_count": null,
   "id": "2b201825-2962-4d48-a57d-e5e7c58af2b4",
   "metadata": {},
   "outputs": [],
   "source": [
    "1.Single Inheritance: In single inheritance, a derived class inherits from a single base class. \n",
    " Example: class B inherits from class A.\n",
    "\n",
    "2.Multiple inheritance: A subclass inherits from multiple base classes.\n",
    "Example: class C inherits from classes A and B.\n",
    "\n",
    "3.Multi-level inheritance: A subclass inherits from a base class, which in turn inherits from another base class.\n",
    "Example: class D inherits from class B, and class B inherits from class A.\n",
    "\n",
    "4.Hierarchical inheritance: Multiple subclasses inherit from a single base class.\n",
    "Example: classes B, C, and D inherit from class A.\n",
    "\n",
    "5.Hybrid inheritance: A combination of two or more types of inheritance.\n",
    "Example: class E inherits from class B and class D, where class D inherits from class B and class A."
   ]
  },
  {
   "cell_type": "code",
   "execution_count": null,
   "id": "cdae2386-a770-4464-841e-9fa44526ae2b",
   "metadata": {},
   "outputs": [],
   "source": []
  }
 ],
 "metadata": {
  "kernelspec": {
   "display_name": "Python 3 (ipykernel)",
   "language": "python",
   "name": "python3"
  },
  "language_info": {
   "codemirror_mode": {
    "name": "ipython",
    "version": 3
   },
   "file_extension": ".py",
   "mimetype": "text/x-python",
   "name": "python",
   "nbconvert_exporter": "python",
   "pygments_lexer": "ipython3",
   "version": "3.10.8"
  }
 },
 "nbformat": 4,
 "nbformat_minor": 5
}
