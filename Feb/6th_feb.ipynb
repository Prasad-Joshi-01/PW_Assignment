{
 "cells": [
  {
   "cell_type": "code",
   "execution_count": null,
   "id": "a1cacff6-4ba7-43a4-85ee-7f38b333f714",
   "metadata": {},
   "outputs": [],
   "source": [
    "Q1. Create a function which will take a list as an argument and return the product of all the numbers\n",
    "after creating a flat list.\n",
    "Use the below-given list as an argument for your function.\n",
    "list1 = [1,2,3,4, [44,55,66, True], False, (34,56,78,89,34), {1,2,3,3,2,1}, {1:34, \"key2\": [55, 67, 78, 89], 4: (45,\n",
    "22, 61, 34)}, [56, 'data science'], 'Machine Learning']\n",
    "Note: you must extract numeric keys and values of the dictionary also."
   ]
  },
  {
   "cell_type": "code",
   "execution_count": 1,
   "id": "48bdcf1c-bb58-4902-ae9c-6b95a3589a0b",
   "metadata": {},
   "outputs": [
    {
     "name": "stdout",
     "output_type": "stream",
     "text": [
      "689118639831180913138973540352000\n"
     ]
    }
   ],
   "source": [
    "def calculate_product(lst):\n",
    "    flat_list = []\n",
    "\n",
    "    def flatten(l):\n",
    "        for item in l:\n",
    "            if type(item) == int:\n",
    "                flat_list.append(item)\n",
    "            elif type(item) == float:\n",
    "                flat_list.append(item)\n",
    "            elif type(item) == tuple:\n",
    "                flatten(item)\n",
    "            elif type(item) == list:\n",
    "                flatten(item)\n",
    "            elif type(item) == dict:\n",
    "                for key, value in item.items():\n",
    "                    if type(key) in [int, float]:\n",
    "                        flat_list.append(key)\n",
    "                    if type(value) in [int, float]:\n",
    "                        flat_list.append(value)\n",
    "                    elif type(value) in [list, tuple]:\n",
    "                        flatten(value)\n",
    "\n",
    "    flatten(lst)\n",
    "    product = 1\n",
    "    for item in flat_list:\n",
    "        product *= item\n",
    "    return product\n",
    "\n",
    "list1 = [1,2,3,4, [44,55,66, True], False, (34,56,78,89,34), {1,2,3,3,2,1}, {1:34, \"key2\": [55, 67, 78, 89], 4: (45, 22, 61, 34)}, [56, 'data science'], 'Machine Learning']\n",
    "print(calculate_product(list1))"
   ]
  },
  {
   "cell_type": "code",
   "execution_count": null,
   "id": "917819f6-42aa-41c6-ab3a-f26fb183b781",
   "metadata": {},
   "outputs": [],
   "source": []
  },
  {
   "cell_type": "code",
   "execution_count": null,
   "id": "5e66f320-b1bf-4e83-8995-9ae71d77058e",
   "metadata": {},
   "outputs": [],
   "source": [
    "Q2. Write a python program for encrypting a message sent to you by your friend. The logic of encryption\n",
    "should be such that, for a the output should be z. For b, the output should be y. For c, the output should\n",
    "be x respectively. Also, the whitespace should be replaced with a dollar sign. Keep the punctuation\n",
    "marks unchanged.\n",
    "Input Sentence: I want to become a Data Scientist.\n",
    "Encrypt the above input sentence using the program you just created.\n",
    "Note: Convert the given input sentence into lowercase before encrypting. The final output should be\n",
    "lowercase."
   ]
  },
  {
   "cell_type": "code",
   "execution_count": 2,
   "id": "fb79b207-9ce5-4728-b33d-c1a01a01d3b6",
   "metadata": {},
   "outputs": [],
   "source": [
    "given= \"I want to become a Data Scientist.\""
   ]
  },
  {
   "cell_type": "code",
   "execution_count": 3,
   "id": "33b70a91-d2a9-4686-b1ed-14b973c2ab01",
   "metadata": {},
   "outputs": [],
   "source": [
    "sentence=given.lower()"
   ]
  },
  {
   "cell_type": "code",
   "execution_count": 4,
   "id": "890f9d60-fe68-4a7c-b7fd-d1d7d532c55d",
   "metadata": {},
   "outputs": [
    {
     "data": {
      "text/plain": [
       "'i want to become a data scientist.'"
      ]
     },
     "execution_count": 4,
     "metadata": {},
     "output_type": "execute_result"
    }
   ],
   "source": [
    "sentence"
   ]
  },
  {
   "cell_type": "code",
   "execution_count": 5,
   "id": "aa4f4572-34df-4f13-a570-e07bdfe2c701",
   "metadata": {},
   "outputs": [],
   "source": [
    "def encrypt(sentence):\n",
    "    encrypt_dict={\n",
    "        'a': 'z', 'b': 'y', 'c': 'x', 'd': 'w', 'e': 'v', 'f': 'u', \n",
    "        'g': 't', 'h': 's', 'i': 'r', 'j': 'q', 'k': 'p', 'l': 'o',\n",
    "        'm': 'n', 'n': 'm', 'o': 'l', 'p': 'k', 'q': 'j', 'r': 'i',\n",
    "        's': 'h', 't': 'g', 'u': 'f', 'v': 'e', 'w': 'd', 'x': 'c',\n",
    "        'y': 'b', 'z': 'a'\n",
    "    }\n",
    "    sentence=sentence.replace(\" \",\"$\")\n",
    "    encrypted_sentence = sentence.maketrans(''.join(encrypt_dict.keys()),\n",
    "                                      ''.join(encrypt_dict.values()))\n",
    "    \n",
    "    return sentence.translate(encrypted_sentence)"
   ]
  },
  {
   "cell_type": "code",
   "execution_count": 6,
   "id": "b89458af-2700-4c83-86f1-d183ebaa0585",
   "metadata": {},
   "outputs": [],
   "source": [
    "output= encrypt(sentence)"
   ]
  },
  {
   "cell_type": "code",
   "execution_count": 7,
   "id": "8faf4e83-6ef9-4e7f-960e-f19d25035697",
   "metadata": {},
   "outputs": [
    {
     "data": {
      "text/plain": [
       "'r$dzmg$gl$yvxlnv$z$wzgz$hxrvmgrhg.'"
      ]
     },
     "execution_count": 7,
     "metadata": {},
     "output_type": "execute_result"
    }
   ],
   "source": [
    "output"
   ]
  },
  {
   "cell_type": "code",
   "execution_count": null,
   "id": "e95d5e5d-2084-4583-9794-634ec08c5d52",
   "metadata": {},
   "outputs": [],
   "source": []
  }
 ],
 "metadata": {
  "kernelspec": {
   "display_name": "Python 3 (ipykernel)",
   "language": "python",
   "name": "python3"
  },
  "language_info": {
   "codemirror_mode": {
    "name": "ipython",
    "version": 3
   },
   "file_extension": ".py",
   "mimetype": "text/x-python",
   "name": "python",
   "nbconvert_exporter": "python",
   "pygments_lexer": "ipython3",
   "version": "3.10.8"
  }
 },
 "nbformat": 4,
 "nbformat_minor": 5
}
