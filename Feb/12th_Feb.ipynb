{
 "cells": [
  {
   "cell_type": "code",
   "execution_count": null,
   "id": "d24ed948-1fdf-46bb-b9de-00e2112d2fe2",
   "metadata": {},
   "outputs": [],
   "source": [
    "Q1. What is an Exception in python? Write the difference between Exceptions and Syntax errors.\n",
    "Ans:\n",
    "An exception in Python is an event that occurs during the execution of a program which disrupts the normal flow of the programs instructions.\n",
    "Exceptions are typically raised when an error occurs during the execution of the program. \n",
    "For example, a \"ZeroDivisionError\" is raised when you try to divide a number by zero.\n",
    "\n",
    "The main difference between exceptions and syntax errors is that exceptions are raised during the execution of the program, while syntax errors are raised when the code is being parsed.\n",
    "Syntax errors are typically easy to identify and fix, since they are detected by the interpreter at the time you run your program. \n",
    "Exceptions, on the other hand, can occur at any time and can be harder to detect and diagnose."
   ]
  },
  {
   "cell_type": "code",
   "execution_count": null,
   "id": "6bb5ddc6-735d-4049-b4b9-25c9870ff94a",
   "metadata": {},
   "outputs": [],
   "source": []
  },
  {
   "cell_type": "code",
   "execution_count": null,
   "id": "3fc4e10f-3cbf-451f-ab8d-f236e41cd004",
   "metadata": {},
   "outputs": [],
   "source": [
    "Q2. What happens when an exception is not handled? Explain with an example.\n",
    "Ans:\n",
    "When an exception is not handled, the program will stop executing and raise an error message.\n",
    "This message includes the type of exception that was raised, as well as a traceback of the call stack at the time the exception was raised."
   ]
  },
  {
   "cell_type": "code",
   "execution_count": 2,
   "id": "e867f367-60f2-4fd3-80b4-5e9e9ada566a",
   "metadata": {},
   "outputs": [],
   "source": [
    "a=10"
   ]
  },
  {
   "cell_type": "code",
   "execution_count": 3,
   "id": "dd7079ac-bd05-4946-926a-84d2bf9bc92f",
   "metadata": {},
   "outputs": [
    {
     "ename": "ZeroDivisionError",
     "evalue": "division by zero",
     "output_type": "error",
     "traceback": [
      "\u001b[0;31m---------------------------------------------------------------------------\u001b[0m",
      "\u001b[0;31mZeroDivisionError\u001b[0m                         Traceback (most recent call last)",
      "Cell \u001b[0;32mIn[3], line 1\u001b[0m\n\u001b[0;32m----> 1\u001b[0m \u001b[43ma\u001b[49m\u001b[38;5;241;43m/\u001b[39;49m\u001b[38;5;241;43m0\u001b[39;49m\n",
      "\u001b[0;31mZeroDivisionError\u001b[0m: division by zero"
     ]
    }
   ],
   "source": [
    "a/0"
   ]
  },
  {
   "cell_type": "code",
   "execution_count": null,
   "id": "d8953b87-a6ae-4de7-a6c7-cbfd77118b42",
   "metadata": {},
   "outputs": [],
   "source": []
  },
  {
   "cell_type": "code",
   "execution_count": null,
   "id": "b8f0cb2f-1a06-4c2e-be9a-ec7d5b0104f6",
   "metadata": {},
   "outputs": [],
   "source": [
    "Q3. Which Python statements are used to catch and handle exceptions? Explain with an example.\n",
    "Ans:\n",
    "In Python, the try and except statements are used to catch and handle exceptions."
   ]
  },
  {
   "cell_type": "code",
   "execution_count": 4,
   "id": "530aa746-e84c-4b3d-a23e-2c693c0b8ca6",
   "metadata": {},
   "outputs": [
    {
     "name": "stdout",
     "output_type": "stream",
     "text": [
      "this is my excpet block [Errno 2] No such file or directory: 'test.txt'\n"
     ]
    }
   ],
   "source": [
    "try:\n",
    "    f=open(\"test.txt\",'r')\n",
    "except Exception as e:\n",
    "    print(\"this is my excpet block\",e)"
   ]
  },
  {
   "cell_type": "code",
   "execution_count": null,
   "id": "81e19159-11c8-4202-b053-83c655e937e0",
   "metadata": {},
   "outputs": [],
   "source": []
  },
  {
   "cell_type": "code",
   "execution_count": null,
   "id": "a8b34bfe-d1c2-49ea-bdd4-f149d4914777",
   "metadata": {},
   "outputs": [],
   "source": [
    "Q4. Explain with an example:\n",
    "a. try and else\n",
    "b. finally\n",
    "c. raise"
   ]
  },
  {
   "cell_type": "code",
   "execution_count": null,
   "id": "2acfc43a-01c5-47a4-a403-4f0077b4e964",
   "metadata": {},
   "outputs": [],
   "source": [
    "a. try and else :\n",
    "The else clause can be used with a try-except statement to specify a block of code that should be executed only if no exception was raised in the try block. "
   ]
  },
  {
   "cell_type": "code",
   "execution_count": 5,
   "id": "83d87d75-c727-499b-9af6-8dfd0ff7ee64",
   "metadata": {},
   "outputs": [
    {
     "name": "stdout",
     "output_type": "stream",
     "text": [
      "this will be executed once ur try will execute without error\n"
     ]
    }
   ],
   "source": [
    "try:\n",
    "    f=open(\"test.txt\",'w')\n",
    "    f.write(\"write into my file\")\n",
    "    f.close()\n",
    "except Exception as e:\n",
    "    print(\"this is my excpet block\",e)\n",
    "else:\n",
    "    print(\"this will be executed once ur try will execute without error\")"
   ]
  },
  {
   "cell_type": "code",
   "execution_count": null,
   "id": "a094df8c-7b7b-442c-a778-a5ac782c5a35",
   "metadata": {},
   "outputs": [],
   "source": [
    "b. finally:\n",
    "The finally clause can be used with a try-except statement to specify a block of code that should be executed regardless of whether an exception was raised or not."
   ]
  },
  {
   "cell_type": "code",
   "execution_count": 9,
   "id": "1a714fc0-ea6c-4962-9701-9cf4f120c2e1",
   "metadata": {},
   "outputs": [
    {
     "name": "stdout",
     "output_type": "stream",
     "text": [
      "finally will execute itself in any situation\n"
     ]
    },
    {
     "ename": "UnsupportedOperation",
     "evalue": "not writable",
     "output_type": "error",
     "traceback": [
      "\u001b[0;31m---------------------------------------------------------------------------\u001b[0m",
      "\u001b[0;31mUnsupportedOperation\u001b[0m                      Traceback (most recent call last)",
      "Cell \u001b[0;32mIn[9], line 3\u001b[0m\n\u001b[1;32m      1\u001b[0m \u001b[38;5;28;01mtry\u001b[39;00m:\n\u001b[1;32m      2\u001b[0m     f\u001b[38;5;241m=\u001b[39m\u001b[38;5;28mopen\u001b[39m(\u001b[38;5;124m\"\u001b[39m\u001b[38;5;124mtest3.txt\u001b[39m\u001b[38;5;124m\"\u001b[39m,\u001b[38;5;124m'\u001b[39m\u001b[38;5;124mr\u001b[39m\u001b[38;5;124m'\u001b[39m)\n\u001b[0;32m----> 3\u001b[0m     \u001b[43mf\u001b[49m\u001b[38;5;241;43m.\u001b[39;49m\u001b[43mwrite\u001b[49m\u001b[43m(\u001b[49m\u001b[38;5;124;43m\"\u001b[39;49m\u001b[38;5;124;43mwrite something\u001b[39;49m\u001b[38;5;124;43m\"\u001b[39;49m\u001b[43m)\u001b[49m\n\u001b[1;32m      4\u001b[0m \u001b[38;5;28;01mfinally\u001b[39;00m:\n\u001b[1;32m      5\u001b[0m     \u001b[38;5;28mprint\u001b[39m(\u001b[38;5;124m\"\u001b[39m\u001b[38;5;124mfinally will execute itself in any situation\u001b[39m\u001b[38;5;124m\"\u001b[39m)\n",
      "\u001b[0;31mUnsupportedOperation\u001b[0m: not writable"
     ]
    }
   ],
   "source": [
    "try:\n",
    "    f=open(\"test3.txt\",'r')\n",
    "    f.write(\"write something\")\n",
    "finally:\n",
    "    print(\"finally will execute itself in any situation\")"
   ]
  },
  {
   "cell_type": "code",
   "execution_count": null,
   "id": "3d913442-f48d-4871-b46c-de7b7529b6b4",
   "metadata": {},
   "outputs": [],
   "source": [
    "c. raise:\n",
    "The raise statement is used to raise an exception in Python"
   ]
  },
  {
   "cell_type": "code",
   "execution_count": 10,
   "id": "5d7536c5-9a01-457d-95af-984a8bc89ea5",
   "metadata": {},
   "outputs": [
    {
     "name": "stdout",
     "output_type": "stream",
     "text": [
      "2.5\n",
      "Error: Cannot divide by zero.\n"
     ]
    }
   ],
   "source": [
    "def divide(a, b):\n",
    "    if b == 0:\n",
    "        raise ValueError(\"Cannot divide by zero.\")\n",
    "    return a / b\n",
    "\n",
    "try:\n",
    "    print(divide(5, 2))\n",
    "    print(divide(5, 0))\n",
    "except ValueError as e:\n",
    "    print(\"Error:\", e)"
   ]
  },
  {
   "cell_type": "code",
   "execution_count": null,
   "id": "42ecfb6d-0334-4cd5-adcf-fee450c9a15d",
   "metadata": {},
   "outputs": [],
   "source": []
  },
  {
   "cell_type": "code",
   "execution_count": null,
   "id": "eecf21d0-38d9-4693-bc21-7f74f9bc10d7",
   "metadata": {},
   "outputs": [],
   "source": [
    "Q5. What are Custom Exceptions in python? Why do we need Custom Exceptions? Explain with an example.\n",
    "Ans:\n",
    "Custom exceptions are exceptions that you create yourself to represent specific errors in your program. \n",
    "In Python, you can create custom exceptions by creating a new class that inherits from the Exception class.\n",
    "Custom exceptions are needed when the built-in exceptions provided by Python are not suitable for representing the errors that can occur in your program."
   ]
  },
  {
   "cell_type": "code",
   "execution_count": 11,
   "id": "74f507eb-854d-44ed-9894-61f2e7f23419",
   "metadata": {},
   "outputs": [],
   "source": [
    "class AccessDeniedException(Exception):\n",
    "    def __init__(self, message):\n",
    "        self.message = message"
   ]
  },
  {
   "cell_type": "code",
   "execution_count": 12,
   "id": "06ef3dcf-9a25-4405-af02-e3408fa12e61",
   "metadata": {},
   "outputs": [],
   "source": [
    "def check_permission(user, resource):\n",
    "    if user != 'admin':\n",
    "        raise AccessDeniedException(\"User does not have permission to access resource.\")\n"
   ]
  },
  {
   "cell_type": "code",
   "execution_count": 17,
   "id": "023ad104-5f6e-4458-b5c1-61f76227b403",
   "metadata": {},
   "outputs": [
    {
     "name": "stdout",
     "output_type": "stream",
     "text": [
      "Permission Granted\n"
     ]
    }
   ],
   "source": [
    "try:\n",
    "    check_permission('admin', 'secret resource')\n",
    "except AccessDeniedException as e:\n",
    "    print(\"Error:\", e)\n",
    "else:\n",
    "    print(\"Permission Granted\")"
   ]
  },
  {
   "cell_type": "code",
   "execution_count": null,
   "id": "f158a953-d773-408d-afd5-8f2c3e2fa678",
   "metadata": {},
   "outputs": [],
   "source": []
  },
  {
   "cell_type": "code",
   "execution_count": null,
   "id": "6933db4e-eb3e-4391-a543-762694b8e589",
   "metadata": {},
   "outputs": [],
   "source": [
    "Q6. Create a custom exception class. use this class to handle an exception."
   ]
  },
  {
   "cell_type": "code",
   "execution_count": 43,
   "id": "0f15142b-2472-49c1-b2b1-db32ee9df19d",
   "metadata": {},
   "outputs": [],
   "source": [
    "class custom_exception(Exception):\n",
    "    \n",
    "    def __init__(self,age):\n",
    "        self.age=age"
   ]
  },
  {
   "cell_type": "code",
   "execution_count": 44,
   "id": "5c30b223-3353-415c-a296-91e1ae7c7605",
   "metadata": {},
   "outputs": [],
   "source": [
    "def custom_exception1(age):\n",
    "    if age < 18:\n",
    "        raise custom_exception(\"You are not eligible for voting\")\n",
    "    elif age >=18:\n",
    "        raise custom_exception(\"You are eligible for voting\")      "
   ]
  },
  {
   "cell_type": "code",
   "execution_count": 45,
   "id": "0c4d6fd5-fb6e-49ce-9dee-ce56c169fb1e",
   "metadata": {},
   "outputs": [
    {
     "name": "stdin",
     "output_type": "stream",
     "text": [
      "enter your age 35\n"
     ]
    },
    {
     "name": "stdout",
     "output_type": "stream",
     "text": [
      "You are eligible for voting\n"
     ]
    }
   ],
   "source": [
    "try :\n",
    "    age = int(input(\"enter your age\" ))\n",
    "    custom_exception1(age)\n",
    "except custom_exception as e:\n",
    "    print(e)"
   ]
  },
  {
   "cell_type": "code",
   "execution_count": null,
   "id": "15783aa8-5be6-4025-8e02-5c82b8d590a1",
   "metadata": {},
   "outputs": [],
   "source": []
  }
 ],
 "metadata": {
  "kernelspec": {
   "display_name": "Python 3 (ipykernel)",
   "language": "python",
   "name": "python3"
  },
  "language_info": {
   "codemirror_mode": {
    "name": "ipython",
    "version": 3
   },
   "file_extension": ".py",
   "mimetype": "text/x-python",
   "name": "python",
   "nbconvert_exporter": "python",
   "pygments_lexer": "ipython3",
   "version": "3.10.8"
  }
 },
 "nbformat": 4,
 "nbformat_minor": 5
}
