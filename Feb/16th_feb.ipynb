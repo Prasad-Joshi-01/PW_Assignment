{
 "cells": [
  {
   "cell_type": "code",
   "execution_count": null,
   "id": "6f552ae2-2126-4879-be18-25207707f1e6",
   "metadata": {},
   "outputs": [],
   "source": [
    "Q1. What is a database? Differentiate between SQL and NoSQL databases.\n",
    "Ans:\n",
    "A database is a structured collection of data that is organized and stored in a way that allows for efficient retrieval and manipulation of the data.\n",
    "A database management system (DBMS) is a software application that manages and controls access to the database, and allows users to interact with the data in various ways.\n",
    "SQL databases are relational databases that use a table-based data model to store data.\n",
    "In SQL, data is stored in tables with fixed columns and rows. \n",
    "Each column represents a particular data type, and each row represents a unique record in the table.\n",
    "NoSQL databases, on the other hand, use a non-relational data model to store and retrieve data.\n",
    "NoSQL databases can store data in various formats, such as key-value pairs, document-oriented, graph-based, or column-oriented.\n",
    "NoSQL databases do not require a fixed schema, which means that the data can be added, modified, or deleted without the need to define a schema beforehand."
   ]
  },
  {
   "cell_type": "code",
   "execution_count": null,
   "id": "d692b349-0840-4220-9a5e-e1a73da0ccf9",
   "metadata": {},
   "outputs": [],
   "source": []
  },
  {
   "cell_type": "code",
   "execution_count": null,
   "id": "a1424b05-56b1-40bb-873a-6f5a9e9e7678",
   "metadata": {},
   "outputs": [],
   "source": [
    "Q2. What is DDL? Explain why CREATE, DROP, ALTER, and TRUNCATE are used with an example.\n",
    "Ans:\n",
    "DDL stands for Data Definition Language, and it is a subset of SQL that is used to create, modify, and delete database objects such as tables, views, indexes, and constraints."
   ]
  },
  {
   "cell_type": "code",
   "execution_count": null,
   "id": "da82b16b-f29e-40d1-8940-df8bfd657798",
   "metadata": {},
   "outputs": [],
   "source": [
    "CREATE: The CREATE statement is used to create new database objects, such as tables, views, indexes, and constraints."
   ]
  },
  {
   "cell_type": "code",
   "execution_count": null,
   "id": "2921f3fc-e688-49cb-b5c6-bda3f081cf80",
   "metadata": {},
   "outputs": [],
   "source": [
    "CREATE TABLE customers (\n",
    "  customer_id INT PRIMARY KEY,\n",
    "  name VARCHAR(50),\n",
    "  email VARCHAR(100)\n",
    ");"
   ]
  },
  {
   "cell_type": "code",
   "execution_count": null,
   "id": "021fa5e8-c72a-4d6d-905b-fbb9452cb73a",
   "metadata": {},
   "outputs": [],
   "source": [
    "DROP: The DROP statement is used to remove database objects that are no longer needed. \n",
    "Ex:\n",
    "DROP TABLE customers;"
   ]
  },
  {
   "cell_type": "code",
   "execution_count": null,
   "id": "a9568336-028f-4d7a-bc33-89d3ae4f9315",
   "metadata": {},
   "outputs": [],
   "source": [
    "ALTER: The ALTER statement is used to modify the structure of existing database objects, such as adding, modifying, or deleting columns in a table.\n",
    "Ex:\n",
    "ALTER TABLE customers ADD COLUMN phone VARCHAR(20);"
   ]
  },
  {
   "cell_type": "code",
   "execution_count": null,
   "id": "9b8fa37c-a761-4362-81ef-a94fc2ee6ceb",
   "metadata": {},
   "outputs": [],
   "source": [
    "TRUNCATE: The TRUNCATE statement is used to delete all data from a table, but keep the structure of the table intact.\n",
    "Ex:\n",
    "TRUNCATE TABLE customers;"
   ]
  },
  {
   "cell_type": "code",
   "execution_count": null,
   "id": "25899532-3f44-4f98-abef-0eb6ff55dc4f",
   "metadata": {},
   "outputs": [],
   "source": []
  },
  {
   "cell_type": "code",
   "execution_count": null,
   "id": "942cb43b-c2f0-4111-882f-0d22403bc4e2",
   "metadata": {},
   "outputs": [],
   "source": [
    "Q3. What is DML? Explain INSERT, UPDATE, and DELETE with an example.\n",
    "Ans:\n",
    "DML stands for Data Manipulation Language, and it is a subset of SQL used to manipulate the data within a database. \n",
    "DML statements are used to insert, update, and delete data from tables and other database objects."
   ]
  },
  {
   "cell_type": "code",
   "execution_count": null,
   "id": "ccc8e1c8-a218-408a-aaa2-d17888483c45",
   "metadata": {},
   "outputs": [],
   "source": [
    "INSERT: The INSERT statement is used to insert new data into a table.\n",
    "Ex:\n",
    "INSERT INTO customers (customer_id, name, email, phone) \n",
    "VALUES (1, 'John Smith', 'johnsmith@example.com', '555-1234');"
   ]
  },
  {
   "cell_type": "code",
   "execution_count": null,
   "id": "e8b82557-498d-48a9-ac60-1464818d2337",
   "metadata": {},
   "outputs": [],
   "source": [
    "UPDATE: The UPDATE statement is used to modify existing data in a table.\n",
    "Ex:\n",
    "UPDATE customers SET phone = '555-5678' WHERE customer_id = 1;"
   ]
  },
  {
   "cell_type": "code",
   "execution_count": null,
   "id": "957592d3-0c1a-4d98-8929-a849caf9b6a9",
   "metadata": {},
   "outputs": [],
   "source": [
    "DELETE: The DELETE statement is used to delete existing data from a table. \n",
    "Ex:\n",
    "DELETE FROM customers WHERE customer_id = 1;"
   ]
  },
  {
   "cell_type": "code",
   "execution_count": null,
   "id": "8a19d068-fc97-471b-ac1c-d027d0820f21",
   "metadata": {},
   "outputs": [],
   "source": []
  },
  {
   "cell_type": "code",
   "execution_count": null,
   "id": "d984dd2c-53c2-4cad-a4d8-ba5b6e2b7e8b",
   "metadata": {},
   "outputs": [],
   "source": [
    "Q4. What is DQL? Explain SELECT with an example.\n",
    "Ans:\n",
    "DQL stands for Data Query Language, and it is a subset of SQL used to retrieve data from a database.\n",
    "DQL statements are used to retrieve data from one or more tables, and can include filtering, grouping, sorting, and aggregating the data."
   ]
  },
  {
   "cell_type": "code",
   "execution_count": null,
   "id": "c2fa1425-c396-425e-82b1-431c931e093d",
   "metadata": {},
   "outputs": [],
   "source": [
    "SELECT: The SELECT statement is used to retrieve data from one or more tables. \n",
    "Ex:\n",
    "SELECT * FROM customers;"
   ]
  },
  {
   "cell_type": "code",
   "execution_count": null,
   "id": "3fc13dfa-0a3b-4f87-925f-bb9b4bfacebb",
   "metadata": {},
   "outputs": [],
   "source": []
  },
  {
   "cell_type": "code",
   "execution_count": null,
   "id": "38e2d9ff-c6ae-4ab6-8a30-b5b2a4b36025",
   "metadata": {},
   "outputs": [],
   "source": [
    "Q5. Explain Primary Key and Foreign Key.\n",
    "Ans:\n",
    "Primary key and foreign key are important concepts in database design that are used to establish relationships between tables in a relational database.\n",
    "A primary key is a unique identifier for each record in a table, which can be used to uniquely identify and retrieve specific records from that table. \n",
    "It is typically a column or set of columns in a table that has a unique value for each record, and is used to enforce data integrity and prevent duplicate data.\n",
    "\n",
    "A foreign key is a column in one table that references the primary key in another table, establishing a relationship between the two tables. \n",
    "It is used to enforce referential integrity, which ensures that the data in related tables is consistent and accurate."
   ]
  },
  {
   "cell_type": "code",
   "execution_count": null,
   "id": "76999425-7c40-4810-8641-7eb74c2a3052",
   "metadata": {},
   "outputs": [],
   "source": []
  },
  {
   "cell_type": "code",
   "execution_count": null,
   "id": "1502abdf-606c-4403-91f9-5afe217d1bf6",
   "metadata": {},
   "outputs": [],
   "source": [
    "Q6. Write a python code to connect MySQL to python. Explain the cursor() and execute() method."
   ]
  },
  {
   "cell_type": "code",
   "execution_count": null,
   "id": "b562b281-1d17-4004-8992-b73333c3136e",
   "metadata": {},
   "outputs": [],
   "source": [
    "import mysql.connector\n",
    "mydb = mysql.connector.connect(\n",
    "  host=\"localhost\",\n",
    "  user=\"yourusername\",\n",
    "  password=\"yourpassword\",\n",
    "  database=\"yourdatabase\"\n",
    ")\n",
    "mycursor = mydb.cursor()\n",
    "mycursor.execute(\"SELECT * FROM customers\")\n",
    "results = mycursor.fetchall()\n",
    "for row in results:\n",
    "  print(row)"
   ]
  },
  {
   "cell_type": "code",
   "execution_count": null,
   "id": "012bb3ab-d2c2-42a5-afc3-f72973e5e11b",
   "metadata": {},
   "outputs": [],
   "source": [
    "The cursor() method is used to create a cursor object, which is used to execute SQL statements and fetch the results. \n",
    "The execute() method is used to execute a SQL statement, such as a SELECT, INSERT, UPDATE or DELETE statement.\n",
    "It takes a string parameter that represents the SQL statement to be executed. \n",
    "When a SELECT statement is executed, the fetchall() method is used to retrieve the results."
   ]
  },
  {
   "cell_type": "code",
   "execution_count": null,
   "id": "185d56e1-8bd0-433b-99f8-adf31040ad3d",
   "metadata": {},
   "outputs": [],
   "source": []
  },
  {
   "cell_type": "code",
   "execution_count": null,
   "id": "a7f6c252-bc73-4afa-b01a-29c6bd5265de",
   "metadata": {},
   "outputs": [],
   "source": [
    "Q7. Give the order of execution of SQL clauses in an SQL query.\n",
    "Ans:\n",
    "    \n",
    "1.FROM: This clause specifies the table(s) from which the data is being retrieved.\n",
    "\n",
    "2.JOIN: This clause is used to join two or more tables together based on a common column(s).\n",
    "\n",
    "3.WHERE: This clause is used to filter the rows returned by the query based on a specified condition.\n",
    "\n",
    "4.GROUP BY: This clause is used to group the rows returned by the query based on one or more columns.\n",
    "\n",
    "5.HAVING: This clause is used to filter the groups returned by the GROUP BY clause based on a specified condition.\n",
    "\n",
    "6.SELECT: This clause is used to specify the columns to be returned by the query.\n",
    "\n",
    "7.ORDER BY: This clause is used to sort the result set based on one or more columns."
   ]
  }
 ],
 "metadata": {
  "kernelspec": {
   "display_name": "Python 3 (ipykernel)",
   "language": "python",
   "name": "python3"
  },
  "language_info": {
   "codemirror_mode": {
    "name": "ipython",
    "version": 3
   },
   "file_extension": ".py",
   "mimetype": "text/x-python",
   "name": "python",
   "nbconvert_exporter": "python",
   "pygments_lexer": "ipython3",
   "version": "3.10.8"
  }
 },
 "nbformat": 4,
 "nbformat_minor": 5
}
