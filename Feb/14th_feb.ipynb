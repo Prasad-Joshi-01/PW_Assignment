{
 "cells": [
  {
   "cell_type": "code",
   "execution_count": null,
   "id": "9191ef9c-de3a-433a-a791-01a57f6e0465",
   "metadata": {},
   "outputs": [],
   "source": [
    "Q1.what is multithreading in python? hy is it used? Name the module used to handle threads in python\n",
    "Ans:\n",
    "Multithreading is a programming technique that allows multiple threads of execution to run concurrently within a single process.\n",
    "In Python, multithreading is a way to achieve parallelism by splitting a program into multiple threads that run concurrently.\n",
    "Multithreading is commonly used in Python for tasks that involve I/O operations or tasks that can be parallelized.\n",
    "In Python, the threading module is used to handle threads."
   ]
  },
  {
   "cell_type": "code",
   "execution_count": null,
   "id": "19a75c8a-c9cd-4c84-9226-7fe911cab64c",
   "metadata": {},
   "outputs": [],
   "source": []
  },
  {
   "cell_type": "code",
   "execution_count": null,
   "id": "c374d744-5f23-48e8-8547-b63af93217be",
   "metadata": {},
   "outputs": [],
   "source": [
    "Q2. why threading module used? write the use of the following functions\n",
    "Ans:\n",
    "The threading module in Python is used to create and manage threads.\n",
    "It provides a way to achieve parallelism and concurrency within a single Python program.\n",
    "\n",
    "Here are the uses of the following functions in the threading module:\n",
    "\n",
    "1.activeCount(): This function returns the number of thread objects that are currently alive in the current Python interpreter.\n",
    "This can be useful for debugging or monitoring purposes, as it allows you to see how many threads are currently running.\n",
    "\n",
    "2.currentThread(): This function returns a reference to the current thread object.\n",
    "You can use this function to get information about the current thread, such as its name or identifier. \n",
    "\n",
    "3.enumerate(): This function returns a list of all thread objects that are currently alive in the current Python interpreter.\n",
    "Each element of the list is a reference to a thread object. \n",
    "You can use this function to get information about all threads that are currently running, such as their names or identifiers."
   ]
  },
  {
   "cell_type": "code",
   "execution_count": null,
   "id": "ede28dc8-9c1d-4982-a31b-421170f6c2e0",
   "metadata": {},
   "outputs": [],
   "source": []
  },
  {
   "cell_type": "code",
   "execution_count": null,
   "id": "34389f77-5b6e-467b-b783-86e0ec6618b9",
   "metadata": {},
   "outputs": [],
   "source": [
    "Q3.Explain the following functions\n",
    "run()\n",
    "start()\n",
    "join()\n",
    "isAlive()\n",
    "Ans:\n",
    "1.run(): This is a method of the Thread class that represents the code that will be executed when the thread starts.\n",
    "When you create a new thread, you can override this method in a subclass of Thread to define what the thread should do. \n",
    "The run() method typically contains the main logic of the thread.\n",
    "\n",
    "2.start(): This is a method of the Thread class that starts the thread by calling the run() method.\n",
    "When you call the start() method on a Thread object, it creates a new thread of execution and begins executing the code defined in the run() method.\n",
    "\n",
    "3.join(): This is a method of the Thread class that blocks the calling thread until the thread being joined completes its execution. \n",
    "This means that the calling thread will wait until the joined thread has finished before continuing with its own execution.\n",
    "You can use join() to wait for a thread to complete before continuing with the rest of the program. If the joined thread has already finished, the join() method returns immediately.\n",
    "\n",
    "4.isAlive(): This is a method of the Thread class that returns a Boolean value indicating whether the thread is currently executing.\n",
    "If the thread is still running, isAlive() returns True. If the thread has finished executing, or if it has not yet been started, isAlive() returns False.\n",
    "You can use isAlive() to check whether a thread is still running before calling join() or performing other operations on the thread."
   ]
  },
  {
   "cell_type": "code",
   "execution_count": null,
   "id": "0d68568e-2817-4a83-9162-2bd6f1b3dd12",
   "metadata": {},
   "outputs": [],
   "source": []
  },
  {
   "cell_type": "code",
   "execution_count": null,
   "id": "37cf302a-0627-44d3-924b-5e9eebd59478",
   "metadata": {},
   "outputs": [],
   "source": [
    "Q4. Write a python program to create two threads. Thread one must print the list of squares and thread\n",
    "two must print the list of cubes"
   ]
  },
  {
   "cell_type": "code",
   "execution_count": 27,
   "id": "f30088ea-5c31-40ea-86e6-8646b0dcf5f0",
   "metadata": {},
   "outputs": [
    {
     "name": "stdout",
     "output_type": "stream",
     "text": [
      "1 squared is 1\n",
      "2 squared is 4\n",
      "3 squared is 9\n",
      "4 squared is 16\n",
      "5 squared is 25\n",
      "6 squared is 36\n",
      "7 squared is 49\n",
      "8 squared is 64\n",
      "9 squared is 81\n",
      "10 squared is 100\n",
      "1 cubed is 1\n",
      "2 cubed is 8\n",
      "3 cubed is 27\n",
      "4 cubed is 64\n",
      "5 cubed is 125\n",
      "6 cubed is 216\n",
      "7 cubed is 343\n",
      "8 cubed is 512\n",
      "9 cubed is 729\n",
      "10 cubed is 1000\n"
     ]
    }
   ],
   "source": [
    "import threading\n",
    "\n",
    "def print_squares():\n",
    "    for i in range(1, 11):\n",
    "        print(f\"{i} squared is {i**2}\")\n",
    "\n",
    "def print_cubes():\n",
    "    for i in range(1, 11):\n",
    "        print(f\"{i} cubed is {i**3}\")\n",
    "\n",
    "thread1 = threading.Thread(target=print_squares)\n",
    "thread2 = threading.Thread(target=print_cubes)\n",
    "\n",
    "\n",
    "thread1.start()\n",
    "thread2.start()\n",
    "\n",
    "\n",
    "thread1.join()\n",
    "thread2.join()\n"
   ]
  },
  {
   "cell_type": "code",
   "execution_count": null,
   "id": "ebc64235-6a5e-40ce-9865-4fb11e219d54",
   "metadata": {},
   "outputs": [],
   "source": [
    "Q5. State advantages and disadvantages of multithreading\n",
    "Ans:\n",
    "Advantages of Multithreading:\n",
    "\n",
    "1.Improved performance: Multithreading can improve the performance of a program by utilizing the available CPU resources more efficiently.\n",
    "By allowing multiple threads to execute simultaneously, a program can perform multiple tasks at the same time, which can reduce the overall execution time.\n",
    "\n",
    "2.Responsiveness: Multithreading can make a program more responsive by allowing it to handle multiple user requests simultaneously.\n",
    "\n",
    "3.Simplified coding: Multithreading can simplify the coding of some programs by allowing them to be written as a set of cooperating threads, each performing a specific task. \n",
    "This can make the code more modular and easier to understand, which can reduce the likelihood of errors and make the code more maintainable.\n",
    "\n",
    "Disadvantages of Multithreading:\n",
    "\n",
    "1.Complexity: Multithreading can make a program more complex and harder to debug. \n",
    "The interaction between threads can be difficult to predict, and race conditions and deadlocks can occur if the threads are not synchronized properly.\n",
    "\n",
    "2.Overhead: Multithreading can introduce overhead due to the cost of creating and synchronizing threads.\n",
    "If a program creates too many threads, the overhead can outweigh the benefits of multithreading, leading to reduced performance.\n",
    "\n",
    "3.Scalability: Multithreading can have limited scalability, as the number of available CPUs is typically finite.\n",
    "If a program creates too many threads, the threads may spend more time waiting for CPU resources than executing, which can reduce the overall performance of the program."
   ]
  },
  {
   "cell_type": "code",
   "execution_count": null,
   "id": "3c0c3a28-1193-4fe8-b828-5a205683e340",
   "metadata": {},
   "outputs": [],
   "source": [
    "Q6. Explain deadlocks and race conditions.\n",
    "Ans:\n",
    "Deadlocks and race conditions are two common issues that can occur in multithreaded programs, which can cause the program to behave unpredictably or even crash.\n",
    "\n",
    "Deadlock:\n",
    "A deadlock occurs when two or more threads are waiting for each other to release a resource that they need to proceed.\n",
    "This can occur when a thread acquires a resource, such as a lock or a mutex, and then tries to acquire another resource that is already held by another thread. \n",
    "If both threads are waiting for each other to release their respective resources, they will be blocked indefinitely, resulting in a deadlock.\n",
    "\n",
    "Race Condition:\n",
    "A race condition occurs when two or more threads access a shared resource or variable at the same time, and the order of execution of the threads affects the final outcome.\n",
    "The result of a race condition is typically non-deterministic, meaning that the outcome depends on the order in which the threads execute, which can lead to unpredictable behavior."
   ]
  }
 ],
 "metadata": {
  "kernelspec": {
   "display_name": "Python 3 (ipykernel)",
   "language": "python",
   "name": "python3"
  },
  "language_info": {
   "codemirror_mode": {
    "name": "ipython",
    "version": 3
   },
   "file_extension": ".py",
   "mimetype": "text/x-python",
   "name": "python",
   "nbconvert_exporter": "python",
   "pygments_lexer": "ipython3",
   "version": "3.10.8"
  }
 },
 "nbformat": 4,
 "nbformat_minor": 5
}
