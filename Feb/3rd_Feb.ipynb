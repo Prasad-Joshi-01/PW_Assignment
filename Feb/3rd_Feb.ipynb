{
 "cells": [
  {
   "cell_type": "code",
   "execution_count": null,
   "id": "df1c6e91-5d26-44ed-8242-24743c0d0d8f",
   "metadata": {},
   "outputs": [],
   "source": [
    "Q1. Which keyword is used to create a function? Create a function to return a list of odd numbers in the\n",
    "range of 1 to 25.\n",
    "Ans:\n",
    "     def keyword is used to create the function."
   ]
  },
  {
   "cell_type": "code",
   "execution_count": 16,
   "id": "8a7b87fa-b744-45b4-9664-49abf5c55bbd",
   "metadata": {},
   "outputs": [],
   "source": [
    "l= range(1,26)\n",
    "def f1(l):\n",
    "    l1=[]\n",
    "    for i in l:\n",
    "        if i%2 !=0:\n",
    "            l1.append(i)\n",
    "    return l1"
   ]
  },
  {
   "cell_type": "code",
   "execution_count": 17,
   "id": "8806d2a9-a7ff-4155-b110-4df9f485ee45",
   "metadata": {},
   "outputs": [
    {
     "data": {
      "text/plain": [
       "[1, 3, 5, 7, 9, 11, 13, 15, 17, 19, 21, 23, 25]"
      ]
     },
     "execution_count": 17,
     "metadata": {},
     "output_type": "execute_result"
    }
   ],
   "source": [
    "f1(l)"
   ]
  },
  {
   "cell_type": "code",
   "execution_count": null,
   "id": "b6145b4c-821d-4035-81b4-b517fefbdfc5",
   "metadata": {},
   "outputs": [],
   "source": [
    "Q2. Why *args and **kwargs is used in some functions? Create a function each for *args and **kwargs\n",
    "to demonstrate their use.\n",
    "Ans: #*args\n",
    "*args is used to make user input dynamic. \n",
    "By using this we dont have to predefined the user input variable ( for ex: def test(a,b,c))\n",
    "#**kwargs\n",
    "if value wants in dict format i.e key value format then use **kwargs"
   ]
  },
  {
   "cell_type": "code",
   "execution_count": 18,
   "id": "dc90d70f-9dc5-4c1e-9666-dbeaaa0983a6",
   "metadata": {},
   "outputs": [],
   "source": [
    "def f2(*args):\n",
    "    return args"
   ]
  },
  {
   "cell_type": "code",
   "execution_count": 19,
   "id": "5937b289-99c5-4016-8704-ac50968f4c39",
   "metadata": {},
   "outputs": [
    {
     "data": {
      "text/plain": [
       "(2, 3, 4)"
      ]
     },
     "execution_count": 19,
     "metadata": {},
     "output_type": "execute_result"
    }
   ],
   "source": [
    "f2(2,3,4)"
   ]
  },
  {
   "cell_type": "code",
   "execution_count": 20,
   "id": "b016d7c0-939d-479f-a21b-cbd25d9f0abb",
   "metadata": {},
   "outputs": [],
   "source": [
    "def f3(**kwargs):\n",
    "    return kwargs"
   ]
  },
  {
   "cell_type": "code",
   "execution_count": 22,
   "id": "59f9e990-d300-4f77-8f19-6efe5179aace",
   "metadata": {},
   "outputs": [
    {
     "data": {
      "text/plain": [
       "{'a': [2, 3, 4], 'b': 'pras', 'c': 'joshi', 'd': 344.34}"
      ]
     },
     "execution_count": 22,
     "metadata": {},
     "output_type": "execute_result"
    }
   ],
   "source": [
    "f3(a=[2,3,4],b=\"pras\",c=\"joshi\",d=344.34)"
   ]
  },
  {
   "cell_type": "code",
   "execution_count": null,
   "id": "25116bca-e6b7-4f24-8c30-9d82d5fe7e41",
   "metadata": {},
   "outputs": [],
   "source": [
    "Q3. What is an iterator in python? Name the method used to initialise the iterator object and the method\n",
    "used for iteration. Use these methods to print the first five elements of the given list [2, 4, 6, 8, 10, 12, 14,\n",
    "16, 18, 20].\n",
    "Ans: \n",
    "An iterator in Python is an object that implements the iter protocol, which means it has two methods: __iter__ and __next__. \n",
    "The __iter__ method initializes the iterator object and the __next__ method is used for iteration."
   ]
  },
  {
   "cell_type": "code",
   "execution_count": 23,
   "id": "46b24544-be53-45ec-938d-17c128a0b20a",
   "metadata": {},
   "outputs": [
    {
     "name": "stdout",
     "output_type": "stream",
     "text": [
      "2\n",
      "4\n",
      "6\n",
      "8\n",
      "10\n"
     ]
    }
   ],
   "source": [
    "l = [2, 4, 6, 8, 10, 12, 14, 16, 18, 20]\n",
    "m = iter(l)\n",
    "for i in range(5):\n",
    "    print(next(m))"
   ]
  },
  {
   "cell_type": "code",
   "execution_count": null,
   "id": "df2930be-362f-47bb-8115-d4596c81caa4",
   "metadata": {},
   "outputs": [],
   "source": [
    "Q4. What is a generator function in python? Why yield keyword is used? Give an example of a generator\n",
    "function.\n",
    "Ans:\n",
    "A generator function in Python is a special kind of function that returns a generator iterator.\n",
    "It is defined like a normal function, but instead of using the return keyword to return a value, it uses the yield keyword.\n",
    "\n",
    "The yield keyword is used to return a value from the generator function, but unlike return, it does not terminate the function.\n",
    "Instead, it suspends the function execution and remembers the location it was called from so that it can resume the function where it left off the next time it is called."
   ]
  },
  {
   "cell_type": "code",
   "execution_count": 46,
   "id": "76368a56-22c6-4d14-8190-af8e4813ae7f",
   "metadata": {},
   "outputs": [],
   "source": [
    "#Generator operator for squares of number\n",
    "def square_numbers(limit):\n",
    "    No = 1\n",
    "    while No <= limit:\n",
    "        yield No * No        \n",
    "        No += 1\n",
    "    No"
   ]
  },
  {
   "cell_type": "code",
   "execution_count": 47,
   "id": "40cef315-a0f2-4744-b05d-0854596ef0e1",
   "metadata": {},
   "outputs": [
    {
     "data": {
      "text/plain": [
       "[1, 4, 9, 16, 25, 36, 49, 64, 81, 100]"
      ]
     },
     "execution_count": 47,
     "metadata": {},
     "output_type": "execute_result"
    }
   ],
   "source": [
    "list(square_numbers(limit=10))"
   ]
  },
  {
   "cell_type": "code",
   "execution_count": null,
   "id": "78027904-a5c4-4c6b-a339-587b79ea294b",
   "metadata": {},
   "outputs": [],
   "source": [
    "Q5. Create a generator function for prime numbers less than 1000. Use the next() method to print the\n",
    "first 20 prime numbers."
   ]
  },
  {
   "cell_type": "code",
   "execution_count": 52,
   "id": "e3880258-0dba-431b-a7e0-d6585d32341d",
   "metadata": {},
   "outputs": [
    {
     "name": "stdout",
     "output_type": "stream",
     "text": [
      "2\n",
      "3\n",
      "5\n",
      "7\n",
      "11\n",
      "13\n",
      "17\n",
      "19\n",
      "23\n",
      "29\n",
      "31\n",
      "37\n",
      "41\n",
      "43\n",
      "47\n",
      "53\n",
      "59\n",
      "61\n",
      "67\n",
      "71\n"
     ]
    }
   ],
   "source": [
    "def get_primes(limit):\n",
    "    primes = []\n",
    "    for num in range(2, limit):\n",
    "        for i in range(2, num):\n",
    "            if (num % i) == 0:\n",
    "                break\n",
    "        else:\n",
    "            primes.append(num)\n",
    "            yield num\n",
    "\n",
    "prime_gen = get_primes(1000)\n",
    "for i in range(20):\n",
    "    print(next(prime_gen))"
   ]
  },
  {
   "cell_type": "code",
   "execution_count": null,
   "id": "e83b87a3-2dc0-49a0-9465-1023dc67e65a",
   "metadata": {},
   "outputs": [],
   "source": [
    "Q6. Write a python program to print the first 10 Fibonacci numbers using a while loop."
   ]
  },
  {
   "cell_type": "code",
   "execution_count": 53,
   "id": "c5aef889-32b0-4e61-a58a-7679acfa3d1e",
   "metadata": {},
   "outputs": [
    {
     "name": "stdout",
     "output_type": "stream",
     "text": [
      "0\n",
      "1\n",
      "1\n",
      "2\n",
      "3\n",
      "5\n",
      "8\n",
      "13\n",
      "21\n",
      "34\n",
      "55\n"
     ]
    }
   ],
   "source": [
    "#fibonacci series\n",
    "a,b=0,1\n",
    "counter=0\n",
    "while counter<=10:\n",
    "    print(a)\n",
    "    c=a+b\n",
    "    a=b\n",
    "    b=c\n",
    "    counter +=1"
   ]
  },
  {
   "cell_type": "code",
   "execution_count": null,
   "id": "4c525bd6-db83-4748-b6ff-425c2914e002",
   "metadata": {},
   "outputs": [],
   "source": [
    "Q7. Write a List Comprehension to iterate through the given string: ‘pwskills’.\n",
    "Expected output: ['p', 'w', 's', 'k', 'i', 'l', 'l', 's']"
   ]
  },
  {
   "cell_type": "code",
   "execution_count": 54,
   "id": "623f9fd5-7054-486c-bc89-6969ac8e1095",
   "metadata": {},
   "outputs": [
    {
     "data": {
      "text/plain": [
       "['p', 'w', 's', 'k', 'i', 'l', 'l', 's']"
      ]
     },
     "execution_count": 54,
     "metadata": {},
     "output_type": "execute_result"
    }
   ],
   "source": [
    "string= \"pwskills\"\n",
    "[i[:] for i in string]"
   ]
  },
  {
   "cell_type": "code",
   "execution_count": null,
   "id": "7e245cf4-1f21-48c6-a842-40740591f986",
   "metadata": {},
   "outputs": [],
   "source": [
    "Q8. Write a python program to check whether a given number is Palindrome or not using a while loop."
   ]
  },
  {
   "cell_type": "code",
   "execution_count": 59,
   "id": "b26b4eb4-898c-4002-a95a-8ca54c238798",
   "metadata": {},
   "outputs": [
    {
     "name": "stdin",
     "output_type": "stream",
     "text": [
      "Enter a number:  124578875421\n"
     ]
    },
    {
     "name": "stdout",
     "output_type": "stream",
     "text": [
      "124578875421 is a palindrome\n"
     ]
    }
   ],
   "source": [
    "def is_palindrome(n):\n",
    "    return str(n) == str(n)[::-1]\n",
    "\n",
    "num = int(input(\"Enter a number: \"))\n",
    "if is_palindrome(num):\n",
    "    print(num, \"is a palindrome\")\n",
    "else:\n",
    "    print(num, \"is not a palindrome\")\n"
   ]
  },
  {
   "cell_type": "code",
   "execution_count": null,
   "id": "03ef64d1-20b9-446c-a995-6ba512439f63",
   "metadata": {},
   "outputs": [],
   "source": [
    "Q9. Write a code to print odd numbers from 1 to 100 using list comprehension."
   ]
  },
  {
   "cell_type": "code",
   "execution_count": 60,
   "id": "0b89c6e5-9a4a-45fb-b066-384f5cafec61",
   "metadata": {},
   "outputs": [
    {
     "data": {
      "text/plain": [
       "[1,\n",
       " 3,\n",
       " 5,\n",
       " 7,\n",
       " 9,\n",
       " 11,\n",
       " 13,\n",
       " 15,\n",
       " 17,\n",
       " 19,\n",
       " 21,\n",
       " 23,\n",
       " 25,\n",
       " 27,\n",
       " 29,\n",
       " 31,\n",
       " 33,\n",
       " 35,\n",
       " 37,\n",
       " 39,\n",
       " 41,\n",
       " 43,\n",
       " 45,\n",
       " 47,\n",
       " 49,\n",
       " 51,\n",
       " 53,\n",
       " 55,\n",
       " 57,\n",
       " 59,\n",
       " 61,\n",
       " 63,\n",
       " 65,\n",
       " 67,\n",
       " 69,\n",
       " 71,\n",
       " 73,\n",
       " 75,\n",
       " 77,\n",
       " 79,\n",
       " 81,\n",
       " 83,\n",
       " 85,\n",
       " 87,\n",
       " 89,\n",
       " 91,\n",
       " 93,\n",
       " 95,\n",
       " 97,\n",
       " 99]"
      ]
     },
     "execution_count": 60,
     "metadata": {},
     "output_type": "execute_result"
    }
   ],
   "source": [
    "[i for i in range(1,101) if i%2 !=0]"
   ]
  },
  {
   "cell_type": "code",
   "execution_count": null,
   "id": "cc56fdaf-c150-4b41-97b1-9a0e7aab7975",
   "metadata": {},
   "outputs": [],
   "source": []
  }
 ],
 "metadata": {
  "kernelspec": {
   "display_name": "Python 3 (ipykernel)",
   "language": "python",
   "name": "python3"
  },
  "language_info": {
   "codemirror_mode": {
    "name": "ipython",
    "version": 3
   },
   "file_extension": ".py",
   "mimetype": "text/x-python",
   "name": "python",
   "nbconvert_exporter": "python",
   "pygments_lexer": "ipython3",
   "version": "3.10.8"
  }
 },
 "nbformat": 4,
 "nbformat_minor": 5
}
