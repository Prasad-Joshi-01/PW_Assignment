{
 "cells": [
  {
   "cell_type": "code",
   "execution_count": null,
   "id": "5ff92c13-e1c6-4c5e-9029-56edd5d36dc6",
   "metadata": {},
   "outputs": [],
   "source": [
    "Q1. What is Abstraction in OOps? Explain with an example.\n",
    "Ans:\n",
    "Abstraction is the process of hiding the internal details of an application from the outer world.\n",
    "Abstraction is used to describe things in simple terms. \n",
    "It’s used to create a boundary between the application and the client programs."
   ]
  },
  {
   "cell_type": "code",
   "execution_count": 2,
   "id": "a56dee8a-ae9b-46dc-9bd0-39cc1be15509",
   "metadata": {},
   "outputs": [],
   "source": [
    "from abc import ABC, abstractmethod   \n",
    "class Car(ABC):   \n",
    "    def mileage(self):   \n",
    "        pass  \n",
    "  \n",
    "class Tesla(Car):   \n",
    "    def mileage(self):   \n",
    "        print(\"The mileage is 30kmph\")   \n",
    "class Suzuki(Car):   \n",
    "    def mileage(self):   \n",
    "        print(\"The mileage is 25kmph \")"
   ]
  },
  {
   "cell_type": "code",
   "execution_count": 3,
   "id": "4a3f6d05-8f6b-4b5e-9c01-09550583e8d2",
   "metadata": {},
   "outputs": [],
   "source": [
    "t= Tesla ()"
   ]
  },
  {
   "cell_type": "code",
   "execution_count": 4,
   "id": "b3154b4a-d576-458c-8824-cba5503cb420",
   "metadata": {},
   "outputs": [
    {
     "name": "stdout",
     "output_type": "stream",
     "text": [
      "The mileage is 30kmph\n"
     ]
    }
   ],
   "source": [
    "t.mileage()"
   ]
  },
  {
   "cell_type": "code",
   "execution_count": 5,
   "id": "c1697b45-1404-4554-9bbb-e2765e81108b",
   "metadata": {},
   "outputs": [],
   "source": [
    "t=Suzuki()"
   ]
  },
  {
   "cell_type": "code",
   "execution_count": 6,
   "id": "3517b93f-e8b3-47ea-b113-559f5d7e5e8c",
   "metadata": {},
   "outputs": [
    {
     "name": "stdout",
     "output_type": "stream",
     "text": [
      "The mileage is 25kmph \n"
     ]
    }
   ],
   "source": [
    "t.mileage()"
   ]
  },
  {
   "cell_type": "code",
   "execution_count": null,
   "id": "1d6a6090-1afc-4160-bc65-bce83ba08db3",
   "metadata": {},
   "outputs": [],
   "source": []
  },
  {
   "cell_type": "code",
   "execution_count": null,
   "id": "4bbd5166-d67f-4da6-8603-d41034801f96",
   "metadata": {},
   "outputs": [],
   "source": [
    "Q2. Differentiate between Abstraction and Encapsulation. Explain with an example.\n",
    "Ans:\n",
    "Abstraction refers to the quality of hiding the implementation details of an object and exposing only the necessary information to the user.\n",
    "It is about providing a simple, high-level view of an object, hiding its complexities from the user.\n",
    "Encapsulation, on the other hand, refers to the practice of bundling the data and functions that operate on that data within an object.\n",
    "This is done to hide the implementation details and to provide a secure way of accessing the data.\n",
    "Encapsulation provides a level of security, as the data can only be accessed through the methods defined within the object.\n",
    "In conclusion, Abstraction is about hiding the complexity and showing only the necessary information to the user, while\n",
    "Encapsulation is about bundling the data and functions within an object to provide security and protect the data from accidental modification."
   ]
  },
  {
   "cell_type": "code",
   "execution_count": null,
   "id": "30f60c0c-13dc-4d50-886b-c97e7c64c894",
   "metadata": {},
   "outputs": [],
   "source": []
  },
  {
   "cell_type": "code",
   "execution_count": null,
   "id": "74de4791-9878-437c-af4e-dd6a9ff67589",
   "metadata": {},
   "outputs": [],
   "source": [
    "Q3. What is abc module in python? Why is it used?\n",
    "Ans:\n",
    "The abc (Abstract Base Class) module in Python is used to define abstract base classes.\n",
    "An abstract base class is a class that cannot be instantiated, but serves as a base class for other classes.\n",
    "It provides a common interface for its subclasses, which must provide implementations for its abstract methods. \n",
    "The purpose of using an abstract base class is to ensure that the subclasses have a common interface, which makes it easier to work with objects of different types in a uniform manner."
   ]
  },
  {
   "cell_type": "code",
   "execution_count": null,
   "id": "bcaaa906-4c77-4a27-87a3-3dae8d55b909",
   "metadata": {},
   "outputs": [],
   "source": []
  },
  {
   "cell_type": "code",
   "execution_count": null,
   "id": "cb2797b6-0a3c-4748-94ce-55e42a3217f0",
   "metadata": {},
   "outputs": [],
   "source": [
    "Q4. How can we achieve data abstraction?\n",
    "Ans:\n",
    "The process by which data and functions are defined in such a way that only essential details can be seen and\n",
    "unnecessary implementations are hidden is called Data Abstraction.\n",
    "Data Abstraction in Python can be achieved through creating abstract classes and inheriting them later.'\n",
    "data abstraction can be achieved through various techniques, including abstract classes, encapsulation, interfaces, and access modifiers. \n",
    "The choice of technique depends on the specific requirements of the problem at hand."
   ]
  },
  {
   "cell_type": "code",
   "execution_count": null,
   "id": "8bdfe462-11c5-4294-83e4-b53b4a8c7758",
   "metadata": {},
   "outputs": [],
   "source": []
  },
  {
   "cell_type": "code",
   "execution_count": null,
   "id": "dbf127be-4014-47cf-b282-c84300286bda",
   "metadata": {},
   "outputs": [],
   "source": [
    "Q5. Can we create an instance of an abstract class? Explain your answer.\n",
    "Ans:\n",
    "No, we cannot create an instance of an abstract class.\n",
    "An abstract class is a class that is designed to be a base class for other classes and cannot be instantiated on its own. \n",
    "The purpose of an abstract class is to provide a common interface for its subclasses, which must provide implementations for its abstract methods.\n",
    "An abstract class cannot be instantiated, as it serves as a base class for other classes and is intended to provide a common interface for its subclasses.\n",
    "The subclasses must provide implementations for all the abstract methods defined in the abstract class in order to be instantiated."
   ]
  },
  {
   "cell_type": "code",
   "execution_count": 8,
   "id": "b75e666f-d4cc-4cb4-a65e-5e58f56e07eb",
   "metadata": {},
   "outputs": [],
   "source": [
    "import abc\n",
    "\n",
    "class Shape(abc.ABC):\n",
    "    @abc.abstractmethod\n",
    "    def area(self):\n",
    "        pass\n",
    "    \n",
    "    @abc.abstractmethod\n",
    "    def perimeter(self):\n",
    "        pass\n"
   ]
  },
  {
   "cell_type": "code",
   "execution_count": 10,
   "id": "4c845e1a-0754-46a6-9559-e39b89d244df",
   "metadata": {},
   "outputs": [
    {
     "ename": "TypeError",
     "evalue": "Can't instantiate abstract class Shape with abstract methods area, perimeter",
     "output_type": "error",
     "traceback": [
      "\u001b[0;31m---------------------------------------------------------------------------\u001b[0m",
      "\u001b[0;31mTypeError\u001b[0m                                 Traceback (most recent call last)",
      "Cell \u001b[0;32mIn[10], line 1\u001b[0m\n\u001b[0;32m----> 1\u001b[0m t\u001b[38;5;241m=\u001b[39m\u001b[43mShape\u001b[49m\u001b[43m(\u001b[49m\u001b[43m)\u001b[49m\n",
      "\u001b[0;31mTypeError\u001b[0m: Can't instantiate abstract class Shape with abstract methods area, perimeter"
     ]
    }
   ],
   "source": [
    "t=Shape()"
   ]
  },
  {
   "cell_type": "code",
   "execution_count": null,
   "id": "15cf6e9d-4044-4948-b296-0c5bee49a430",
   "metadata": {},
   "outputs": [],
   "source": []
  }
 ],
 "metadata": {
  "kernelspec": {
   "display_name": "Python 3 (ipykernel)",
   "language": "python",
   "name": "python3"
  },
  "language_info": {
   "codemirror_mode": {
    "name": "ipython",
    "version": 3
   },
   "file_extension": ".py",
   "mimetype": "text/x-python",
   "name": "python",
   "nbconvert_exporter": "python",
   "pygments_lexer": "ipython3",
   "version": "3.10.8"
  }
 },
 "nbformat": 4,
 "nbformat_minor": 5
}
