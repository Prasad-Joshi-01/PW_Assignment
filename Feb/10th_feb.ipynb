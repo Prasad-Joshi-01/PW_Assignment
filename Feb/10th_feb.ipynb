{
 "cells": [
  {
   "cell_type": "code",
   "execution_count": null,
   "id": "e464a567-5c66-4b69-8f56-3f592d17b98f",
   "metadata": {},
   "outputs": [],
   "source": [
    "Q1. Which function is used to open a file? What are the different modes of opening a file? Explain each mode\n",
    "of file opening.\n",
    "Ans:\n",
    "In Python, the open() function is used to open a file.\n",
    "This function takes two mandatory arguments, the first one being the name of the file that you want to open and \n",
    "the second one being the mode in which you want to open the file.\n",
    "Different ways of opening a file :\n",
    "'r'       open for reading\n",
    "'w'       open for writing, truncating the file first\n",
    "'x'       create a new file and open it for writing\n",
    "'a'       open for writing, appending to the end of the file if it exists\n",
    "'b'       binary mode\n",
    "'t'       text mode\n",
    "'+'       open a disk file for updating (reading and writing)\n",
    "'U'       universal newline mode"
   ]
  },
  {
   "cell_type": "code",
   "execution_count": null,
   "id": "4fc8d335-81a6-43e2-91c2-c098f492398b",
   "metadata": {},
   "outputs": [],
   "source": []
  },
  {
   "cell_type": "code",
   "execution_count": null,
   "id": "5651fdb3-d30a-4fcf-81a0-6fb0d1112acf",
   "metadata": {},
   "outputs": [],
   "source": [
    "Q2. Why close() function is used? Why is it important to close a file?\n",
    "Ans :\n",
    "The close() function is used to close an open file. \n",
    "When you open a file, the operating system sets aside a portion of memory for that file, which is called a file descriptor. \n",
    "When you are finished working with a file, it is a good practice to close it to free up the memory associated with the file.\n",
    "It’s important to close files in Python, because files are limited resources managed by the operating system,\n",
    "making sure files are closed after use will protect against hard-to-debug issues like running out of file handles or experiencing corrupted data.\n",
    "The best defense is always to open files with a context manager."
   ]
  },
  {
   "cell_type": "code",
   "execution_count": null,
   "id": "0aaffe80-67b3-4c4d-bdae-4e9ddb88b0cc",
   "metadata": {},
   "outputs": [],
   "source": []
  },
  {
   "cell_type": "code",
   "execution_count": null,
   "id": "dc642aa0-b5a4-4994-8d56-9daa8405eb6d",
   "metadata": {},
   "outputs": [],
   "source": [
    "Q3. Write a python program to create a text file. Write ‘I want to become a Data Scientist’ in that file. Then\n",
    "close the file. Open this file and read the content of the file.\n",
    "Ans:"
   ]
  },
  {
   "cell_type": "code",
   "execution_count": 1,
   "id": "af0b07e4-eef1-4667-8588-9f6503e13fa8",
   "metadata": {},
   "outputs": [],
   "source": [
    "f=open(\"assg.txt\",'w')"
   ]
  },
  {
   "cell_type": "code",
   "execution_count": 2,
   "id": "ce035dcb-1641-46a7-abaf-67c67e7b04c9",
   "metadata": {},
   "outputs": [
    {
     "data": {
      "text/plain": [
       "33"
      ]
     },
     "execution_count": 2,
     "metadata": {},
     "output_type": "execute_result"
    }
   ],
   "source": [
    "f.write(\"I want to become a Data Scientist\")"
   ]
  },
  {
   "cell_type": "code",
   "execution_count": 3,
   "id": "7cdd56c4-6df8-43b0-a061-57cd383ca025",
   "metadata": {},
   "outputs": [],
   "source": [
    "f.close()"
   ]
  },
  {
   "cell_type": "code",
   "execution_count": 6,
   "id": "7ef9bd26-e1d9-41c9-94e0-2da4ebfb0872",
   "metadata": {},
   "outputs": [],
   "source": [
    "data=open(\"assg.txt\",'r')"
   ]
  },
  {
   "cell_type": "code",
   "execution_count": 7,
   "id": "7d171792-07b3-448b-a6d3-8269ebe99058",
   "metadata": {},
   "outputs": [
    {
     "data": {
      "text/plain": [
       "'I want to become a Data Scientist'"
      ]
     },
     "execution_count": 7,
     "metadata": {},
     "output_type": "execute_result"
    }
   ],
   "source": [
    "data.read()"
   ]
  },
  {
   "cell_type": "code",
   "execution_count": 8,
   "id": "ca32ed91-ac19-458f-bd85-472a7e6dc744",
   "metadata": {},
   "outputs": [],
   "source": [
    "data.close()"
   ]
  },
  {
   "cell_type": "code",
   "execution_count": null,
   "id": "93c717df-0534-4ccd-8063-df858fa5dcc0",
   "metadata": {},
   "outputs": [],
   "source": []
  },
  {
   "cell_type": "code",
   "execution_count": null,
   "id": "c30e0d6e-90cc-437e-b236-b6ecd2b1e285",
   "metadata": {},
   "outputs": [],
   "source": [
    "Q4. Explain the following with python code: read(), readline() and readlines().\n",
    "Ans:"
   ]
  },
  {
   "cell_type": "code",
   "execution_count": null,
   "id": "6d5c9400-a640-486a-be73-897e67f1b281",
   "metadata": {},
   "outputs": [],
   "source": [
    "1.read(): The read() method is used to read the entire contents of a file. \n",
    "It returns a string that contains all the characters in the file."
   ]
  },
  {
   "cell_type": "code",
   "execution_count": 15,
   "id": "81474721-cd51-49dc-b88b-2aeae3fd5249",
   "metadata": {},
   "outputs": [],
   "source": [
    "data=open(\"assg.txt\",'r')"
   ]
  },
  {
   "cell_type": "code",
   "execution_count": 16,
   "id": "48057ac1-a235-4edc-986d-72ee1a3b4f2d",
   "metadata": {},
   "outputs": [
    {
     "data": {
      "text/plain": [
       "'I want to become a Data Scientist'"
      ]
     },
     "execution_count": 16,
     "metadata": {},
     "output_type": "execute_result"
    }
   ],
   "source": [
    "data.read()"
   ]
  },
  {
   "cell_type": "code",
   "execution_count": 17,
   "id": "fe8e03ae-2442-4c7b-b6a8-d0339b703e03",
   "metadata": {},
   "outputs": [],
   "source": [
    "data.close()"
   ]
  },
  {
   "cell_type": "code",
   "execution_count": null,
   "id": "e3762587-fc55-413f-8130-352f265239e9",
   "metadata": {},
   "outputs": [],
   "source": [
    "2.readline(): The readline() method is used to read a single line of a file. \n",
    "It returns a string that contains the characters in the current line."
   ]
  },
  {
   "cell_type": "code",
   "execution_count": 20,
   "id": "b73fa742-b3e7-4920-8579-401d7d65a1de",
   "metadata": {},
   "outputs": [],
   "source": [
    "data=open(\"assg1.txt\",'a')"
   ]
  },
  {
   "cell_type": "code",
   "execution_count": 21,
   "id": "b52a7578-a3f7-4465-9ae6-03aebf8a3f1a",
   "metadata": {},
   "outputs": [
    {
     "data": {
      "text/plain": [
       "765"
      ]
     },
     "execution_count": 21,
     "metadata": {},
     "output_type": "execute_result"
    }
   ],
   "source": [
    "data.write(\"Data Science Masters course is highly curated and uniquely designed according to the latest industry standards. This program instills students the skills essential to knowledge discovery efforts to identify standard, novel, and truly differentiated solutions and decision-making, including skills in managing, querying, analyzing, visualizing, and extracting meaning from extremely large data sets. This trending program provides students with the statistical, mathematical and computational skills needed to meet the large-scale data science challenges of today's professional world. You will learn all the stack required to work in data science industry including cloud infrastructure and real-time industry projects. This course will be taught in Hindi language.\")"
   ]
  },
  {
   "cell_type": "code",
   "execution_count": 22,
   "id": "11f83084-e519-40c0-b822-4aa7fd34d387",
   "metadata": {},
   "outputs": [],
   "source": [
    "data.close()"
   ]
  },
  {
   "cell_type": "code",
   "execution_count": 23,
   "id": "d74ce20a-39f1-49f5-be5c-8a318c17e511",
   "metadata": {},
   "outputs": [],
   "source": [
    "f=open(\"assg1.txt\",'r')"
   ]
  },
  {
   "cell_type": "code",
   "execution_count": 24,
   "id": "363264f2-b8bc-4528-beb0-024c0766ed01",
   "metadata": {},
   "outputs": [
    {
     "data": {
      "text/plain": [
       "\"Data Science Masters course is highly curated and uniquely designed according to the latest industry standards. This program instills students the skills essential to knowledge discovery efforts to identify standard, novel, and truly differentiated solutions and decision-making, including skills in managing, querying, analyzing, visualizing, and extracting meaning from extremely large data sets. This trending program provides students with the statistical, mathematical and computational skills needed to meet the large-scale data science challenges of today's professional world. You will learn all the stack required to work in data science industry including cloud infrastructure and real-time industry projects. This course will be taught in Hindi language.\""
      ]
     },
     "execution_count": 24,
     "metadata": {},
     "output_type": "execute_result"
    }
   ],
   "source": [
    "f.readline()"
   ]
  },
  {
   "cell_type": "code",
   "execution_count": 26,
   "id": "c558661e-18e5-452e-a52b-454db7831647",
   "metadata": {},
   "outputs": [
    {
     "data": {
      "text/plain": [
       "100"
      ]
     },
     "execution_count": 26,
     "metadata": {},
     "output_type": "execute_result"
    }
   ],
   "source": [
    "f.seek(100)"
   ]
  },
  {
   "cell_type": "code",
   "execution_count": 27,
   "id": "b5f2dcc2-5c8d-4c4b-99c2-e564fc76b2ed",
   "metadata": {},
   "outputs": [
    {
     "data": {
      "text/plain": [
       "\" standards. This program instills students the skills essential to knowledge discovery efforts to identify standard, novel, and truly differentiated solutions and decision-making, including skills in managing, querying, analyzing, visualizing, and extracting meaning from extremely large data sets. This trending program provides students with the statistical, mathematical and computational skills needed to meet the large-scale data science challenges of today's professional world. You will learn all the stack required to work in data science industry including cloud infrastructure and real-time industry projects. This course will be taught in Hindi language.\""
      ]
     },
     "execution_count": 27,
     "metadata": {},
     "output_type": "execute_result"
    }
   ],
   "source": [
    "f.readline()"
   ]
  },
  {
   "cell_type": "code",
   "execution_count": 28,
   "id": "68c9bb11-e520-49e4-be44-3033bee13457",
   "metadata": {},
   "outputs": [],
   "source": [
    "f.close()"
   ]
  },
  {
   "cell_type": "code",
   "execution_count": null,
   "id": "58bc8f2c-6e6a-4f2a-a393-cbc05a137830",
   "metadata": {},
   "outputs": [],
   "source": [
    "readlines(): The readlines() method is used to read all the lines of a file as a list of strings."
   ]
  },
  {
   "cell_type": "code",
   "execution_count": null,
   "id": "3da54329-e035-438d-82eb-694373a3bd22",
   "metadata": {},
   "outputs": [],
   "source": []
  },
  {
   "cell_type": "code",
   "execution_count": null,
   "id": "04a59d03-0830-472b-977c-da2ceba0a12d",
   "metadata": {},
   "outputs": [],
   "source": [
    "Q5. Explain why with statement is used with open(). What is the advantage of using with statement and\n",
    "open() together?\n",
    "Ans:\n",
    "The with statement is used in conjunction with the open() function to ensure that a file is properly closed when you are finished working with it,\n",
    "even if an exception is raised during the processing of the file.\n",
    "\n",
    "The with statement creates a block of code in which an object is used, and \n",
    "automatically takes care of closing the object when the block is exited, even if an exception is raised.\n",
    "This eliminates the need to manually close the file and eliminates the risk of forgetting to close the file, which can lead to resource leaks or inconsistent data."
   ]
  },
  {
   "cell_type": "code",
   "execution_count": null,
   "id": "9046e7f4-282c-4041-b881-32b63650b431",
   "metadata": {},
   "outputs": [],
   "source": []
  },
  {
   "cell_type": "code",
   "execution_count": null,
   "id": "0d6eff70-d5f8-49eb-ac63-e17835900a0e",
   "metadata": {},
   "outputs": [],
   "source": [
    "Q6. Explain the write() and writelines() functions. Give a suitable example.\n",
    "Ans:"
   ]
  },
  {
   "cell_type": "code",
   "execution_count": null,
   "id": "3c5673c5-e002-4376-82d4-bfb2759f119b",
   "metadata": {},
   "outputs": [],
   "source": [
    "1.write(): The write() function is used to write a string to a file. \n",
    "The string is specified as an argument to the write() function. "
   ]
  },
  {
   "cell_type": "code",
   "execution_count": null,
   "id": "e43d88e5-dd9f-42c3-92ac-f9aa176ec0fb",
   "metadata": {},
   "outputs": [],
   "source": [
    "with open(\"example.txt\", \"w\") as file:\n",
    "    file.write(\"This is a sample text.\")"
   ]
  },
  {
   "cell_type": "code",
   "execution_count": null,
   "id": "69e86dd0-17ba-4e17-8be0-7e264b6be9a7",
   "metadata": {},
   "outputs": [],
   "source": [
    "2.writelines(): The writelines() function is used to write a sequence of strings to a file.\n",
    "The sequence of strings is specified as an argument to the writelines() function. "
   ]
  },
  {
   "cell_type": "code",
   "execution_count": null,
   "id": "4e8549c1-0293-4610-aee2-36df4666dcc9",
   "metadata": {},
   "outputs": [],
   "source": [
    "f = open(\"example.txt\", \"a\")\n",
    "f.writelines([\"See you soon!\", \"Over and out.\"])\n",
    "f.close()"
   ]
  }
 ],
 "metadata": {
  "kernelspec": {
   "display_name": "Python 3 (ipykernel)",
   "language": "python",
   "name": "python3"
  },
  "language_info": {
   "codemirror_mode": {
    "name": "ipython",
    "version": 3
   },
   "file_extension": ".py",
   "mimetype": "text/x-python",
   "name": "python",
   "nbconvert_exporter": "python",
   "pygments_lexer": "ipython3",
   "version": "3.10.8"
  }
 },
 "nbformat": 4,
 "nbformat_minor": 5
}
