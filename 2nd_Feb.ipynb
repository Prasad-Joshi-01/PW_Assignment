{
 "cells": [
  {
   "cell_type": "code",
   "execution_count": null,
   "id": "bb4ce2b5-8d28-4786-8eb1-33b85a9a2cd6",
   "metadata": {},
   "outputs": [],
   "source": [
    "1.Explain with an example each when to use a for loop and a while loop.\n",
    "Ans:\n",
    "for loop : A for loop is typically used when you know beforehand how many times you want to iterate through a block of code."
   ]
  },
  {
   "cell_type": "code",
   "execution_count": 1,
   "id": "c5308810-acc6-4086-af08-39a1453e97c4",
   "metadata": {},
   "outputs": [
    {
     "name": "stdout",
     "output_type": "stream",
     "text": [
      "1\n",
      "2\n",
      "3\n",
      "4\n",
      "5\n",
      "6\n",
      "7\n",
      "8\n",
      "9\n",
      "10\n"
     ]
    }
   ],
   "source": [
    "for i in range(1, 11):\n",
    "    print(i)\n"
   ]
  },
  {
   "cell_type": "code",
   "execution_count": null,
   "id": "10ba0c90-545b-4692-b4c3-04afff9d353b",
   "metadata": {},
   "outputs": [],
   "source": [
    "while loop :A while loop, on the other hand, is used when you want to keep repeating a block of code as long as a certain condition is true."
   ]
  },
  {
   "cell_type": "code",
   "execution_count": 2,
   "id": "2842ea66-c192-423b-8a95-baa452b76afb",
   "metadata": {},
   "outputs": [
    {
     "name": "stdout",
     "output_type": "stream",
     "text": [
      "1\n",
      "2\n",
      "3\n",
      "4\n",
      "5\n",
      "6\n",
      "7\n",
      "8\n",
      "9\n",
      "10\n"
     ]
    }
   ],
   "source": [
    "count = 1\n",
    "while count <= 10:\n",
    "    print(count)\n",
    "    count += 1\n"
   ]
  },
  {
   "cell_type": "code",
   "execution_count": null,
   "id": "f2b619c3-397d-4320-b687-fb124d70b446",
   "metadata": {},
   "outputs": [],
   "source": [
    "2.Write a python program to print the sum and product of the first 10 natural numbers using for\n",
    "and while loop.\n",
    "Ans:"
   ]
  },
  {
   "cell_type": "code",
   "execution_count": 6,
   "id": "e4cd5403-073b-4e3c-a0c6-1441767f4805",
   "metadata": {},
   "outputs": [
    {
     "name": "stdout",
     "output_type": "stream",
     "text": [
      "55\n",
      "3628800\n"
     ]
    }
   ],
   "source": [
    "#By using for loop\n",
    "sum1= 0\n",
    "multi = 1\n",
    "for i in range(1,11):\n",
    "    sum1= sum1 + i\n",
    "    multi= multi*i\n",
    "print(sum1)\n",
    "print(multi)"
   ]
  },
  {
   "cell_type": "code",
   "execution_count": 7,
   "id": "fb93ddb1-2ee6-47f5-a8f9-70b80981695d",
   "metadata": {},
   "outputs": [
    {
     "name": "stdout",
     "output_type": "stream",
     "text": [
      "55\n",
      "3628800\n"
     ]
    }
   ],
   "source": [
    "#By using while loop\n",
    "sum1= 0\n",
    "multi = 1\n",
    "counter=1\n",
    "while counter<11:\n",
    "    sum1= sum1 + counter\n",
    "    multi= multi*counter\n",
    "    counter +=1\n",
    "print(sum1)\n",
    "print(multi)"
   ]
  },
  {
   "cell_type": "code",
   "execution_count": null,
   "id": "933cfbed-813d-4f0a-963a-d5b339d804a4",
   "metadata": {},
   "outputs": [],
   "source": [
    "3.Create a python program to compute the electricity bill for a household.\n",
    "The per-unit charges in rupees are as follows: For the first 100 units, the user will be charged Rs. 4.5 per\n",
    "unit, for the next 100 units, the user will be charged Rs. 6 per unit, and for the next 100 units, the user will\n",
    "be charged Rs. 10 per unit, After 300 units and above the user will be charged Rs. 20 per unit.\n",
    "Ans:"
   ]
  },
  {
   "cell_type": "code",
   "execution_count": 9,
   "id": "50de1cfc-eded-477b-a783-9788fa9a6074",
   "metadata": {},
   "outputs": [
    {
     "name": "stdin",
     "output_type": "stream",
     "text": [
      "Enter the number of units consumed:  310\n"
     ]
    },
    {
     "name": "stdout",
     "output_type": "stream",
     "text": [
      "2250.0\n"
     ]
    }
   ],
   "source": [
    "units = int(input(\"Enter the number of units consumed: \"))\n",
    "\n",
    "bill = 0\n",
    "if units <= 100:\n",
    "    bill = units * 4.5\n",
    "elif units <= 200:\n",
    "    bill = 100 * 4.5 + (units - 100) * 6\n",
    "elif units <= 300:\n",
    "    bill = 100 * 4.5 + 100 * 6 + (units - 200) * 10\n",
    "else:\n",
    "    bill = 100 * 4.5 + 100 * 6 + 100 * 10 + (units - 300) * 20\n",
    "\n",
    "print(bill)\n"
   ]
  },
  {
   "cell_type": "code",
   "execution_count": null,
   "id": "9058c3c1-077e-4244-ad55-6b472f37eab0",
   "metadata": {},
   "outputs": [],
   "source": [
    "Q4. Create a list of numbers from 1 to 100. Use for loop and while loop to calculate the cube of each\n",
    "number and if the cube of that number is divisible by 4 or 5 then append that number in a list and print\n",
    "that list.\n",
    "Ans:"
   ]
  },
  {
   "cell_type": "code",
   "execution_count": 17,
   "id": "ef8ca64b-3d0e-4f96-ae43-3ad2f3e146e2",
   "metadata": {},
   "outputs": [
    {
     "name": "stdout",
     "output_type": "stream",
     "text": [
      "[2, 4, 5, 6, 8, 10, 12, 14, 15, 16, 18, 20, 22, 24, 25, 26, 28, 30, 32, 34, 35, 36, 38, 40, 42, 44, 45, 46, 48, 50, 52, 54, 55, 56, 58, 60, 62, 64, 65, 66, 68, 70, 72, 74, 75, 76, 78, 80, 82, 84, 85, 86, 88, 90, 92, 94, 95, 96, 98, 100]\n"
     ]
    }
   ],
   "source": [
    "#By using for loop\n",
    "l= range(1,101)\n",
    "result=[]\n",
    "for i in l:\n",
    "    cube=i**3\n",
    "    if cube % 4==0 or cube % 5==0:\n",
    "        result.append(i)\n",
    "print(result)\n",
    "    \n",
    "    "
   ]
  },
  {
   "cell_type": "code",
   "execution_count": 23,
   "id": "54b3cd34-3db0-4855-9a69-401aae3c7d00",
   "metadata": {},
   "outputs": [
    {
     "name": "stdout",
     "output_type": "stream",
     "text": [
      "[2, 4, 5, 6, 8, 10, 12, 14, 15, 16, 18, 20, 22, 24, 25, 26, 28, 30, 32, 34, 35, 36, 38, 40, 42, 44, 45, 46, 48, 50, 52, 54, 55, 56, 58, 60, 62, 64, 65, 66, 68, 70, 72, 74, 75, 76, 78, 80, 82, 84, 85, 86, 88, 90, 92, 94, 95, 96, 98, 100]\n"
     ]
    }
   ],
   "source": [
    "#By using while loop\n",
    "result=[]\n",
    "counter=1\n",
    "while counter<=100:\n",
    "    cube=counter**3\n",
    "    if cube % 4==0 or cube % 5==0:\n",
    "        result.append(counter)\n",
    "    counter+=1\n",
    "print(result)"
   ]
  },
  {
   "cell_type": "code",
   "execution_count": null,
   "id": "9030de73-62bc-4bdc-a6e9-0eb89a755e40",
   "metadata": {},
   "outputs": [],
   "source": [
    "Q5. Write a program to filter count vowels in the below-given string.\n",
    "string = \"I want to become a data scientist\""
   ]
  },
  {
   "cell_type": "code",
   "execution_count": 27,
   "id": "ef435202-4ef4-4972-8b16-61e92a641163",
   "metadata": {},
   "outputs": [
    {
     "data": {
      "text/plain": [
       "12"
      ]
     },
     "execution_count": 27,
     "metadata": {},
     "output_type": "execute_result"
    }
   ],
   "source": [
    "string = \"I want to become a data scientist\"\n",
    "count=0\n",
    "vowels = [\"a\", \"e\", \"i\", \"o\", \"u\", \"A\", \"E\", \"I\", \"O\", \"U\"]\n",
    "for i in string:\n",
    "    if i in vowels:\n",
    "        count+=1\n",
    "count\n",
    "        \n",
    "    "
   ]
  },
  {
   "cell_type": "code",
   "execution_count": null,
   "id": "351f0a5b-2ee3-4c99-a8a0-2a0d400b9bb0",
   "metadata": {},
   "outputs": [],
   "source": []
  }
 ],
 "metadata": {
  "kernelspec": {
   "display_name": "Python 3 (ipykernel)",
   "language": "python",
   "name": "python3"
  },
  "language_info": {
   "codemirror_mode": {
    "name": "ipython",
    "version": 3
   },
   "file_extension": ".py",
   "mimetype": "text/x-python",
   "name": "python",
   "nbconvert_exporter": "python",
   "pygments_lexer": "ipython3",
   "version": "3.10.8"
  }
 },
 "nbformat": 4,
 "nbformat_minor": 5
}
