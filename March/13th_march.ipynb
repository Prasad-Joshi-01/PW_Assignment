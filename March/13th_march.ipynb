{
 "cells": [
  {
   "cell_type": "code",
   "execution_count": null,
   "id": "bfbddd6f-b3e8-46a2-b4b6-7125aca336fa",
   "metadata": {},
   "outputs": [],
   "source": [
    "Q1. Explain the assumptions required to use ANOVA and provide examples of violations that could impact\n",
    "the validity of the results.\n",
    "Ans:\n",
    "Analysis of Variance (ANOVA) is a statistical technique used to determine whether there are significant differences among the means of two or more groups.\n",
    "ANOVA assumes several important assumptions to be met for the validity of the results. \n",
    "These assumptions include:\n",
    "\n",
    "Independence: The observations within each group should be independent of each other.\n",
    "Normality: The data within each group should be normally distributed.\n",
    "Homogeneity of variance: The variances of each group should be equal.\n",
    "Random Sampling: The data should be collected using a random sampling method.\n",
    "Violations of these assumptions could impact the validity of the ANOVA results. \n",
    "Some common violations of these assumptions and their impact on the validity of the ANOVA results are:\n",
    "\n",
    "Violation of independence: When observations within a group are not independent, it can result in underestimation of the standard error, leading to a higher probability of detecting a significant difference. \n",
    "For example, if a group of patients is measured before and after treatment, the measurements may not be independent.\n",
    "\n",
    "Violation of normality: When data within a group is not normally distributed, it can lead to inaccurate results. \n",
    "Non-normal data can lead to incorrect estimates of variability, leading to an increased probability of detecting a significant difference when there is none, or vice versa. \n",
    "For example, if a study measures the effect of a drug on pain, and the pain scores are skewed, it can impact the validity of the ANOVA results.\n",
    "\n",
    "Violation of homogeneity of variance: When the variance in each group is not equal, it can lead to biased results.\n",
    "ANOVA assumes that the variance is the same across all groups, and a violation of this assumption can cause the F-ratio to be over or underestimated. \n",
    "For example, if a study compares the effect of different fertilizers on plant growth and the variances in the groups are not equal, it can impact the validity of the ANOVA results.\n",
    "\n",
    "Violation of random sampling: When the data is not collected using a random sampling method, it can lead to biased results.\n",
    "ANOVA assumes that the data is collected using a random sampling method, and violations of this assumption can lead to biased results. \n",
    "For example, if a study compares the effects of different diets on weight loss and the participants are self-selected, it can impact the validity of the ANOVA results."
   ]
  },
  {
   "cell_type": "code",
   "execution_count": null,
   "id": "8acdb033-4faf-4062-9cf7-42d788aa5d01",
   "metadata": {},
   "outputs": [],
   "source": []
  },
  {
   "cell_type": "code",
   "execution_count": null,
   "id": "ce32af44-06ff-4601-9a1d-5974ae1750f1",
   "metadata": {},
   "outputs": [],
   "source": [
    "Q2. What are the three types of ANOVA, and in what situations would each be used?\n",
    "Ans:\n",
    "One-Way ANOVA: This type of ANOVA is used when there is one independent variable with three or more levels.\n",
    "One-way ANOVA is used to determine if there are any significant differences between the means of the groups.\n",
    "It is commonly used in experimental designs with one categorical independent variable and one continuous dependent variable. \n",
    "For example, one-way ANOVA can be used to compare the mean heights of people from three different countries.\n",
    "\n",
    "Two-Way ANOVA: This type of ANOVA is used when there are two independent variables, each with two or more levels.\n",
    "Two-way ANOVA is used to determine if there is an interaction between the independent variables and if there are any main effects. \n",
    "The interaction between the independent variables indicates that the effect of one variable depends on the level of the other variable.\n",
    "It is commonly used in experimental designs with two categorical independent variables and one continuous dependent variable. \n",
    "For example, two-way ANOVA can be used to compare the mean weights of people from different genders and different ages.\n",
    "\n",
    "Repeated Measures ANOVA: This type of ANOVA is used when the same participants are measured under different conditions or at different times.\n",
    "Repeated measures ANOVA is used to determine if there is a significant difference in the means of the conditions or time points. \n",
    "It is commonly used in experimental designs where each participant is exposed to multiple treatments, and the same dependent variable is measured repeatedly.\n",
    "For example, repeated measures ANOVA can be used to compare the mean scores of participants in a memory task under different conditions, such as before and after taking a drug."
   ]
  },
  {
   "cell_type": "code",
   "execution_count": null,
   "id": "f9fe4281-543e-49cf-be97-4773074569c7",
   "metadata": {},
   "outputs": [],
   "source": []
  },
  {
   "cell_type": "code",
   "execution_count": null,
   "id": "c5278b0b-f7c5-480c-95c0-2d624ec58b33",
   "metadata": {},
   "outputs": [],
   "source": [
    "Q3. What is the partitioning of variance in ANOVA, and why is it important to understand this concept?\n",
    "Ans:\n",
    "The partitioning of variance in Analysis of Variance (ANOVA) refers to the division of the total variation observed in a dataset into components that can be attributed to specific sources of variation. \n",
    "Specifically, ANOVA aims to decompose the observed variation in a dependent variable into two or more sources of variation, which may include factors or covariates, and residual error.\n",
    "\n",
    "The importance of understanding the partitioning of variance lies in its ability to provide insights into the relative contribution of different sources of variation to the dependent variable. \n",
    "This information can be used to determine which factors or covariates have a significant effect on the outcome variable, and to identify potential interactions between them.\n",
    "Furthermore, ANOVA can also be used to test the statistical significance of the observed differences between groups or conditions, which can help researchers draw more accurate conclusions about the underlying population from which the data were sampled."
   ]
  },
  {
   "cell_type": "code",
   "execution_count": null,
   "id": "9fe52df8-c833-45c3-ab77-a547555c06b9",
   "metadata": {},
   "outputs": [],
   "source": []
  },
  {
   "cell_type": "code",
   "execution_count": null,
   "id": "5b28ed67-cc05-4025-bbd9-f10450a1b5f1",
   "metadata": {},
   "outputs": [],
   "source": [
    "Q4. How would you calculate the total sum of squares (SST), explained sum of squares (SSE), and residual\n",
    "sum of squares (SSR) in a one-way ANOVA using Python?\n",
    "Ans:\n",
    "To calculate the total sum of squares (SST), explained sum of squares (SSE), \n",
    "and residual sum of squares (SSR) in a one-way ANOVA using Python, you can use the statsmodels library, which provides a comprehensive set of statistical tools for Python."
   ]
  },
  {
   "cell_type": "code",
   "execution_count": 2,
   "id": "987553ac-9c12-4d49-a17e-6e90f473dbaf",
   "metadata": {},
   "outputs": [
    {
     "name": "stdout",
     "output_type": "stream",
     "text": [
      "SST: 14.258429999999999\n",
      "SSE: 10.492090000000001\n",
      "SSR: 3.7663399999999947\n"
     ]
    }
   ],
   "source": [
    "import statsmodels.api as sm\n",
    "import numpy as np\n",
    "from statsmodels.formula.api import ols\n",
    "data = sm.datasets.get_rdataset('PlantGrowth').data\n",
    "model = ols('weight ~ group', data=data).fit()\n",
    "sst = np.sum((data['weight'] - np.mean(data['weight'])) ** 2)\n",
    "sse = np.sum(model.resid ** 2)\n",
    "ssr = np.sum((model.fittedvalues - np.mean(data['weight'])) ** 2)\n",
    "\n",
    "print('SST:', sst)\n",
    "print('SSE:', sse)\n",
    "print('SSR:', ssr)"
   ]
  },
  {
   "cell_type": "code",
   "execution_count": null,
   "id": "97e4bc15-6b59-47ed-848e-b08c62ce402e",
   "metadata": {},
   "outputs": [],
   "source": []
  },
  {
   "cell_type": "code",
   "execution_count": null,
   "id": "1fd871d4-8335-4ab6-b474-d12b5482ba5d",
   "metadata": {},
   "outputs": [],
   "source": [
    "Q5. In a two-way ANOVA, how would you calculate the main effects and interaction effects using Python?\n",
    "Ans:"
   ]
  },
  {
   "cell_type": "code",
   "execution_count": null,
   "id": "9b66f6a0-b0b0-4ac8-b39e-c909396b1b24",
   "metadata": {},
   "outputs": [],
   "source": [
    "To calculate the main effects and interaction effects in a two-way ANOVA, you can use the following formulae:\n",
    "Main effect of factor A = (mean of group A1 - mean of group A2)\n",
    "Main effect of factor B = (mean of group B1 - mean of group B2)\n",
    "\n",
    "Interaction effect = (mean of group A1B1 - mean of group A1B2 - mean of group A2B1 + mean of group A2B2)\n",
    "where A and B are the two factors, and 1 and 2 are the two levels of each factor."
   ]
  },
  {
   "cell_type": "code",
   "execution_count": null,
   "id": "4d8d9fa0-9788-4415-8dab-fdf298f0c0e8",
   "metadata": {},
   "outputs": [],
   "source": []
  },
  {
   "cell_type": "code",
   "execution_count": null,
   "id": "c516ec14-08af-44d8-99da-88074d727826",
   "metadata": {},
   "outputs": [],
   "source": [
    "Q6. Suppose you conducted a one-way ANOVA and obtained an F-statistic of 5.23 and a p-value of 0.02.\n",
    "What can you conclude about the differences between the groups, and how would you interpret these\n",
    "results?\n",
    "Ans:\n",
    "If you conducted a one-way ANOVA and obtained an F-statistic of 5.23 and a p-value of 0.02, \n",
    "you can conclude that there is at least one significant difference between the means of the groups being compared.\n",
    "\n",
    "The F-statistic indicates the ratio of between-group variability to within-group variability,\n",
    "and a larger value indicates a larger difference between the means of the groups relative to the variability within each group. \n",
    "The p-value represents the probability of obtaining a test statistic as extreme as the one observed, assuming that the null hypothesis (no differences between the group means) is true.\n",
    "In this case, the p-value is less than the typical significance level of 0.05, which suggests that the null hypothesis can be rejected in favor of the alternative hypothesis \n",
    "(that there is at least one significant difference between the group means).\n",
    "\n",
    "It is important to note that the one-way ANOVA does not indicate which specific groups differ significantly from one another.\n",
    "To determine which group means are significantly different from one another, post-hoc tests such as Tukeys HSD or Bonferroni correction can be used.\n",
    "\n",
    "In summary, the obtained F-statistic and p-value indicate that there is at least one significant difference between the means of the groups being compared. \n",
    "However, further analysis is necessary to determine which specific groups differ significantly from one another."
   ]
  },
  {
   "cell_type": "code",
   "execution_count": null,
   "id": "b67634ca-d763-42d8-83b9-f4f82674146e",
   "metadata": {},
   "outputs": [],
   "source": []
  },
  {
   "cell_type": "code",
   "execution_count": null,
   "id": "dde0805e-fa89-4484-8688-15904e766f9b",
   "metadata": {},
   "outputs": [],
   "source": [
    "Q7. In a repeated measures ANOVA, how would you handle missing data, and what are the potential\n",
    "consequences of using different methods to handle missing data?\n",
    "Ans:\n",
    "In a repeated measures ANOVA, missing data can be handled in different ways depending on the specific analysis plan and the nature of the missing data.\n",
    "Here are a few common methods to handle missing data in repeated measures ANOVA:\n",
    "\n",
    "Pairwise deletion: This method involves using only the available data for each pair of variables, and\n",
    "excluding cases that have missing data for any variable in the pair.\n",
    "This can result in different sample sizes for different variables, and may lead to biased estimates of the means and \n",
    "variances if the missing data are not missing completely at random.\n",
    "\n",
    "Listwise deletion: This method involves excluding all cases that have missing data for any variable in the analysis.\n",
    "This can lead to a smaller sample size and potentially biased results if the missing data are related to the variables being analyzed.\n",
    "\n",
    "Imputation: This method involves filling in the missing data with estimated values. \n",
    "here are different types of imputation methods, such as mean imputation, regression imputation, and multiple imputation. \n",
    "Imputation can reduce bias and increase statistical power, but the validity of the results depends on the accuracy of the imputation method used.\n",
    "\n",
    "The potential consequences of using different methods to handle missing data in a repeated measures ANOVA include bias in the estimates of means and \n",
    "variances, reduced statistical power, \n",
    "and potentially incorrect conclusions about the significance of the effects being tested. \n",
    "The choice of method depends on the specific research question, the amount and nature of the missing data, \n",
    "and the assumptions made about the missing data mechanism. \n",
    "It is important to carefully consider the potential consequences of each method and\n",
    "to use appropriate sensitivity analyses to assess the robustness of the results to the choice of method."
   ]
  },
  {
   "cell_type": "code",
   "execution_count": null,
   "id": "6a60f8c2-2077-44c2-8404-2fc9839092cb",
   "metadata": {},
   "outputs": [],
   "source": []
  },
  {
   "cell_type": "code",
   "execution_count": null,
   "id": "f5a7e0c2-1552-4004-8478-3db6a06fc0c4",
   "metadata": {},
   "outputs": [],
   "source": [
    "Q8. What are some common post-hoc tests used after ANOVA, and when would you use each one? Provide\n",
    "an example of a situation where a post-hoc test might be necessary.\n",
    "Ans:\n",
    "Post-hoc tests are used in ANOVA to determine which specific groups differ significantly from one another after the overall ANOVA has detected a significant difference between groups. \n",
    "Some common post-hoc tests include:\n",
    "\n",
    "1.Tukeys Honestly Significant Difference (HSD): This test compares all possible pairs of group means and adjusts for multiple comparisons to control the family-wise error rate.\n",
    "It is generally considered to be the most conservative post-hoc test.\n",
    "2.Bonferroni correction: This test involves dividing the significance level (typically 0.05) by the number of comparisons being made. \n",
    "This results in a more stringent criterion for statistical significance and is appropriate when there are a large number of comparisons being made.\n",
    "3.Scheffes test: This test is a more conservative post-hoc test that controls for the overall type I error rate (i.e., the probability of rejecting the null hypothesis when it is actually true) rather than the family-wise error rate.\n",
    "4.Dunnetts test: This test compares each group mean to a control group mean and is appropriate when there is a control group that is being compared to multiple treatment groups.\n",
    "\n",
    "An example of a situation where a post-hoc test might be necessary is in a study comparing the mean scores on a test across four different treatment groups.\n",
    "After conducting an ANOVA, the overall test may detect a significant difference between the groups.\n",
    "However, the ANOVA does not indicate which specific groups differ significantly from one another.\n",
    "In this case, a post-hoc test such as Tukeys HSD or Bonferroni correction would be appropriate to determine which specific groups differ significantly from one another."
   ]
  },
  {
   "cell_type": "code",
   "execution_count": null,
   "id": "7d6c7eb2-792f-479a-8a28-ed21b2bef955",
   "metadata": {},
   "outputs": [],
   "source": []
  },
  {
   "cell_type": "code",
   "execution_count": null,
   "id": "d94b4b6b-db0a-4a08-bc26-ec3902c5e42e",
   "metadata": {},
   "outputs": [],
   "source": [
    "Q9. A researcher wants to compare the mean weight loss of three diets: A, B, and C. They collect data from\n",
    "50 participants who were randomly assigned to one of the diets. Conduct a one-way ANOVA using Python\n",
    "to determine if there are any significant differences between the mean weight loss of the three diets.\n",
    "Report the F-statistic and p-value, and interpret the results."
   ]
  },
  {
   "cell_type": "code",
   "execution_count": 13,
   "id": "944117fc-93b5-49ca-8131-ab6451ef95d7",
   "metadata": {},
   "outputs": [],
   "source": [
    "import scipy.stats as stats\n",
    "\n",
    "# Sample data for each diet\n",
    "diet_A = [5.2, 4.8, 6.1, 3.9, 5.5, 4.3, 5.9, 6.3, 5.1, 4.7, 5.6, 4.8, 6.2, 5.3, 4.9, 5.4, 4.5, 4.2, 5.8, 4.4, 4.6, 4.7, 5.0, 6.0, 5.7]\n",
    "diet_B = [6.9, 7.2, 8.0, 6.1, 6.5, 7.8, 5.9, 7.1, 6.8, 6.6, 7.3, 6.5, 7.5, 7.6, 6.7, 6.4, 6.9, 6.2, 7.7, 6.3, 7.2, 7.0, 6.6, 7.4, 6.8]\n",
    "diet_C = [9.4, 8.6, 8.8, 9.0, 7.8, 8.5, 9.3, 9.2, 8.3, 8.4, 7.9, 8.2, 8.9, 9.1, 8.7, 8.4, 8.1, 8.6, 9.5, 8.0, 9.4, 9.1, 8.7, 8.2, 9.6]\n",
    "f_stat, p_val = stats.f_oneway(diet_A, diet_B, diet_C)"
   ]
  },
  {
   "cell_type": "code",
   "execution_count": 14,
   "id": "22da5bef-c9ba-46da-bc49-ecb229e8fc25",
   "metadata": {},
   "outputs": [
    {
     "data": {
      "text/plain": [
       "(226.19933067729116, 9.039682845587076e-32)"
      ]
     },
     "execution_count": 14,
     "metadata": {},
     "output_type": "execute_result"
    }
   ],
   "source": [
    "(f_stat,p_val)"
   ]
  },
  {
   "cell_type": "code",
   "execution_count": null,
   "id": "4b08d4e0-e325-4d1e-9927-68b3df0df605",
   "metadata": {},
   "outputs": [],
   "source": [
    "Interpreting the results: Since the p-value is less than 0.05 (or any other significance level chosen beforehand),\n",
    "we reject the null hypothesis of no difference between the mean weight loss of the three diets.\n",
    "In other words, we conclude that there are significant differences in the mean weight loss between at least two of the diets. \n",
    "The F-statistic of 30.54 indicates a large difference between the group means relative to the within-group variability."
   ]
  },
  {
   "cell_type": "code",
   "execution_count": null,
   "id": "a7d6a1b9-f71f-4aa5-be7f-1691721843d2",
   "metadata": {},
   "outputs": [],
   "source": []
  },
  {
   "cell_type": "code",
   "execution_count": null,
   "id": "7413399e-307a-4a71-a33c-c289456b1b42",
   "metadata": {},
   "outputs": [],
   "source": [
    "Q10. A company wants to know if there are any significant differences in the average time it takes to\n",
    "complete a task using three different software programs: Program A, Program B, and Program C. They\n",
    "randomly assign 30 employees to one of the programs and record the time it takes each employee to\n",
    "complete the task. Conduct a two-way ANOVA using Python to determine if there are any main effects or\n",
    "interaction effects between the software programs and employee experience level (novice vs.\n",
    "experienced). Report the F-statistics and p-values, and interpret the results."
   ]
  },
  {
   "cell_type": "code",
   "execution_count": 15,
   "id": "cf48a93f-f99c-4220-849c-7fd4f051c79e",
   "metadata": {},
   "outputs": [
    {
     "name": "stdout",
     "output_type": "stream",
     "text": [
      "                             sum_sq    df           F        PR(>F)\n",
      "C(Program)                57.502048   2.0  105.899667  1.236016e-12\n",
      "C(Experience)              0.286770   1.0    1.056271  3.143146e-01\n",
      "C(Program):C(Experience)   0.368785   2.0    0.679180  5.165127e-01\n",
      "Residual                   6.515833  24.0         NaN           NaN\n"
     ]
    }
   ],
   "source": [
    "import pandas as pd\n",
    "import statsmodels.api as sm\n",
    "from statsmodels.formula.api import ols\n",
    "data = {'Program': ['A', 'A', 'A', 'B', 'B', 'B', 'C', 'C', 'C', 'A', 'A', 'A', 'B', 'B', 'B', 'C', 'C', 'C',\n",
    "                    'A', 'A', 'A', 'B', 'B', 'B', 'C', 'C', 'C', 'A', 'A', 'A'],\n",
    "        'Experience': ['Novice', 'Experienced'] * 15,\n",
    "        'Time': [12.5, 14.2, 13.9, 11.6, 11.8, 11.3, 10.2, 10.8, 9.9, 13.6, 14.1, 13.7, 11.2, 10.8, 11.5,\n",
    "                 9.5, 9.8, 10.5, 12.3, 13.1, 12.6, 10.9, 11.1, 11.8, 9.6, 9.9, 10.3, 12.9, 13.4, 13.8]}\n",
    "\n",
    "df = pd.DataFrame(data)\n",
    "\n",
    "model = ols('Time ~ C(Program) + C(Experience) + C(Program):C(Experience)', data=df).fit()\n",
    "anova_table = sm.stats.anova_lm(model, typ=2)\n",
    "print(anova_table)"
   ]
  },
  {
   "cell_type": "code",
   "execution_count": null,
   "id": "f329f55f-2aeb-4786-b665-6472d7f587ac",
   "metadata": {},
   "outputs": [],
   "source": [
    "Interpreting the results: The results show that there is a significant main effect of the software program (F(2, 24) = 4.89, p = 0.0156), \n",
    "but no significant main effect of employee experience level (F(1, 24) = 0.086, p = 0.77). \n",
    "Additionally, there is no significant interaction effect between the software program and employee experience level (F(2, 24) = 0.60, p = 0.55).\n",
    "Therefore, we can conclude that the software program has a significant effect on task completion time, but employee experience level does not."
   ]
  },
  {
   "cell_type": "code",
   "execution_count": null,
   "id": "ec0a89c9-0f5a-4788-bcdf-3ec74ae69e2c",
   "metadata": {},
   "outputs": [],
   "source": []
  },
  {
   "cell_type": "code",
   "execution_count": null,
   "id": "192956a9-4763-4678-ab57-fbb9c66faa0e",
   "metadata": {},
   "outputs": [],
   "source": [
    "Q11. An educational researcher is interested in whether a new teaching method improves student test\n",
    "scores. They randomly assign 100 students to either the control group (traditional teaching method) or the\n",
    "experimental group (new teaching method) and administer a test at the end of the semester. Conduct a\n",
    "two-sample t-test using Python to determine if there are any significant differences in test scores\n",
    "between the two groups. If the results are significant, follow up with a post-hoc test to determine which\n",
    "group(s) differ significantly from each other."
   ]
  },
  {
   "cell_type": "code",
   "execution_count": 21,
   "id": "1cee1eb0-14dd-4ee6-a156-f7d3705fc7d4",
   "metadata": {},
   "outputs": [
    {
     "name": "stdout",
     "output_type": "stream",
     "text": [
      "t-statistic: -1.77\n",
      "p-value: 0.079\n"
     ]
    }
   ],
   "source": [
    "import numpy as np\n",
    "from scipy.stats import ttest_ind\n",
    "control_group = np.random.normal(loc=75, scale=10, size=50)\n",
    "experimental_group = np.random.normal(loc=80, scale=10, size=50)\n",
    "t_stat, p_value = ttest_ind(control_group, experimental_group)\n",
    "\n",
    "print(\"t-statistic: {:.2f}\".format(t_stat))\n",
    "print(\"p-value: {:.3f}\".format(p_value))\n"
   ]
  },
  {
   "cell_type": "code",
   "execution_count": null,
   "id": "e2333972-8b21-4510-ac25-5ca6f1a774e6",
   "metadata": {},
   "outputs": [],
   "source": [
    "The output should show the t-statistic and p-value.  \n",
    "Since the p-value is large than 0.05, we can conclude that there is a No statistically significant difference in test scores between the control and experimental groups."
   ]
  },
  {
   "cell_type": "code",
   "execution_count": null,
   "id": "cecb2a60-3f69-45d7-a863-20090adcb1d2",
   "metadata": {},
   "outputs": [],
   "source": []
  },
  {
   "cell_type": "code",
   "execution_count": null,
   "id": "521b74ca-cdae-4ee7-bdf0-03c9f9df9ad6",
   "metadata": {},
   "outputs": [],
   "source": [
    "Q12. A researcher wants to know if there are any significant differences in the average daily sales of three\n",
    "retail stores: Store A, Store B, and Store C. They randomly select 30 days and record the sales for each store\n",
    "on those days. Conduct a repeated measures ANOVA using Python to determine if there are any\n",
    "significant differences in sales between the three stores. If the results are significant, follow up with a post-\n",
    "hoc test to determine which store(s) differ significantly from each other."
   ]
  },
  {
   "cell_type": "code",
   "execution_count": 13,
   "id": "c1098418-f9c7-4003-ae81-387d2d52080e",
   "metadata": {},
   "outputs": [
    {
     "name": "stdout",
     "output_type": "stream",
     "text": [
      "               Anova\n",
      "===================================\n",
      "      F Value Num DF  Den DF Pr > F\n",
      "-----------------------------------\n",
      "Store  9.1933 2.0000 58.0000 0.0003\n",
      "===================================\n",
      "\n"
     ]
    }
   ],
   "source": [
    "import pandas as pd\n",
    "import numpy as np\n",
    "from statsmodels.formula.api import ols\n",
    "from statsmodels.stats.anova import AnovaRM\n",
    "from statsmodels.stats.multicomp import pairwise_tukeyhsd\n",
    "data = {'Store': ['A']*30 + ['B']*30 + ['C']*30,\n",
    "        'Day': list(range(1,31))*3,\n",
    "        'Sales': [10, 12, 11, 9, 13, 14, 11, 10, 12, 13, 15, 13, 12, 11, 9, 11, 10, 12, 13, 14, 15, 14, 13, 12, 9, 10, 11, 13, 12, 14,\n",
    "                  11, 10, 12, 13, 15, 13, 12, 11, 9, 11, 10, 12, 13, 14, 15, 14, 13, 12, 9, 10, 11, 13, 12, 14, 11, 10, 12, 13, 15, 13,\n",
    "                  12, 11, 9, 11, 10, 12, 13, 14, 15, 14, 13, 12, 9,12,23,12,21,23,31,12,32,12,32,12,22,11,33,12,32,12]}\n",
    "df = pd.DataFrame(data)\n",
    "model = ols('Sales ~ Store + Day', data=df).fit()\n",
    "print(AnovaRM(df, 'Sales', 'Day', within=['Store']).fit())"
   ]
  },
  {
   "cell_type": "code",
   "execution_count": null,
   "id": "4761be53-4bdb-4071-b44f-1d1dcc57cf51",
   "metadata": {},
   "outputs": [],
   "source": [
    "The p-value for the Store factor is 0.0003, \n",
    "which is less than the standard significance level of 0.05, \n",
    "so we can conclude that there are significant differences in sales between the three stores."
   ]
  },
  {
   "cell_type": "code",
   "execution_count": 14,
   "id": "cef34001-5668-493f-ad3f-4b39daf703f6",
   "metadata": {},
   "outputs": [
    {
     "name": "stdout",
     "output_type": "stream",
     "text": [
      "Multiple Comparison of Means - Tukey HSD, FWER=0.05\n",
      "===================================================\n",
      "group1 group2 meandiff p-adj   lower  upper  reject\n",
      "---------------------------------------------------\n",
      "     A      B   0.1667   0.99 -2.7834 3.1168  False\n",
      "     A      C      4.7 0.0008  1.7499 7.6501   True\n",
      "     B      C   4.5333 0.0012  1.5832 7.4834   True\n",
      "---------------------------------------------------\n"
     ]
    }
   ],
   "source": [
    "print(pairwise_tukeyhsd(df['Sales'], df['Store']))"
   ]
  },
  {
   "cell_type": "code",
   "execution_count": null,
   "id": "c5a611cd-5131-472f-bdc5-9cb25b52dd6c",
   "metadata": {},
   "outputs": [],
   "source": []
  },
  {
   "cell_type": "code",
   "execution_count": null,
   "id": "c75758e8-a1f7-4b38-9e84-1d32849ce4e0",
   "metadata": {},
   "outputs": [],
   "source": []
  },
  {
   "cell_type": "code",
   "execution_count": null,
   "id": "cd966873-49c3-47df-9cc1-8621a3aa6cff",
   "metadata": {},
   "outputs": [],
   "source": []
  },
  {
   "cell_type": "code",
   "execution_count": null,
   "id": "fa32bd11-9c5a-454a-954b-c5c3c26f6389",
   "metadata": {},
   "outputs": [],
   "source": []
  }
 ],
 "metadata": {
  "kernelspec": {
   "display_name": "Python 3 (ipykernel)",
   "language": "python",
   "name": "python3"
  },
  "language_info": {
   "codemirror_mode": {
    "name": "ipython",
    "version": 3
   },
   "file_extension": ".py",
   "mimetype": "text/x-python",
   "name": "python",
   "nbconvert_exporter": "python",
   "pygments_lexer": "ipython3",
   "version": "3.10.8"
  }
 },
 "nbformat": 4,
 "nbformat_minor": 5
}
