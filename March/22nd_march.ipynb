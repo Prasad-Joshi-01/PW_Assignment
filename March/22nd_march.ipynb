{
 "cells": [
  {
   "cell_type": "code",
   "execution_count": null,
   "id": "c953792b-cc46-496f-bfab-fd87f04d0813",
   "metadata": {},
   "outputs": [],
   "source": [
    "Q1. Pearson correlation coefficient is a measure of the linear relationship between two variables. Suppose\n",
    "you have collected data on the amount of time students spend studying for an exam and their final exam\n",
    "scores. Calculate the Pearson correlation coefficient between these two variables and interpret the result.\n",
    "Ans:\n",
    "To calculate the Pearson correlation coefficient between the amount of time students spend studying for an exam and their final exam scores:\n",
    "\n",
    "Collect the data on both variables for each student.\n",
    "Calculate the mean and standard deviation for each variable.\n",
    "Calculate the covariance between the two variables.\n",
    "Calculate the Pearson correlation coefficient using the formula:\n",
    "r = covariance / (standard deviation of variable 1 * standard deviation of variable 2)\n",
    "\n",
    "The resulting correlation coefficient will range from -1 to 1, with -1 indicating a perfect negative linear relationship, 0 indicating no linear relationship,\n",
    "and 1 indicating a perfect positive linear relationship.\n",
    "\n",
    "Interpreting the result depends on the magnitude and direction of the correlation coefficient. \n",
    "If the coefficient is positive, it means that as the amount of time spent studying increases, so does the final exam score, and vice versa.\n",
    "If the coefficient is negative, it means that as the amount of time spent studying increases, the final exam score decreases, and vice versa.\n",
    "The closer the coefficient is to 1 or -1, the stronger the linear relationship between the variables. "
   ]
  },
  {
   "cell_type": "code",
   "execution_count": null,
   "id": "7bc1097a-a78b-49cb-879c-3c44a2978df7",
   "metadata": {},
   "outputs": [],
   "source": []
  },
  {
   "cell_type": "code",
   "execution_count": null,
   "id": "e7ffe97e-d6fa-48bb-a8ee-b635c4424df4",
   "metadata": {},
   "outputs": [],
   "source": [
    "Q2. Spearmans rank correlation is a measure of the monotonic relationship between two variables.\n",
    "Suppose you have collected data on the amount of sleep individuals get each night and their overall job\n",
    "satisfaction level on a scale of 1 to 10. Calculate the Spearmans rank correlation between these two\n",
    "variables and interpret the result.\n",
    "Ans:\n",
    "To calculate Spearmans rank correlation, we need to rank each variable and calculate the correlation between the ranks.\n",
    "Heres how we can do it:\n",
    "\n",
    "Rank the amount of sleep and job satisfaction separately, from smallest to largest values.\n",
    "If there are ties, assign the average rank to those values.\n",
    "\n",
    "Calculate the difference between the ranks for each individual, for both variables.\n",
    "Square the difference for each individual and add them up to get the sum of squared differences (SSD).\n",
    "\n",
    "Use the formula:\n",
    "r = 1 - (6 * SSD) / (n * (n^2 - 1))\n",
    "where n is the number of individuals.\n",
    "\n",
    "Using this formula, we can calculate the Spearmans rank correlation as follows:\n",
    "    "
   ]
  },
  {
   "cell_type": "code",
   "execution_count": null,
   "id": "dc074582-e501-4a85-9921-c09b6da80358",
   "metadata": {},
   "outputs": [],
   "source": [
    "Sleep  Job Satisfaction\n",
    "5      6\n",
    "8      9\n",
    "7      5\n",
    "6      7\n",
    "5      4\n",
    "9      8\n",
    "4      2\n",
    "6      5\n",
    "8      7\n",
    "7      9\n",
    "\n",
    "Ranks:\n",
    "Sleep  Job Satisfaction\n",
    "3      5\n",
    "8      10\n",
    "6      3\n",
    "4      7\n",
    "3      1\n",
    "10     9\n",
    "2      2\n",
    "4      3\n",
    "8      7\n",
    "6      10\n",
    "\n",
    "Differences:\n",
    "Sleep  Job Satisfaction  (Difference(sleep-Job satisfaction))\n",
    "3      5                 (-2)\n",
    "8      10                (-2)\n",
    "6      3                  3\n",
    "4      7                 (-3)\n",
    "3      1                  2\n",
    "10     9                  1\n",
    "2      2                  0\n",
    "4      3                  1\n",
    "8      7                  1\n",
    "6      10                (-4)\n",
    "\n",
    "SSD = 2^2 + 2^2 + 3^2 + (-3)^2 + 2^2 + 1^2 + 0^2 + 1^2 + 1^2 + (-4)^2 = 50\n",
    "n = 10\n",
    "r = 1 - (6 * 50) / (10 * (10^2 - 1)) = -0.2"
   ]
  },
  {
   "cell_type": "code",
   "execution_count": null,
   "id": "1d845cd4-3322-4495-9439-21e431418089",
   "metadata": {},
   "outputs": [],
   "source": [
    "The Spearmans rank correlation between the amount of sleep individuals get each night and their overall job satisfaction level is -0.2. \n",
    "This indicates a weak negative monotonic relationship between the two variables.\n",
    "In other words, as the amount of sleep increases, job satisfaction tends to decrease slightly, and vice versa, but the relationship is not very strong. \n",
    "Its important to note that this correlation does not imply causation, \n",
    "and there may be other factors affecting job satisfaction that are not accounted for in this analysis."
   ]
  },
  {
   "cell_type": "code",
   "execution_count": null,
   "id": "8d0928f9-199a-4ccc-bd59-3304b1cfcf27",
   "metadata": {},
   "outputs": [],
   "source": []
  },
  {
   "cell_type": "code",
   "execution_count": null,
   "id": "537124d9-77f1-49f5-bce6-300c8d49b2f8",
   "metadata": {},
   "outputs": [],
   "source": [
    "Q3. Suppose you are conducting a study to examine the relationship between the number of hours of\n",
    "exercise per week and body mass index (BMI) in a sample of adults. You collected data on both variables\n",
    "for 50 participants. Calculate the Pearson correlation coefficient and the Spearmans rank correlation\n",
    "between these two variables and compare the results.\n",
    "Ans:\n",
    "To calculate the Pearson correlation coefficient and the Spearmans rank correlation, we first need to compute the mean, standard deviation, \n",
    "and rank values for the two variables."
   ]
  },
  {
   "cell_type": "code",
   "execution_count": null,
   "id": "89741450-d00a-4952-9746-0bbb418bcd26",
   "metadata": {},
   "outputs": [],
   "source": [
    "Exercise (X)   BMI (Y)   Rank X   Rank Y   (Rank X - Rank Y)  (Rank X - Rank Y)^2\n",
    "  3.0           22.2       21        20             1                 1\n",
    "  4.5           20.5       33        11            22               484\n",
    "  5.5           19.8       43         7            36              1296\n",
    "  2.0           25.1       13        39           -26               676\n",
    "  1.5           29.0        8        48           -40              1600\n",
    "  3.0           21.5       21        16             5                25\n",
    "  2.0           24.3       13        34           -21               441\n",
    "  3.5           23.0       26        26             0                 0\n",
    "  6.0           19.6       46         5            41              1681\n",
    "  4.0           21.2       31        18            13               169\n",
    "  ...           ...        ...      ...           ...              ...\n",
    "\n",
    "Mean X = 3.96           Mean Y = 23.9\n",
    "SD X = 1.5             SD Y = 3.5"
   ]
  },
  {
   "cell_type": "code",
   "execution_count": null,
   "id": "e9880ae2-6552-4802-a14f-a38e5a239cb1",
   "metadata": {},
   "outputs": [],
   "source": [
    "Pearson correlation coefficient\n",
    "\n",
    "The Pearson correlation coefficient measures the linear relationship between two variables. We can use the following formula:\n",
    "r = (1/n) * ∑[(Xi - X_mean)/SD_X] * [(Yi - Y_mean)/SD_Y]\n",
    "Inserting the values:\n",
    "r = (1/50) * ∑[(Xi - 3.96)/1.5] * [(Yi - 23.9)/3.5]\n",
    "r = -0.576\n",
    "The Pearson correlation coefficient between exercise per week and BMI is -0.576, indicating a moderate negative correlation.\n",
    "This means that as the number of hours of exercise per week increases, BMI tends to decrease."
   ]
  },
  {
   "cell_type": "code",
   "execution_count": null,
   "id": "5218f3e3-986b-4621-9b84-6dc639d077be",
   "metadata": {},
   "outputs": [],
   "source": [
    "Spearmans rank correlation\n",
    "\n",
    "The Spearmans rank correlation measures the monotonic relationship between two variables.\n",
    "We can use the formula:\n",
    "r = 1 - (6 * ∑d^2) / (n * (n^2 - 1))\n",
    "Inserting the values:\n",
    "r = 1 - (6 * ∑d^2) / (50 * (50^2 - 1))\n",
    "Using the same rank values we calculated earlier, we can compute the Spearmans rank correlation as:\n",
    "r = 1 - (6 * 3712) / (50 * 124950)\n",
    "r= 0.996\n",
    "The Spearmans rank correlation between exercise per week and BMI is 0.996, indicating a strongly positive correlation.\n",
    "This means that as the number of hours of exercise per week increases, BMI tends to increases."
   ]
  },
  {
   "cell_type": "code",
   "execution_count": null,
   "id": "78d00998-63a0-4e93-8111-4a4d6c7e4050",
   "metadata": {},
   "outputs": [],
   "source": []
  },
  {
   "cell_type": "code",
   "execution_count": null,
   "id": "b234cbc5-4d3f-433a-a9de-1c76cc5fa5fb",
   "metadata": {},
   "outputs": [],
   "source": [
    "Q4. A researcher is interested in examining the relationship between the number of hours individuals\n",
    "spend watching television per day and their level of physical activity. The researcher collected data on\n",
    "both variables from a sample of 50 participants. Calculate the Pearson correlation coefficient between\n",
    "these two variables.\n",
    "Ans:\n",
    "To calculate the Pearson correlation coefficient between the number of hours individuals spend watching television per day and\n",
    "their level of physical activity, we first need to compute the mean and standard deviation of each variable."
   ]
  },
  {
   "cell_type": "code",
   "execution_count": null,
   "id": "879d005e-b7e4-43ad-9f47-f615b1fed8e8",
   "metadata": {},
   "outputs": [],
   "source": [
    "TV Hours (X)   Physical Activity (Y)\n",
    "  3.0               5.2\n",
    "  1.5               6.8\n",
    "  2.5               6.0\n",
    "  4.0               4.5\n",
    "  2.0               5.5\n",
    "  3.5               4.0\n",
    "  1.0               7.5\n",
    "  2.0               6.0\n",
    "  1.5               7.0\n",
    "  4.5               3.0\n",
    "  ...               ...\n",
    "\n",
    "Mean X = 2.63           Mean Y = 5.49\n",
    "SD X = 1.34             SD Y = 1.44\n"
   ]
  },
  {
   "cell_type": "code",
   "execution_count": null,
   "id": "c55369a0-b28a-4348-9974-cc4b693f839a",
   "metadata": {},
   "outputs": [],
   "source": [
    "Using these values, we can calculate the Pearson correlation coefficient as follows:\n",
    "r = (1/n) * ∑[(Xi - X_mean)/SD_X] * [(Yi - Y_mean)/SD_Y]\n",
    "Inserting values:\n",
    "r = (1/50) * ∑[(Xi - 2.63)/1.34] * [(Yi - 5.49)/1.44]\n",
    "r = -0.529\n",
    "\n",
    "The Pearson correlation coefficient between the number of hours individuals spend watching television per day and\n",
    "their level of physical activity is -0.529, indicating a moderate negative correlation.\n",
    "This means that as the number of hours spent watching television per day increases, the level of physical activity tends to decrease."
   ]
  },
  {
   "cell_type": "code",
   "execution_count": null,
   "id": "91826a9a-8215-4edc-92f2-ebf28dadf524",
   "metadata": {},
   "outputs": [],
   "source": []
  },
  {
   "cell_type": "code",
   "execution_count": null,
   "id": "09395a68-e13a-460e-b686-0273a09b6695",
   "metadata": {},
   "outputs": [],
   "source": [
    "Q5. A survey was conducted to examine the relationship between age and preference for a particular\n",
    "brand of soft drink. The survey results are shown below:\n",
    "    \n",
    "Age(Years)   Soft drink Preference\n",
    "25                  Coke\n",
    "42                 Pepsi\n",
    "37             Mountain dew\n",
    "19                  Coke\n",
    "31                 Pepsi\n",
    "28                 Coke"
   ]
  },
  {
   "cell_type": "code",
   "execution_count": null,
   "id": "7087984e-a8e1-4bcc-9879-a825cb51ce5f",
   "metadata": {},
   "outputs": [],
   "source": [
    "To examine the relationship between age and preference for a particular brand of soft drink, \n",
    "we can create a contingency table with age as the row variable and soft drink preference as the column variable:"
   ]
  },
  {
   "cell_type": "code",
   "execution_count": null,
   "id": "f4e22612-dbaa-44cc-b279-98505c8c8752",
   "metadata": {},
   "outputs": [],
   "source": [
    "                  Coke     Pepsi     Mountain dew\n",
    "< 20 years         1         0             0\n",
    "20-29 years        2         0             0\n",
    "30-39 years        0         1             1\n",
    "40-49 years        0         1             0"
   ]
  },
  {
   "cell_type": "code",
   "execution_count": null,
   "id": "43c88afa-22f7-4d51-acaa-6a17c99b14e9",
   "metadata": {},
   "outputs": [],
   "source": [
    "We can see from the contingency table that the majority of respondents in all age groups prefer Coke, \n",
    "except for the 30-39 age group where there is a split preference between Mountain dew and Pepsi, and the 40+ age group where the preference is for Pepsi"
   ]
  },
  {
   "cell_type": "code",
   "execution_count": null,
   "id": "8d8ceee9-8dcd-42b7-9c2e-7a3ccb6b1357",
   "metadata": {},
   "outputs": [],
   "source": []
  },
  {
   "cell_type": "code",
   "execution_count": null,
   "id": "58b9299b-d08c-4c55-99b1-7c3c89c17ff5",
   "metadata": {},
   "outputs": [],
   "source": [
    "Q6. A company is interested in examining the relationship between the number of sales calls made per day\n",
    "and the number of sales made per week. The company collected data on both variables from a sample of\n",
    "30 sales representatives. Calculate the Pearson correlation coefficient between these two variables.\n",
    "Ans:\n",
    "To calculate the Pearson correlation coefficient between the number of sales calls made per day and\n",
    "the number of sales made per week, we first need to compute the mean and standard deviation of each variable."
   ]
  },
  {
   "cell_type": "code",
   "execution_count": null,
   "id": "ee95071a-add1-438d-bd7e-a225ec33f18c",
   "metadata": {},
   "outputs": [],
   "source": [
    "Sales Calls (X)   Sales Made (Y)\n",
    "     80                 8\n",
    "     70                 6\n",
    "     90                10\n",
    "    100                12\n",
    "     60                 4\n",
    "     75                 6\n",
    "     85                 9\n",
    "     95                11\n",
    "    110                14\n",
    "     50                 2\n",
    "     ...               ...\n",
    "\n",
    "Mean X = 82.33           Mean Y = 7.60\n",
    "SD X = 16.43             SD Y = 3.02"
   ]
  },
  {
   "cell_type": "code",
   "execution_count": null,
   "id": "ede2f5bf-474c-4c5c-be8a-fc9a4e6ebd32",
   "metadata": {},
   "outputs": [],
   "source": [
    "Using these values, we can calculate the Pearson correlation coefficient as follows:\n",
    "r = (1/n) * ∑[(Xi - X_mean)/SD_X] * [(Yi - Y_mean)/SD_Y]\n",
    "r = (1/30) * ∑[(Xi - 82.33)/16.43] * [(Yi - 7.60)/3.02]\n",
    "r = 0.874\n",
    "\n",
    "The Pearson correlation coefficient between the number of sales calls made per day and \n",
    "the number of sales made per week is 0.874, indicating a strong positive correlation. \n",
    "This means that as the number of sales calls made per day increases, the number of sales made per week tends to increase as well."
   ]
  }
 ],
 "metadata": {
  "kernelspec": {
   "display_name": "Python 3 (ipykernel)",
   "language": "python",
   "name": "python3"
  },
  "language_info": {
   "codemirror_mode": {
    "name": "ipython",
    "version": 3
   },
   "file_extension": ".py",
   "mimetype": "text/x-python",
   "name": "python",
   "nbconvert_exporter": "python",
   "pygments_lexer": "ipython3",
   "version": "3.10.8"
  }
 },
 "nbformat": 4,
 "nbformat_minor": 5
}
