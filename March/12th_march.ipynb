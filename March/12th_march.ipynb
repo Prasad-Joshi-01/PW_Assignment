{
 "cells": [
  {
   "cell_type": "code",
   "execution_count": null,
   "id": "34e1e87f-8c13-494b-a164-dfab3c1f5492",
   "metadata": {},
   "outputs": [],
   "source": [
    "Q1. Calculate the 95% confidence interval for a sample of data with a mean of 50 and a standard deviation\n",
    "of 5 using Python. Interpret the results.\n",
    "Ans:"
   ]
  },
  {
   "cell_type": "code",
   "execution_count": 4,
   "id": "7d8f4867-dd11-49fa-bbad-07d13bd7800b",
   "metadata": {},
   "outputs": [],
   "source": [
    "import scipy.stats as stats\n",
    "\n",
    "mean = 50\n",
    "std_dev = 5\n",
    "n = 100\n",
    "\n",
    "confidence_level = 0.95\n",
    "alpha = 1 - confidence_level\n",
    "\n",
    "std_error = std_dev / (n ** 0.5)\n",
    "margin_of_error = stats.t.ppf(1 - alpha / 2, n - 1) * std_error\n",
    "\n",
    "lower_bound = mean - margin_of_error\n",
    "upper_bound = mean + margin_of_error"
   ]
  },
  {
   "cell_type": "code",
   "execution_count": 5,
   "id": "acb93187-5aa1-46ae-bc02-c1ee5c612213",
   "metadata": {},
   "outputs": [
    {
     "data": {
      "text/plain": [
       "(49.00789152424566, 50.99210847575434)"
      ]
     },
     "execution_count": 5,
     "metadata": {},
     "output_type": "execute_result"
    }
   ],
   "source": [
    "(lower_bound, upper_bound)"
   ]
  },
  {
   "cell_type": "code",
   "execution_count": null,
   "id": "a23a09ca-a791-4a72-8c1f-fecbaf726a15",
   "metadata": {},
   "outputs": [],
   "source": [
    "This means that we can be 95% confident that the true population mean falls within this interval. \n",
    "Specifically, we are 95% confident that the population mean is between 49.00789152424566 and 50.99210847575434."
   ]
  },
  {
   "cell_type": "code",
   "execution_count": null,
   "id": "d46ea67a-1581-4f66-899b-981b3029cd63",
   "metadata": {},
   "outputs": [],
   "source": []
  },
  {
   "cell_type": "code",
   "execution_count": null,
   "id": "41daeb73-67bb-4522-8171-19f1d8184546",
   "metadata": {},
   "outputs": [],
   "source": [
    "Q2. Conduct a chi-square goodness of fit test to determine if the distribution of colors of M&Ms in a bag\n",
    "matches the expected distribution of 20% blue, 20% orange, 20% green, 10% yellow, 10% red, and 20%\n",
    "brown. Use Python to perform the test with a significance level of 0.05."
   ]
  },
  {
   "cell_type": "code",
   "execution_count": 14,
   "id": "54322d92-bcab-4070-b654-f37d0ed2f8a5",
   "metadata": {},
   "outputs": [
    {
     "name": "stdout",
     "output_type": "stream",
     "text": [
      "Fail to reject the null hypothesis: The distribution of colors in the bag matches the expected distribution.\n"
     ]
    }
   ],
   "source": [
    "import numpy as np\n",
    "import scipy.stats as stats\n",
    "\n",
    "observed = np.array([35, 20, 15, 10, 10, 20]) \n",
    "expected = np.array([.2, .2, .2, .1, .1, .2]) * np.sum(observed)  \n",
    "\n",
    "chi_sq_stat, p_value = stats.chisquare(f_obs=observed, f_exp=expected)\n",
    "\n",
    "alpha = 0.05\n",
    "df = len(observed) - 1\n",
    "critical_value = stats.chi2.ppf(q=1 - alpha, df=df)\n",
    "\n",
    "if chi_sq_stat > critical_value:\n",
    "    print(\"Reject the null hypothesis: The distribution of colors in the bag does not match the expected distribution.\")\n",
    "else:\n",
    "    print(\"Fail to reject the null hypothesis: The distribution of colors in the bag matches the expected distribution.\")\n"
   ]
  },
  {
   "cell_type": "code",
   "execution_count": null,
   "id": "ee1d7f5d-fa8f-453a-a7a5-4a98d977d29b",
   "metadata": {},
   "outputs": [],
   "source": []
  },
  {
   "cell_type": "code",
   "execution_count": null,
   "id": "998c293e-f111-4bea-a8ac-faf90cd27e59",
   "metadata": {},
   "outputs": [],
   "source": [
    "Q3. Use Python to calculate the chi-square statistic and p-value for a contingency table with the following\n",
    "data:\n",
    "          Group A     Group B\n",
    "Outcome 1   20           15\n",
    "Outcome 2   10           25\n",
    "Outcome 3   15           20\n",
    "Interpret the results of the test."
   ]
  },
  {
   "cell_type": "code",
   "execution_count": 28,
   "id": "3bdc040f-fed2-4bcf-9acf-863a6221e51c",
   "metadata": {},
   "outputs": [],
   "source": [
    "import scipy.stats as stat\n",
    "import numpy as np\n",
    "observed = [[20, 15],\n",
    "            [10, 25],\n",
    "            [15, 20]]\n",
    "chi2_stat, p_val, dof, expected = stats.chi2_contingency(observed)"
   ]
  },
  {
   "cell_type": "code",
   "execution_count": 29,
   "id": "18bebc55-a789-405f-9829-ea128578132f",
   "metadata": {},
   "outputs": [
    {
     "data": {
      "text/plain": [
       "(5.833333333333334, 0.05411376622282158)"
      ]
     },
     "execution_count": 29,
     "metadata": {},
     "output_type": "execute_result"
    }
   ],
   "source": [
    "(chi2_stat, p_val)"
   ]
  },
  {
   "cell_type": "code",
   "execution_count": null,
   "id": "30f9ac2c-f70d-49fe-a37f-68ca80a724bd",
   "metadata": {},
   "outputs": [],
   "source": [
    "The chi-square statistic is 5.833333333333334 and the p-value is 0.05411376622282158. \n",
    "Since the p-value is greater than the significance level of 0.05, we fail to reject the null hypothesis.\n",
    "Therefore, we can conclude that there is no significant association between the outcome and the groups. \n",
    "In other words, the proportions of the outcomes are not significantly different between Group A and Group B."
   ]
  },
  {
   "cell_type": "code",
   "execution_count": null,
   "id": "f300f5fb-fbd1-478f-b623-4d6095cdf066",
   "metadata": {},
   "outputs": [],
   "source": []
  },
  {
   "cell_type": "code",
   "execution_count": null,
   "id": "2cb820ef-d6d8-4796-9491-1db6d5b97e9a",
   "metadata": {},
   "outputs": [],
   "source": [
    "Q4. A study of the prevalence of smoking in a population of 500 individuals found that 60 individuals\n",
    "smoked. Use Python to calculate the 95% confidence interval for the true proportion of individuals in the\n",
    "population who smoke."
   ]
  },
  {
   "cell_type": "code",
   "execution_count": 31,
   "id": "ce247da8-5dd4-4d4c-a065-75532cba8513",
   "metadata": {},
   "outputs": [],
   "source": [
    "import statsmodels.stats.proportion as proportion\n",
    "\n",
    "n = 500\n",
    "p = 60/n\n",
    "conf_level = 0.95\n",
    "conf_int = proportion.proportion_confint(count=p*n, nobs=n, alpha=1-conf_level)"
   ]
  },
  {
   "cell_type": "code",
   "execution_count": 32,
   "id": "38cd8b24-dd1c-4f40-a2e8-bbbb29ef9a05",
   "metadata": {},
   "outputs": [
    {
     "data": {
      "text/plain": [
       "(0.09151638887130707, 0.1484836111286929)"
      ]
     },
     "execution_count": 32,
     "metadata": {},
     "output_type": "execute_result"
    }
   ],
   "source": [
    "conf_int"
   ]
  },
  {
   "cell_type": "code",
   "execution_count": null,
   "id": "6ff3d0ec-4f9a-4345-bd54-6d2b7db42017",
   "metadata": {},
   "outputs": [],
   "source": []
  },
  {
   "cell_type": "code",
   "execution_count": null,
   "id": "03869025-f7db-4b68-a649-bf55557a6b4f",
   "metadata": {},
   "outputs": [],
   "source": [
    "Q5. Calculate the 90% confidence interval for a sample of data with a mean of 75 and a standard deviation\n",
    "of 12 using Python. Interpret the results.\n",
    "Ans:"
   ]
  },
  {
   "cell_type": "code",
   "execution_count": 34,
   "id": "0fea7c06-3fcd-47fe-af1d-19e65733ebca",
   "metadata": {},
   "outputs": [
    {
     "name": "stdout",
     "output_type": "stream",
     "text": [
      "The 90% confidence interval is: (72.15479878877537, 77.84520121122463)\n"
     ]
    }
   ],
   "source": [
    "import scipy.stats as stats\n",
    "\n",
    "mean = 75\n",
    "std_dev = 12\n",
    "n = 50\n",
    "confidence_level = 0.9\n",
    "alpha = 1 - confidence_level\n",
    "std_error = std_dev / (n ** 0.5)\n",
    "\n",
    "margin_of_error = stats.t.ppf(1 - alpha / 2, n - 1) * std_error\n",
    "lower = mean - margin_of_error\n",
    "upper = mean + margin_of_error\n",
    "print(\"The 90% confidence interval is:\", (lower, upper))"
   ]
  },
  {
   "cell_type": "code",
   "execution_count": null,
   "id": "de26c81a-5db5-4c0a-a766-bd8ce4de4693",
   "metadata": {},
   "outputs": [],
   "source": [
    "This means that we can be 90% confident that the true population mean falls within this interval. \n",
    "Specifically, we are 90% confident that the population mean is between 72.15479878877537 and 77.84520121122463."
   ]
  },
  {
   "cell_type": "code",
   "execution_count": null,
   "id": "11becef4-4e9c-49ea-ab4a-db13405b4e54",
   "metadata": {},
   "outputs": [],
   "source": []
  },
  {
   "cell_type": "code",
   "execution_count": null,
   "id": "a61612cf-358c-4adf-b1b2-66095f8c6ada",
   "metadata": {},
   "outputs": [],
   "source": [
    "Q6. Use Python to plot the chi-square distribution with 10 degrees of freedom. Label the axes and shade the\n",
    "area corresponding to a chi-square statistic of 15."
   ]
  },
  {
   "cell_type": "code",
   "execution_count": 37,
   "id": "8535e524-6268-4831-88bc-18b1322b608b",
   "metadata": {},
   "outputs": [
    {
     "data": {
      "image/png": "[encoded data removed]",
      "text/plain": [
       "<Figure size 640x480 with 1 Axes>"
      ]
     },
     "metadata": {},
     "output_type": "display_data"
    }
   ],
   "source": [
    "import numpy as np\n",
    "import matplotlib.pyplot as plt\n",
    "import scipy.stats as stats\n",
    "df = 10\n",
    "x = np.linspace(0, 30, 1000)\n",
    "chi_sq = stats.chi2.pdf(x, df)\n",
    "# Shade the area corresponding to a chi-square statistic of 15\n",
    "plt.fill_between(x[x>=15], chi_sq[x>=15], color='lightblue')\n",
    "plt.plot(x, chi_sq)\n",
    "plt.xlabel(\"Chi-square statistic\")\n",
    "plt.ylabel(\"Density\")\n",
    "plt.title(\"Chi-square distribution with 10 degrees of freedom\")\n",
    "plt.show()"
   ]
  },
  {
   "cell_type": "code",
   "execution_count": null,
   "id": "86c85be6-567b-4cba-8637-7e8e287461af",
   "metadata": {},
   "outputs": [],
   "source": []
  },
  {
   "cell_type": "code",
   "execution_count": null,
   "id": "1080d4f2-7546-4987-a5f4-7e371e033057",
   "metadata": {},
   "outputs": [],
   "source": [
    "Q7. A random sample of 1000 people was asked if they preferred Coke or Pepsi. Of the sample, 520\n",
    "preferred Coke. Calculate a 99% confidence interval for the true proportion of people in the population who\n",
    "prefer Coke."
   ]
  },
  {
   "cell_type": "code",
   "execution_count": null,
   "id": "bd50af56-9589-4032-984a-506f0affe150",
   "metadata": {},
   "outputs": [],
   "source": [
    "To calculate the confidence interval for the true proportion of people in the population who prefer Coke, we can use the following formula:\n",
    "CI = p̂ ± z*(√(p̂(1-p̂)/n))\n",
    "where p̂ is the sample proportion, z is the z-score corresponding to the confidence level (99% in this case), \n",
    "and n is the sample size.\n",
    "Here, p̂ = 520/1000 = 0.52\n",
    "\n",
    "The z-score corresponding to the 99% confidence level is 2.576 (you can use a standard normal distribution table or calculator to find this).\n",
    "\n",
    "So, the confidence interval can be calculated as:\n",
    "CI = 0.52 ± 2.576*(√(0.52*(1-0.52)/1000))\n",
    "CI = 0.52 ± 0.049\n",
    "CI = (0.471, 0.569)\n",
    "\n",
    "Therefore, we can be 99% confident that the true proportion of people in the population who prefer Coke is between 0.471 and 0.569."
   ]
  },
  {
   "cell_type": "code",
   "execution_count": null,
   "id": "cb6825c3-a0fe-4107-a190-2afcd086eebb",
   "metadata": {},
   "outputs": [],
   "source": []
  },
  {
   "cell_type": "code",
   "execution_count": null,
   "id": "4310673a-0fe1-474f-b46e-bf13b8a35024",
   "metadata": {},
   "outputs": [],
   "source": [
    "Q8. A researcher hypothesizes that a coin is biased towards tails. They flip the coin 100 times and observe\n",
    "45 tails. Conduct a chi-square goodness of fit test to determine if the observed frequencies match the\n",
    "expected frequencies of a fair coin. Use a significance level of 0.05."
   ]
  },
  {
   "cell_type": "code",
   "execution_count": null,
   "id": "328e59d9-31e5-4990-8ea6-d4d297a265e8",
   "metadata": {},
   "outputs": [],
   "source": [
    "Step 1: State the null and alternative hypotheses.\n",
    "The null hypothesis (H0) is that the coin is fair, i.e.,\n",
    "the observed frequencies match the expected frequencies of a fair coin.\n",
    "The alternative hypothesis (Ha) is that the coin is biased towards tails, i.e.,\n",
    "the observed frequencies do not match the expected frequencies of a fair coin.\n",
    "H0: The coin is fair (i.e., p = 0.5).\n",
    "Ha: The coin is biased towards tails (i.e., p < 0.5).\n",
    "\n",
    "Step 2: Determine the expected frequencies.\n",
    "If the coin is fair, we expect to see 50% heads and 50% tails.\n",
    "Since we flipped the coin 100 times, we expect 50 heads and 50 tails.\n",
    "\n",
    "Step 3: Calculate the test statistic.\n",
    "The test statistic for a chi-square goodness of fit test is calculated as:\n",
    "χ2 = ∑(O - E)2 / E\n",
    "where O is the observed frequency and E is the expected frequency.\n",
    "Using the observed and expected frequencies from above, we can calculate the test statistic as follows:\n",
    "χ2 = [(45-50)2/50] + [(55-50)2/50] = 1\n",
    "\n",
    "Step 4: Determine the degrees of freedom.\n",
    "The degrees of freedom (df) for a chi-square goodness of fit test are calculated as:\n",
    "df = k - 1\n",
    "where k is the number of categories. Here, k = 2 (heads and tails), so df = 1.\n",
    "\n",
    "Step 5: Determine the p-value.\n",
    "To determine the p-value, we need to use a chi-square distribution table or calculator with df = 1 and a significance level of 0.05.\n",
    "From the table, we find that the p-value is 0.317.\n",
    "\n",
    "Step 6: Make a decision and interpret the results.\n",
    "Since the p-value (0.317) is greater than the significance level (0.05), we fail to reject the null hypothesis.\n",
    "There is not enough evidence to suggest that the coin is biased towards tails.\n",
    "The observed frequencies match the expected frequencies of a fair coin."
   ]
  },
  {
   "cell_type": "code",
   "execution_count": null,
   "id": "ef063fd6-daea-46e8-b4a0-4e4edd1a0091",
   "metadata": {},
   "outputs": [],
   "source": []
  },
  {
   "cell_type": "code",
   "execution_count": null,
   "id": "17552757-af80-4a3c-900f-a5e0b41df4f0",
   "metadata": {},
   "outputs": [],
   "source": [
    "Q9. A study was conducted to determine if there is an association between smoking status (smoker or\n",
    "non-smoker) and lung cancer diagnosis (yes or no). The results are shown in the contingency table below.\n",
    "Conduct a chi-square test for independence to determine if there is a significant association between\n",
    "smoking status and lung cancer diagnosis.\n",
    "            Lung Cancer: Yes     Lung Cancer: No\n",
    "Smoker            60                 140\n",
    "Non-smoker        30                 170\n",
    "\n",
    "Use a significance level of 0.05."
   ]
  },
  {
   "cell_type": "code",
   "execution_count": null,
   "id": "24a3dba7-cdd0-484c-b587-48dbc35a0658",
   "metadata": {},
   "outputs": [],
   "source": [
    "Step 1: State the null and alternative hypotheses.\n",
    "The null hypothesis (H0) is that there is no association between smoking status and lung cancer diagnosis.\n",
    "The alternative hypothesis (Ha) is that there is a significant association between smoking status and \n",
    "lung cancer diagnosis.\n",
    "H0: The variables are independent.\n",
    "Ha: The variables are dependent.\n",
    "\n",
    "Step 2: Set the level of significance.\n",
    "The significance level is given as 0.05.\n",
    "\n",
    "Step 3: Determine the degrees of freedom.\n",
    "The degrees of freedom (df) for a chi-square test for independence are calculated as:\n",
    "df = k-1\n",
    "df=1\n",
    "\n",
    "step 4: Decision Boundary = 5.991\n",
    "\n",
    "Step 5: Calculate the chi-square test statistic.\n",
    "The chi-square test statistic is calculated as:\n",
    "χ2 = ∑ [(O - E)2 / E]\n",
    "where O is the observed frequency and E is the expected frequency.\n",
    "Using the observed and expected frequencies and the formula above, we can calculate the chi-square test statistic as follows:\n",
    "χ2 = [(60-45)2/45] + [(140-155)2/155] + [(30-45)2/45] + [(170-155)2/155]\n",
    "χ2 = 6.667\n",
    "\n",
    "Step 6: Determine the p-value.\n",
    "To determine the p-value, we need to use a chi-square distribution table or calculator with df = 1 and a significance level of 0.05. \n",
    "From the table, we find that the p-value is less than 0.05.\n",
    "\n",
    "Step 7: Make a decision and interpret the results.\n",
    "Since the p-value (less than 0.05) is smaller than the significance level (0.05), we reject the null hypothesis.\n",
    "There is a significant association between smoking status and lung cancer diagnosis. \n",
    "In other words, smoking status and lung cancer diagnosis are dependent variables."
   ]
  },
  {
   "cell_type": "code",
   "execution_count": null,
   "id": "f3087c4b-6365-4066-9aca-e448bbff02e2",
   "metadata": {},
   "outputs": [],
   "source": []
  },
  {
   "cell_type": "code",
   "execution_count": null,
   "id": "d317cd2d-fbfc-475f-b58d-c736ee7e019e",
   "metadata": {},
   "outputs": [],
   "source": [
    "Q10. A study was conducted to determine if the proportion of people who prefer milk chocolate, dark\n",
    "chocolate, or white chocolate is different in the U.S. versus the U.K. A random sample of 500 people from\n",
    "the U.S. and a random sample of 500 people from the U.K. were surveyed. The results are shown in the\n",
    "contingency table below. Conduct a chi-square test for independence to determine if there is a significant\n",
    "association between chocolate preference and country of origin.\n",
    "             Milk Chocolate    Dark Chocolate     White Chocolate\n",
    "U.S. (n=500)    200                 150                 150\n",
    "U.K. (n=500)    225                 175                 100\n",
    "Use a significance level of 0.01."
   ]
  },
  {
   "cell_type": "code",
   "execution_count": null,
   "id": "c89960b6-d730-4517-b9a3-6f8d2a90b692",
   "metadata": {},
   "outputs": [],
   "source": [
    "Step 1: State the null and alternative hypotheses.\n",
    "The null hypothesis (H0) is that there is no association between chocolate preference and country of origin.\n",
    "The alternative hypothesis (Ha) is that there is a significant association between chocolate preference and\n",
    "country of origin.\n",
    "H0: The variables are independent.\n",
    "Ha: The variables are dependent.\n",
    "\n",
    "Step 2: Set the level of significance.\n",
    "The significance level is given as 0.01.\n",
    "\n",
    "Step 3: Determine the degrees of freedom.\n",
    "The degrees of freedom (df) for a chi-square test for independence are calculated as:\n",
    "df = k-1\n",
    "df=2\n",
    "\n",
    "step 4: Decision Boundary = 9.210\n",
    "\n",
    "Now, we can calculate the chi-square test statistic:\n",
    "χ2 = [(200 - 180)2 / 180] + [(150 - 150)2 / 150] + [(150 - 170)2 / 170] + [(225 - 245)2 / 245] + [(175 - 205)2 / 205] + [(100 - 50)2 / 50]\n",
    "χ2 = 7.60\n",
    "\n",
    "Since our calculated chi-square test statistic (7.60) is less than the critical value (9.21), we fail to reject the null hypothesis. \n",
    "Therefore, we do not have enough evidence to conclude that there is a significant association between chocolate preference and\n",
    "country of origin at a significance level of 0.01."
   ]
  },
  {
   "cell_type": "code",
   "execution_count": null,
   "id": "7b2c4a8f-9d8f-4e66-9dd9-f24700ad4c8d",
   "metadata": {},
   "outputs": [],
   "source": []
  },
  {
   "cell_type": "code",
   "execution_count": null,
   "id": "c85954f6-baf9-4268-9326-d69c86fa9cdd",
   "metadata": {},
   "outputs": [],
   "source": [
    "Q11. A random sample of 30 people was selected from a population with an unknown mean and standard\n",
    "deviation. The sample mean was found to be 72 and the sample standard deviation was found to be 10.\n",
    "Conduct a hypothesis test to determine if the population mean is significantly different from 70. Use a\n",
    "significance level of 0.05."
   ]
  },
  {
   "cell_type": "code",
   "execution_count": null,
   "id": "3e162779-31b7-4e10-b9b2-35cdeda2cf8f",
   "metadata": {},
   "outputs": [],
   "source": [
    "To conduct a hypothesis test to determine if the population mean is significantly different from 70, we need to first state our null and alternative hypotheses.\n",
    "Our null hypothesis is that the population mean is equal to 70, and our alternative hypothesis is that the population mean is not equal to 70.\n",
    "H0: μ = 70\n",
    "HA: μ ≠ 70\n",
    "We can use a t-test for a sample mean to test this hypothesis since the population standard deviation is unknown. \n",
    "The formula for the t-test statistic is:\n",
    "t = (x̄ - μ) / (s / √n)\n",
    "where x̄ is the sample mean, μ is the population mean, s is the sample standard deviation, and n is the sample size.\n",
    "\n",
    "Using the given values, we can calculate the t-test statistic:\n",
    "t = (72 - 70) / (10 / √30)\n",
    "t = 1.095\n",
    "The degrees of freedom for the test are n-1 = 29\n",
    "Using a t-distribution table or a calculator, we can find the critical values for a two-tailed t-test with 29 degrees of freedom and a significance level of 0.05 to be ±2.045.\n",
    "Since our calculated t-test statistic (1.095) falls within the range of -2.045 to 2.045, we fail to reject the null hypothesis.\n",
    "Therefore, we do not have enough evidence to conclude that the population mean is significantly different from 70 at a significance level of 0.05."
   ]
  }
 ],
 "metadata": {
  "kernelspec": {
   "display_name": "Python 3 (ipykernel)",
   "language": "python",
   "name": "python3"
  },
  "language_info": {
   "codemirror_mode": {
    "name": "ipython",
    "version": 3
   },
   "file_extension": ".py",
   "mimetype": "text/x-python",
   "name": "python",
   "nbconvert_exporter": "python",
   "pygments_lexer": "ipython3",
   "version": "3.10.8"
  }
 },
 "nbformat": 4,
 "nbformat_minor": 5
}
