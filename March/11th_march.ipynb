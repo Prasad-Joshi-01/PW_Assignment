{
 "cells": [
  {
   "cell_type": "code",
   "execution_count": null,
   "id": "b72c35e7-4c2f-4315-b4e5-4e78f0258f14",
   "metadata": {},
   "outputs": [],
   "source": [
    "Q1: What is the difference between a t-test and a z-test? Provide an example scenario where you would\n",
    "use each type of test.\n",
    "Ans:\n",
    "The main difference between a t-test and a z-test is the underlying assumptions made about the population variance.\n",
    "A t-test is used when the population variance is unknown, while a z-test is used when the population variance is known or the sample size is large.\n",
    "\n",
    "A t-test is generally used when the sample size is small (less than 30) and the population standard deviation is unknown. \n",
    "The t-test uses the sample standard deviation to estimate the population standard deviation, and the test statistic follows a t-distribution. \n",
    "A t-test is used to test hypotheses about population means.\n",
    "\n",
    "For example, suppose a researcher wants to test whether a new medication reduces blood pressure. \n",
    "The researcher could randomly assign participants to a treatment group and a control group, and measure their blood pressure before and after the treatment. \n",
    "Since the population standard deviation is unknown, the researcher would use a t-test to compare the mean reduction in blood pressure between the two groups.\n",
    "\n",
    "On the other hand, a z-test is generally used when the sample size is large (greater than or equal to 30) or the population variance is known. \n",
    "The z-test uses the population standard deviation to calculate the test statistic, which follows a standard normal distribution. \n",
    "A z-test is used to test hypotheses about population proportions or means."
   ]
  },
  {
   "cell_type": "code",
   "execution_count": null,
   "id": "a8c27308-bb52-4561-b0cf-d73ac39dea10",
   "metadata": {},
   "outputs": [],
   "source": []
  },
  {
   "cell_type": "code",
   "execution_count": null,
   "id": "b8383c26-5ef2-406a-967c-352a1ade2c42",
   "metadata": {},
   "outputs": [],
   "source": [
    "Q2: Differentiate between one-tailed and two-tailed tests.\n",
    "Ans:\n",
    "In hypothesis testing, the null hypothesis (H0) is a statement that assumes no difference or no effect, while the alternative hypothesis (Ha) is a statement that assumes there is a difference or an effect. A hypothesis test can be either one-tailed or two-tailed, depending on the direction of the alternative hypothesis.\n",
    "\n",
    "In a one-tailed test, the alternative hypothesis specifies the direction of the effect or difference. \n",
    "This means that the test is designed to detect an effect in a specific direction, either positive or negative. \n",
    "The null hypothesis assumes that there is no effect or difference in the specified direction.\n",
    "One-tailed tests are often used when the hypothesis is directional and there is a clear expectation of the direction of the effect.\n",
    "\n",
    "For example, suppose a researcher wants to test whether a new treatment improves test scores. \n",
    "The alternative hypothesis could be stated as: The new treatment increases test scores.\n",
    "The null hypothesis assumes that there is no difference in test scores between the treatment and control groups, or that the new treatment has no effect on test scores.\n",
    "In this case, a one-tailed test would be appropriate because the researcher is only interested in detecting an increase in test scores.\n",
    "\n",
    "In a two-tailed test, the alternative hypothesis does not specify the direction of the effect or difference. \n",
    "This means that the test is designed to detect any difference between the two groups, whether positive or negative.\n",
    "The null hypothesis assumes that there is no difference or effect in either direction. \n",
    "Two-tailed tests are often used when the hypothesis is non-directional or when there is no clear expectation of the direction of the effect.\n",
    "\n",
    "For example, suppose a researcher wants to test whether a new drug affects heart rate.\n",
    "The alternative hypothesis could be stated as: The new drug affects heart rate.\n",
    "The null hypothesis assumes that there is no difference in heart rate between the drug and placebo groups. \n",
    "In this case, a two-tailed test would be appropriate because the researcher is interested in detecting any difference in heart rate, whether it is an increase or a decrease."
   ]
  },
  {
   "cell_type": "code",
   "execution_count": null,
   "id": "d6d8fca5-e7ad-42e3-bc4c-c034b6a8e177",
   "metadata": {},
   "outputs": [],
   "source": []
  },
  {
   "cell_type": "code",
   "execution_count": null,
   "id": "b3819f79-92ce-4099-9dea-92cecd656cc2",
   "metadata": {},
   "outputs": [],
   "source": [
    "Q3: Explain the concept of Type 1 and Type 2 errors in hypothesis testing. Provide an example scenario for\n",
    "each type of error.\n",
    "Ans:\n",
    "Type 1 and Type 2 errors are two types of errors that can occur in hypothesis testing.\n",
    "\n",
    "Type 1 error occurs when the null hypothesis is rejected when it is actually true. \n",
    "This means that the test concludes that there is an effect or difference between two groups when there really isnt one.\n",
    "Type 1 error is also known as a \"false positive\". \n",
    "The probability of making a Type 1 error is denoted by the symbol α (alpha) and is set before conducting the test as the significance level.\n",
    "\n",
    "An example scenario of a Type 1 error is a medical test for a disease. \n",
    "Suppose a test has a false positive rate of 5% and is used to diagnose a rare disease that only affects 1 in 1000 people. \n",
    "If 1,000 people are tested, there will be an expected number of 50 people who will test positive for the disease, but only 1 person actually has the disease. \n",
    "The other 49 people are Type 1 errors - they were incorrectly diagnosed as having the disease when they really dont.\n",
    "\n",
    "Type 2 error occurs when the null hypothesis is accepted when it is actually false.\n",
    "This means that the test concludes that there is no effect or difference between two groups when there really is one.\n",
    "Type 2 error is also known as a \"false negative\". \n",
    "The probability of making a Type 2 error is denoted by the symbol β (beta).\n",
    "\n",
    "An example scenario of a Type 2 error is a medical test for a disease. \n",
    "Suppose a test has a false negative rate of 5% and is used to diagnose a common disease that affects 1 in 100 people. \n",
    "If 100 people are tested, there will be an expected number of 5 people who will test negative for the disease, but actually have it. \n",
    "These 5 people are Type 2 errors - they were incorrectly diagnosed as not having the disease when they really do."
   ]
  },
  {
   "cell_type": "code",
   "execution_count": null,
   "id": "02ae4cbb-ae8b-445d-906d-6f726b339483",
   "metadata": {},
   "outputs": [],
   "source": []
  },
  {
   "cell_type": "code",
   "execution_count": null,
   "id": "3fb548da-e46f-4446-9298-424600a941e1",
   "metadata": {},
   "outputs": [],
   "source": [
    "Q4: Explain Bayess theorem with an example.\n",
    "Ans:\n",
    "Bayes theorem is a mathematical formula that allows us to update our beliefs about an event based on new evidence or information that becomes available.\n",
    "It is a way to calculate the probability of an event based on prior knowledge and new information.\n",
    "\n",
    "The theorem is based on the following equation:\n",
    "\n",
    "P(A|B) = (P(B|A) * P(A)) / P(B)\n",
    "\n",
    "where:\n",
    "\n",
    "P(A|B) is the probability of event A occurring given that event B has occurred\n",
    "P(B|A) is the probability of event B occurring given that event A has occurred\n",
    "P(A) is the prior probability of event A occurring\n",
    "P(B) is the prior probability of event B occurring\n",
    "\n",
    "Example:\n",
    "Suppose there is a rare disease that affects 1 in 1000 people. \n",
    "You go to the doctor and take a test for this disease, which has a false positive rate of 5% and a false negative rate of 1%.\n",
    "Before taking the test, the prior probability of having the disease (P(A)) is 1 in 1000 or 0.001.\n",
    "After taking the test, you receive a positive result (event B).\n",
    "Now, you want to know the probability that you actually have the disease (event A).\n",
    "\n",
    "P(A|B) = (0.99 * 0.001) / 0.05094 = 0.019\n",
    "So the probability of actually having the disease given a positive test result is 0.019 or 1.9%."
   ]
  },
  {
   "cell_type": "code",
   "execution_count": null,
   "id": "735fae57-2a29-4e6c-9e5c-9c20abb3f0e1",
   "metadata": {},
   "outputs": [],
   "source": []
  },
  {
   "cell_type": "code",
   "execution_count": null,
   "id": "6d558ab3-b9ae-4730-9e3b-e51e3375b63a",
   "metadata": {},
   "outputs": [],
   "source": [
    "Q5: What is a confidence interval? How to calculate the confidence interval, explain with an example.\n",
    "Ans:\n",
    "A confidence interval is a range of values that is likely to contain the true value of a population parameter (such as the mean or proportion) with a certain level of confidence. \n",
    "It is a statistical measure of the precision of an estimate.\n",
    "To calculate a confidence interval, we need to specify a confidence level, which represents the probability that the interval will contain the true population parameter.\n",
    "Common confidence levels are 90%, 95%, and 99%.\n",
    "\n",
    "The formula for calculating a confidence interval for the mean is:\n",
    "\n",
    "CI = X̄ ± Zα/2 * (σ/√n)\n",
    "\n",
    "where:\n",
    "\n",
    "X̄ is the sample mean\n",
    "Zα/2 is the z-score corresponding to the desired confidence level\n",
    "σ is the population standard deviation (if known) or the sample standard deviation (if unknown)\n",
    "n is the sample size\n",
    "\n",
    "Heres an example to illustrate how to calculate a confidence interval:\n",
    "\n",
    "Suppose we want to estimate the mean height of all adult males in a city. \n",
    "We take a random sample of 50 adult males and measure their heights. \n",
    "The sample mean height is 175 cm, and the sample standard deviation is 8 cm.\n",
    "\n",
    "We want to calculate a 95% confidence interval for the population mean height.\n",
    "From a standard normal distribution table, we find that the z-score corresponding to a 95% confidence level is 1.96.\n",
    "\n",
    "Plugging in the values, we get:\n",
    "CI = 175 ± 1.96 * (8/√50) = (170.9, 179.1)\n",
    "\n",
    "So we can say with 95% confidence that the true population mean height is between 170.9 cm and 179.1 cm."
   ]
  },
  {
   "cell_type": "code",
   "execution_count": null,
   "id": "87c09868-732f-4482-8903-73bdd859492a",
   "metadata": {},
   "outputs": [],
   "source": []
  },
  {
   "cell_type": "code",
   "execution_count": null,
   "id": "8112b891-4357-4f80-966f-b29ab0f370e9",
   "metadata": {},
   "outputs": [],
   "source": [
    "Q6. Use Bayes Theorem to calculate the probability of an event occurring given prior knowledge of the\n",
    "events probability and new evidence. Provide a sample problem and solution."
   ]
  },
  {
   "cell_type": "code",
   "execution_count": null,
   "id": "23b96974-d569-4dc9-8fff-41eb026c0685",
   "metadata": {
    "jupyter": {
     "source_hidden": true
    },
    "tags": []
   },
   "outputs": [],
   "source": [
    "Suppose a factory produces two types of products: Type A and Type B. 70% of the products produced are Type A, while the remaining 30% are Type B.\n",
    "A quality control inspector selects a product at random and tests it, and the test result is positive for defects. \n",
    "The probability of a defective product for Type A is 10%, while the probability of a defective product for Type B is 20%.\n",
    "What is the probability that the selected product is Type A given that it tested positive for defects?\n",
    "\n",
    "To solve this problem using Bayes theorem, we need to use the following formula:\n",
    "P(A|B) = P(B|A) * P(A) / P(B)\n",
    "\n",
    "We know that P(B|A) = 0.1 and P(B|B) = 0.2, so we can plug in the values and solve:\n",
    "P(B) = 0.1 * 0.7 + 0.2 * 0.3 = 0.13\n",
    "\n",
    "Now we can plug in all the values into Bayes theorem and solve for P(A|B):\n",
    "P(A|B) = P(B|A) * P(A) / P(B) = 0.1 * 0.7 / 0.13 = 0.538\n",
    "\n",
    "Therefore, the probability that the selected product is Type A given that it tested positive for defects is approximately 0.538, or 53.8%."
   ]
  },
  {
   "cell_type": "code",
   "execution_count": null,
   "id": "093dc8e6-3beb-41fc-849f-119615236031",
   "metadata": {},
   "outputs": [],
   "source": []
  },
  {
   "cell_type": "code",
   "execution_count": null,
   "id": "492efcc9-bcd3-43ca-9ecb-af1e2718716a",
   "metadata": {},
   "outputs": [],
   "source": [
    "Q7. Calculate the 95% confidence interval for a sample of data with a mean of 50 and a standard deviation\n",
    "of 5. Interpret the results."
   ]
  },
  {
   "cell_type": "code",
   "execution_count": null,
   "id": "3e32125b-fa52-4b52-b456-7615a1d51c73",
   "metadata": {},
   "outputs": [],
   "source": [
    "To calculate the 95% confidence interval for the given sample, we can use the formula:\n",
    "CI = X̄ ± z*(σ/√n)\n",
    "\n",
    "Substituting the values, we get:\n",
    "\n",
    "CI = 50 ± 1.96*(5/√n)\n",
    "\n",
    "We dont know the sample size or the population standard deviation, but we can still interpret the results based on what we do know.\n",
    "\n",
    "The confidence interval means that if we repeatedly took random samples from the population and \n",
    "calculated a 95% confidence interval for each sample, approximately 95% of those intervals would contain the true population mean."
   ]
  },
  {
   "cell_type": "code",
   "execution_count": null,
   "id": "096dd50c-8ce1-4061-add1-b08c91ab2d6e",
   "metadata": {},
   "outputs": [],
   "source": []
  },
  {
   "cell_type": "code",
   "execution_count": null,
   "id": "9069e180-7f38-4986-b281-bfd84164cc21",
   "metadata": {},
   "outputs": [],
   "source": [
    "Q8. What is the margin of error in a confidence interval? How does sample size affect the margin of error?\n",
    "Provide an example of a scenario where a larger sample size would result in a smaller margin of error."
   ]
  },
  {
   "cell_type": "code",
   "execution_count": null,
   "id": "02408685-ca20-4ba8-891d-99e446d0d25b",
   "metadata": {},
   "outputs": [],
   "source": [
    "The margin of error is a measure of the amount of error or uncertainty in a confidence interval estimate for a population parameter.\n",
    "It represents the distance between the point estimate (e.g., sample mean) and the true population parameter.\n",
    "In other words, it reflects the amount of imprecision in our estimation.\n",
    "\n",
    "The margin of error is calculated as the product of the critical value (based on the desired level of confidence) and the standard error of the estimate. \n",
    "It is typically expressed as a range around the point estimate, with the lower and upper bounds being the point estimate minus and plus the margin of error, respectively.\n",
    "\n",
    "Sample size has a direct impact on the margin of error. \n",
    "Specifically, as the sample size increases, the margin of error decreases.\n",
    "This is because a larger sample size yields a more precise estimate of the population parameter, resulting in a narrower range of plausible values. \n",
    "Conversely, a smaller sample size yields a less precise estimate, resulting in a wider range of plausible values.\n",
    "\n",
    "For example, suppose we want to estimate the mean height of all students in a particular university. \n",
    "We take a random sample of 50 students and calculate the sample mean height to be 68 inches, with a margin of error of 2 inches.\n",
    "If we were to increase the sample size to 500 students, the margin of error would decrease (assuming all other factors are held constant), perhaps to 0.5 inches. \n",
    "This is because the larger sample size would yield a more precise estimate of the true mean height, allowing us to narrow the range of plausible values"
   ]
  },
  {
   "cell_type": "code",
   "execution_count": null,
   "id": "f4a3cb50-2082-4d2e-97d6-849e2575ddea",
   "metadata": {},
   "outputs": [],
   "source": []
  },
  {
   "cell_type": "code",
   "execution_count": null,
   "id": "1ce62b56-117e-4ae6-9fdb-fb00be5d6395",
   "metadata": {},
   "outputs": [],
   "source": [
    "Q9. Calculate the z-score for a data point with a value of 75, a population mean of 70, and a population\n",
    "standard deviation of 5. Interpret the results."
   ]
  },
  {
   "cell_type": "code",
   "execution_count": null,
   "id": "cc3195db-8c5b-43e2-876a-c4b5d724a8e0",
   "metadata": {},
   "outputs": [],
   "source": [
    "To calculate the z-score for a data point with a value of 75, a population mean of 70, and a population standard deviation of 5,\n",
    "we can use the formula:\n",
    "z = (x - μ) / σ\n",
    "where x is the data point, μ is the population mean, and σ is the population standard deviation.\n",
    "\n",
    "Substituting the values, we get:\n",
    "z = (75 - 70) / 5\n",
    "z = 1\n",
    "\n",
    "Result:\n",
    "The z-score for this data point is 1. This means that the data point is one standard deviation above the population mean. \n",
    "In other words, the data point is relatively high compared to the rest of the population.\n",
    "\n",
    "Z-scores are a way of standardizing data points so that we can compare them to each other regardless of their scale.\n",
    "A z-score of 0 indicates a data point that is exactly at the population mean, \n",
    "while positive and negative z-scores indicate data points that are above and below the mean, respectively, by a certain number of standard deviations."
   ]
  },
  {
   "cell_type": "code",
   "execution_count": null,
   "id": "d1ef363f-e3b1-48da-bf12-bd105115b3a3",
   "metadata": {},
   "outputs": [],
   "source": []
  },
  {
   "cell_type": "code",
   "execution_count": null,
   "id": "cd1f551f-781b-4cef-8854-b228ed896c4e",
   "metadata": {},
   "outputs": [],
   "source": [
    "Q10. In a study of the effectiveness of a new weight loss drug, a sample of 50 participants lost an average\n",
    "of 6 pounds with a standard deviation of 2.5 pounds. Conduct a hypothesis test to determine if the drug is\n",
    "significantly effective at a 95% confidence level using a t-test."
   ]
  },
  {
   "cell_type": "code",
   "execution_count": null,
   "id": "059572fa-db05-47d8-bb55-8ed8ee89efc8",
   "metadata": {},
   "outputs": [],
   "source": [
    "Null hypothesis (H0): The mean weight loss of participants who took the new drug is equal to 0.\n",
    "Alternative hypothesis (Ha): The mean weight loss of participants who took the new drug is greater than 0.\n",
    "\n",
    "Since the sample size is small (n = 50) and the population standard deviation is unknown, we will use a one-sample t-test. \n",
    "The test statistic is calculated as follows:\n",
    "t = (x̄ - μ) / (s / sqrt(n))\n",
    "\n",
    "Plugging in the values, we get:\n",
    "t= (6 - 0) / (2.5 / sqrt(50))\n",
    "t = 15.6\n",
    "\n",
    "Using a t-distribution table with 49 degrees of freedom (df = n - 1), we find the critical value for a one-tailed test at a 95% confidence level to be 1.677.\n",
    "Since our calculated t-value (15.6) is greater than the critical value (1.677), we reject the null hypothesis and \n",
    "conclude that the mean weight loss of participants who took the new drug is significantly greater than 0 at a 95% confidence level.\n",
    "In other words, we have evidence to support the effectiveness of the new weight loss drug."
   ]
  },
  {
   "cell_type": "code",
   "execution_count": null,
   "id": "a7772c2d-81b5-443f-b73d-296d387e43e6",
   "metadata": {},
   "outputs": [],
   "source": []
  },
  {
   "cell_type": "code",
   "execution_count": null,
   "id": "64d2bbaf-16fb-40e3-bf1d-6a020ac731d0",
   "metadata": {},
   "outputs": [],
   "source": [
    "Q11. In a survey of 500 people, 65% reported being satisfied with their current job. Calculate the 95%\n",
    "confidence interval for the true proportion of people who are satisfied with their job."
   ]
  },
  {
   "cell_type": "code",
   "execution_count": null,
   "id": "8eaf0461-9d3b-44ba-9dca-1457898820de",
   "metadata": {},
   "outputs": [],
   "source": [
    "To calculate the 95% confidence interval for the true proportion of people who are satisfied with their job, we can use the following formula:\n",
    "\n",
    "CI = p ± z*(sqrt(p*(1-p)/n))\n",
    "\n",
    "where:\n",
    "\n",
    "CI is the confidence interval\n",
    "p is the sample proportion (0.65)\n",
    "z is the z-score corresponding to the desired confidence level (1.96 for 95% confidence level)\n",
    "n is the sample size (500)\n",
    "Plugging in the values, we get:\n",
    "\n",
    "CI = 0.65 ± 1.96*(sqrt(0.65*(1-0.65)/500))\n",
    "\n",
    "Simplifying the expression, we get:\n",
    "CI = 0.65 ± 0.039\n",
    "Therefore, the 95% confidence interval for the true proportion of people who are satisfied with their job is (0.611, 0.689). \n",
    "This means we can be 95% confident that the true proportion of people who are satisfied with their job is between 0.611 and 0.689."
   ]
  },
  {
   "cell_type": "code",
   "execution_count": null,
   "id": "90ae5f6f-194c-4fe1-bc8b-f7b3a0407dbb",
   "metadata": {},
   "outputs": [],
   "source": []
  },
  {
   "cell_type": "code",
   "execution_count": null,
   "id": "626b7bcf-25a9-4b65-9c8c-7d0611c1db31",
   "metadata": {},
   "outputs": [],
   "source": [
    "Q12. A researcher is testing the effectiveness of two different teaching methods on student performance.\n",
    "Sample A has a mean score of 85 with a standard deviation of 6, while sample B has a mean score of 82\n",
    "with a standard deviation of 5. Conduct a hypothesis test to determine if the two teaching methods have a\n",
    "significant difference in student performance using a t-test with a significance level of 0.01."
   ]
  },
  {
   "cell_type": "code",
   "execution_count": null,
   "id": "49f16948-32dc-4d5d-88e0-a743cff59a02",
   "metadata": {},
   "outputs": [],
   "source": [
    "Null hypothesis: The two teaching methods do not have a significant difference in student performance.\n",
    "Alternative hypothesis: The two teaching methods have a significant difference in student performance.\n",
    "\n",
    "Determine the level of significance (alpha) and the degrees of freedom for the t-distribution:\n",
    "alpha = 0.01 (given)\n",
    "degrees of freedom = n1 + n2 - 2 = 48 (where n1 and n2 are the sample sizes for sample A and sample B, respectively)\n",
    "\n",
    "Calculate the t-test statistic:\n",
    "t = (x1 - x2) / sqrt((s1^2/n1) + (s2^2/n2))\n",
    "where x1 and x2 are the sample means, s1 and s2 are the sample standard deviations, and n1 and n2 are the sample sizes.\n",
    "t = (85 - 82) / sqrt((6^2/20) + (5^2/20))\n",
    "t = 2.236\n",
    "\n",
    "Determine the critical t-value:\n",
    "Since the alternative hypothesis is two-tailed, we need to divide the alpha level by 2 and look up the critical t-value using a t-distribution table with 48 degrees of freedom:\n",
    "t_critical = ±2.677 (from t-distribution table)\n",
    "\n",
    "Compare the t-test statistic with the critical t-value:\n",
    "Since |t| = 2.236 < t_critical = 2.677, we fail to reject the null hypothesis. \n",
    "There is insufficient evidence to conclude that the two teaching methods have a significant difference in student performance at the 0.01 level of significance.\n",
    "\n",
    "Therefore, we cannot conclude that one teaching method is better than the other based on the given data."
   ]
  },
  {
   "cell_type": "code",
   "execution_count": null,
   "id": "316fb7b9-3566-4732-bb9a-f275103ebec7",
   "metadata": {},
   "outputs": [],
   "source": []
  },
  {
   "cell_type": "code",
   "execution_count": null,
   "id": "4184b1b8-ad2e-4b59-816d-1e286bab24a3",
   "metadata": {},
   "outputs": [],
   "source": [
    "Q13. A population has a mean of 60 and a standard deviation of 8. A sample of 50 observations has a mean\n",
    "of 65. Calculate the 90% confidence interval for the true population mean."
   ]
  },
  {
   "cell_type": "code",
   "execution_count": null,
   "id": "e12983fe-5462-4de5-ba3d-6214897f9b1a",
   "metadata": {},
   "outputs": [],
   "source": [
    "To calculate the 90% confidence interval for the true population mean, we can use the formula:\n",
    "\n",
    "Confidence interval = sample mean ± (critical value) x (standard error)\n",
    "\n",
    "Where the critical value is determined based on the level of confidence and the sample size,\n",
    "and the standard error is calculated as the standard deviation of the population divided by the square root of the sample size.\n",
    "\n",
    "First, we need to find the critical value for a 90% confidence level and \n",
    "a sample size of 50. We can use a t-distribution since the population standard deviation is unknown and \n",
    "the sample size is less than 30. Using a t-table or calculator, the critical value is 1.67.\n",
    "\n",
    "Next, we can calculate the standard error:\n",
    "\n",
    "Standard error = standard deviation / sqrt(sample size) = 8 / sqrt(50) = 1.13\n",
    "\n",
    "Finally, we can plug in the values:\n",
    "\n",
    "Confidence interval = 65 ± 1.67 x 1.13 = (62.2, 67.8)\n",
    "\n",
    "Therefore, we can be 90% confident that the true population mean falls within the range of 62.2 to 67.8."
   ]
  },
  {
   "cell_type": "code",
   "execution_count": null,
   "id": "892fd774-fcc3-48d3-af57-40b32e6d5737",
   "metadata": {},
   "outputs": [],
   "source": []
  },
  {
   "cell_type": "code",
   "execution_count": null,
   "id": "66a030ab-d612-44ea-a537-1deabd49b641",
   "metadata": {},
   "outputs": [],
   "source": [
    "Q14. In a study of the effects of caffeine on reaction time, a sample of 30 participants had an average\n",
    "reaction time of 0.25 seconds with a standard deviation of 0.05 seconds. Conduct a hypothesis test to\n",
    "determine if the caffeine has a significant effect on reaction time at a 90% confidence level using a t-test."
   ]
  },
  {
   "cell_type": "code",
   "execution_count": null,
   "id": "9376c5c0-d2a0-4585-9f9d-d7e574b0e254",
   "metadata": {},
   "outputs": [],
   "source": [
    "To conduct the hypothesis test, we need to set up the null and alternative hypotheses:\n",
    "\n",
    "Null hypothesis (H0): The caffeine does not have a significant effect on reaction time. \n",
    "The population mean reaction time is equal to 0.25 seconds.\n",
    "Alternative hypothesis (Ha): The caffeine has a significant effect on reaction time. \n",
    "The population mean reaction time is not equal to 0.25 seconds.\n",
    "\n",
    "We will use a two-tailed t-test since we are testing for a difference in means. \n",
    "The level of significance is 0.10 (90% confidence level) and the degrees of freedom are 29 (n-1).\n",
    "From the t-distribution table, the critical t-value is ±1.699.\n",
    "\n",
    "The test statistic can be calculated as:\n",
    "\n",
    "t = (x̄ - μ) / (s / √n) = (0.25 - μ) / (0.05 / √30)\n",
    "\n",
    "where x̄ is the sample mean, μ is the population mean, s is the sample standard deviation, and n is the sample size.\n",
    "\n",
    "We will reject the null hypothesis if the calculated t-value falls outside the critical region of ±1.699."
   ]
  }
 ],
 "metadata": {
  "kernelspec": {
   "display_name": "Python 3 (ipykernel)",
   "language": "python",
   "name": "python3"
  },
  "language_info": {
   "codemirror_mode": {
    "name": "ipython",
    "version": 3
   },
   "file_extension": ".py",
   "mimetype": "text/x-python",
   "name": "python",
   "nbconvert_exporter": "python",
   "pygments_lexer": "ipython3",
   "version": "3.10.8"
  }
 },
 "nbformat": 4,
 "nbformat_minor": 5
}
