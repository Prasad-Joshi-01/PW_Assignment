{
 "cells": [
  {
   "cell_type": "code",
   "execution_count": null,
   "id": "95b0e870-b191-4b2a-958c-d10dce26d8a2",
   "metadata": {},
   "outputs": [],
   "source": [
    "Q1: What are the Probability Mass Function (PMF) and Probability Density Function (PDF)? Explain with\n",
    "an example.\n",
    "Ans:\n",
    "The Probability Mass Function (PMF) and Probability Density Function (PDF) are both mathematical functions that describe the probability distribution of a random variable. \n",
    "However, they are used for different types of random variables.\n",
    "\n",
    "The PMF is used for discrete random variables, which can take on a countable number of possible values.\n",
    "The PMF is defined as the probability that the random variable takes on a particular value. \n",
    "The PMF assigns a probability to each possible outcome, and the sum of all the probabilities must be equal to 1. \n",
    "An example of a random variable with a PMF is the number of heads that appear when flipping a coin 10 times.\n",
    "\n",
    "The PDF, on the other hand, is used for continuous random variables, which can take on an infinite number of possible values within a certain range. \n",
    "The PDF is defined as the probability that the random variable falls within a particular interval of values. \n",
    "The PDF assigns probabilities to ranges of values, rather than to individual values. \n",
    "The total area under the PDF curve must be equal to 1. An example of a random variable with a PDF is the height of adult females in a certain population."
   ]
  },
  {
   "cell_type": "code",
   "execution_count": null,
   "id": "5c354ade-7e30-47aa-87ad-97230ac48856",
   "metadata": {},
   "outputs": [],
   "source": []
  },
  {
   "cell_type": "code",
   "execution_count": null,
   "id": "0a9f1545-b594-4839-9b4b-bdac0e36d5bf",
   "metadata": {},
   "outputs": [],
   "source": [
    "Q2: What is Cumulative Density Function (CDF)? Explain with an example. Why CDF is used?\n",
    "Ans:\n",
    "The Cumulative Density Function (CDF) is a mathematical function used in probability theory to describe the probability of a random variable taking on a certain value or less.\n",
    "In other words, it is the probability that a random variable is less than or equal to a specific value.\n",
    "\n",
    "For example, suppose we have a random variable X that follows a standard normal distribution with a mean of 0 and a standard deviation of 1.\n",
    "The CDF of X at a value x is denoted by F(x) and is given by the integral of the probability density function (PDF) of X from negative infinity to x:\n",
    "F(x) = P(X <= x) = ∫(-∞,x) f(t) dt\n",
    "where f(t) is the PDF of X.\n",
    "\n",
    "The CDF can be interpreted as the area under the PDF curve up to a certain value of the random variable. \n",
    "It is a useful tool for calculating probabilities and making predictions about future events based on past data."
   ]
  },
  {
   "cell_type": "code",
   "execution_count": null,
   "id": "4601bdf8-c29b-4059-ad40-7c674979068c",
   "metadata": {},
   "outputs": [],
   "source": []
  },
  {
   "cell_type": "code",
   "execution_count": null,
   "id": "2b9c0b75-f939-4a08-b057-c111096a172f",
   "metadata": {},
   "outputs": [],
   "source": [
    "Q3: What are some examples of situations where the normal distribution might be used as a model?\n",
    "Explain how the parameters of the normal distribution relate to the shape of the distribution.\n",
    "Ans:\n",
    "The normal distribution, also known as the Gaussian distribution, is a probability distribution that is commonly used in statistical modeling due to its numerous useful properties.\n",
    "Some examples of situations where the normal distribution might be used as a model include:\n",
    "1.Measuring human height or weight: The normal distribution can be used to model the distribution of human heights or weights in a population.\n",
    "2.Testing scores: The normal distribution is often used to model the distribution of scores on standardized tests, such as the SAT or ACT.\n",
    "3.Natural phenomena: The normal distribution is sometimes used to model natural phenomena, such as the distribution of measurements of rainfall or temperature.\n",
    "\n",
    "The normal distribution has two parameters, the mean and the standard deviation.\n",
    "The mean, denoted by μ, represents the center of the distribution, while the standard deviation, denoted by σ, represents the spread of the distribution."
   ]
  },
  {
   "cell_type": "code",
   "execution_count": null,
   "id": "206047e5-01e0-46f9-bbcf-8b3dd544844b",
   "metadata": {},
   "outputs": [],
   "source": []
  },
  {
   "cell_type": "code",
   "execution_count": null,
   "id": "eda9a7a9-6303-42d3-bb27-51ec617d006c",
   "metadata": {},
   "outputs": [],
   "source": [
    "Q4: Explain the importance of Normal Distribution. Give a few real-life examples of Normal\n",
    "Distribution.\n",
    "Ans:\n",
    "Some of the reasons why the Normal Distribution is important are:\n",
    "\n",
    "1.It is a good approximation: The Normal Distribution is a good approximation for many real-world phenomena and is often used to model data. \n",
    "This is because of the Central Limit Theorem, which states that the distribution of the sample means of a large number of independent and\n",
    "identically distributed random variables approaches a Normal Distribution.\n",
    "2.It is mathematically tractable: The Normal Distribution has several useful mathematical properties, which makes it easy to work with in statistical analysis and modeling.\n",
    "\n",
    "Here are a few examples of real-life phenomena that can be modeled using the Normal Distribution:\n",
    "1.Height and weight of people: The distribution of heights and weights in a population can be modeled using the Normal Distribution.\n",
    "2.Test scores: The distribution of scores on a standardized test, such as the SAT or ACT, can be approximated using the Normal Distribution.\n",
    "3.IQ scores: The distribution of IQ scores in a population is often modeled using the Normal Distribution.\n",
    "4.Stock prices: The daily returns of stock prices are often assumed to follow a Normal Distribution."
   ]
  },
  {
   "cell_type": "code",
   "execution_count": null,
   "id": "f2c73490-811d-4fa1-9f5c-ae88704c0661",
   "metadata": {},
   "outputs": [],
   "source": []
  },
  {
   "cell_type": "code",
   "execution_count": null,
   "id": "81d5638c-2af4-4d4f-9549-ebddd198f108",
   "metadata": {},
   "outputs": [],
   "source": [
    "Q5: What is Bernaulli Distribution? Give an Example. What is the difference between Bernoulli\n",
    "Distribution and Binomial Distribution?\n",
    "Ans:\n",
    "The Bernoulli Distribution is a discrete probability distribution that models the outcomes of a single Bernoulli trial,\n",
    "which is a random experiment with only two possible outcomes, usually labeled as success (S) and failure (F).\n",
    "The main difference between the Bernoulli Distribution and the Binomial Distribution is that the Bernoulli Distribution models the outcomes of a single trial,\n",
    "while the Binomial Distribution models the number of successes in a fixed number of independent and identical trials.\n",
    "In other words, the Bernoulli Distribution is a special case of the Binomial Distribution, where n = 1."
   ]
  },
  {
   "cell_type": "code",
   "execution_count": null,
   "id": "b04c0607-1f10-407a-99bf-01e9576f549a",
   "metadata": {},
   "outputs": [],
   "source": []
  },
  {
   "cell_type": "code",
   "execution_count": null,
   "id": "18c51c45-4986-4ed9-bf99-2729651376a9",
   "metadata": {},
   "outputs": [],
   "source": [
    "Q6. Consider a dataset with a mean of 50 and a standard deviation of 10. If we assume that the dataset\n",
    "is normally distributed, what is the probability that a randomly selected observation will be greater\n",
    "than 60? Use the appropriate formula and show your calculations."
   ]
  },
  {
   "cell_type": "code",
   "execution_count": null,
   "id": "786e08f2-9a7d-48d1-b852-f86b600f009e",
   "metadata": {},
   "outputs": [],
   "source": [
    "we first need to standardize the value of 60 using the formula:\n",
    "z = (x - μ) / σ\n",
    "where z is the z-score, x is the value of the observation, μ is the mean of the dataset, and σ is the standard deviation of the dataset.\n",
    "\n",
    "Substituting the given values, we get:\n",
    "z = (60 - 50) / 10 = 1\n",
    "\n",
    "Next, we look up the area to the right of the z-score of 1 in the standard normal distribution table or use a statistical software. The area to the right of z = 1 is 0.1587.\n",
    "Therefore, the probability that a randomly selected observation will be greater than 60 is:\n",
    "P(X > 60) = 1 - P(X <= 60)\n",
    "= 1 - 0.8413 (from the standard normal distribution table)\n",
    "= 0.1587\n",
    "So, the probability that a randomly selected observation will be greater than 60 is 0.1587 or approximately 15.87%."
   ]
  },
  {
   "cell_type": "code",
   "execution_count": null,
   "id": "083f75f0-aa91-4ec2-84c7-dc1ee2843cd3",
   "metadata": {},
   "outputs": [],
   "source": []
  },
  {
   "cell_type": "code",
   "execution_count": null,
   "id": "b98f6580-99df-4f0a-a81f-a4e5f05d7f51",
   "metadata": {},
   "outputs": [],
   "source": [
    "Q7: Explain uniform Distribution with an example.\n",
    "Ans:\n",
    "The Uniform Distribution is a continuous probability distribution that models a situation where all outcomes within a given range are equally likely to occur. \n",
    "The probability density function (PDF) of a Uniform Distribution is a flat, constant function that is defined over a specific interval.\n",
    "\n",
    "For example, consider the height of students in a particular class.\n",
    "If we assume that the height of each student is equally likely to fall within a certain range, say between 5 feet and 6 feet, then we can model this using a Uniform Distribution. \n",
    "The PDF of the Uniform Distribution would be a constant function between 5 and 6, and zero outside that interval."
   ]
  },
  {
   "cell_type": "code",
   "execution_count": null,
   "id": "c43f17ab-fc2c-4b47-be74-3526d5194bd4",
   "metadata": {},
   "outputs": [],
   "source": []
  },
  {
   "cell_type": "code",
   "execution_count": null,
   "id": "fe324dc6-f906-423a-bca2-b5c03ab4248c",
   "metadata": {},
   "outputs": [],
   "source": [
    "Q8: What is the z score? State the importance of the z score.\n",
    "Ans:\n",
    "The z-score, also known as the standard score, is a measure of how many standard deviations a particular observation or data point is from the mean of a given dataset.\n",
    "It is calculated by subtracting the mean of the dataset from the data point and then dividing the result by the standard deviation of the dataset.\n",
    "\n",
    "The formula for calculating the z-score is:\n",
    "z = (x - μ) / σ\n",
    "where z is the z-score, x is the data point, μ is the mean of the dataset, and σ is the standard deviation of the dataset.\n",
    "\n",
    "The z-score is important because it allows us to compare values from different datasets that may have different units or scales.\n",
    "By standardizing the values to the same scale, we can more easily compare and analyze the data."
   ]
  },
  {
   "cell_type": "code",
   "execution_count": null,
   "id": "2a2e8d98-3786-42e4-8226-fa6683de6edd",
   "metadata": {},
   "outputs": [],
   "source": []
  },
  {
   "cell_type": "code",
   "execution_count": null,
   "id": "9ecf4bdb-42a7-447d-8b17-7dfec4da1b2f",
   "metadata": {},
   "outputs": [],
   "source": [
    "Q9: What is Central Limit Theorem? State the significance of the Central Limit Theorem.\n",
    "Ans:\n",
    "The Central Limit Theorem (CLT) is a fundamental concept in statistics that states that the distribution of the sample means of a large number of independent \n",
    "and identically distributed (iid) random variables will approximate a normal distribution,\n",
    "regardless of the underlying distribution of the population,as long as the sample size is large enough.\n",
    "\n",
    "In other words, the Central Limit Theorem tells us that as we take larger and larger samples from any population, \n",
    "the sample means will tend to be normally distributed, regardless of the shape of the population distribution. \n",
    "This makes the normal distribution a powerful tool for statistical inference,\n",
    "as it allows us to make predictions and draw conclusions about population parameters based on sample statistics.\n",
    "\n",
    "The significance of the Central Limit Theorem lies in its broad applicability and its importance in statistical analysis.\n",
    "It is used in many fields of research, including finance, economics, psychology, and engineering, to name just a few."
   ]
  },
  {
   "cell_type": "code",
   "execution_count": null,
   "id": "86b7701d-70f6-4590-a1cd-94656d366d86",
   "metadata": {},
   "outputs": [],
   "source": []
  },
  {
   "cell_type": "code",
   "execution_count": null,
   "id": "1feeea67-301d-43f1-b52c-17f515f6d598",
   "metadata": {},
   "outputs": [],
   "source": [
    "Q10: State the assumptions of the Central Limit Theorem.\n",
    "Ans:\n",
    "The Central Limit Theorem (CLT) makes several assumptions in order to be valid:\n",
    "\n",
    "1.Independence: The random variables in the sample must be independent of each other.\n",
    "This means that the value of one observation does not depend on the value of any other observation.\n",
    "\n",
    "2.Sample size: The sample size must be sufficiently large.\n",
    "While there is no hard and fast rule for what constitutes a \"large\" sample size,\n",
    "a rule of thumb is that the sample size should be at least 30.\n",
    "\n",
    "3.Random sampling: The sample must be selected randomly from the population.\n",
    "This means that every member of the population has an equal chance of being included in the sample.\n",
    "\n",
    "4.Finite variance: The population from which the sample is drawn must have a finite variance.\n",
    "If the variance is infinite or unknown, the Central Limit Theorem may not hold."
   ]
  }
 ],
 "metadata": {
  "kernelspec": {
   "display_name": "Python 3 (ipykernel)",
   "language": "python",
   "name": "python3"
  },
  "language_info": {
   "codemirror_mode": {
    "name": "ipython",
    "version": 3
   },
   "file_extension": ".py",
   "mimetype": "text/x-python",
   "name": "python",
   "nbconvert_exporter": "python",
   "pygments_lexer": "ipython3",
   "version": "3.10.8"
  }
 },
 "nbformat": 4,
 "nbformat_minor": 5
}
