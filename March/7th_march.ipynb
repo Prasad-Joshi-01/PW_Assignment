{
 "cells": [
  {
   "cell_type": "code",
   "execution_count": null,
   "id": "2e37c86c-6a7c-4a4a-92ea-2a26e5efbfec",
   "metadata": {},
   "outputs": [],
   "source": [
    "Q1. What are the three measures of central tendency?\n",
    "Ans:\n",
    "1.Mean: The mean is the arithmetic average of a set of values. \n",
    "It is obtained by adding up all the values and then dividing by the total number of values.\n",
    "\n",
    "2.Median: The median is the middle value in a set of data when the data is arranged in order.\n",
    "It is the value that separates the data into two equal parts.\n",
    "\n",
    "3.Mode: The mode is the value that appears most frequently in a set of data. \n",
    "If there are two or more values that appear with the same frequency, then the set is said to have multiple modes."
   ]
  },
  {
   "cell_type": "code",
   "execution_count": null,
   "id": "a453a58e-5a5f-4681-9925-dbdaf73724a8",
   "metadata": {},
   "outputs": [],
   "source": []
  },
  {
   "cell_type": "code",
   "execution_count": null,
   "id": "8f3ec03b-b82d-4088-8d39-3f0e37def8f2",
   "metadata": {},
   "outputs": [],
   "source": [
    "Q2. What is the difference between the mean, median, and mode? How are they used to measure the\n",
    "central tendency of a dataset?\n",
    "Ans:\n",
    "The mean, median, and mode are all measures of central tendency used to describe the typical value of a dataset.\n",
    "While they are similar in that they all describe the center of a distribution, they differ in how they are calculated and what aspects of the data they emphasize.\n",
    "\n",
    "The mean is the most commonly used measure of central tendency.\n",
    "It is calculated by adding up all the values in a dataset and dividing by the total number of values. \n",
    "The mean is sensitive to extreme values or outliers in the dataset, as they can have a significant impact on the overall value.\n",
    "\n",
    "The median is the middle value in a dataset when the values are arranged in order from smallest to largest. \n",
    "If there are an odd number of values, the median is the middle value; if there are an even number of values, the median is the average of the two middle values.\n",
    "The median is less sensitive to extreme values than the mean, as it only depends on the order of the values and not their actual magnitude.\n",
    "\n",
    "The mode is the value that occurs most frequently in a dataset.\n",
    "It is used to describe the most common value or values in a dataset. \n",
    "The mode is often used for categorical data, where the values are not numerical."
   ]
  },
  {
   "cell_type": "code",
   "execution_count": null,
   "id": "a1adcc4f-2bf2-45d5-bc72-4d37e10ffa39",
   "metadata": {},
   "outputs": [],
   "source": []
  },
  {
   "cell_type": "code",
   "execution_count": null,
   "id": "8aea7908-c9e7-4af6-a916-52225d09ca89",
   "metadata": {},
   "outputs": [],
   "source": [
    "Q3. Measure the three measures of central tendency for the given height data:"
   ]
  },
  {
   "cell_type": "code",
   "execution_count": 14,
   "id": "9bfee95e-1301-4fb5-9fb2-0f1547332322",
   "metadata": {},
   "outputs": [],
   "source": [
    "l=[178,177,176,177,178.2,178,175,179,180,175,178.9,176.2,177,172.5,178,176.5]"
   ]
  },
  {
   "cell_type": "code",
   "execution_count": 15,
   "id": "532e9a1f-7aa0-481a-994e-a65a0d02a085",
   "metadata": {},
   "outputs": [],
   "source": [
    "import numpy as np\n",
    "from scipy import stats"
   ]
  },
  {
   "cell_type": "code",
   "execution_count": 16,
   "id": "39b419f3-1622-442b-a061-818c37ccefc1",
   "metadata": {},
   "outputs": [
    {
     "data": {
      "text/plain": [
       "177.01875"
      ]
     },
     "execution_count": 16,
     "metadata": {},
     "output_type": "execute_result"
    }
   ],
   "source": [
    "np.mean(l)"
   ]
  },
  {
   "cell_type": "code",
   "execution_count": 17,
   "id": "79bd349e-dc39-4a9f-8515-8b13a32d728f",
   "metadata": {},
   "outputs": [
    {
     "data": {
      "text/plain": [
       "177.0"
      ]
     },
     "execution_count": 17,
     "metadata": {},
     "output_type": "execute_result"
    }
   ],
   "source": [
    "np.median(l)"
   ]
  },
  {
   "cell_type": "code",
   "execution_count": 18,
   "id": "ea8680ab-29ef-4c9f-963b-9d63ed2548c2",
   "metadata": {},
   "outputs": [
    {
     "name": "stderr",
     "output_type": "stream",
     "text": [
      "/tmp/ipykernel_98/2919890712.py:1: FutureWarning: Unlike other reduction functions (e.g. `skew`, `kurtosis`), the default behavior of `mode` typically preserves the axis it acts along. In SciPy 1.11.0, this behavior will change: the default value of `keepdims` will become False, the `axis` over which the statistic is taken will be eliminated, and the value None will no longer be accepted. Set `keepdims` to True or False to avoid this warning.\n",
      "  stats.mode(l)\n"
     ]
    },
    {
     "data": {
      "text/plain": [
       "ModeResult(mode=array([177.]), count=array([3]))"
      ]
     },
     "execution_count": 18,
     "metadata": {},
     "output_type": "execute_result"
    }
   ],
   "source": [
    "stats.mode(l)"
   ]
  },
  {
   "cell_type": "code",
   "execution_count": null,
   "id": "9bf492e9-e179-4eac-82c4-73b58c2710dc",
   "metadata": {},
   "outputs": [],
   "source": []
  },
  {
   "cell_type": "code",
   "execution_count": null,
   "id": "52958570-dbd0-4549-ba21-4d5e73d1c4c0",
   "metadata": {},
   "outputs": [],
   "source": [
    "Q4. Find the standard deviation for the given data:"
   ]
  },
  {
   "cell_type": "code",
   "execution_count": 19,
   "id": "d5609525-e1d7-4af1-8085-45041341e8b5",
   "metadata": {},
   "outputs": [],
   "source": [
    "l1=[178,177,176,177,178.2,178,175,179,180,175,178.9,176.2,177,172.5,178,176.5]"
   ]
  },
  {
   "cell_type": "code",
   "execution_count": 20,
   "id": "c789485f-31c0-4cac-89de-6c85f9176cbb",
   "metadata": {},
   "outputs": [
    {
     "data": {
      "text/plain": [
       "1.7885814036548633"
      ]
     },
     "execution_count": 20,
     "metadata": {},
     "output_type": "execute_result"
    }
   ],
   "source": [
    "np.std(l1)"
   ]
  },
  {
   "cell_type": "code",
   "execution_count": null,
   "id": "41da1d6e-9170-48f6-ba7a-3508a9ebb825",
   "metadata": {},
   "outputs": [],
   "source": []
  },
  {
   "cell_type": "code",
   "execution_count": null,
   "id": "80252637-84ab-4d47-8393-92ad6baa8782",
   "metadata": {},
   "outputs": [],
   "source": [
    "Q5. How are measures of dispersion such as range, variance, and standard deviation used to describe\n",
    "the spread of a dataset? Provide an example.\n",
    "Ans:\n",
    "Range: The range is the difference between the largest and smallest values in a dataset. \n",
    "It is a simple measure of dispersion that gives an idea of how widely the values are spread out. \n",
    "For example, if the range of test scores for a class is 60 to 90, then the range is 30.\n",
    "\n",
    "Variance: The variance is a measure of how spread out the values in a dataset are from the mean.\n",
    "It is calculated by taking the average of the squared differences between each value and the mean. \n",
    "A higher variance indicates that the values are more spread out, while a lower variance indicates that the values are more tightly clustered around the mean.\n",
    "For example, if the variance of a set of test scores is 100, then the values are more spread out than if the variance is 25.\n",
    "\n",
    "Standard deviation: The standard deviation is another measure of how spread out the values in a dataset are from the mean. \n",
    "It is the square root of the variance and is expressed in the same units as the original data. \n",
    "The standard deviation is commonly used because it is easy to interpret and is directly related to the normal distribution.\n",
    "A higher standard deviation indicates that the values are more spread out, \n",
    "while a lower standard deviation indicates that the values are more tightly clustered around the mean. \n",
    "For example, if the standard deviation of a set of test scores is 10, then the values are more spread out than if the standard deviation is 5."
   ]
  },
  {
   "cell_type": "code",
   "execution_count": null,
   "id": "f87f9424-2c76-40f9-b3a0-00bd241248e3",
   "metadata": {},
   "outputs": [],
   "source": []
  },
  {
   "cell_type": "code",
   "execution_count": null,
   "id": "c02bdf88-877b-4b19-ae17-cbfb8c0a4150",
   "metadata": {},
   "outputs": [],
   "source": [
    "Q6. What is a Venn diagram?\n",
    "Ans:\n",
    "A Venn diagram is a graphical representation of the relationships between sets of data or objects. \n",
    "It consists of two or more overlapping circles or ellipses, each representing a set, with the overlapping area representing the intersection of the sets. \n",
    "The non-overlapping areas of each circle represent the individual sets.\n",
    "\n",
    "Venn diagrams are often used in mathematics, logic, and statistics to visually illustrate the relationships between sets of data. \n",
    "They can be used to compare and contrast data, identify similarities and differences, and show the relationships between different groups of data."
   ]
  },
  {
   "cell_type": "code",
   "execution_count": null,
   "id": "df7d479b-7987-4b18-8ef9-97cf74b561e8",
   "metadata": {},
   "outputs": [],
   "source": []
  },
  {
   "cell_type": "code",
   "execution_count": null,
   "id": "486f6866-4386-44c4-8955-059cc34c9e20",
   "metadata": {},
   "outputs": [],
   "source": [
    "Q7. For the two given sets A = (2,3,4,5,6,7) & B = (0,2,6,8,10). Find:\n",
    "(i) A B\n",
    "(ii) A ⋃ B"
   ]
  },
  {
   "cell_type": "code",
   "execution_count": null,
   "id": "a97b5c32-810f-42d6-aea7-6045835ebdfd",
   "metadata": {},
   "outputs": [],
   "source": [
    "(i) A B : {2,6}\n",
    "(ii) A ⋃ B : {0,2,3,4,5,6,7,8,10}"
   ]
  },
  {
   "cell_type": "code",
   "execution_count": null,
   "id": "83d39f82-58a7-49bb-9513-1234a75a4126",
   "metadata": {},
   "outputs": [],
   "source": []
  },
  {
   "cell_type": "code",
   "execution_count": null,
   "id": "4212be0d-0b85-4a5a-81d5-5f75f353ee92",
   "metadata": {},
   "outputs": [],
   "source": [
    "Q8. What do you understand about skewness in data?\n",
    "Ans:\n",
    "Skewness is a measure of the asymmetry of a probability distribution or a dataset.\n",
    "When a distribution or dataset is symmetrical, the mean, median, and mode are all equal, and there is no skewness. \n",
    "However, when the distribution or dataset is not symmetrical, there is skewness.\n",
    "\n",
    "Skewness can be positive, negative, or zero, depending on the direction and degree of the asymmetry. \n",
    "Positive skewness occurs when the tail of the distribution is longer on the right side, and the mean is greater than the median. \n",
    "Negative skewness occurs when the tail of the distribution is longer on the left side, and the mean is less than the median.\n",
    "Zero skewness occurs when the distribution is perfectly symmetrical."
   ]
  },
  {
   "cell_type": "code",
   "execution_count": null,
   "id": "7ccafea5-b002-4857-9ab0-eb8604ea8721",
   "metadata": {},
   "outputs": [],
   "source": []
  },
  {
   "cell_type": "code",
   "execution_count": null,
   "id": "8fe706e1-e882-4ce3-acd1-38448c43ed5c",
   "metadata": {},
   "outputs": [],
   "source": [
    "Q9. If a data is right skewed then what will be the position of median with respect to mean?\n",
    "Ans:\n",
    "If a dataset is right skewed, it means that the tail of the distribution is longer on the right side and\n",
    "there are a few large values that are much larger than the rest of the values. \n",
    "In this case, the mean will be greater than the median."
   ]
  },
  {
   "cell_type": "code",
   "execution_count": null,
   "id": "a60b5e5e-9cd4-4c20-9f83-cc1d4c643b38",
   "metadata": {},
   "outputs": [],
   "source": []
  },
  {
   "cell_type": "code",
   "execution_count": null,
   "id": "830a5f4e-b0cc-4431-b3d8-fd814419fafe",
   "metadata": {},
   "outputs": [],
   "source": [
    "Q10. Explain the difference between covariance and correlation. How are these measures used in\n",
    "statistical analysis?\n",
    "Ans:\n",
    "Covariance and correlation are both measures of the relationship between two variables in a dataset. \n",
    "However, they have some important differences.\n",
    "\n",
    "Covariance measures the direction and strength of the linear relationship between two variables. \n",
    "It is a measure of how much two variables change together.\n",
    "Specifically, covariance measures the variability of the product of the deviations of two variables from their respective means.\n",
    "A positive covariance indicates that the variables tend to move in the same direction, \n",
    "while a negative covariance indicates that the variables tend to move in opposite directions.\n",
    "However, covariance does not provide information about the magnitude of the relationship, and\n",
    "it can be influenced by the units of measurement of the variables.\n",
    "\n",
    "Correlation, on the other hand, measures the strength and direction of the linear relationship between two variables,\n",
    "but it is scaled to always be between -1 and +1. A correlation of +1 indicates a perfect positive relationship,\n",
    "while a correlation of -1 indicates a perfect negative relationship. \n",
    "A correlation of 0 indicates no relationship.\n",
    "Correlation is a more standardized measure than covariance, and it is not affected by the units of measurement of the variables.\n",
    "\n",
    "In statistical analysis, both covariance and correlation are used to examine the relationship between two variables.\n",
    "Covariance is useful for understanding the direction of the relationship between two variables,\n",
    "while correlation is useful for understanding the strength and direction of the relationship. \n",
    "Correlation is often preferred because it is more standardized and can be compared across different datasets."
   ]
  },
  {
   "cell_type": "code",
   "execution_count": null,
   "id": "8673c3cf-adc2-492f-8b26-eb8a04fba7f5",
   "metadata": {},
   "outputs": [],
   "source": []
  },
  {
   "cell_type": "code",
   "execution_count": null,
   "id": "4e58ddfe-f69a-4d1a-86aa-ffcda09a5f9b",
   "metadata": {},
   "outputs": [],
   "source": [
    "Q11. What is the formula for calculating the sample mean? Provide an example calculation for a\n",
    "dataset.\n",
    "Ans:\n",
    "The general formula for calculating the sample mean is given by x̄ = ( Σ xi ) / n. \n",
    "Here, x̄ represents the sample mean, xi refers all X sample values and n stands for the number of sample terms in the data set."
   ]
  },
  {
   "cell_type": "code",
   "execution_count": null,
   "id": "25eeadd5-73ea-4912-a949-b30577511110",
   "metadata": {},
   "outputs": [],
   "source": [
    "Suppose we have the following dataset of 10 scores:\n",
    "{2, 5, 7, 8, 10, 12, 15, 17, 20, 22}\n",
    "sample mean = (2 + 5 + 7 + 8 + 10 + 12 + 15 + 17 + 20 + 22) / 10\n",
    "= 118 / 10\n",
    "= 11.8"
   ]
  },
  {
   "cell_type": "code",
   "execution_count": null,
   "id": "2a78cf6c-a9de-4f5a-be48-3858dd8b7f52",
   "metadata": {},
   "outputs": [],
   "source": []
  },
  {
   "cell_type": "code",
   "execution_count": null,
   "id": "2f26fd4e-1367-4584-b657-7a9dcb12d367",
   "metadata": {},
   "outputs": [],
   "source": [
    "Q12. For a normal distribution data what is the relationship between its measure of central tendency?\n",
    "Ans:\n",
    "For a normal distribution, the measures of central tendency (mean, median, and mode) are equal. \n",
    "This means that the mean, median, and mode are all located at the center of the distribution.\n",
    "\n",
    "This is because the normal distribution is symmetric around its mean, which means that the same proportion of data falls on either side of the mean. \n",
    "As a result, the mean, median, and mode are all located at the center of the distribution, and they are all equal to each other."
   ]
  },
  {
   "cell_type": "code",
   "execution_count": null,
   "id": "231f696d-b509-4d2a-8627-3673f0385ee2",
   "metadata": {},
   "outputs": [],
   "source": []
  },
  {
   "cell_type": "code",
   "execution_count": null,
   "id": "82e5f3f3-7a54-4592-b03b-3b0693660b49",
   "metadata": {},
   "outputs": [],
   "source": [
    "Q13. How is covariance different from correlation?\n",
    "Ans:\n",
    "Covariance measures the direction and strength of the linear relationship between two variables.\n",
    "It is a measure of how much two variables change together. \n",
    "Specifically, covariance measures the variability of the product of the deviations of two variables from their respective means.\n",
    "A positive covariance indicates that the variables tend to move in the same direction, \n",
    "while a negative covariance indicates that the variables tend to move in opposite directions.\n",
    "However, covariance does not provide information about the magnitude of the relationship,\n",
    "and it can be influenced by the units of measurement of the variables.\n",
    "\n",
    "Correlation, on the other hand, measures the strength and direction of the linear relationship between two variables,\n",
    "but it is scaled to always be between -1 and +1. A correlation of +1 indicates a perfect positive relationship,\n",
    "while a correlation of -1 indicates a perfect negative relationship. \n",
    "A correlation of 0 indicates no relationship. \n",
    "Correlation is a more standardized measure than covariance, and it is not affected by the units of measurement of the variables."
   ]
  },
  {
   "cell_type": "code",
   "execution_count": null,
   "id": "ec94ab9b-8043-45c3-9a98-9ac55b5bcd4d",
   "metadata": {},
   "outputs": [],
   "source": []
  },
  {
   "cell_type": "code",
   "execution_count": null,
   "id": "63db1eac-2e29-4f14-af71-df87af39a346",
   "metadata": {},
   "outputs": [],
   "source": [
    "Q14. How do outliers affect measures of central tendency and dispersion? Provide an example.\n",
    "Ans:\n",
    "Outliers can have a significant impact on measures of central tendency and dispersion, \n",
    "and can distort the interpretation of a dataset.\n",
    "\n",
    "For measures of central tendency such as the mean, the presence of outliers can pull the mean away from the center of the data distribution.\n",
    "For example, consider the following dataset of exam scores: {60, 70, 80, 90, 100}.\n",
    "The mean score for this dataset is 80. However, if we add an outlier score of 30 to the dataset, the new mean becomes 66,\n",
    "which is much lower than the true center of the data distribution.\n",
    "\n",
    "For measures of dispersion such as the range, variance, and standard deviation, outliers can have a similar effect.\n",
    "Outliers can increase the range of the dataset, and can also increase the variance and standard deviation,\n",
    "making the data appear more spread out than it actually is. \n",
    "For example, consider the following dataset of incomes (in thousands of dollars): {30, 35, 40, 45, 50}.\n",
    "The range for this dataset is 20 (50-30).\n",
    "However, if we add an outlier income of 100 to the dataset, the new range becomes 70 (100-30), which is much larger than the true spread of the data."
   ]
  }
 ],
 "metadata": {
  "kernelspec": {
   "display_name": "Python 3 (ipykernel)",
   "language": "python",
   "name": "python3"
  },
  "language_info": {
   "codemirror_mode": {
    "name": "ipython",
    "version": 3
   },
   "file_extension": ".py",
   "mimetype": "text/x-python",
   "name": "python",
   "nbconvert_exporter": "python",
   "pygments_lexer": "ipython3",
   "version": "3.10.8"
  }
 },
 "nbformat": 4,
 "nbformat_minor": 5
}
