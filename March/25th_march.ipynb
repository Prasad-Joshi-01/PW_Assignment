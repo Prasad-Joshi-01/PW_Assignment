{
 "cells": [
  {
   "cell_type": "markdown",
   "id": "8f6dfad6-61e0-46d0-b245-1cadc9aa5963",
   "metadata": {},
   "source": [
    "## Flight Price:"
   ]
  },
  {
   "cell_type": "code",
   "execution_count": null,
   "id": "020547e4-95a9-41fe-8382-77d8340f1a20",
   "metadata": {},
   "outputs": [],
   "source": [
    "Q1. Load the flight price dataset and examine its dimensions. How many rows and columns does the\n",
    "dataset have?"
   ]
  },
  {
   "cell_type": "code",
   "execution_count": 31,
   "id": "95a73540-df0f-4b98-b5a8-11dcd936a64e",
   "metadata": {},
   "outputs": [],
   "source": [
    "import pandas as pd\n",
    "df= pd.read_excel('flight_price.xlsx')"
   ]
  },
  {
   "cell_type": "code",
   "execution_count": 32,
   "id": "088055bb-eedd-476d-8fb4-7c34b229a52f",
   "metadata": {},
   "outputs": [
    {
     "data": {
      "text/plain": [
       "(10683, 11)"
      ]
     },
     "execution_count": 32,
     "metadata": {},
     "output_type": "execute_result"
    }
   ],
   "source": [
    "df.shape"
   ]
  },
  {
   "cell_type": "code",
   "execution_count": null,
   "id": "c04909a0-9fbd-4743-bbfe-7ae61769cf98",
   "metadata": {},
   "outputs": [],
   "source": [
    "Dataset have 10683 rows and 11 columns"
   ]
  },
  {
   "cell_type": "code",
   "execution_count": null,
   "id": "dd2a983a-cf26-45ec-848a-4651c7b8e902",
   "metadata": {},
   "outputs": [],
   "source": []
  },
  {
   "cell_type": "code",
   "execution_count": null,
   "id": "f51b5814-c0f6-4b5e-9ee0-78f7c6f9efea",
   "metadata": {},
   "outputs": [],
   "source": [
    "Q2. What is the distribution of flight prices in the dataset? Create a histogram to visualize the\n",
    "distribution."
   ]
  },
  {
   "cell_type": "code",
   "execution_count": 33,
   "id": "1f48f32c-60fc-4614-a193-fcb06f9b946a",
   "metadata": {},
   "outputs": [
    {
     "data": {
      "text/html": [
       "<div>\n",
       "<style scoped>\n",
       "    .dataframe tbody tr th:only-of-type {\n",
       "        vertical-align: middle;\n",
       "    }\n",
       "\n",
       "    .dataframe tbody tr th {\n",
       "        vertical-align: top;\n",
       "    }\n",
       "\n",
       "    .dataframe thead th {\n",
       "        text-align: right;\n",
       "    }\n",
       "</style>\n",
       "<table border=\"1\" class=\"dataframe\">\n",
       "  <thead>\n",
       "    <tr style=\"text-align: right;\">\n",
       "      <th></th>\n",
       "      <th>Airline</th>\n",
       "      <th>Date_of_Journey</th>\n",
       "      <th>Source</th>\n",
       "      <th>Destination</th>\n",
       "      <th>Route</th>\n",
       "      <th>Dep_Time</th>\n",
       "      <th>Arrival_Time</th>\n",
       "      <th>Duration</th>\n",
       "      <th>Total_Stops</th>\n",
       "      <th>Additional_Info</th>\n",
       "      <th>Price</th>\n",
       "    </tr>\n",
       "  </thead>\n",
       "  <tbody>\n",
       "    <tr>\n",
       "      <th>0</th>\n",
       "      <td>IndiGo</td>\n",
       "      <td>24/03/2019</td>\n",
       "      <td>Banglore</td>\n",
       "      <td>New Delhi</td>\n",
       "      <td>BLR → DEL</td>\n",
       "      <td>22:20</td>\n",
       "      <td>01:10 22 Mar</td>\n",
       "      <td>2h 50m</td>\n",
       "      <td>non-stop</td>\n",
       "      <td>No info</td>\n",
       "      <td>3897</td>\n",
       "    </tr>\n",
       "    <tr>\n",
       "      <th>1</th>\n",
       "      <td>Air India</td>\n",
       "      <td>1/05/2019</td>\n",
       "      <td>Kolkata</td>\n",
       "      <td>Banglore</td>\n",
       "      <td>CCU → IXR → BBI → BLR</td>\n",
       "      <td>05:50</td>\n",
       "      <td>13:15</td>\n",
       "      <td>7h 25m</td>\n",
       "      <td>2 stops</td>\n",
       "      <td>No info</td>\n",
       "      <td>7662</td>\n",
       "    </tr>\n",
       "  </tbody>\n",
       "</table>\n",
       "</div>"
      ],
      "text/plain": [
       "     Airline Date_of_Journey    Source Destination                  Route  \\\n",
       "0     IndiGo      24/03/2019  Banglore   New Delhi              BLR → DEL   \n",
       "1  Air India       1/05/2019   Kolkata    Banglore  CCU → IXR → BBI → BLR   \n",
       "\n",
       "  Dep_Time  Arrival_Time Duration Total_Stops Additional_Info  Price  \n",
       "0    22:20  01:10 22 Mar   2h 50m    non-stop         No info   3897  \n",
       "1    05:50         13:15   7h 25m     2 stops         No info   7662  "
      ]
     },
     "execution_count": 33,
     "metadata": {},
     "output_type": "execute_result"
    }
   ],
   "source": [
    "df.head(2)"
   ]
  },
  {
   "cell_type": "code",
   "execution_count": 34,
   "id": "e5ec3f3e-9dbc-42c1-9d01-007f73fc6832",
   "metadata": {},
   "outputs": [
    {
     "data": {
      "text/plain": [
       "count    10683.000000\n",
       "mean      9087.064121\n",
       "std       4611.359167\n",
       "min       1759.000000\n",
       "25%       5277.000000\n",
       "50%       8372.000000\n",
       "75%      12373.000000\n",
       "max      79512.000000\n",
       "Name: Price, dtype: float64"
      ]
     },
     "execution_count": 34,
     "metadata": {},
     "output_type": "execute_result"
    }
   ],
   "source": [
    "## distribution of flight prices in the dataset\n",
    "df['Price'].describe()"
   ]
  },
  {
   "cell_type": "code",
   "execution_count": 35,
   "id": "795098a2-3aa1-4108-8f4f-9b60229c7f98",
   "metadata": {},
   "outputs": [
    {
     "data": {
      "text/plain": [
       "<AxesSubplot: xlabel='Price', ylabel='Count'>"
      ]
     },
     "execution_count": 35,
     "metadata": {},
     "output_type": "execute_result"
    },
    {
     "data": {
      "image/png": "[encoded data removed]",
      "text/plain": [
       "<Figure size 640x480 with 1 Axes>"
      ]
     },
     "metadata": {},
     "output_type": "display_data"
    }
   ],
   "source": [
    "import pandas as pd\n",
    "import seaborn as sns\n",
    "sns.histplot(data=df, x='Price', kde=True)"
   ]
  },
  {
   "cell_type": "markdown",
   "id": "c26d629c-c742-4b4f-8886-77c97f73023b",
   "metadata": {},
   "source": [
    "## From the plot we can say the distribution is Right skewed"
   ]
  },
  {
   "cell_type": "code",
   "execution_count": null,
   "id": "e93bd0a5-b4bb-4f5d-bf5f-2eea253198e3",
   "metadata": {},
   "outputs": [],
   "source": []
  },
  {
   "cell_type": "code",
   "execution_count": null,
   "id": "d069e2a5-1ca8-4c27-b36e-b13c17f23a4e",
   "metadata": {},
   "outputs": [],
   "source": [
    "Q3. What is the range of prices in the dataset? What is the minimum and maximum price?"
   ]
  },
  {
   "cell_type": "code",
   "execution_count": 36,
   "id": "9c4b4f1f-3441-44eb-8e8f-9d94bb723df1",
   "metadata": {},
   "outputs": [
    {
     "data": {
      "text/plain": [
       "77753"
      ]
     },
     "execution_count": 36,
     "metadata": {},
     "output_type": "execute_result"
    }
   ],
   "source": [
    "#Range of price \n",
    "price_range= df['Price'].max() - df['Price'].min()\n",
    "price_range"
   ]
  },
  {
   "cell_type": "code",
   "execution_count": 37,
   "id": "69a2fe24-a043-4599-af3f-4084faae6d40",
   "metadata": {},
   "outputs": [
    {
     "data": {
      "text/plain": [
       "79512"
      ]
     },
     "execution_count": 37,
     "metadata": {},
     "output_type": "execute_result"
    }
   ],
   "source": [
    "#maximum price\n",
    "df['Price'].max()"
   ]
  },
  {
   "cell_type": "code",
   "execution_count": 38,
   "id": "237ba9ff-c151-4681-86c1-5e7b39e7f910",
   "metadata": {},
   "outputs": [
    {
     "data": {
      "text/plain": [
       "1759"
      ]
     },
     "execution_count": 38,
     "metadata": {},
     "output_type": "execute_result"
    }
   ],
   "source": [
    "# Minimum Price\n",
    "df['Price'].min()"
   ]
  },
  {
   "cell_type": "code",
   "execution_count": null,
   "id": "e885cd28-d34b-4fba-bd9d-9fc3a4269c7e",
   "metadata": {},
   "outputs": [],
   "source": []
  },
  {
   "cell_type": "code",
   "execution_count": null,
   "id": "7ad7ec14-7733-480f-a5b5-d1bfa606594e",
   "metadata": {},
   "outputs": [],
   "source": [
    "Q4. How does the price of flights vary by airline? Create a boxplot to compare the prices of different\n",
    "airlines."
   ]
  },
  {
   "cell_type": "code",
   "execution_count": 39,
   "id": "f642fea2-7b47-404f-b3a5-d68b1b01d600",
   "metadata": {},
   "outputs": [
    {
     "data": {
      "text/html": [
       "<div>\n",
       "<style scoped>\n",
       "    .dataframe tbody tr th:only-of-type {\n",
       "        vertical-align: middle;\n",
       "    }\n",
       "\n",
       "    .dataframe tbody tr th {\n",
       "        vertical-align: top;\n",
       "    }\n",
       "\n",
       "    .dataframe thead th {\n",
       "        text-align: right;\n",
       "    }\n",
       "</style>\n",
       "<table border=\"1\" class=\"dataframe\">\n",
       "  <thead>\n",
       "    <tr style=\"text-align: right;\">\n",
       "      <th></th>\n",
       "      <th>mean</th>\n",
       "      <th>median</th>\n",
       "      <th>std</th>\n",
       "    </tr>\n",
       "    <tr>\n",
       "      <th>Airline</th>\n",
       "      <th></th>\n",
       "      <th></th>\n",
       "      <th></th>\n",
       "    </tr>\n",
       "  </thead>\n",
       "  <tbody>\n",
       "    <tr>\n",
       "      <th>Air Asia</th>\n",
       "      <td>5590.260188</td>\n",
       "      <td>5162.0</td>\n",
       "      <td>2027.362290</td>\n",
       "    </tr>\n",
       "    <tr>\n",
       "      <th>Air India</th>\n",
       "      <td>9611.210616</td>\n",
       "      <td>9443.0</td>\n",
       "      <td>3900.952942</td>\n",
       "    </tr>\n",
       "    <tr>\n",
       "      <th>GoAir</th>\n",
       "      <td>5861.056701</td>\n",
       "      <td>5135.0</td>\n",
       "      <td>2703.585767</td>\n",
       "    </tr>\n",
       "    <tr>\n",
       "      <th>IndiGo</th>\n",
       "      <td>5673.682903</td>\n",
       "      <td>5000.0</td>\n",
       "      <td>2264.142168</td>\n",
       "    </tr>\n",
       "    <tr>\n",
       "      <th>Jet Airways</th>\n",
       "      <td>11643.923357</td>\n",
       "      <td>11467.0</td>\n",
       "      <td>4258.940578</td>\n",
       "    </tr>\n",
       "    <tr>\n",
       "      <th>Jet Airways Business</th>\n",
       "      <td>58358.666667</td>\n",
       "      <td>54747.0</td>\n",
       "      <td>11667.596748</td>\n",
       "    </tr>\n",
       "    <tr>\n",
       "      <th>Multiple carriers</th>\n",
       "      <td>10902.678094</td>\n",
       "      <td>10197.0</td>\n",
       "      <td>3721.234997</td>\n",
       "    </tr>\n",
       "    <tr>\n",
       "      <th>Multiple carriers Premium economy</th>\n",
       "      <td>11418.846154</td>\n",
       "      <td>11269.0</td>\n",
       "      <td>1717.153936</td>\n",
       "    </tr>\n",
       "    <tr>\n",
       "      <th>SpiceJet</th>\n",
       "      <td>4338.284841</td>\n",
       "      <td>3873.0</td>\n",
       "      <td>1849.922514</td>\n",
       "    </tr>\n",
       "    <tr>\n",
       "      <th>Trujet</th>\n",
       "      <td>4140.000000</td>\n",
       "      <td>4140.0</td>\n",
       "      <td>NaN</td>\n",
       "    </tr>\n",
       "    <tr>\n",
       "      <th>Vistara</th>\n",
       "      <td>7796.348643</td>\n",
       "      <td>7980.0</td>\n",
       "      <td>2914.298578</td>\n",
       "    </tr>\n",
       "    <tr>\n",
       "      <th>Vistara Premium economy</th>\n",
       "      <td>8962.333333</td>\n",
       "      <td>9125.0</td>\n",
       "      <td>2915.405518</td>\n",
       "    </tr>\n",
       "  </tbody>\n",
       "</table>\n",
       "</div>"
      ],
      "text/plain": [
       "                                           mean   median           std\n",
       "Airline                                                               \n",
       "Air Asia                            5590.260188   5162.0   2027.362290\n",
       "Air India                           9611.210616   9443.0   3900.952942\n",
       "GoAir                               5861.056701   5135.0   2703.585767\n",
       "IndiGo                              5673.682903   5000.0   2264.142168\n",
       "Jet Airways                        11643.923357  11467.0   4258.940578\n",
       "Jet Airways Business               58358.666667  54747.0  11667.596748\n",
       "Multiple carriers                  10902.678094  10197.0   3721.234997\n",
       "Multiple carriers Premium economy  11418.846154  11269.0   1717.153936\n",
       "SpiceJet                            4338.284841   3873.0   1849.922514\n",
       "Trujet                              4140.000000   4140.0           NaN\n",
       "Vistara                             7796.348643   7980.0   2914.298578\n",
       "Vistara Premium economy             8962.333333   9125.0   2915.405518"
      ]
     },
     "execution_count": 39,
     "metadata": {},
     "output_type": "execute_result"
    }
   ],
   "source": [
    "#price of flights vary by airline\n",
    "df.groupby('Airline')['Price'].agg(['mean', 'median', 'std'])"
   ]
  },
  {
   "cell_type": "code",
   "execution_count": 42,
   "id": "e8069793-6dba-4a44-af30-f9025caec160",
   "metadata": {},
   "outputs": [
    {
     "data": {
      "text/plain": [
       "(array([ 0,  1,  2,  3,  4,  5,  6,  7,  8,  9, 10, 11]),\n",
       " [Text(0, 0, 'IndiGo'),\n",
       "  Text(1, 0, 'Air India'),\n",
       "  Text(2, 0, 'Jet Airways'),\n",
       "  Text(3, 0, 'SpiceJet'),\n",
       "  Text(4, 0, 'Multiple carriers'),\n",
       "  Text(5, 0, 'GoAir'),\n",
       "  Text(6, 0, 'Vistara'),\n",
       "  Text(7, 0, 'Air Asia'),\n",
       "  Text(8, 0, 'Vistara Premium economy'),\n",
       "  Text(9, 0, 'Jet Airways Business'),\n",
       "  Text(10, 0, 'Multiple carriers Premium economy'),\n",
       "  Text(11, 0, 'Trujet')])"
      ]
     },
     "execution_count": 42,
     "metadata": {},
     "output_type": "execute_result"
    },
    {
     "data": {
      "image/png": "[encoded data removed]",
      "text/plain": [
       "<Figure size 640x480 with 1 Axes>"
      ]
     },
     "metadata": {},
     "output_type": "display_data"
    }
   ],
   "source": [
    "#box plot\n",
    "import matplotlib.pyplot as plt\n",
    "sns.boxplot(x='Airline', y='Price', data=df)\n",
    "plt.xticks(fontsize=4)"
   ]
  },
  {
   "cell_type": "code",
   "execution_count": null,
   "id": "7f540195-3552-4076-9941-43d9e41a5e21",
   "metadata": {},
   "outputs": [],
   "source": []
  },
  {
   "cell_type": "code",
   "execution_count": null,
   "id": "22b628e5-933f-4986-bc1c-781ea85c5945",
   "metadata": {},
   "outputs": [],
   "source": [
    "Q5. Are there any outliers in the dataset? Identify any potential outliers using a boxplot and describe how\n",
    "they may impact your analysis.\n",
    "Ans:\n",
    "Yes there is outlier in a dataset i.e Jet Airways Business Airline having mean:58358.666667\tmedian:54747.0\tstd: 11667.596748 which makes it outlier."
   ]
  },
  {
   "cell_type": "code",
   "execution_count": null,
   "id": "ef039de3-233b-46c4-9aec-10f045d5df60",
   "metadata": {},
   "outputs": [],
   "source": []
  },
  {
   "cell_type": "code",
   "execution_count": null,
   "id": "dd21eefa-12c8-4f6d-8754-2302d8c073e4",
   "metadata": {},
   "outputs": [],
   "source": [
    "Q6. You are working for a travel agency, and your boss has asked you to analyze the Flight Price dataset\n",
    "to identify the peak travel season. What features would you analyze to identify the peak season, and how\n",
    "would you present your findings to your boss?\n",
    "Ans:\n",
    "To identify the peak travel season in the Flight Price dataset, there are several features that can be analyzed. \n",
    "Here are some of the features that can be used:\n",
    "\n",
    "1.Date of the flight: Analyzing the number of flights and prices by month or season can help identify peak travel times.\n",
    "2.Destination: Analyzing the number of flights and prices to specific destinations can help identify peak travel times to those destinations.\n",
    "3.Day of the week: Analyzing the number of flights and prices by day of the week can help identify peak travel days.\n",
    "4.Flight duration: Analyzing the number of flights and prices by flight duration can help identify peak travel times for longer or shorter trips.\n",
    "5.Airline: Analyzing the number of flights and prices by airline can help identify peak travel times for specific airlines.\n",
    "\n",
    "To present the findings to your boss, you could create several visualizations to illustrate the peak travel season.\n",
    "Here are some ideas for visualizations:\n",
    "1.Line chart: Create a line chart that shows the number of flights or prices by month or season. \n",
    "This can help illustrate the trend of peak travel times throughout the year.\n",
    "2.Bar chart: Create a bar chart that shows the number of flights or prices by destination or day of the week. \n",
    "This can help illustrate the most popular destinations or peak travel days.\n",
    "3.Heatmap: Create a heatmap that shows the number of flights or prices by month and destination.\n",
    "This can help identify the peak travel times for specific destinations.\n",
    "4.Scatter plot: Create a scatter plot that shows the relationship between flight duration and prices. \n",
    "This can help identify peak travel times for longer or shorter trips."
   ]
  },
  {
   "cell_type": "code",
   "execution_count": null,
   "id": "8f3a9780-ecf4-4095-9a5e-1c677f14b3d8",
   "metadata": {},
   "outputs": [],
   "source": []
  },
  {
   "cell_type": "code",
   "execution_count": null,
   "id": "7986567b-7bba-4a1f-97fa-73d8991bb721",
   "metadata": {},
   "outputs": [],
   "source": [
    "Q7. You are a data analyst for a flight booking website, and you have been asked to analyze the Flight\n",
    "Price dataset to identify any trends in flight prices. What features would you analyze to identify these\n",
    "trends, and what visualizations would you use to present your findings to your team?\n",
    "Ans:\n",
    "To identify trends in flight prices using the Flight Price dataset, there are several features that can be analyzed.\n",
    "Here are some of the features that can be used:\n",
    "1.Date of the flight: Analyzing the prices by month, week, or day can help identify trends over time.\n",
    "2.Destination: Analyzing the prices by destination can help identify trends in pricing for specific locations.\n",
    "3.Flight duration: Analyzing the prices by flight duration can help identify trends in pricing for longer or shorter trips.\n",
    "4.Airline: Analyzing the prices by airline can help identify trends in pricing for specific airlines.\n",
    "\n",
    "To present the findings to your team, you could create several visualizations to illustrate the trends in flight prices.\n",
    "Here are some ideas for visualizations:\n",
    "1.Line chart: Create a line chart that shows the average prices over time by month, week, or day. \n",
    "This can help identify trends in pricing over time.\n",
    "2.Bar chart: Create a bar chart that shows the average prices by destination or airline.\n",
    "This can help identify pricing trends for specific locations or airlines.\n",
    "3.Heatmap: Create a heatmap that shows the average prices by month and destination. \n",
    "This can help identify trends in pricing for specific destinations over time.\n",
    "4.Scatter plot: Create a scatter plot that shows the relationship between flight duration and prices. \n",
    "This can help identify pricing trends for longer or shorter trips."
   ]
  },
  {
   "cell_type": "code",
   "execution_count": null,
   "id": "9ce908a7-23f4-4eb6-b40d-e348f7a720cd",
   "metadata": {},
   "outputs": [],
   "source": []
  },
  {
   "cell_type": "code",
   "execution_count": null,
   "id": "18470c15-cf29-4278-ae41-50f80742c904",
   "metadata": {},
   "outputs": [],
   "source": [
    "Q8. You are a data scientist working for an airline company, and you have been asked to analyze the\n",
    "Flight Price dataset to identify the factors that affect flight prices. What features would you analyze to\n",
    "identify these factors, and how would you present your findings to the management team?\n",
    "Ans:\n",
    "To identify the factors that affect flight prices using the Flight Price dataset, here are some of the features that can be analyzed:\n",
    "1.Date of the flight: Analyzing the prices by month, week, or day can help identify trends over time and seasonal variations in pricing.\n",
    "2.Origin and destination airports: Analyzing the prices by airport can help identify differences in pricing for different locations.\n",
    "3.Airline: Analyzing the prices by airline can help identify differences in pricing for different airlines.\n",
    "4.Flight duration: Analyzing the prices by flight duration can help identify pricing differences for longer or shorter trips.\n",
    "5.Time of day: Analyzing the prices by time of day can help identify pricing differences for flights at different times.\n",
    "\n",
    "To present the findings to the management team, you could create several visualizations to illustrate the factors that affect flight prices. \n",
    "Here are some ideas for visualizations:\n",
    "1.Heatmap: Create a heatmap that shows the average prices by month and origin/destination airport.\n",
    "This can help identify seasonal variations in pricing and differences in pricing for different locations.\n",
    "2.Boxplot: Create a boxplot that shows the prices by airline. \n",
    "This can help identify differences in pricing for different airlines.\n",
    "3.Scatter plot: Create a scatter plot that shows the relationship between flight duration and prices. \n",
    "This can help identify pricing differences for longer or shorter trips.\n",
    "4.Line chart: Create a line chart that shows the average prices over time by week or day. \n",
    "This can help identify trends in pricing over time and seasonal variations in pricing."
   ]
  },
  {
   "cell_type": "code",
   "execution_count": null,
   "id": "1011da8c-2c10-47b4-8a9b-5f80c179986f",
   "metadata": {},
   "outputs": [],
   "source": []
  },
  {
   "cell_type": "markdown",
   "id": "2568d035-f1c6-442d-8456-b2356f40c126",
   "metadata": {},
   "source": [
    "## Google Playstore:"
   ]
  },
  {
   "cell_type": "code",
   "execution_count": null,
   "id": "3d58dbcf-e628-44fb-9bc7-96403e18de1a",
   "metadata": {},
   "outputs": [],
   "source": [
    "Q9. Load the Google Playstore dataset and examine its dimensions. How many rows and columns does\n",
    "the dataset have?"
   ]
  },
  {
   "cell_type": "code",
   "execution_count": 43,
   "id": "22acecbb-59fc-47f5-9312-4b27b6350447",
   "metadata": {},
   "outputs": [],
   "source": [
    "import pandas as pd\n",
    "import numpy as np\n",
    "import matplotlib.pyplot as plt\n",
    "import seaborn as sns\n",
    "import warnings\n",
    "warnings.filterwarnings(\"ignore\")\n",
    "%matplotlib inline"
   ]
  },
  {
   "cell_type": "code",
   "execution_count": 45,
   "id": "699c1b76-722b-4129-96da-6fac8aa46315",
   "metadata": {},
   "outputs": [
    {
     "data": {
      "text/html": [
       "<div>\n",
       "<style scoped>\n",
       "    .dataframe tbody tr th:only-of-type {\n",
       "        vertical-align: middle;\n",
       "    }\n",
       "\n",
       "    .dataframe tbody tr th {\n",
       "        vertical-align: top;\n",
       "    }\n",
       "\n",
       "    .dataframe thead th {\n",
       "        text-align: right;\n",
       "    }\n",
       "</style>\n",
       "<table border=\"1\" class=\"dataframe\">\n",
       "  <thead>\n",
       "    <tr style=\"text-align: right;\">\n",
       "      <th></th>\n",
       "      <th>App</th>\n",
       "      <th>Category</th>\n",
       "      <th>Rating</th>\n",
       "      <th>Reviews</th>\n",
       "      <th>Size</th>\n",
       "      <th>Installs</th>\n",
       "      <th>Type</th>\n",
       "      <th>Price</th>\n",
       "      <th>Content Rating</th>\n",
       "      <th>Genres</th>\n",
       "      <th>Last Updated</th>\n",
       "      <th>Current Ver</th>\n",
       "      <th>Android Ver</th>\n",
       "    </tr>\n",
       "  </thead>\n",
       "  <tbody>\n",
       "    <tr>\n",
       "      <th>0</th>\n",
       "      <td>Photo Editor &amp; Candy Camera &amp; Grid &amp; ScrapBook</td>\n",
       "      <td>ART_AND_DESIGN</td>\n",
       "      <td>4.1</td>\n",
       "      <td>159</td>\n",
       "      <td>19M</td>\n",
       "      <td>10,000+</td>\n",
       "      <td>Free</td>\n",
       "      <td>0</td>\n",
       "      <td>Everyone</td>\n",
       "      <td>Art &amp; Design</td>\n",
       "      <td>January 7, 2018</td>\n",
       "      <td>1.0.0</td>\n",
       "      <td>4.0.3 and up</td>\n",
       "    </tr>\n",
       "    <tr>\n",
       "      <th>1</th>\n",
       "      <td>Coloring book moana</td>\n",
       "      <td>ART_AND_DESIGN</td>\n",
       "      <td>3.9</td>\n",
       "      <td>967</td>\n",
       "      <td>14M</td>\n",
       "      <td>500,000+</td>\n",
       "      <td>Free</td>\n",
       "      <td>0</td>\n",
       "      <td>Everyone</td>\n",
       "      <td>Art &amp; Design;Pretend Play</td>\n",
       "      <td>January 15, 2018</td>\n",
       "      <td>2.0.0</td>\n",
       "      <td>4.0.3 and up</td>\n",
       "    </tr>\n",
       "  </tbody>\n",
       "</table>\n",
       "</div>"
      ],
      "text/plain": [
       "                                              App        Category  Rating  \\\n",
       "0  Photo Editor & Candy Camera & Grid & ScrapBook  ART_AND_DESIGN     4.1   \n",
       "1                             Coloring book moana  ART_AND_DESIGN     3.9   \n",
       "\n",
       "  Reviews Size  Installs  Type Price Content Rating  \\\n",
       "0     159  19M   10,000+  Free     0       Everyone   \n",
       "1     967  14M  500,000+  Free     0       Everyone   \n",
       "\n",
       "                      Genres      Last Updated Current Ver   Android Ver  \n",
       "0               Art & Design   January 7, 2018       1.0.0  4.0.3 and up  \n",
       "1  Art & Design;Pretend Play  January 15, 2018       2.0.0  4.0.3 and up  "
      ]
     },
     "execution_count": 45,
     "metadata": {},
     "output_type": "execute_result"
    }
   ],
   "source": [
    "df=pd.read_csv('https://raw.githubusercontent.com/krishnaik06/playstore-Dataset/main/googleplaystore.csv')\n",
    "df.head(2)"
   ]
  },
  {
   "cell_type": "code",
   "execution_count": 46,
   "id": "ecd7de64-707d-4a02-883a-bc74b99a7fc3",
   "metadata": {},
   "outputs": [
    {
     "data": {
      "text/plain": [
       "(10841, 13)"
      ]
     },
     "execution_count": 46,
     "metadata": {},
     "output_type": "execute_result"
    }
   ],
   "source": [
    "df.shape"
   ]
  },
  {
   "cell_type": "code",
   "execution_count": null,
   "id": "3750520d-c6c2-44e3-8052-3ad2a06f2408",
   "metadata": {},
   "outputs": [],
   "source": [
    "Dataset have 10841 rows and 13 columns"
   ]
  },
  {
   "cell_type": "code",
   "execution_count": null,
   "id": "14db6411-0108-4dec-8394-924b706c3ce7",
   "metadata": {},
   "outputs": [],
   "source": []
  },
  {
   "cell_type": "code",
   "execution_count": null,
   "id": "db9fa30f-81fb-48b3-bf28-c90ef3ab0fa5",
   "metadata": {},
   "outputs": [],
   "source": [
    "Q10. How does the rating of apps vary by category? Create a boxplot to compare the ratings of different\n",
    "app categories."
   ]
  },
  {
   "cell_type": "code",
   "execution_count": 48,
   "id": "f67d81de-8b59-4457-a22e-88d339e083e2",
   "metadata": {},
   "outputs": [
    {
     "data": {
      "text/html": [
       "<div>\n",
       "<style scoped>\n",
       "    .dataframe tbody tr th:only-of-type {\n",
       "        vertical-align: middle;\n",
       "    }\n",
       "\n",
       "    .dataframe tbody tr th {\n",
       "        vertical-align: top;\n",
       "    }\n",
       "\n",
       "    .dataframe thead th {\n",
       "        text-align: right;\n",
       "    }\n",
       "</style>\n",
       "<table border=\"1\" class=\"dataframe\">\n",
       "  <thead>\n",
       "    <tr style=\"text-align: right;\">\n",
       "      <th></th>\n",
       "      <th>mean</th>\n",
       "      <th>median</th>\n",
       "      <th>std</th>\n",
       "    </tr>\n",
       "    <tr>\n",
       "      <th>Category</th>\n",
       "      <th></th>\n",
       "      <th></th>\n",
       "      <th></th>\n",
       "    </tr>\n",
       "  </thead>\n",
       "  <tbody>\n",
       "    <tr>\n",
       "      <th>1.9</th>\n",
       "      <td>19.000000</td>\n",
       "      <td>19.0</td>\n",
       "      <td>NaN</td>\n",
       "    </tr>\n",
       "    <tr>\n",
       "      <th>ART_AND_DESIGN</th>\n",
       "      <td>4.358065</td>\n",
       "      <td>4.4</td>\n",
       "      <td>0.358297</td>\n",
       "    </tr>\n",
       "    <tr>\n",
       "      <th>AUTO_AND_VEHICLES</th>\n",
       "      <td>4.190411</td>\n",
       "      <td>4.3</td>\n",
       "      <td>0.543692</td>\n",
       "    </tr>\n",
       "    <tr>\n",
       "      <th>BEAUTY</th>\n",
       "      <td>4.278571</td>\n",
       "      <td>4.3</td>\n",
       "      <td>0.362603</td>\n",
       "    </tr>\n",
       "    <tr>\n",
       "      <th>BOOKS_AND_REFERENCE</th>\n",
       "      <td>4.346067</td>\n",
       "      <td>4.5</td>\n",
       "      <td>0.429046</td>\n",
       "    </tr>\n",
       "    <tr>\n",
       "      <th>BUSINESS</th>\n",
       "      <td>4.121452</td>\n",
       "      <td>4.3</td>\n",
       "      <td>0.624422</td>\n",
       "    </tr>\n",
       "    <tr>\n",
       "      <th>COMICS</th>\n",
       "      <td>4.155172</td>\n",
       "      <td>4.4</td>\n",
       "      <td>0.537758</td>\n",
       "    </tr>\n",
       "    <tr>\n",
       "      <th>COMMUNICATION</th>\n",
       "      <td>4.158537</td>\n",
       "      <td>4.3</td>\n",
       "      <td>0.426192</td>\n",
       "    </tr>\n",
       "    <tr>\n",
       "      <th>DATING</th>\n",
       "      <td>3.970769</td>\n",
       "      <td>4.1</td>\n",
       "      <td>0.630510</td>\n",
       "    </tr>\n",
       "    <tr>\n",
       "      <th>EDUCATION</th>\n",
       "      <td>4.389032</td>\n",
       "      <td>4.4</td>\n",
       "      <td>0.251894</td>\n",
       "    </tr>\n",
       "    <tr>\n",
       "      <th>ENTERTAINMENT</th>\n",
       "      <td>4.126174</td>\n",
       "      <td>4.2</td>\n",
       "      <td>0.302556</td>\n",
       "    </tr>\n",
       "    <tr>\n",
       "      <th>EVENTS</th>\n",
       "      <td>4.435556</td>\n",
       "      <td>4.5</td>\n",
       "      <td>0.419499</td>\n",
       "    </tr>\n",
       "    <tr>\n",
       "      <th>FAMILY</th>\n",
       "      <td>4.192272</td>\n",
       "      <td>4.3</td>\n",
       "      <td>0.508026</td>\n",
       "    </tr>\n",
       "    <tr>\n",
       "      <th>FINANCE</th>\n",
       "      <td>4.131889</td>\n",
       "      <td>4.3</td>\n",
       "      <td>0.642108</td>\n",
       "    </tr>\n",
       "    <tr>\n",
       "      <th>FOOD_AND_DRINK</th>\n",
       "      <td>4.166972</td>\n",
       "      <td>4.3</td>\n",
       "      <td>0.548070</td>\n",
       "    </tr>\n",
       "    <tr>\n",
       "      <th>GAME</th>\n",
       "      <td>4.286326</td>\n",
       "      <td>4.4</td>\n",
       "      <td>0.365375</td>\n",
       "    </tr>\n",
       "    <tr>\n",
       "      <th>HEALTH_AND_FITNESS</th>\n",
       "      <td>4.277104</td>\n",
       "      <td>4.5</td>\n",
       "      <td>0.617822</td>\n",
       "    </tr>\n",
       "    <tr>\n",
       "      <th>HOUSE_AND_HOME</th>\n",
       "      <td>4.197368</td>\n",
       "      <td>4.3</td>\n",
       "      <td>0.368411</td>\n",
       "    </tr>\n",
       "    <tr>\n",
       "      <th>LIBRARIES_AND_DEMO</th>\n",
       "      <td>4.178462</td>\n",
       "      <td>4.2</td>\n",
       "      <td>0.378522</td>\n",
       "    </tr>\n",
       "    <tr>\n",
       "      <th>LIFESTYLE</th>\n",
       "      <td>4.094904</td>\n",
       "      <td>4.2</td>\n",
       "      <td>0.693907</td>\n",
       "    </tr>\n",
       "    <tr>\n",
       "      <th>MAPS_AND_NAVIGATION</th>\n",
       "      <td>4.051613</td>\n",
       "      <td>4.2</td>\n",
       "      <td>0.519926</td>\n",
       "    </tr>\n",
       "    <tr>\n",
       "      <th>MEDICAL</th>\n",
       "      <td>4.189143</td>\n",
       "      <td>4.3</td>\n",
       "      <td>0.663581</td>\n",
       "    </tr>\n",
       "    <tr>\n",
       "      <th>NEWS_AND_MAGAZINES</th>\n",
       "      <td>4.132189</td>\n",
       "      <td>4.2</td>\n",
       "      <td>0.536707</td>\n",
       "    </tr>\n",
       "    <tr>\n",
       "      <th>PARENTING</th>\n",
       "      <td>4.300000</td>\n",
       "      <td>4.4</td>\n",
       "      <td>0.517845</td>\n",
       "    </tr>\n",
       "    <tr>\n",
       "      <th>PERSONALIZATION</th>\n",
       "      <td>4.335987</td>\n",
       "      <td>4.4</td>\n",
       "      <td>0.352732</td>\n",
       "    </tr>\n",
       "    <tr>\n",
       "      <th>PHOTOGRAPHY</th>\n",
       "      <td>4.192114</td>\n",
       "      <td>4.3</td>\n",
       "      <td>0.462896</td>\n",
       "    </tr>\n",
       "    <tr>\n",
       "      <th>PRODUCTIVITY</th>\n",
       "      <td>4.211396</td>\n",
       "      <td>4.3</td>\n",
       "      <td>0.504931</td>\n",
       "    </tr>\n",
       "    <tr>\n",
       "      <th>SHOPPING</th>\n",
       "      <td>4.259664</td>\n",
       "      <td>4.3</td>\n",
       "      <td>0.404577</td>\n",
       "    </tr>\n",
       "    <tr>\n",
       "      <th>SOCIAL</th>\n",
       "      <td>4.255598</td>\n",
       "      <td>4.3</td>\n",
       "      <td>0.413809</td>\n",
       "    </tr>\n",
       "    <tr>\n",
       "      <th>SPORTS</th>\n",
       "      <td>4.223511</td>\n",
       "      <td>4.3</td>\n",
       "      <td>0.427857</td>\n",
       "    </tr>\n",
       "    <tr>\n",
       "      <th>TOOLS</th>\n",
       "      <td>4.047411</td>\n",
       "      <td>4.2</td>\n",
       "      <td>0.616143</td>\n",
       "    </tr>\n",
       "    <tr>\n",
       "      <th>TRAVEL_AND_LOCAL</th>\n",
       "      <td>4.109292</td>\n",
       "      <td>4.3</td>\n",
       "      <td>0.504691</td>\n",
       "    </tr>\n",
       "    <tr>\n",
       "      <th>VIDEO_PLAYERS</th>\n",
       "      <td>4.063750</td>\n",
       "      <td>4.2</td>\n",
       "      <td>0.551098</td>\n",
       "    </tr>\n",
       "    <tr>\n",
       "      <th>WEATHER</th>\n",
       "      <td>4.244000</td>\n",
       "      <td>4.3</td>\n",
       "      <td>0.331353</td>\n",
       "    </tr>\n",
       "  </tbody>\n",
       "</table>\n",
       "</div>"
      ],
      "text/plain": [
       "                          mean  median       std\n",
       "Category                                        \n",
       "1.9                  19.000000    19.0       NaN\n",
       "ART_AND_DESIGN        4.358065     4.4  0.358297\n",
       "AUTO_AND_VEHICLES     4.190411     4.3  0.543692\n",
       "BEAUTY                4.278571     4.3  0.362603\n",
       "BOOKS_AND_REFERENCE   4.346067     4.5  0.429046\n",
       "BUSINESS              4.121452     4.3  0.624422\n",
       "COMICS                4.155172     4.4  0.537758\n",
       "COMMUNICATION         4.158537     4.3  0.426192\n",
       "DATING                3.970769     4.1  0.630510\n",
       "EDUCATION             4.389032     4.4  0.251894\n",
       "ENTERTAINMENT         4.126174     4.2  0.302556\n",
       "EVENTS                4.435556     4.5  0.419499\n",
       "FAMILY                4.192272     4.3  0.508026\n",
       "FINANCE               4.131889     4.3  0.642108\n",
       "FOOD_AND_DRINK        4.166972     4.3  0.548070\n",
       "GAME                  4.286326     4.4  0.365375\n",
       "HEALTH_AND_FITNESS    4.277104     4.5  0.617822\n",
       "HOUSE_AND_HOME        4.197368     4.3  0.368411\n",
       "LIBRARIES_AND_DEMO    4.178462     4.2  0.378522\n",
       "LIFESTYLE             4.094904     4.2  0.693907\n",
       "MAPS_AND_NAVIGATION   4.051613     4.2  0.519926\n",
       "MEDICAL               4.189143     4.3  0.663581\n",
       "NEWS_AND_MAGAZINES    4.132189     4.2  0.536707\n",
       "PARENTING             4.300000     4.4  0.517845\n",
       "PERSONALIZATION       4.335987     4.4  0.352732\n",
       "PHOTOGRAPHY           4.192114     4.3  0.462896\n",
       "PRODUCTIVITY          4.211396     4.3  0.504931\n",
       "SHOPPING              4.259664     4.3  0.404577\n",
       "SOCIAL                4.255598     4.3  0.413809\n",
       "SPORTS                4.223511     4.3  0.427857\n",
       "TOOLS                 4.047411     4.2  0.616143\n",
       "TRAVEL_AND_LOCAL      4.109292     4.3  0.504691\n",
       "VIDEO_PLAYERS         4.063750     4.2  0.551098\n",
       "WEATHER               4.244000     4.3  0.331353"
      ]
     },
     "execution_count": 48,
     "metadata": {},
     "output_type": "execute_result"
    }
   ],
   "source": [
    "df.groupby('Category')['Rating'].agg(['mean', 'median', 'std'])"
   ]
  },
  {
   "cell_type": "code",
   "execution_count": 51,
   "id": "28ef1a66-0929-447b-8b5b-83cfb7a6f981",
   "metadata": {},
   "outputs": [
    {
     "data": {
      "text/plain": [
       "(array([ 0,  1,  2,  3,  4,  5,  6,  7,  8,  9, 10, 11, 12, 13, 14, 15, 16,\n",
       "        17, 18, 19, 20, 21, 22, 23, 24, 25, 26, 27, 28, 29, 30, 31, 32, 33]),\n",
       " [Text(0, 0, 'ART_AND_DESIGN'),\n",
       "  Text(1, 0, 'AUTO_AND_VEHICLES'),\n",
       "  Text(2, 0, 'BEAUTY'),\n",
       "  Text(3, 0, 'BOOKS_AND_REFERENCE'),\n",
       "  Text(4, 0, 'BUSINESS'),\n",
       "  Text(5, 0, 'COMICS'),\n",
       "  Text(6, 0, 'COMMUNICATION'),\n",
       "  Text(7, 0, 'DATING'),\n",
       "  Text(8, 0, 'EDUCATION'),\n",
       "  Text(9, 0, 'ENTERTAINMENT'),\n",
       "  Text(10, 0, 'EVENTS'),\n",
       "  Text(11, 0, 'FINANCE'),\n",
       "  Text(12, 0, 'FOOD_AND_DRINK'),\n",
       "  Text(13, 0, 'HEALTH_AND_FITNESS'),\n",
       "  Text(14, 0, 'HOUSE_AND_HOME'),\n",
       "  Text(15, 0, 'LIBRARIES_AND_DEMO'),\n",
       "  Text(16, 0, 'LIFESTYLE'),\n",
       "  Text(17, 0, 'GAME'),\n",
       "  Text(18, 0, 'FAMILY'),\n",
       "  Text(19, 0, 'MEDICAL'),\n",
       "  Text(20, 0, 'SOCIAL'),\n",
       "  Text(21, 0, 'SHOPPING'),\n",
       "  Text(22, 0, 'PHOTOGRAPHY'),\n",
       "  Text(23, 0, 'SPORTS'),\n",
       "  Text(24, 0, 'TRAVEL_AND_LOCAL'),\n",
       "  Text(25, 0, 'TOOLS'),\n",
       "  Text(26, 0, 'PERSONALIZATION'),\n",
       "  Text(27, 0, 'PRODUCTIVITY'),\n",
       "  Text(28, 0, 'PARENTING'),\n",
       "  Text(29, 0, 'WEATHER'),\n",
       "  Text(30, 0, 'VIDEO_PLAYERS'),\n",
       "  Text(31, 0, 'NEWS_AND_MAGAZINES'),\n",
       "  Text(32, 0, 'MAPS_AND_NAVIGATION'),\n",
       "  Text(33, 0, '1.9')])"
      ]
     },
     "execution_count": 51,
     "metadata": {},
     "output_type": "execute_result"
    },
    {
     "data": {
      "image/png": "[encoded data removed]",
      "text/plain": [
       "<Figure size 640x480 with 1 Axes>"
      ]
     },
     "metadata": {},
     "output_type": "display_data"
    }
   ],
   "source": [
    "#box plot\n",
    "import matplotlib.pyplot as plt\n",
    "sns.boxplot(x='Category', y='Rating', data=df)\n",
    "plt.xticks(fontsize=5)"
   ]
  },
  {
   "cell_type": "code",
   "execution_count": null,
   "id": "d5880a3f-c244-4a5f-9a74-812b226daa0b",
   "metadata": {},
   "outputs": [],
   "source": []
  },
  {
   "cell_type": "code",
   "execution_count": null,
   "id": "e5b8b4e7-be3d-495f-8955-b0fe0896e842",
   "metadata": {},
   "outputs": [],
   "source": [
    "Q11. Are there any missing values in the dataset? Identify any missing values and describe how they may\n",
    "impact your analysis."
   ]
  },
  {
   "cell_type": "code",
   "execution_count": 53,
   "id": "ef1b6831-61fe-4655-b4a6-5904890d5bdc",
   "metadata": {},
   "outputs": [
    {
     "data": {
      "text/plain": [
       "App                  0\n",
       "Category             0\n",
       "Rating            1474\n",
       "Reviews              0\n",
       "Size                 0\n",
       "Installs             0\n",
       "Type                 1\n",
       "Price                0\n",
       "Content Rating       1\n",
       "Genres               0\n",
       "Last Updated         0\n",
       "Current Ver          8\n",
       "Android Ver          3\n",
       "dtype: int64"
      ]
     },
     "execution_count": 53,
     "metadata": {},
     "output_type": "execute_result"
    }
   ],
   "source": [
    "df.isna().sum()"
   ]
  },
  {
   "cell_type": "markdown",
   "id": "401df409-633d-4568-83c1-1f110c21d500",
   "metadata": {},
   "source": [
    "## dataset contains the missing values"
   ]
  },
  {
   "cell_type": "code",
   "execution_count": null,
   "id": "1a5f3de5-3369-453c-a08e-e9dbc3b60244",
   "metadata": {},
   "outputs": [],
   "source": [
    "There are 1474 missing values in Rating column . 1 misiing value in Type column. 1 in Content Rating. 8 in Current Version and 3 in Android Version.\n",
    "These missing value will give the inaccurate statistics and will affect the EDA."
   ]
  },
  {
   "cell_type": "code",
   "execution_count": null,
   "id": "130e1cde-ff61-46d7-a04d-a3041b83eec2",
   "metadata": {},
   "outputs": [],
   "source": []
  },
  {
   "cell_type": "code",
   "execution_count": null,
   "id": "67bc358f-847c-44e8-990d-e1f15fc465ec",
   "metadata": {},
   "outputs": [],
   "source": [
    "Q12. What is the relationship between the size of an app and its rating? Create a scatter plot to visualize\n",
    "the relationship."
   ]
  },
  {
   "cell_type": "code",
   "execution_count": 60,
   "id": "a5b282ff-0ec7-4ec6-9ed5-884a451eade1",
   "metadata": {},
   "outputs": [
    {
     "data": {
      "text/html": [
       "<div>\n",
       "<style scoped>\n",
       "    .dataframe tbody tr th:only-of-type {\n",
       "        vertical-align: middle;\n",
       "    }\n",
       "\n",
       "    .dataframe tbody tr th {\n",
       "        vertical-align: top;\n",
       "    }\n",
       "\n",
       "    .dataframe thead th {\n",
       "        text-align: right;\n",
       "    }\n",
       "</style>\n",
       "<table border=\"1\" class=\"dataframe\">\n",
       "  <thead>\n",
       "    <tr style=\"text-align: right;\">\n",
       "      <th></th>\n",
       "      <th>App</th>\n",
       "      <th>Category</th>\n",
       "      <th>Rating</th>\n",
       "      <th>Reviews</th>\n",
       "      <th>Size</th>\n",
       "      <th>Installs</th>\n",
       "      <th>Type</th>\n",
       "      <th>Price</th>\n",
       "      <th>Content Rating</th>\n",
       "      <th>Genres</th>\n",
       "      <th>Last Updated</th>\n",
       "      <th>Current Ver</th>\n",
       "      <th>Android Ver</th>\n",
       "    </tr>\n",
       "  </thead>\n",
       "  <tbody>\n",
       "    <tr>\n",
       "      <th>0</th>\n",
       "      <td>Photo Editor &amp; Candy Camera &amp; Grid &amp; ScrapBook</td>\n",
       "      <td>ART_AND_DESIGN</td>\n",
       "      <td>4.1</td>\n",
       "      <td>159</td>\n",
       "      <td>19M</td>\n",
       "      <td>10,000+</td>\n",
       "      <td>Free</td>\n",
       "      <td>0</td>\n",
       "      <td>Everyone</td>\n",
       "      <td>Art &amp; Design</td>\n",
       "      <td>January 7, 2018</td>\n",
       "      <td>1.0.0</td>\n",
       "      <td>4.0.3 and up</td>\n",
       "    </tr>\n",
       "    <tr>\n",
       "      <th>1</th>\n",
       "      <td>Coloring book moana</td>\n",
       "      <td>ART_AND_DESIGN</td>\n",
       "      <td>3.9</td>\n",
       "      <td>967</td>\n",
       "      <td>14M</td>\n",
       "      <td>500,000+</td>\n",
       "      <td>Free</td>\n",
       "      <td>0</td>\n",
       "      <td>Everyone</td>\n",
       "      <td>Art &amp; Design;Pretend Play</td>\n",
       "      <td>January 15, 2018</td>\n",
       "      <td>2.0.0</td>\n",
       "      <td>4.0.3 and up</td>\n",
       "    </tr>\n",
       "    <tr>\n",
       "      <th>2</th>\n",
       "      <td>U Launcher Lite – FREE Live Cool Themes, Hide ...</td>\n",
       "      <td>ART_AND_DESIGN</td>\n",
       "      <td>4.7</td>\n",
       "      <td>87510</td>\n",
       "      <td>8.7M</td>\n",
       "      <td>5,000,000+</td>\n",
       "      <td>Free</td>\n",
       "      <td>0</td>\n",
       "      <td>Everyone</td>\n",
       "      <td>Art &amp; Design</td>\n",
       "      <td>August 1, 2018</td>\n",
       "      <td>1.2.4</td>\n",
       "      <td>4.0.3 and up</td>\n",
       "    </tr>\n",
       "    <tr>\n",
       "      <th>3</th>\n",
       "      <td>Sketch - Draw &amp; Paint</td>\n",
       "      <td>ART_AND_DESIGN</td>\n",
       "      <td>4.5</td>\n",
       "      <td>215644</td>\n",
       "      <td>25M</td>\n",
       "      <td>50,000,000+</td>\n",
       "      <td>Free</td>\n",
       "      <td>0</td>\n",
       "      <td>Teen</td>\n",
       "      <td>Art &amp; Design</td>\n",
       "      <td>June 8, 2018</td>\n",
       "      <td>Varies with device</td>\n",
       "      <td>4.2 and up</td>\n",
       "    </tr>\n",
       "    <tr>\n",
       "      <th>4</th>\n",
       "      <td>Pixel Draw - Number Art Coloring Book</td>\n",
       "      <td>ART_AND_DESIGN</td>\n",
       "      <td>4.3</td>\n",
       "      <td>967</td>\n",
       "      <td>2.8M</td>\n",
       "      <td>100,000+</td>\n",
       "      <td>Free</td>\n",
       "      <td>0</td>\n",
       "      <td>Everyone</td>\n",
       "      <td>Art &amp; Design;Creativity</td>\n",
       "      <td>June 20, 2018</td>\n",
       "      <td>1.1</td>\n",
       "      <td>4.4 and up</td>\n",
       "    </tr>\n",
       "  </tbody>\n",
       "</table>\n",
       "</div>"
      ],
      "text/plain": [
       "                                                 App        Category  Rating  \\\n",
       "0     Photo Editor & Candy Camera & Grid & ScrapBook  ART_AND_DESIGN     4.1   \n",
       "1                                Coloring book moana  ART_AND_DESIGN     3.9   \n",
       "2  U Launcher Lite – FREE Live Cool Themes, Hide ...  ART_AND_DESIGN     4.7   \n",
       "3                              Sketch - Draw & Paint  ART_AND_DESIGN     4.5   \n",
       "4              Pixel Draw - Number Art Coloring Book  ART_AND_DESIGN     4.3   \n",
       "\n",
       "  Reviews  Size     Installs  Type Price Content Rating  \\\n",
       "0     159   19M      10,000+  Free     0       Everyone   \n",
       "1     967   14M     500,000+  Free     0       Everyone   \n",
       "2   87510  8.7M   5,000,000+  Free     0       Everyone   \n",
       "3  215644   25M  50,000,000+  Free     0           Teen   \n",
       "4     967  2.8M     100,000+  Free     0       Everyone   \n",
       "\n",
       "                      Genres      Last Updated         Current Ver  \\\n",
       "0               Art & Design   January 7, 2018               1.0.0   \n",
       "1  Art & Design;Pretend Play  January 15, 2018               2.0.0   \n",
       "2               Art & Design    August 1, 2018               1.2.4   \n",
       "3               Art & Design      June 8, 2018  Varies with device   \n",
       "4    Art & Design;Creativity     June 20, 2018                 1.1   \n",
       "\n",
       "    Android Ver  \n",
       "0  4.0.3 and up  \n",
       "1  4.0.3 and up  \n",
       "2  4.0.3 and up  \n",
       "3    4.2 and up  \n",
       "4    4.4 and up  "
      ]
     },
     "execution_count": 60,
     "metadata": {},
     "output_type": "execute_result"
    }
   ],
   "source": [
    "df.head()"
   ]
  },
  {
   "cell_type": "code",
   "execution_count": 59,
   "id": "cf545d9d-f50a-4de8-a2fc-d448ca8753cf",
   "metadata": {},
   "outputs": [
    {
     "data": {
      "image/png": "[encoded data removed]",
      "text/plain": [
       "<Figure size 640x480 with 1 Axes>"
      ]
     },
     "metadata": {},
     "output_type": "display_data"
    }
   ],
   "source": [
    "import pandas as pd\n",
    "import matplotlib.pyplot as plt\n",
    "playstore_df =pd.read_csv('https://raw.githubusercontent.com/krishnaik06/playstore-Dataset/main/googleplaystore.csv')\n",
    "\n",
    "x = playstore_df['Size']\n",
    "y = playstore_df['Rating']\n",
    "\n",
    "plt.scatter(x, y, alpha=0.1)\n",
    "\n",
    "plt.title('App Size vs. Rating')\n",
    "plt.xlabel('App Size')\n",
    "plt.ylabel('Rating')\n",
    "plt.show()\n"
   ]
  },
  {
   "cell_type": "code",
   "execution_count": null,
   "id": "8c12194e-d79d-4ab7-b9d1-9aef8790ced3",
   "metadata": {},
   "outputs": [],
   "source": []
  },
  {
   "cell_type": "code",
   "execution_count": null,
   "id": "e4f93e23-ca13-48b8-b0fb-f8e5a3ae7753",
   "metadata": {},
   "outputs": [],
   "source": [
    "Q13. How does the type of app affect its price? Create a bar chart to compare average prices by app type.\n",
    "Ans:"
   ]
  },
  {
   "cell_type": "code",
   "execution_count": 20,
   "id": "09009393-05af-4f6c-b9b6-8b8f0648c3f1",
   "metadata": {},
   "outputs": [
    {
     "name": "stderr",
     "output_type": "stream",
     "text": [
      "/tmp/ipykernel_77/777871133.py:4: FutureWarning: The default value of numeric_only in DataFrameGroupBy.mean is deprecated. In a future version, numeric_only will default to False. Either specify numeric_only or select only columns which should be valid for the function.\n",
      "  grouped_df = playstore_df.groupby(['Type']).mean()\n"
     ]
    },
    {
     "data": {
      "image/png": "[encoded data removed]",
      "text/plain": [
       "<Figure size 640x480 with 1 Axes>"
      ]
     },
     "metadata": {},
     "output_type": "display_data"
    }
   ],
   "source": [
    "import pandas as pd\n",
    "import matplotlib.pyplot as plt\n",
    "playstore_df =pd.read_csv('https://raw.githubusercontent.com/krishnaik06/playstore-Dataset/main/googleplaystore.csv')\n",
    "grouped_df = playstore_df.groupby(['Type']).mean()\n",
    "avg_price_by_type = playstore_df['Price']\n",
    "\n",
    "\n",
    "# Create the bar chart\n",
    "plt.bar(avg_price_by_type.index, avg_price_by_type.values,width=1)\n",
    "\n",
    "# Set the plot title and axis labels\n",
    "plt.title('Average App Price by Type')\n",
    "plt.xlabel('App Type')\n",
    "plt.ylabel('Price')\n",
    "\n",
    "plt.xticks(fontsize=12)\n",
    "plt.yticks(fontsize=5)\n",
    "# Show the plot\n",
    "plt.show()"
   ]
  },
  {
   "cell_type": "code",
   "execution_count": null,
   "id": "c365ea4b-5a35-4689-be46-7da48aab24e2",
   "metadata": {},
   "outputs": [],
   "source": []
  },
  {
   "cell_type": "code",
   "execution_count": null,
   "id": "9bafdb3b-87ed-4d86-bfae-3fc722f224fd",
   "metadata": {},
   "outputs": [],
   "source": [
    "Q14. What are the top 10 most popular apps in the dataset? Create a frequency table to identify the apps\n",
    "with the highest number of installs."
   ]
  },
  {
   "cell_type": "code",
   "execution_count": 22,
   "id": "ef66189f-1b51-4186-8f39-317787cf4261",
   "metadata": {},
   "outputs": [],
   "source": [
    "import pandas as pd\n",
    "import matplotlib.pyplot as plt\n",
    "playstore_df =pd.read_csv('https://raw.githubusercontent.com/krishnaik06/playstore-Dataset/main/googleplaystore.csv')"
   ]
  },
  {
   "cell_type": "code",
   "execution_count": 42,
   "id": "879e9f5c-ff93-497e-8eec-06ee2677cd03",
   "metadata": {},
   "outputs": [
    {
     "data": {
      "text/html": [
       "<div>\n",
       "<style scoped>\n",
       "    .dataframe tbody tr th:only-of-type {\n",
       "        vertical-align: middle;\n",
       "    }\n",
       "\n",
       "    .dataframe tbody tr th {\n",
       "        vertical-align: top;\n",
       "    }\n",
       "\n",
       "    .dataframe thead th {\n",
       "        text-align: right;\n",
       "    }\n",
       "</style>\n",
       "<table border=\"1\" class=\"dataframe\">\n",
       "  <thead>\n",
       "    <tr style=\"text-align: right;\">\n",
       "      <th></th>\n",
       "      <th>App</th>\n",
       "      <th>Category</th>\n",
       "      <th>Rating</th>\n",
       "      <th>Reviews</th>\n",
       "      <th>Size</th>\n",
       "      <th>Installs</th>\n",
       "      <th>Type</th>\n",
       "      <th>Price</th>\n",
       "      <th>Content Rating</th>\n",
       "      <th>Genres</th>\n",
       "      <th>Last Updated</th>\n",
       "      <th>Current Ver</th>\n",
       "      <th>Android Ver</th>\n",
       "    </tr>\n",
       "  </thead>\n",
       "  <tbody>\n",
       "    <tr>\n",
       "      <th>0</th>\n",
       "      <td>Photo Editor &amp; Candy Camera &amp; Grid &amp; ScrapBook</td>\n",
       "      <td>ART_AND_DESIGN</td>\n",
       "      <td>4.1</td>\n",
       "      <td>159</td>\n",
       "      <td>19M</td>\n",
       "      <td>10,000+</td>\n",
       "      <td>Free</td>\n",
       "      <td>0</td>\n",
       "      <td>Everyone</td>\n",
       "      <td>Art &amp; Design</td>\n",
       "      <td>January 7, 2018</td>\n",
       "      <td>1.0.0</td>\n",
       "      <td>4.0.3 and up</td>\n",
       "    </tr>\n",
       "    <tr>\n",
       "      <th>1</th>\n",
       "      <td>Coloring book moana</td>\n",
       "      <td>ART_AND_DESIGN</td>\n",
       "      <td>3.9</td>\n",
       "      <td>967</td>\n",
       "      <td>14M</td>\n",
       "      <td>500,000+</td>\n",
       "      <td>Free</td>\n",
       "      <td>0</td>\n",
       "      <td>Everyone</td>\n",
       "      <td>Art &amp; Design;Pretend Play</td>\n",
       "      <td>January 15, 2018</td>\n",
       "      <td>2.0.0</td>\n",
       "      <td>4.0.3 and up</td>\n",
       "    </tr>\n",
       "    <tr>\n",
       "      <th>2</th>\n",
       "      <td>U Launcher Lite – FREE Live Cool Themes, Hide ...</td>\n",
       "      <td>ART_AND_DESIGN</td>\n",
       "      <td>4.7</td>\n",
       "      <td>87510</td>\n",
       "      <td>8.7M</td>\n",
       "      <td>5,000,000+</td>\n",
       "      <td>Free</td>\n",
       "      <td>0</td>\n",
       "      <td>Everyone</td>\n",
       "      <td>Art &amp; Design</td>\n",
       "      <td>August 1, 2018</td>\n",
       "      <td>1.2.4</td>\n",
       "      <td>4.0.3 and up</td>\n",
       "    </tr>\n",
       "    <tr>\n",
       "      <th>3</th>\n",
       "      <td>Sketch - Draw &amp; Paint</td>\n",
       "      <td>ART_AND_DESIGN</td>\n",
       "      <td>4.5</td>\n",
       "      <td>215644</td>\n",
       "      <td>25M</td>\n",
       "      <td>50,000,000+</td>\n",
       "      <td>Free</td>\n",
       "      <td>0</td>\n",
       "      <td>Teen</td>\n",
       "      <td>Art &amp; Design</td>\n",
       "      <td>June 8, 2018</td>\n",
       "      <td>Varies with device</td>\n",
       "      <td>4.2 and up</td>\n",
       "    </tr>\n",
       "    <tr>\n",
       "      <th>4</th>\n",
       "      <td>Pixel Draw - Number Art Coloring Book</td>\n",
       "      <td>ART_AND_DESIGN</td>\n",
       "      <td>4.3</td>\n",
       "      <td>967</td>\n",
       "      <td>2.8M</td>\n",
       "      <td>100,000+</td>\n",
       "      <td>Free</td>\n",
       "      <td>0</td>\n",
       "      <td>Everyone</td>\n",
       "      <td>Art &amp; Design;Creativity</td>\n",
       "      <td>June 20, 2018</td>\n",
       "      <td>1.1</td>\n",
       "      <td>4.4 and up</td>\n",
       "    </tr>\n",
       "  </tbody>\n",
       "</table>\n",
       "</div>"
      ],
      "text/plain": [
       "                                                 App        Category  Rating  \\\n",
       "0     Photo Editor & Candy Camera & Grid & ScrapBook  ART_AND_DESIGN     4.1   \n",
       "1                                Coloring book moana  ART_AND_DESIGN     3.9   \n",
       "2  U Launcher Lite – FREE Live Cool Themes, Hide ...  ART_AND_DESIGN     4.7   \n",
       "3                              Sketch - Draw & Paint  ART_AND_DESIGN     4.5   \n",
       "4              Pixel Draw - Number Art Coloring Book  ART_AND_DESIGN     4.3   \n",
       "\n",
       "  Reviews  Size     Installs  Type Price Content Rating  \\\n",
       "0     159   19M      10,000+  Free     0       Everyone   \n",
       "1     967   14M     500,000+  Free     0       Everyone   \n",
       "2   87510  8.7M   5,000,000+  Free     0       Everyone   \n",
       "3  215644   25M  50,000,000+  Free     0           Teen   \n",
       "4     967  2.8M     100,000+  Free     0       Everyone   \n",
       "\n",
       "                      Genres      Last Updated         Current Ver  \\\n",
       "0               Art & Design   January 7, 2018               1.0.0   \n",
       "1  Art & Design;Pretend Play  January 15, 2018               2.0.0   \n",
       "2               Art & Design    August 1, 2018               1.2.4   \n",
       "3               Art & Design      June 8, 2018  Varies with device   \n",
       "4    Art & Design;Creativity     June 20, 2018                 1.1   \n",
       "\n",
       "    Android Ver  \n",
       "0  4.0.3 and up  \n",
       "1  4.0.3 and up  \n",
       "2  4.0.3 and up  \n",
       "3    4.2 and up  \n",
       "4    4.4 and up  "
      ]
     },
     "execution_count": 42,
     "metadata": {},
     "output_type": "execute_result"
    }
   ],
   "source": [
    "playstore_df.head()"
   ]
  },
  {
   "cell_type": "code",
   "execution_count": 43,
   "id": "c602a4ad-bacd-457a-bcc4-a8fcf9f3164c",
   "metadata": {},
   "outputs": [
    {
     "data": {
      "text/html": [
       "<div>\n",
       "<style scoped>\n",
       "    .dataframe tbody tr th:only-of-type {\n",
       "        vertical-align: middle;\n",
       "    }\n",
       "\n",
       "    .dataframe tbody tr th {\n",
       "        vertical-align: top;\n",
       "    }\n",
       "\n",
       "    .dataframe thead th {\n",
       "        text-align: right;\n",
       "    }\n",
       "</style>\n",
       "<table border=\"1\" class=\"dataframe\">\n",
       "  <thead>\n",
       "    <tr style=\"text-align: right;\">\n",
       "      <th></th>\n",
       "      <th>App</th>\n",
       "      <th>Category</th>\n",
       "      <th>Rating</th>\n",
       "      <th>Reviews</th>\n",
       "      <th>Size</th>\n",
       "      <th>Installs</th>\n",
       "      <th>Type</th>\n",
       "      <th>Price</th>\n",
       "      <th>Content Rating</th>\n",
       "      <th>Genres</th>\n",
       "      <th>Last Updated</th>\n",
       "      <th>Current Ver</th>\n",
       "      <th>Android Ver</th>\n",
       "    </tr>\n",
       "  </thead>\n",
       "  <tbody>\n",
       "    <tr>\n",
       "      <th>10472</th>\n",
       "      <td>Life Made WI-Fi Touchscreen Photo Frame</td>\n",
       "      <td>1.9</td>\n",
       "      <td>19.0</td>\n",
       "      <td>3.0M</td>\n",
       "      <td>1,000+</td>\n",
       "      <td>Free</td>\n",
       "      <td>0</td>\n",
       "      <td>Everyone</td>\n",
       "      <td>NaN</td>\n",
       "      <td>February 11, 2018</td>\n",
       "      <td>1.0.19</td>\n",
       "      <td>4.0 and up</td>\n",
       "      <td>NaN</td>\n",
       "    </tr>\n",
       "  </tbody>\n",
       "</table>\n",
       "</div>"
      ],
      "text/plain": [
       "                                           App Category  Rating Reviews  \\\n",
       "10472  Life Made WI-Fi Touchscreen Photo Frame      1.9    19.0    3.0M   \n",
       "\n",
       "         Size Installs Type     Price Content Rating             Genres  \\\n",
       "10472  1,000+     Free    0  Everyone            NaN  February 11, 2018   \n",
       "\n",
       "      Last Updated Current Ver Android Ver  \n",
       "10472       1.0.19  4.0 and up         NaN  "
      ]
     },
     "execution_count": 43,
     "metadata": {},
     "output_type": "execute_result"
    }
   ],
   "source": [
    "playstore_df[~playstore_df['Reviews'].str.isnumeric()]"
   ]
  },
  {
   "cell_type": "code",
   "execution_count": 44,
   "id": "e818d744-db13-4bbc-a144-3df8da9489b3",
   "metadata": {},
   "outputs": [],
   "source": [
    "playstore_df_copy=playstore_df.copy()"
   ]
  },
  {
   "cell_type": "code",
   "execution_count": 45,
   "id": "c072f59f-1551-4e54-b544-6a4ab7f98d66",
   "metadata": {},
   "outputs": [],
   "source": [
    "playstore_df_copy=playstore_df_copy.drop(playstore_df_copy.index[10472])"
   ]
  },
  {
   "cell_type": "code",
   "execution_count": 46,
   "id": "c039e620-07ae-4204-850d-c08d40c7ccea",
   "metadata": {},
   "outputs": [
    {
     "name": "stdout",
     "output_type": "stream",
     "text": [
      "Top 10 Most Popular Apps:\n",
      "App\n",
      "Subway Surfers                  6000000000\n",
      "Google News                     4000000000\n",
      "Hangouts                        4000000000\n",
      "Google Drive                    4000000000\n",
      "Google Photos                   4000000000\n",
      "Instagram                       4000000000\n",
      "Candy Crush Saga                3500000000\n",
      "Maps - Navigate & Explore       3000000000\n",
      "Google Chrome: Fast & Secure    3000000000\n",
      "WhatsApp Messenger              3000000000\n",
      "Name: Installs, dtype: int64\n"
     ]
    },
    {
     "name": "stderr",
     "output_type": "stream",
     "text": [
      "/tmp/ipykernel_77/2359311624.py:2: FutureWarning: The default value of regex will change from True to False in a future version.\n",
      "  playstore_df_copy['Installs'] = pd.to_numeric(playstore_df_copy['Installs'].str.replace('[+,]', ''))\n"
     ]
    }
   ],
   "source": [
    "# Convert the Installs column to numeric\n",
    "playstore_df_copy['Installs'] = pd.to_numeric(playstore_df_copy['Installs'].str.replace('[+,]', ''))\n",
    "\n",
    "# Create a frequency table of the Installs column\n",
    "install_freq_table = playstore_df_copy.groupby('App')['Installs'].sum().sort_values(ascending=False)\n",
    "\n",
    "# Get the top 10 most popular apps\n",
    "top_10_apps = install_freq_table.head(10)\n",
    "\n",
    "# Print the results\n",
    "print('Top 10 Most Popular Apps:')\n",
    "print(top_10_apps)"
   ]
  },
  {
   "cell_type": "code",
   "execution_count": null,
   "id": "f308a76e-42ed-4a70-abe8-11c8cecd5c24",
   "metadata": {},
   "outputs": [],
   "source": []
  },
  {
   "cell_type": "code",
   "execution_count": null,
   "id": "6ea7d4be-e6bc-4639-a792-965cf8ca5d6c",
   "metadata": {},
   "outputs": [],
   "source": [
    "Q15. A company wants to launch a new app on the Google Playstore and has asked you to analyze the\n",
    "Google Playstore dataset to identify the most popular app categories. How would you approach this\n",
    "task, and what features would you analyze to make recommendations to the company?\n",
    "Ans:\n",
    "To identify the most popular app categories in the Google Playstore dataset, heres how I would approach this task:\n",
    "\n",
    "Analyze the frequency of each app category in the dataset: We can start by creating a frequency table of the Category column and examining the number of apps in each category.\n",
    "\n",
    "1.Calculate the average number of installs by app category: We can use the Installs column to calculate the average number of installs for each app category.\n",
    "This will give us an idea of how popular apps in each category are with users.\n",
    "\n",
    "2.Examine ratings and reviews: We can also examine the ratings and reviews of apps in each category to get a sense of how well-received they are by users.\n",
    "This information can be obtained from the Rating and Reviews columns of the dataset.\n",
    "\n",
    "3.Look for trends: We can look for trends in the data to identify which app categories are growing or declining in popularity over time.\n",
    "This can help us make recommendations to the company based on current market trends.\n",
    "4.\n",
    "Consider the competition: We should also consider the level of competition in each app category and how difficult it may be to launch a new app in that category. \n",
    "This information can be obtained by examining the number of apps in each category, as well as the ratings and reviews of the top apps.\n",
    "\n",
    "5.Based on this analysis, we can make recommendations to the company regarding which app categories are the most popular and have the most potential for growth. \n",
    "We can also provide insights into the level of competition and the potential challenges they may face in launching a new app in each category."
   ]
  },
  {
   "cell_type": "code",
   "execution_count": null,
   "id": "3ab696c6-9894-4033-a69d-cd88478b5873",
   "metadata": {},
   "outputs": [],
   "source": []
  },
  {
   "cell_type": "code",
   "execution_count": null,
   "id": "c69df3ec-02c4-4beb-bfbe-98c5056abd67",
   "metadata": {},
   "outputs": [],
   "source": [
    "Q16. A mobile app development company wants to analyze the Google Playstore dataset to identify the\n",
    "most successful app developers. What features would you analyze to make recommendations to the\n",
    "company, and what data visualizations would you use to present your findings?\n",
    "Ans:\n",
    "To identify the most successful app developers in the Google Playstore dataset, here are the features I would analyze and the data visualizations I would use to present my findings:\n",
    "\n",
    "1.Number of apps published: We can analyze the number of apps published by each developer in the dataset. \n",
    "Developers with a higher number of published apps may have more experience and resources to create successful apps.\n",
    "\n",
    "2.Average app rating: We can also analyze the average rating of apps published by each developer. \n",
    "This will give us an idea of the quality of the apps they produce and how well they are received by users.\n",
    "\n",
    "3.Number of downloads: We can examine the number of downloads of apps published by each developer to see which developers have the most popular apps.\n",
    "\n",
    "4.App categories: We can also look at the app categories in which each developer has published apps to identify which categories they have the most success in.\n",
    "\n",
    "5.To present these findings, we can use the following data visualizations:\n",
    "\n",
    "5.Bar chart of number of apps published: We can create a bar chart that shows the number of apps published by each developer in the dataset. \n",
    "This will help us identify which developers have the highest number of published apps.\n",
    "\n",
    "6.Scatter plot of average rating and number of downloads: We can create a scatter plot that shows the average rating of apps published by each developer on the x-axis and the number of downloads on the y-axis.\n",
    "This will help us identify which developers have the highest quality apps and the most popular apps.\n",
    "\n",
    "7.Stacked bar chart of app categories: We can create a stacked bar chart that shows the number of apps published by each developer in each app category.\n",
    "This will help us identify which categories each developer has the most success in.\n",
    "\n",
    "By analyzing these features and using these data visualizations,\n",
    "we can provide the mobile app development company with insights into which developers are the most successful and have the most potential for creating successful apps in the future."
   ]
  },
  {
   "cell_type": "code",
   "execution_count": null,
   "id": "dffa9239-0b73-4f98-b434-0da84f6a73ad",
   "metadata": {},
   "outputs": [],
   "source": []
  },
  {
   "cell_type": "code",
   "execution_count": null,
   "id": "777d814d-f22c-495b-a380-30d356a71768",
   "metadata": {},
   "outputs": [],
   "source": [
    "Q17. A marketing research firm wants to analyze the Google Playstore dataset to identify the best time to\n",
    "launch a new app. What features would you analyze to make recommendations to the company, and\n",
    "what data visualizations would you use to present your findings?\n",
    "Ans:\n",
    "To identify the best time to launch a new app in the Google Playstore dataset, here are the features I would analyze and the data visualizations I would use to present my findings:\n",
    "\n",
    "1.Time of year: We can analyze the Last Updated column to identify trends in the time of year that new apps are launched.\n",
    "This can help us identify the best time of year to launch a new app.\n",
    "2.App categories: We can also examine which app categories have the most success during certain times of the year. \n",
    "For example, apps related to travel or outdoor activities may be more successful during the summer months.\n",
    "3.Number of downloads and ratings: We can examine the number of downloads and \n",
    "ratings for new apps launched at different times of the year to identify which times result in the most successful app launches.\n",
    "4.Competitor analysis: We should also examine the number of apps being launched by competitors at different times of the year to identify which times have the most competition and\n",
    "which times have the most potential for a successful launch.\n",
    "\n",
    "To present these findings, we can use the following data visualizations:\n",
    "\n",
    "1.Line chart of app launches by month: We can create a line chart that shows the number of new apps launched each month.\n",
    "This will help us identify trends in the time of year that new apps are launched.\n",
    "2.Heat map of app categories by month: We can create a heat map that shows the number of apps launched in each app category by month. \n",
    "This will help us identify which categories have the most success during certain times of the year.\n",
    "3.Scatter plot of number of downloads and ratings by launch month: We can create a scatter plot that shows the number of downloads on the x-axis and\n",
    "the ratings on the y-axis for apps launched in each month. \n",
    "This will help us identify which months result in the most successful app launches.\n",
    "\n",
    "By analyzing these features and using these data visualizations,\n",
    "we can provide the marketing research firm with insights into the best time to launch a new app and which app categories are most successful during different times of the year.\n",
    "This can help the firm make informed decisions about when to launch their new app and which app categories to focus on."
   ]
  }
 ],
 "metadata": {
  "kernelspec": {
   "display_name": "Python 3 (ipykernel)",
   "language": "python",
   "name": "python3"
  },
  "language_info": {
   "codemirror_mode": {
    "name": "ipython",
    "version": 3
   },
   "file_extension": ".py",
   "mimetype": "text/x-python",
   "name": "python",
   "nbconvert_exporter": "python",
   "pygments_lexer": "ipython3",
   "version": "3.10.8"
  }
 },
 "nbformat": 4,
 "nbformat_minor": 5
}
