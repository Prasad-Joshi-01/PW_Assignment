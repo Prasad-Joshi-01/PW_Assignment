{
 "cells": [
  {
   "cell_type": "code",
   "execution_count": null,
   "id": "bc3c1d11-1084-4a5c-8fcc-be5f5ebe8c4f",
   "metadata": {},
   "outputs": [],
   "source": [
    "Q1. What is Statistics?\n",
    "Ans:\n",
    "Statistics is a branch of mathematics that deals with collecting, analyzing, and interpreting numerical data. \n",
    "It is used to make inferences and conclusions about a population based on a sample of data. \n",
    "Statistics is used in many fields, including science, social sciences, finance, and engineering, to name a few. \n",
    "It provides a way to describe and summarize data, to test hypotheses, to make predictions, and to make decisions based on data. \n",
    "Some common statistical techniques include regression analysis, hypothesis testing, probability theory, and data visualization."
   ]
  },
  {
   "cell_type": "code",
   "execution_count": null,
   "id": "408e1ba1-2a0e-4c46-a746-bbab309ce259",
   "metadata": {},
   "outputs": [],
   "source": []
  },
  {
   "cell_type": "code",
   "execution_count": null,
   "id": "ae96e2e3-30b1-4cf5-997f-49d592f272a3",
   "metadata": {},
   "outputs": [],
   "source": [
    "Q2. Define the different types of statistics and give an example of when each type might be used.\n",
    "Ans:\n",
    "1.Descriptive Statistics:\n",
    "Descriptive statistics are used to summarize and describe a set of data. \n",
    "They provide information about the central tendency (mean, median, and mode), variability (range, variance, and standard deviation), and distribution (skewness and kurtosis) of a dataset. \n",
    "These statistics are useful for understanding the basic features of a dataset and for making comparisons between different groups. \n",
    "\n",
    "2.Inferential Statistics:\n",
    "Inferential statistics are used to make inferences and predictions about a population based on a sample of data. \n",
    "They allow researchers to test hypotheses and make conclusions about whether the differences between groups are statistically significant or due to chance. \n",
    "Some common inferential statistical techniques include hypothesis testing, confidence intervals, and regression analysis. "
   ]
  },
  {
   "cell_type": "code",
   "execution_count": null,
   "id": "51326db2-836a-400a-950e-97c68741a3d4",
   "metadata": {},
   "outputs": [],
   "source": []
  },
  {
   "cell_type": "code",
   "execution_count": null,
   "id": "8df77abc-4320-4418-a075-bea6f8f40d9a",
   "metadata": {},
   "outputs": [],
   "source": [
    "Q3. What are the different types of data and how do they differ from each other? Provide an example of\n",
    "each type of data.\n",
    "Ans:\n",
    "There are four main types of data: nominal, ordinal, interval, and ratio.\n",
    "\n",
    "1.Nominal data:\n",
    "Nominal data are categorical data that represent different groups or categories without any inherent order or rank. \n",
    "Examples of nominal data include gender (male, female, or other), hair color (blonde, brunette, black, or red), and blood type (A, B, AB, or O).\n",
    "\n",
    "2.Ordinal data:\n",
    "Ordinal data represent ordered categories or ranks with a clear relationship between them. \n",
    "However, the differences between the categories are not uniform. \n",
    "Examples of ordinal data include educational level (elementary, high school, associates degree, bachelor's degree, or master's degree), Likert scales (strongly disagree, disagree, neutral, agree, or strongly agree), and socioeconomic status (low, medium, high).\n",
    "\n",
    "3.Interval data:\n",
    "Interval data are numerical data that have a consistent scale with equal intervals between values. \n",
    "There is no true zero point in interval data.\n",
    "Examples of interval data include temperature (measured in Celsius or Fahrenheit), dates (days, months, years), and time (hours, minutes, seconds).\n",
    "\n",
    "4.Ratio data:\n",
    "Ratio data are numerical data that have a consistent scale with equal intervals between values and a true zero point. \n",
    "Examples of ratio data include height, weight, distance, and time taken to complete a task."
   ]
  },
  {
   "cell_type": "code",
   "execution_count": null,
   "id": "0235d05b-004b-44e5-975d-1c4985b3b412",
   "metadata": {},
   "outputs": [],
   "source": []
  },
  {
   "cell_type": "code",
   "execution_count": null,
   "id": "e676fa4e-3cc5-4afe-8bee-38d112c484b5",
   "metadata": {},
   "outputs": [],
   "source": [
    "Q4. Categorise the following datasets with respect to quantitative and qualitative data types:\n",
    "(i) Grading in exam: A+, A, B+, B, C+, C, D, E\n",
    "Ans: qualitative data (Oridnal)\n",
    "(ii) Colour of mangoes: yellow, green, orange, red\n",
    "Ans: qualitative data (Nominal)\n",
    "(iii) Height data of a class: [178.9, 179, 179.5, 176, 177.2, 178.3, 175.8,...]\n",
    "Ans: quantitative data (continuous)\n",
    "(iv) Number of mangoes exported by a farm: [500, 600, 478, 672, ...]\n",
    "Ans: quantitative data(discrete)"
   ]
  },
  {
   "cell_type": "code",
   "execution_count": null,
   "id": "44073938-38b5-48a3-bb53-29c058bff794",
   "metadata": {},
   "outputs": [],
   "source": []
  },
  {
   "cell_type": "code",
   "execution_count": null,
   "id": "39d76791-14ff-41b1-8d5a-9d3120b1a19d",
   "metadata": {},
   "outputs": [],
   "source": [
    "Q5. Explain the concept of levels of measurement and give an example of a variable for each level.\n",
    "Ans:\n",
    "1.Nominal level of measurement:\n",
    "Nominal level data are categorical and cannot be ranked or ordered. \n",
    "The values are simply different categories. \n",
    "For example, gender (male, female, other) or blood type (A, B, AB, O) are nominal variables.\n",
    "\n",
    "2.Ordinal level of measurement:\n",
    "Ordinal level data can be ranked and ordered, but the differences between the categories are not necessarily equal. \n",
    "Examples of ordinal variables include rankings (1st, 2nd, 3rd), letter grades (A, B, C), and Likert scales (strongly agree, agree, neutral, disagree, strongly disagree).\n",
    "\n",
    "3.Interval level of measurement:\n",
    "Interval level data have equal intervals between the values and there is no true zero point. \n",
    "Temperature measured in Celsius or Fahrenheit is an example of an interval variable.\n",
    "\n",
    "4.Ratio level of measurement:\n",
    "Ratio level data have equal intervals between the values and a true zero point. \n",
    "This means that it is possible to compare and contrast values using ratios.\n",
    "Examples of ratio variables include weight, height, distance, and time taken to complete a task."
   ]
  },
  {
   "cell_type": "code",
   "execution_count": null,
   "id": "8fcd1f66-d771-4f5a-8ddb-f69ff6d14a4e",
   "metadata": {},
   "outputs": [],
   "source": []
  },
  {
   "cell_type": "code",
   "execution_count": null,
   "id": "2a2c0f43-bc3b-4e9a-8e00-093e63e9ed4a",
   "metadata": {},
   "outputs": [],
   "source": [
    "Q6. Why is it important to understand the level of measurement when analyzing data? Provide an\n",
    "example to illustrate your answer.\n",
    "Ans:\n",
    "It is important to understand the level of measurement when analyzing data because it determines the type of statistical analysis that can be performed and \n",
    "the appropriate measures of central tendency and variability to use.\n",
    "\n",
    "For example, lets consider the difference between nominal and ratio data. \n",
    "If we have a nominal variable such as gender, we cannot calculate the mean, median, or mode because these are measures of central tendency that are only applicable to interval or ratio data. \n",
    "Instead, we would use frequency counts and percentages to summarize the data. \n",
    "On the other hand, if we have a ratio variable such as weight, we can calculate the mean, median, and mode, as well as measures of variability such as range and standard deviation."
   ]
  },
  {
   "cell_type": "code",
   "execution_count": null,
   "id": "467b5c6d-0cab-43f9-8a0a-af79eba9a2fa",
   "metadata": {},
   "outputs": [],
   "source": []
  },
  {
   "cell_type": "code",
   "execution_count": null,
   "id": "f6417b10-e9cd-4f22-bf2d-1c59f3d5c721",
   "metadata": {},
   "outputs": [],
   "source": [
    "Q7. How nominal data type is different from ordinal data type.\n",
    "Ans:\n",
    "Nominal and ordinal data are both types of categorical data, but they differ in the way the categories are structured.\n",
    "\n",
    "Nominal data consist of categories or labels that do not have any inherent order or ranking. \n",
    "For example, the categories of hair color (blonde, brunette, black, red) or eye color (blue, brown, green, hazel) are nominal data. \n",
    "There is no inherent order or ranking to these categories - blonde hair is not \"better\" or \"higher\" than brunette hair, and blue eyes are not \"better\" or \"higher\" than brown eyes.\n",
    "\n",
    "Ordinal data, on the other hand, consist of categories or labels that have a clear order or ranking. \n",
    "For example, educational level (elementary, high school, associates degree, bachelors degree, masters degree) is an example of ordinal data. "
   ]
  },
  {
   "cell_type": "code",
   "execution_count": null,
   "id": "34c3ab09-f953-4331-8193-db3d61ac079c",
   "metadata": {},
   "outputs": [],
   "source": []
  },
  {
   "cell_type": "code",
   "execution_count": null,
   "id": "c4b3ea29-52e2-4044-82ec-5be117903d49",
   "metadata": {},
   "outputs": [],
   "source": [
    "Q8. Which type of plot can be used to display data in terms of range?\n",
    "Ans:\n",
    "A box plot, also known as a box-and-whisker plot, is a type of plot that can be used to display data in terms of range. \n",
    "A box plot displays the minimum, first quartile, median, third quartile, and maximum values of a dataset, providing a visual representation of the range of the data."
   ]
  },
  {
   "cell_type": "code",
   "execution_count": null,
   "id": "f3f3a0a2-d36f-4099-9d38-8b222ce6d7b7",
   "metadata": {},
   "outputs": [],
   "source": []
  },
  {
   "cell_type": "code",
   "execution_count": null,
   "id": "1d0bfb78-4a0a-4278-bcaa-406d471160de",
   "metadata": {},
   "outputs": [],
   "source": [
    "Q9. Describe the difference between descriptive and inferential statistics. Give an example of each\n",
    "type of statistics and explain how they are used.\n",
    "Ans:\n",
    "Descriptive statistics and inferential statistics are two broad categories of statistical analysis.\n",
    "\n",
    "Descriptive statistics involve the summary and analysis of data in order to describe and present key characteristics or features of the data.\n",
    "Descriptive statistics can be used to summarize data in terms of measures of central tendency, such as the mean or median, and measures of variability, such as the range or standard deviation.\n",
    "Example: Lets say we have collected data on the heights of students in a class. \n",
    "Descriptive statistics can be used to summarize this data by calculating the mean height, the median height, and the standard deviation of the height measurements.\n",
    "\n",
    "Inferential statistics, on the other hand, involves drawing conclusions or making predictions about a larger population based on a sample of data. \n",
    "Inferential statistics allow us to generalize our findings from a smaller sample to a larger population, and to test hypotheses about the relationships between variables.\n",
    "Example: Lets say we are interested in determining whether there is a significant difference in the heights of male and female students in a class.\n",
    "We can use inferential statistics to analyze a sample of data and to determine whether any differences that we observe are statistically significant."
   ]
  },
  {
   "cell_type": "code",
   "execution_count": null,
   "id": "6c267cea-9dd0-45c1-9454-0fc03fb200f3",
   "metadata": {},
   "outputs": [],
   "source": []
  },
  {
   "cell_type": "code",
   "execution_count": null,
   "id": "7f10e6c1-bd24-4225-b2d2-4d28ccf4819c",
   "metadata": {},
   "outputs": [],
   "source": [
    "Q10. What are some common measures of central tendency and variability used in statistics? Explain\n",
    "how each measure can be used to describe a dataset.\n",
    "Ans:\n",
    "Measures of central tendency and variability are used in statistics to describe the typical or average value of a dataset and the degree to which the values deviate from that average value, respectively.\n",
    "Some common measures of central tendency include:\n",
    "1.Mean: The mean is the arithmetic average of a set of values. \n",
    "It is calculated by summing all the values in the set and dividing by the total number of values.\n",
    "The mean is useful for describing datasets that are normally distributed (i.e., bell-shaped) because it provides a good representation of the center of the data.\n",
    "2.Median: The median is the middle value in a set of ordered values. \n",
    "It is useful for describing datasets that have outliers or are skewed because it is not affected by extreme values.\n",
    "The median is also more appropriate than the mean for describing ordinal data (i.e., data that can be ranked but not necessarily measured on a continuous scale).\n",
    "3.Mode: The mode is the value that occurs most frequently in a set of values.\n",
    "It is useful for describing datasets that have a clearly defined peak or bimodal distribution.\n",
    "\n",
    "Some common measures of variability include:\n",
    "1.Range: The range is the difference between the maximum and minimum values in a set of values. \n",
    "It is useful for describing datasets that have a clear spread of values.\n",
    "2.Variance: The variance is a measure of how spread out a set of values is from the mean. \n",
    "It is calculated by squaring the difference between each value and the mean, summing the squared differences, and dividing by the total number of values.\n",
    "The variance is useful for comparing the variability of different datasets.\n",
    "3.Standard deviation: The standard deviation is the square root of the variance."
   ]
  }
 ],
 "metadata": {
  "kernelspec": {
   "display_name": "Python 3 (ipykernel)",
   "language": "python",
   "name": "python3"
  },
  "language_info": {
   "codemirror_mode": {
    "name": "ipython",
    "version": 3
   },
   "file_extension": ".py",
   "mimetype": "text/x-python",
   "name": "python",
   "nbconvert_exporter": "python",
   "pygments_lexer": "ipython3",
   "version": "3.10.8"
  }
 },
 "nbformat": 4,
 "nbformat_minor": 5
}
