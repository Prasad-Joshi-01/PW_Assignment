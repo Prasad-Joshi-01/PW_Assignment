{
 "cells": [
  {
   "cell_type": "code",
   "execution_count": null,
   "id": "b0887b81-3cd7-4f3a-a214-89b38a28d228",
   "metadata": {},
   "outputs": [],
   "source": [
    "Q1. Write a Python function that takes in two arrays of data and calculates the F-value for a variance ratio\n",
    "test. The function should return the F-value and the corresponding p-value for the test.\n",
    "Ans:"
   ]
  },
  {
   "cell_type": "code",
   "execution_count": 6,
   "id": "7f0cc323-f4f8-401d-9d9a-d4c7e9ce98f3",
   "metadata": {},
   "outputs": [],
   "source": [
    "import numpy as np\n",
    "from scipy.stats import f\n",
    "\n",
    "def variance_ratio_test(x, y):\n",
    "    var_x = np.var(x, ddof=1)\n",
    "    var_y = np.var(y, ddof=1)\n",
    "    F = var_x/var_y\n",
    "    df_x = len(x) - 1\n",
    "    df_y = len(y) - 1\n",
    "    p_value = f.sf(F, df_x, df_y)\n",
    "    return F, p_value"
   ]
  },
  {
   "cell_type": "code",
   "execution_count": 8,
   "id": "d7ae9994-2ae0-451e-9033-57dadb60a4cf",
   "metadata": {},
   "outputs": [
    {
     "data": {
      "text/plain": [
       "(1.0, 0.5)"
      ]
     },
     "execution_count": 8,
     "metadata": {},
     "output_type": "execute_result"
    }
   ],
   "source": [
    "x=[1,2,3,4,5]\n",
    "y=[5,4,3,2,1]\n",
    "variance_ratio_test(x,y)"
   ]
  },
  {
   "cell_type": "code",
   "execution_count": null,
   "id": "a5e21b6c-211d-45b7-81b7-ea030af6cbf5",
   "metadata": {},
   "outputs": [],
   "source": []
  },
  {
   "cell_type": "code",
   "execution_count": null,
   "id": "6aef2945-df1d-47bf-9355-11b2abebe5b9",
   "metadata": {},
   "outputs": [],
   "source": [
    "Q2. Given a significance level of 0.05 and the degrees of freedom for the numerator and denominator of an\n",
    "F-distribution, write a Python function that returns the critical F-value for a two-tailed test."
   ]
  },
  {
   "cell_type": "code",
   "execution_count": 9,
   "id": "2db613ba-d115-484c-8755-1f1fa02f3039",
   "metadata": {},
   "outputs": [],
   "source": [
    "from scipy.stats import f\n",
    "\n",
    "def critical_f_value(num_df, denom_df, alpha=0.05):  \n",
    "    return f.ppf(1 - alpha/2, num_df, denom_df)"
   ]
  },
  {
   "cell_type": "code",
   "execution_count": 11,
   "id": "cf01c6df-822d-4ba5-9aca-23a864c233b2",
   "metadata": {},
   "outputs": [
    {
     "data": {
      "text/plain": [
       "4.665829716725967"
      ]
     },
     "execution_count": 11,
     "metadata": {},
     "output_type": "execute_result"
    }
   ],
   "source": [
    "num_df=12\n",
    "denom_df=7\n",
    "critical_f_value(num_df,denom_df)"
   ]
  },
  {
   "cell_type": "code",
   "execution_count": null,
   "id": "8f379a26-821e-42a3-b0e7-c7107b7da790",
   "metadata": {},
   "outputs": [],
   "source": []
  },
  {
   "cell_type": "code",
   "execution_count": null,
   "id": "7aa0edc2-8199-4c73-8e7d-b3ace2191249",
   "metadata": {},
   "outputs": [],
   "source": [
    "Q3. Write a Python program that generates random samples from two normal distributions with known\n",
    "variances and uses an F-test to determine if the variances are equal. The program should output the F-\n",
    "value, degrees of freedom, and p-value for the test."
   ]
  },
  {
   "cell_type": "code",
   "execution_count": 14,
   "id": "ec03a61c-32ef-4442-a5ef-e64177c369d7",
   "metadata": {},
   "outputs": [
    {
     "name": "stdout",
     "output_type": "stream",
     "text": [
      "F-value: 0.9540926948304201\n",
      "Degrees of freedom: 49 59\n",
      "p-value: 0.5645592185231805\n"
     ]
    }
   ],
   "source": [
    "import numpy as np\n",
    "from scipy.stats import \n",
    "np.random.seed(123)\n",
    "n1 = 50\n",
    "n2 = 60\n",
    "var1 = 1.5\n",
    "var2 = 1.8\n",
    "mean1 = 0\n",
    "mean2 = 0\n",
    "sample1 = np.random.normal(mean1, np.sqrt(var1), n1)\n",
    "sample2 = np.random.normal(mean2, np.sqrt(var2), n2)\n",
    "f_stat = np.var(sample1, ddof=1) / np.var(sample2, ddof=1)\n",
    "df1 = n1 - 1\n",
    "df2 = n2 - 1\n",
    "p_val = f.sf(f_stat, df1, df2)\n",
    "\n",
    "print(\"F-value:\", f_stat)\n",
    "print(\"Degrees of freedom:\", df1, df2)\n",
    "print(\"p-value:\", p_val)"
   ]
  },
  {
   "cell_type": "code",
   "execution_count": null,
   "id": "97b4533c-d536-4cb3-9d83-f5a32f4ab490",
   "metadata": {},
   "outputs": [],
   "source": []
  },
  {
   "cell_type": "code",
   "execution_count": null,
   "id": "2d8c7610-f94c-46c1-8dc6-fed38617c984",
   "metadata": {},
   "outputs": [],
   "source": [
    "Q4.The variances of two populations are known to be 10 and 15. A sample of 12 observations is taken from\n",
    "each population. Conduct an F-test at the 5% significance level to determine if the variances are\n",
    "significantly different."
   ]
  },
  {
   "cell_type": "code",
   "execution_count": null,
   "id": "9eb54e29-45b5-42e3-ac0c-ff270301ffbd",
   "metadata": {},
   "outputs": [],
   "source": [
    "The null hypothesis for the F-test is that the variances of the two populations are equal, and the alternative hypothesis is that they are not equal.\n",
    "\n",
    "The formula for the F-test statistic is:\n",
    "\n",
    "F = s1^2 / s2^2\n",
    "\n",
    "where s1^2 is the sample variance of the first population and s2^2 is the sample variance of the second population.\n",
    "\n",
    "Under the null hypothesis, the F-test statistic follows an F-distribution with (n1-1) and (n2-1) degrees of freedom.\n",
    "\n",
    "Lets calculate the sample variances of the two populations:\n",
    "s1^2 = 10 (given)\n",
    "s2^2 = 15 (given)\n",
    "\n",
    "Next, we calculate the F-test statistic:\n",
    "F = s1^2 / s2^2 = 10 / 15 = 0.6667\n",
    "Since we want to test if the variances are significantly different,\n",
    "we will use a two-tailed test at the 5% significance level.\n",
    "\n",
    "Using a statistical software or a table of F-distribution, \n",
    "we find that the critical values of F for a two-tailed test with 10 and 15 degrees of freedom and a 5% significance level are 0.338 and 2.624, respectively.\n",
    "\n",
    "Since our calculated F-test statistic of 0.6667 falls within this range, we fail to reject the null hypothesis that the variances of the two populations are equal. \n",
    "We can conclude that there is not enough evidence to suggest that the variances of the two populations are significantly different at the 5% significance level."
   ]
  },
  {
   "cell_type": "code",
   "execution_count": null,
   "id": "584a576d-cb16-45ee-a110-d90b685b2e9e",
   "metadata": {},
   "outputs": [],
   "source": []
  },
  {
   "cell_type": "code",
   "execution_count": null,
   "id": "76d2a715-a697-4ed3-8cd5-63fd78f9729a",
   "metadata": {},
   "outputs": [],
   "source": [
    "Q5. A manufacturer claims that the variance of the diameter of a certain product is 0.005. A sample of 25\n",
    "products is taken, and the sample variance is found to be 0.006. Conduct an F-test at the 1% significance\n",
    "level to determine if the claim is justified."
   ]
  },
  {
   "cell_type": "code",
   "execution_count": null,
   "id": "3f771037-45e0-4784-89cf-7965e06e443a",
   "metadata": {},
   "outputs": [],
   "source": [
    "To conduct an F-test to determine if the manufacturers claim about the variance of the diameter of a product is justified, we need to calculate the test statistic F, which is the ratio of the sample variances.\n",
    "\n",
    "The null hypothesis for the F-test is that the variance of the population is equal to the claimed value of 0.005, and the alternative hypothesis is that it is greater than 0.005.\n",
    "\n",
    "The formula for the F-test statistic is:\n",
    "F = s^2 / sigma^2\n",
    "where s^2 is the sample variance and sigma^2 is the population variance.\n",
    "Under the null hypothesis, the F-test statistic follows an F-distribution with (n-1) and 1 degrees of freedom.\n",
    "\n",
    "Lets calculate the F-test statistic:\n",
    "F = s^2 / sigma^2 = 0.006 / 0.005 = 1.2\n",
    "\n",
    "Next, we calculate the critical value of F using a table of F-distribution with (24,1) degrees of freedom and a 1% significance level. \n",
    "The critical value is 6.607.\n",
    "\n",
    "Since our calculated F-test statistic of 1.2 is smaller than the critical value of 6.607,\n",
    "we fail to reject the null hypothesis that the variance of the diameter of the product is equal to the claimed value of 0.005.\n",
    "We can conclude that there is not enough evidence to suggest that the population variance is greater than 0.005 at the 1% significance level.\n",
    "Therefore, the manufacturers claim about the variance of the diameter of the product is justified based on the sample data."
   ]
  },
  {
   "cell_type": "code",
   "execution_count": null,
   "id": "1b4cc856-a80f-42ef-bec7-49e32efd55cf",
   "metadata": {},
   "outputs": [],
   "source": []
  },
  {
   "cell_type": "code",
   "execution_count": null,
   "id": "151897c8-7f66-4b0e-96f2-d047c15d8718",
   "metadata": {},
   "outputs": [],
   "source": [
    "Q6. Write a Python function that takes in the degrees of freedom for the numerator and denominator of an\n",
    "F-distribution and calculates the mean and variance of the distribution. The function should return the\n",
    "mean and variance as a tuple."
   ]
  },
  {
   "cell_type": "code",
   "execution_count": 16,
   "id": "0d64c4a0-b415-40f6-9700-784fffa41839",
   "metadata": {},
   "outputs": [],
   "source": [
    "import scipy.stats as stats\n",
    "\n",
    "def f_distribution_mean_and_var(df_numerator, df_denominator):\n",
    "    mean = df_denominator / (df_denominator - 2)\n",
    "    variance = (2 * df_denominator**2 * (df_numerator + df_denominator - 2)) / (df_numerator * (df_denominator - 2)**2 * (df_denominator - 4))\n",
    "\n",
    "    return (mean, variance)\n"
   ]
  },
  {
   "cell_type": "code",
   "execution_count": 17,
   "id": "3bd92dad-4d3b-4a10-9262-945ba1fc4b9c",
   "metadata": {},
   "outputs": [
    {
     "data": {
      "text/plain": [
       "(1.4, 1.8511111111111112)"
      ]
     },
     "execution_count": 17,
     "metadata": {},
     "output_type": "execute_result"
    }
   ],
   "source": [
    "df_numerator=12\n",
    "df_denominator=7\n",
    "f_distribution_mean_and_var(df_numerator,df_denominator)"
   ]
  },
  {
   "cell_type": "code",
   "execution_count": null,
   "id": "25b6e660-2be2-4683-959e-3d543b25ec45",
   "metadata": {},
   "outputs": [],
   "source": []
  },
  {
   "cell_type": "code",
   "execution_count": null,
   "id": "8087077f-2865-48bf-9b91-bf845543ef1a",
   "metadata": {},
   "outputs": [],
   "source": [
    "Q7. A random sample of 10 measurements is taken from a normal population with unknown variance. The\n",
    "sample variance is found to be 25. Another random sample of 15 measurements is taken from another\n",
    "normal population with unknown variance, and the sample variance is found to be 20. Conduct an F-test\n",
    "at the 10% significance level to determine if the variances are significantly different."
   ]
  },
  {
   "cell_type": "code",
   "execution_count": null,
   "id": "3f83ad4a-35fd-468c-90a2-a27d1d0be18b",
   "metadata": {},
   "outputs": [],
   "source": [
    "Step 1: State the null and alternative hypotheses:\n",
    "Null hypothesis (H0): The variances of the waiting times at both restaurants are equal.\n",
    "Alternative hypothesis (Ha): The variances of the waiting times at both restaurants are significantly different.\n",
    "\n",
    "Step 2: Calculate the variances of the waiting times for each restaurant:\n",
    "Variance of Restaurant A waiting times = ((24-24.33)^2 + (25-24.33)^2 + (28-24.33)^2 + (23-24.33)^2 + (22-24.33)^2 + (20-24.33)^2) / (6-1) = 6.47\n",
    "Variance of Restaurant B waiting times = ((31-32.83)^2 + (33-32.83)^2 + (35-32.83)^2 + (30-32.83)^2 + (32-32.83)^2 + (36-32.83)^2) / (6-1) = 7.47\n",
    "\n",
    "Step 3: Calculate the F-statistic using the formula:\n",
    "F = variance of Restaurant A waiting times / variance of Restaurant B waiting times = 6.47 / 7.47 = 0.866\n",
    "Step 4: Find the critical F-value using a table or calculator for the given degrees of freedom (5 and 5) and alpha level (0.05).\n",
    "The critical F-value is 3.15.\n",
    "\n",
    "Step 4: Compare the calculated F-statistic with the critical F-value. \n",
    "If the calculated F-statistic is less than the critical F-value, we fail to reject the null hypothesis. \n",
    "If the calculated F-statistic is greater than the critical F-value, we reject the null hypothesis.\n",
    "\n",
    "Calculated F-statistic = 0.866\n",
    "Critical F-value = 3.15\n",
    "Since the calculated F-statistic is less than the critical F-value, we fail to reject the null hypothesis. \n",
    "Therefore, we can conclude that there is not enough evidence to suggest that the variances of the waiting times at both restaurants are significantly different at the 5% significance level."
   ]
  },
  {
   "cell_type": "code",
   "execution_count": null,
   "id": "4d17dbeb-9547-4e8d-826e-4da2a9312a16",
   "metadata": {},
   "outputs": [],
   "source": []
  },
  {
   "cell_type": "code",
   "execution_count": null,
   "id": "6b820c40-0244-469f-90a0-411d3b806cf2",
   "metadata": {},
   "outputs": [],
   "source": [
    "Q8. The following data represent the waiting times in minutes at two different restaurants on a Saturday\n",
    "night: Restaurant A: 24, 25, 28, 23, 22, 20, 27; Restaurant B: 31, 33, 35, 30, 32, 36. Conduct an F-test at the 5%\n",
    "significance level to determine if the variances are significantly different."
   ]
  },
  {
   "cell_type": "code",
   "execution_count": null,
   "id": "5094e99b-3b18-4347-a39d-33ffce4b1ea2",
   "metadata": {},
   "outputs": [],
   "source": [
    "To conduct an F-test to determine if the variances of the waiting times at two restaurants are significantly different,\n",
    "we need to calculate the test statistic F, which is the ratio of the sample variances.\n",
    "\n",
    "The null hypothesis for the F-test is that the variances of the waiting times at the two restaurants are equal,\n",
    "and the alternative hypothesis is that they are not equal.\n",
    "\n",
    "Lets calculate the sample variances for the two restaurants:\n",
    "Sample variance of Restaurant A: s1^2 = (1/6) * (24-25)^2 + (1/6) * (25-25)^2 + ... + (1/6) * (27-25)^2 = 6.952\n",
    "Sample variance of Restaurant B: s2^2 = (1/5) * (31-33)^2 + (1/5) * (33-33)^2 + ... + (1/5) * (36-33)^2 = 6.8\n",
    "\n",
    "Next, we calculate the F-test statistic:\n",
    "F = s1^2 / s2^2 = 6.952 / 6.8 = 1.023\n",
    "\n",
    "Under the null hypothesis, the F-test statistic follows an F-distribution with (n1-1) and (n2-1) degrees of freedom,\n",
    "where n1 and n2 are the sample sizes for the two populations. \n",
    "In this case, n1 = 7 and n2 = 6, so we have (6,5) degrees of freedom.\n",
    "\n",
    "Next, we calculate the critical values of F using a table of F-distribution with (6,5) degrees of freedom and a 5% significance level. \n",
    "The critical values are 0.174 and 6.869.\n",
    "\n",
    "Since our calculated F-test statistic of 1.023 is between the critical values of 0.174 and 6.869, \n",
    "we fail to reject the null hypothesis that the variances of the waiting times at the two restaurants are equal at the 5% significance level.\n",
    "We can conclude that there is not enough evidence to suggest that the population variances are significantly different based on the sample data.\n",
    "\n",
    "Therefore, we cannot conclude that the variances of the waiting times at the two restaurants are significantly different at the 5% significance level based on the sample data."
   ]
  },
  {
   "cell_type": "code",
   "execution_count": null,
   "id": "79cf534b-e456-4534-bf21-eb1d2463446e",
   "metadata": {},
   "outputs": [],
   "source": []
  },
  {
   "cell_type": "code",
   "execution_count": null,
   "id": "a091dc26-2232-4953-8c9b-f68f832280d9",
   "metadata": {},
   "outputs": [],
   "source": [
    "Q9. The following data represent the test scores of two groups of students: Group A: 80, 85, 90, 92, 87, 83;\n",
    "Group B: 75, 78, 82, 79, 81, 84. Conduct an F-test at the 1% significance level to determine if the variances\n",
    "are significantly different."
   ]
  },
  {
   "cell_type": "code",
   "execution_count": null,
   "id": "aeb5fa3f-daff-4948-a80a-1b1aae52d1f5",
   "metadata": {},
   "outputs": [],
   "source": [
    "The null hypothesis for the F-test is that the variances of the test scores of the two groups are equal, \n",
    "and the alternative hypothesis is that they are not equal.\n",
    "\n",
    "lets calculate the sample variances for the two groups:\n",
    "Sample variance of Group A: s1^2 = (1/5) * (80-86.4)^2 + (1/5) * (85-86.4)^2 + ... + (1/5) * (83-86.4)^2 = 24.8\n",
    "Sample variance of Group B: s2^2 = (1/5) * (75-79.83)^2 + (1/5) * (78-79.83)^2 + ... + (1/5) * (84-79.83)^2 = 7.04\n",
    "\n",
    "Next, we calculate the F-test statistic:\n",
    "F = s1^2 / s2^2 = 24.8 / 7.04 = 3.51\n",
    "\n",
    "Under the null hypothesis, the F-test statistic follows an F-distribution with (n1-1) and (n2-1) degrees of freedom, where n1 and n2 are the sample sizes for the two populations.\n",
    "In this case, n1 = 6 and n2 = 6, so we have (5,5) degrees of freedom.\n",
    "\n",
    "Next, we calculate the critical values of F using a table of F-distribution with (5,5) degrees of freedom and a 1% significance level. \n",
    "The critical values are 0.081 and 7.025.\n",
    "\n",
    "Since our calculated F-test statistic of 3.51 is greater than the critical value of 7.025,\n",
    "we fail to reject the null hypothesis that the variances of the test scores of the two groups are equal at the 1% significance level. \n",
    "We can conclude that there is not enough evidence to suggest that the population variances are significantly different based on the sample data.\n",
    "\n",
    "Therefore, we cannot conclude that the variances of the test scores of the two groups are significantly different at the 1% significance level based on the sample data."
   ]
  },
  {
   "cell_type": "code",
   "execution_count": null,
   "id": "1edf9473-0324-4212-837f-961a2196e72a",
   "metadata": {},
   "outputs": [],
   "source": []
  }
 ],
 "metadata": {
  "kernelspec": {
   "display_name": "Python 3 (ipykernel)",
   "language": "python",
   "name": "python3"
  },
  "language_info": {
   "codemirror_mode": {
    "name": "ipython",
    "version": 3
   },
   "file_extension": ".py",
   "mimetype": "text/x-python",
   "name": "python",
   "nbconvert_exporter": "python",
   "pygments_lexer": "ipython3",
   "version": "3.10.8"
  }
 },
 "nbformat": 4,
 "nbformat_minor": 5
}
