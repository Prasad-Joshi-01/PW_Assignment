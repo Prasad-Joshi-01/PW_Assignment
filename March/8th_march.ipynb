{
 "cells": [
  {
   "cell_type": "code",
   "execution_count": null,
   "id": "12001819-a6f9-491b-a43b-ace748a38628",
   "metadata": {},
   "outputs": [],
   "source": [
    "Q1. What is the Probability density function?\n",
    "Ans:\n",
    "The Probability Density Function (PDF) is a function that describes the probability of a random variable taking on a particular value within a range of values.\n",
    "It is used to describe continuous probability distributions,\n",
    "such as the normal distribution, the exponential distribution, \n",
    "or the uniform distribution.\n",
    "\n",
    "The PDF is a non-negative function that integrates to 1 over its range of values.\n",
    "The PDF can be used to calculate the probability of a random variable falling within a specific range of values by integrating the PDF over that range."
   ]
  },
  {
   "cell_type": "code",
   "execution_count": null,
   "id": "b39d4431-ac70-4108-9eaa-46ee12e6b9f7",
   "metadata": {},
   "outputs": [],
   "source": []
  },
  {
   "cell_type": "code",
   "execution_count": null,
   "id": "f39e9f34-6826-4cca-8d97-76855ba68d57",
   "metadata": {},
   "outputs": [],
   "source": [
    "Q2. What are the types of Probability distribution?\n",
    "Ans:\n",
    "1.Normal Distribution: The normal distribution, also known as the Gaussian distribution, is a bell-shaped distribution that is symmetric around its mean.\n",
    "It is characterized by two parameters: its mean (μ) and its standard deviation (σ).\n",
    "\n",
    "2.Binomial Distribution: The binomial distribution describes the number of successes in a fixed number of independent trials, where each trial has the same probability of success. \n",
    "It is characterized by two parameters: the number of trials (n) and the probability of success (p).\n",
    "\n",
    "3.Poisson Distribution: The Poisson distribution is used to model the number of occurrences of rare events in a fixed interval of time or space.\n",
    "It is characterized by a single parameter, λ, which represents the average rate of occurrence of the event.\n",
    "\n",
    "4.Uniform Distribution: The uniform distribution describes a situation where all values in a given range are equally likely to occur. \n",
    "It is characterized by two parameters: the lower and upper limits of the range."
   ]
  },
  {
   "cell_type": "code",
   "execution_count": null,
   "id": "987cdd66-4c02-41f8-a861-0980274d0100",
   "metadata": {},
   "outputs": [],
   "source": []
  },
  {
   "cell_type": "code",
   "execution_count": null,
   "id": "0f10d716-fe1c-4324-b14d-c622f5217ebf",
   "metadata": {},
   "outputs": [],
   "source": [
    "Q3. Write a Python function to calculate the probability density function of a normal distribution with\n",
    "given mean and standard deviation at a given point."
   ]
  },
  {
   "cell_type": "code",
   "execution_count": 2,
   "id": "4ca7c970-e908-4795-85c9-b2e352e61c20",
   "metadata": {},
   "outputs": [],
   "source": [
    "import scipy.stats as stats\n",
    "\n",
    "def norm_pdf(x, mean, std):\n",
    "    pdf = stats.norm.pdf(x, mean, std)\n",
    "    return pdf"
   ]
  },
  {
   "cell_type": "code",
   "execution_count": 3,
   "id": "649cced8-26aa-44ab-872f-f40e37cf51cd",
   "metadata": {},
   "outputs": [
    {
     "data": {
      "text/plain": [
       "0.05399096651318806"
      ]
     },
     "execution_count": 3,
     "metadata": {},
     "output_type": "execute_result"
    }
   ],
   "source": [
    "norm_pdf(2, 0, 1)"
   ]
  },
  {
   "cell_type": "code",
   "execution_count": null,
   "id": "aba07855-ed18-4ea7-b087-8d535a761ef9",
   "metadata": {},
   "outputs": [],
   "source": []
  },
  {
   "cell_type": "code",
   "execution_count": null,
   "id": "6ee3b0c4-8475-424e-aaf5-24a754e45985",
   "metadata": {},
   "outputs": [],
   "source": [
    "Q4. What are the properties of Binomial distribution? Give two examples of events where binomial\n",
    "distribution can be applied.\n",
    "Ans:\n",
    "The binomial distribution is a discrete probability distribution that describes the number of successes in a fixed number of independent trials,\n",
    "where each trial has the same probability of success.\n",
    "The trials are assumed to be independent, meaning the outcome of one trial does not affect the outcome of any other trial.\n",
    "The probability of success remains constant from trial to trial.\n",
    "The distribution is characterized by two parameters: the number of trials (n) and the probability of success (p).\n",
    "The mean of the binomial distribution is equal to n * p, and the variance is equal to n * p * (1 - p).\n",
    "\n",
    "Example:\n",
    "1.Flipping a coin 10 times\n",
    "2.Testing a new drug"
   ]
  },
  {
   "cell_type": "code",
   "execution_count": null,
   "id": "a35e9400-a3cc-46e1-bd9d-66d27a4b1aca",
   "metadata": {},
   "outputs": [],
   "source": []
  },
  {
   "cell_type": "code",
   "execution_count": null,
   "id": "21811bc5-272a-4bb7-90f0-7f480e0ac739",
   "metadata": {},
   "outputs": [],
   "source": [
    "Q5. Generate a random sample of size 1000 from a binomial distribution with probability of success 0.4\n",
    "and plot a histogram of the results using matplotlib."
   ]
  },
  {
   "cell_type": "code",
   "execution_count": 7,
   "id": "6b5e5e35-e103-4f96-88a3-8ea75c60591c",
   "metadata": {},
   "outputs": [
    {
     "data": {
      "image/png": "[encoded data removed]",
      "text/plain": [
       "<Figure size 640x480 with 1 Axes>"
      ]
     },
     "metadata": {},
     "output_type": "display_data"
    }
   ],
   "source": [
    "import numpy as np\n",
    "import matplotlib.pyplot as plt\n",
    "n = 10\n",
    "p = 0.4\n",
    "sample = np.random.binomial(n, p, 1000)\n",
    "\n",
    "plt.hist(sample, bins='auto')\n",
    "plt.title('Histogram of Binomial Distribution')\n",
    "plt.xlabel('Number of Successes')\n",
    "plt.ylabel('Frequency')\n",
    "plt.show()"
   ]
  },
  {
   "cell_type": "code",
   "execution_count": null,
   "id": "0794c896-f461-4b89-b88b-5071050ea3e4",
   "metadata": {},
   "outputs": [],
   "source": []
  },
  {
   "cell_type": "code",
   "execution_count": null,
   "id": "5c84f6ae-ee6e-476a-bf56-4b271373aa9a",
   "metadata": {},
   "outputs": [],
   "source": [
    "Q6. Write a Python function to calculate the cumulative distribution function of a Poisson distribution\n",
    "with given mean at a given point."
   ]
  },
  {
   "cell_type": "code",
   "execution_count": 28,
   "id": "3bc19606-9c68-4241-8a22-74a95d3336f8",
   "metadata": {},
   "outputs": [],
   "source": [
    "import math\n",
    "\n",
    "def poisson_cdf(mean, x):\n",
    "    cdf = 0\n",
    "    for k in range(x+1):\n",
    "        cdf += math.exp(-mean) * (mean**k) / math.factorial(k)\n",
    "    return cdf"
   ]
  },
  {
   "cell_type": "code",
   "execution_count": 29,
   "id": "cb97ac88-ea8f-4c85-962c-7caecac5c1d6",
   "metadata": {},
   "outputs": [
    {
     "data": {
      "text/plain": [
       "0.8576135530957782"
      ]
     },
     "execution_count": 29,
     "metadata": {},
     "output_type": "execute_result"
    }
   ],
   "source": [
    "mean = 3.5\n",
    "x = 5\n",
    "poisson_cdf(mean, x) "
   ]
  },
  {
   "cell_type": "code",
   "execution_count": null,
   "id": "53d67995-801e-4e5f-9d29-7e5eb4ed01a5",
   "metadata": {},
   "outputs": [],
   "source": []
  },
  {
   "cell_type": "code",
   "execution_count": null,
   "id": "52f716f0-56a3-4b6f-aa18-987a9dcbd4fc",
   "metadata": {},
   "outputs": [],
   "source": [
    "Q7. How Binomial distribution different from Poisson distribution?\n",
    "Ans:\n",
    "Binomial distribution and Poisson distribution are both types of discrete probability distributions\n",
    ", but they differ in their assumptions and the types of events they model.\n",
    "\n",
    "Binomial distribution models the number of successes in a fixed number of independent trials,\n",
    "each with the same probability of success. \n",
    "It has two parameters: n, the number of trials, and p, the probability of success in each trial.\n",
    "The probability mass function of the binomial distribution is given by:\n",
    "P(X=k) = (n choose k) * p^k * (1-p)^(n-k)\n",
    "where X is the random variable representing the number of successes, k is a non-negative integer,\n",
    "and (n choose k) is the binomial coefficient.\n",
    "\n",
    "Poisson distribution, on the other hand, models the number of events that occur in a fixed interval of time or space,\n",
    "assuming that the events occur randomly \n",
    "and independently of each other, but with a known average rate.\n",
    "It has one parameter, λ, which represents the average number of events in the interval.\n",
    "The probability mass function of the Poisson distribution is given by:\n",
    "P(X=k) = (λ^k * e^(-λ)) / k!\n",
    "where X is the random variable representing the number of events,\n",
    "k is a non-negative integer, e is the mathematical constant approximately equal to 2.71828,\n",
    "and k! is the factorial of k."
   ]
  },
  {
   "cell_type": "code",
   "execution_count": null,
   "id": "efb00052-d252-4e5d-b3d9-55bdd2ffb93e",
   "metadata": {},
   "outputs": [],
   "source": []
  },
  {
   "cell_type": "code",
   "execution_count": null,
   "id": "f41ad970-66f6-4b54-9793-dcaecd79c068",
   "metadata": {},
   "outputs": [],
   "source": [
    "Q8. Generate a random sample of size 1000 from a Poisson distribution with mean 5 and calculate the\n",
    "sample mean and variance."
   ]
  },
  {
   "cell_type": "code",
   "execution_count": 39,
   "id": "211f499e-c71a-4b95-8fab-c8689f61b605",
   "metadata": {},
   "outputs": [],
   "source": [
    "import numpy as np\n",
    "sample = np.random.poisson(lam=5, size=1000)\n",
    "mean = np.mean(sample)\n",
    "variance = np.var(sample)"
   ]
  },
  {
   "cell_type": "code",
   "execution_count": 40,
   "id": "cc1431fe-ac9c-4c15-83c1-f1222951d3ce",
   "metadata": {},
   "outputs": [
    {
     "data": {
      "text/plain": [
       "5.023"
      ]
     },
     "execution_count": 40,
     "metadata": {},
     "output_type": "execute_result"
    }
   ],
   "source": [
    "mean"
   ]
  },
  {
   "cell_type": "code",
   "execution_count": 41,
   "id": "ca90f5df-ec38-4a09-b58b-b24e93868f19",
   "metadata": {},
   "outputs": [
    {
     "data": {
      "text/plain": [
       "4.700470999999999"
      ]
     },
     "execution_count": 41,
     "metadata": {},
     "output_type": "execute_result"
    }
   ],
   "source": [
    "variance"
   ]
  },
  {
   "cell_type": "code",
   "execution_count": null,
   "id": "e09a33d5-a695-4c6b-bb65-3ac5579b299e",
   "metadata": {},
   "outputs": [],
   "source": []
  },
  {
   "cell_type": "code",
   "execution_count": null,
   "id": "1563b14f-1bc7-4555-98f3-5113ea5f0f41",
   "metadata": {},
   "outputs": [],
   "source": [
    "Q9. How mean and variance are related in Binomial distribution and Poisson distribution?\n",
    "Ans:\n",
    "In a binomial distribution, the mean and variance are related by the formula:\n",
    "mean = n * p\n",
    "variance = n * p * (1 - p)\n",
    "where n is the number of trials, and p is the probability of success.\n",
    "\n",
    "In a Poisson distribution, the mean and variance are equal, that is:\n",
    "mean = variance = lambda\n",
    "where lambda is the rate parameter of the Poisson distribution."
   ]
  },
  {
   "cell_type": "code",
   "execution_count": null,
   "id": "e7fcc6c1-723a-4843-acb4-ca993f764ae5",
   "metadata": {},
   "outputs": [],
   "source": []
  },
  {
   "cell_type": "code",
   "execution_count": null,
   "id": "4c05090d-b42f-47c7-8de5-4affa0d0ff86",
   "metadata": {},
   "outputs": [],
   "source": [
    "Q10. In normal distribution with respect to mean position, where does the least frequent data appear?\n",
    "Ans:\n",
    "In a normal distribution, the least frequent data points appear in the tails of the distribution, which are the regions farthest away from the mean. \n",
    "Specifically, the least frequent data points are located in the regions that are more than 2 standard deviations away from the mean, \n",
    "since these regions correspond to the lower and upper 2.5% of the distribution, respectively. \n",
    "The data points that are closer to the mean are more frequent and are distributed more densely around the mean."
   ]
  }
 ],
 "metadata": {
  "kernelspec": {
   "display_name": "Python 3 (ipykernel)",
   "language": "python",
   "name": "python3"
  },
  "language_info": {
   "codemirror_mode": {
    "name": "ipython",
    "version": 3
   },
   "file_extension": ".py",
   "mimetype": "text/x-python",
   "name": "python",
   "nbconvert_exporter": "python",
   "pygments_lexer": "ipython3",
   "version": "3.10.8"
  }
 },
 "nbformat": 4,
 "nbformat_minor": 5
}
